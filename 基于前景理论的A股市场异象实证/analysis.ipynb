{
 "cells": [
  {
   "cell_type": "code",
   "execution_count": null,
   "metadata": {},
   "outputs": [],
   "source": [
    "'''\n",
    "Author: chuanjun\n",
    "Date: 2023-05-25 14:00:25\n",
    "LastEditTime: 2023-05-27 06:25:16\n",
    "'''\n",
    "\n",
    "import pandas as pd\n",
    "import numpy as np\n",
    "import matplotlib.pyplot as plt\n",
    "plt.rcParams['font.sans-serif']=['SimHei']\n",
    "plt.rcParams['axes.unicode_minus']=False"
   ]
  },
  {
   "cell_type": "code",
   "execution_count": null,
   "metadata": {},
   "outputs": [],
   "source": [
    "df1=pd.read_excel('RESSET_MRESSTK_1.xlsx')\n",
    "df2=pd.read_excel('RESSET_MRESSTK_2.xlsx')\n",
    "df3=pd.read_excel('RESSET_MRESSTK_3.xlsx')\n",
    "df4=pd.read_excel('RESSET_MRESSTK_4.xlsx')\n",
    "df5=pd.read_excel('RESSET_MRESSTK_5.xlsx')\n",
    "df6=pd.read_excel('RESSET_MRESSTK_6.xlsx')\n",
    "\n",
    "df=pd.concat([df1,df2,df3,df4,df5,df6],axis=0)\n",
    "df.head()"
   ]
  },
  {
   "cell_type": "code",
   "execution_count": null,
   "metadata": {},
   "outputs": [],
   "source": [
    "#将df导出为csv文件\n",
    "df.to_csv('RESSET_NEW_new.csv',index=False,encoding='utf-8-sig')"
   ]
  },
  {
   "attachments": {},
   "cell_type": "markdown",
   "metadata": {},
   "source": [
    "# 数据预处理\n",
    "数据来源：RESSET(www.resset.com)\n",
    "\n",
    "（1）剔除退市风险警告\n",
    "（Special Treatment，ST 和*ST）类型样本；（2）由于金融行业公司财报于其他行\n",
    "业公司财报具有较大差异性，剔除金融业上市公司，即证监会2012 年行业分类中\n",
    "的J 类股票；（3）剔除上市不满一年的股票，这是因为后文计算CGO 时需要过去\n",
    "52 周即1 年的交易数据；（4）Liu 等(2019)认为，中国股市中市值排名后30%的\n",
    "上市公司会受到壳价值污染的严重影响，因此本文将每个月末市值规模排在后30%\n",
    "的股票剔除"
   ]
  },
  {
   "cell_type": "code",
   "execution_count": null,
   "metadata": {},
   "outputs": [],
   "source": [
    "df=pd.read_csv('RESSET_NEW_new.csv',encoding='utf-8-sig')\n",
    "df.info()"
   ]
  },
  {
   "cell_type": "code",
   "execution_count": null,
   "metadata": {},
   "outputs": [],
   "source": [
    "df.describe()"
   ]
  },
  {
   "attachments": {},
   "cell_type": "markdown",
   "metadata": {},
   "source": [
    "中国股市中市值排名后30%的上市公司会受到壳价值污染的严重影响，因此本文将每个月末市值规模排在后30%的股票剔除"
   ]
  },
  {
   "cell_type": "code",
   "execution_count": null,
   "metadata": {},
   "outputs": [],
   "source": [
    "# 计算市值\n",
    "df['市值'] = df['流通股_Trdshr'] * df['收盘价_ClPr']\n",
    "# 计算每个股票的市值均值\n",
    "mean_dict = df.groupby('最新股票名称_Lstknm')['市值'].mean().to_dict()\n",
    "\n",
    "#对mean_dict排序\n",
    "mean_dict = sorted(mean_dict.items(), key=lambda x: x[1], reverse=True)\n",
    "\n",
    "#得到mean_dict排名最后的30%的股票名称\n",
    "last_30 = [i[0] for i in mean_dict[-int(len(mean_dict)*0.3):]]\n",
    "#对应last_30删除df中的股票名称所在列\n",
    "df = df[~df['最新股票名称_Lstknm'].isin(last_30)]\n"
   ]
  },
  {
   "cell_type": "code",
   "execution_count": null,
   "metadata": {},
   "outputs": [],
   "source": [
    "#将df导出为csv文件\n",
    "df.to_csv('RESSET_cleaned_new.csv', index=False, encoding='utf-8-sig')"
   ]
  },
  {
   "attachments": {},
   "cell_type": "markdown",
   "metadata": {},
   "source": [
    "数据处理后的数据为RESSET_cleaned_new.csv，在接下来的计算中使用该数据。股票数一共为3035，时间跨度为1997年1月到2023年3月，共计315个月。"
   ]
  },
  {
   "attachments": {},
   "cell_type": "markdown",
   "metadata": {},
   "source": [
    "# 异象变量计算"
   ]
  },
  {
   "cell_type": "code",
   "execution_count": 11,
   "metadata": {},
   "outputs": [],
   "source": [
    "import pandas as pd\n",
    "import numpy as np\n",
    "import matplotlib.pyplot as plt\n",
    "#中文显示\n",
    "plt.rcParams['font.sans-serif']=['SimHei']\n",
    "plt.rcParams['axes.unicode_minus']=False\n"
   ]
  },
  {
   "cell_type": "code",
   "execution_count": 148,
   "metadata": {},
   "outputs": [
    {
     "data": {
      "text/html": [
       "<div>\n",
       "<style scoped>\n",
       "    .dataframe tbody tr th:only-of-type {\n",
       "        vertical-align: middle;\n",
       "    }\n",
       "\n",
       "    .dataframe tbody tr th {\n",
       "        vertical-align: top;\n",
       "    }\n",
       "\n",
       "    .dataframe thead th {\n",
       "        text-align: right;\n",
       "    }\n",
       "</style>\n",
       "<table border=\"1\" class=\"dataframe\">\n",
       "  <thead>\n",
       "    <tr style=\"text-align: right;\">\n",
       "      <th></th>\n",
       "      <th>最新股票名称_Lstknm</th>\n",
       "      <th>日期_Date</th>\n",
       "      <th>收盘价_ClPr</th>\n",
       "      <th>复权价1(元)_AdjClpr1</th>\n",
       "      <th>复权价2(元)_AdjClpr2</th>\n",
       "      <th>成交量_Trdvol</th>\n",
       "      <th>成交金额_Trdsum</th>\n",
       "      <th>总股数月换手率(%)_MonFulTurnR</th>\n",
       "      <th>流通股月换手率(%)_MonTrdTurnR</th>\n",
       "      <th>总股数平均日换手率(%)_AvgDFulTurnR</th>\n",
       "      <th>...</th>\n",
       "      <th>市销率_PS</th>\n",
       "      <th>每股收益(摊薄)(元/股)_EPS</th>\n",
       "      <th>净资产收益率(摊薄)_ROE</th>\n",
       "      <th>每股公积金(元/股)_AccumFundPS</th>\n",
       "      <th>每股营业利润(元/股)_OpPrfPS</th>\n",
       "      <th>每股净资产(元/股)_NAPS</th>\n",
       "      <th>调整后每股净资产(元/股)_NAPSadj</th>\n",
       "      <th>每股营业收入(元/股)_IncomePS</th>\n",
       "      <th>每股经营活动现金流量净额(元/股)_NCFfropePS</th>\n",
       "      <th>市值</th>\n",
       "    </tr>\n",
       "  </thead>\n",
       "  <tbody>\n",
       "    <tr>\n",
       "      <th>0</th>\n",
       "      <td>万科A</td>\n",
       "      <td>1997-01</td>\n",
       "      <td>11.20</td>\n",
       "      <td>44.5573</td>\n",
       "      <td>0.3323</td>\n",
       "      <td>68823654.0</td>\n",
       "      <td>7.349675e+08</td>\n",
       "      <td>27.9416</td>\n",
       "      <td>40.1766</td>\n",
       "      <td>1.2701</td>\n",
       "      <td>...</td>\n",
       "      <td>2.21</td>\n",
       "      <td>0.19</td>\n",
       "      <td>4.3326</td>\n",
       "      <td>3.62</td>\n",
       "      <td>0.77</td>\n",
       "      <td>4.29</td>\n",
       "      <td>NaN</td>\n",
       "      <td>6.11</td>\n",
       "      <td>NaN</td>\n",
       "      <td>1.918590e+09</td>\n",
       "    </tr>\n",
       "    <tr>\n",
       "      <th>1</th>\n",
       "      <td>万科A</td>\n",
       "      <td>1997-02</td>\n",
       "      <td>11.18</td>\n",
       "      <td>44.4777</td>\n",
       "      <td>0.3317</td>\n",
       "      <td>42408777.0</td>\n",
       "      <td>4.509022e+08</td>\n",
       "      <td>17.2175</td>\n",
       "      <td>24.7566</td>\n",
       "      <td>1.7217</td>\n",
       "      <td>...</td>\n",
       "      <td>2.21</td>\n",
       "      <td>0.19</td>\n",
       "      <td>4.3326</td>\n",
       "      <td>3.62</td>\n",
       "      <td>0.77</td>\n",
       "      <td>4.29</td>\n",
       "      <td>NaN</td>\n",
       "      <td>6.11</td>\n",
       "      <td>NaN</td>\n",
       "      <td>1.915164e+09</td>\n",
       "    </tr>\n",
       "    <tr>\n",
       "      <th>2</th>\n",
       "      <td>万科A</td>\n",
       "      <td>1997-03</td>\n",
       "      <td>14.37</td>\n",
       "      <td>57.1686</td>\n",
       "      <td>0.4264</td>\n",
       "      <td>150672233.0</td>\n",
       "      <td>1.927915e+09</td>\n",
       "      <td>61.1711</td>\n",
       "      <td>87.9567</td>\n",
       "      <td>3.0586</td>\n",
       "      <td>...</td>\n",
       "      <td>2.21</td>\n",
       "      <td>0.19</td>\n",
       "      <td>4.3326</td>\n",
       "      <td>3.62</td>\n",
       "      <td>0.77</td>\n",
       "      <td>4.29</td>\n",
       "      <td>NaN</td>\n",
       "      <td>6.11</td>\n",
       "      <td>NaN</td>\n",
       "      <td>2.461620e+09</td>\n",
       "    </tr>\n",
       "    <tr>\n",
       "      <th>3</th>\n",
       "      <td>万科A</td>\n",
       "      <td>1997-04</td>\n",
       "      <td>20.28</td>\n",
       "      <td>80.6805</td>\n",
       "      <td>0.6017</td>\n",
       "      <td>241368647.0</td>\n",
       "      <td>4.115419e+09</td>\n",
       "      <td>97.9928</td>\n",
       "      <td>140.9018</td>\n",
       "      <td>4.4542</td>\n",
       "      <td>...</td>\n",
       "      <td>2.21</td>\n",
       "      <td>0.47</td>\n",
       "      <td>11.2256</td>\n",
       "      <td>3.76</td>\n",
       "      <td>0.73</td>\n",
       "      <td>4.21</td>\n",
       "      <td>NaN</td>\n",
       "      <td>4.78</td>\n",
       "      <td>NaN</td>\n",
       "      <td>3.474019e+09</td>\n",
       "    </tr>\n",
       "    <tr>\n",
       "      <th>4</th>\n",
       "      <td>万科A</td>\n",
       "      <td>1997-05</td>\n",
       "      <td>17.97</td>\n",
       "      <td>71.4906</td>\n",
       "      <td>0.5332</td>\n",
       "      <td>164431960.0</td>\n",
       "      <td>3.162778e+09</td>\n",
       "      <td>66.7574</td>\n",
       "      <td>95.9891</td>\n",
       "      <td>3.5135</td>\n",
       "      <td>...</td>\n",
       "      <td>2.21</td>\n",
       "      <td>0.47</td>\n",
       "      <td>11.2256</td>\n",
       "      <td>3.76</td>\n",
       "      <td>0.73</td>\n",
       "      <td>4.21</td>\n",
       "      <td>NaN</td>\n",
       "      <td>4.78</td>\n",
       "      <td>NaN</td>\n",
       "      <td>3.078309e+09</td>\n",
       "    </tr>\n",
       "  </tbody>\n",
       "</table>\n",
       "<p>5 rows × 45 columns</p>\n",
       "</div>"
      ],
      "text/plain": [
       "  最新股票名称_Lstknm  日期_Date  收盘价_ClPr  复权价1(元)_AdjClpr1  复权价2(元)_AdjClpr2   \n",
       "0           万科A  1997-01     11.20           44.5573            0.3323  \\\n",
       "1           万科A  1997-02     11.18           44.4777            0.3317   \n",
       "2           万科A  1997-03     14.37           57.1686            0.4264   \n",
       "3           万科A  1997-04     20.28           80.6805            0.6017   \n",
       "4           万科A  1997-05     17.97           71.4906            0.5332   \n",
       "\n",
       "    成交量_Trdvol   成交金额_Trdsum  总股数月换手率(%)_MonFulTurnR  流通股月换手率(%)_MonTrdTurnR   \n",
       "0   68823654.0  7.349675e+08                 27.9416                 40.1766  \\\n",
       "1   42408777.0  4.509022e+08                 17.2175                 24.7566   \n",
       "2  150672233.0  1.927915e+09                 61.1711                 87.9567   \n",
       "3  241368647.0  4.115419e+09                 97.9928                140.9018   \n",
       "4  164431960.0  3.162778e+09                 66.7574                 95.9891   \n",
       "\n",
       "   总股数平均日换手率(%)_AvgDFulTurnR  ...  市销率_PS  每股收益(摊薄)(元/股)_EPS  净资产收益率(摊薄)_ROE   \n",
       "0                     1.2701  ...    2.21               0.19          4.3326  \\\n",
       "1                     1.7217  ...    2.21               0.19          4.3326   \n",
       "2                     3.0586  ...    2.21               0.19          4.3326   \n",
       "3                     4.4542  ...    2.21               0.47         11.2256   \n",
       "4                     3.5135  ...    2.21               0.47         11.2256   \n",
       "\n",
       "   每股公积金(元/股)_AccumFundPS  每股营业利润(元/股)_OpPrfPS  每股净资产(元/股)_NAPS   \n",
       "0                    3.62                 0.77             4.29  \\\n",
       "1                    3.62                 0.77             4.29   \n",
       "2                    3.62                 0.77             4.29   \n",
       "3                    3.76                 0.73             4.21   \n",
       "4                    3.76                 0.73             4.21   \n",
       "\n",
       "   调整后每股净资产(元/股)_NAPSadj  每股营业收入(元/股)_IncomePS  每股经营活动现金流量净额(元/股)_NCFfropePS   \n",
       "0                    NaN                  6.11                           NaN  \\\n",
       "1                    NaN                  6.11                           NaN   \n",
       "2                    NaN                  6.11                           NaN   \n",
       "3                    NaN                  4.78                           NaN   \n",
       "4                    NaN                  4.78                           NaN   \n",
       "\n",
       "             市值  \n",
       "0  1.918590e+09  \n",
       "1  1.915164e+09  \n",
       "2  2.461620e+09  \n",
       "3  3.474019e+09  \n",
       "4  3.078309e+09  \n",
       "\n",
       "[5 rows x 45 columns]"
      ]
     },
     "execution_count": 148,
     "metadata": {},
     "output_type": "execute_result"
    }
   ],
   "source": [
    "data=pd.read_csv('RESSET_cleaned_new.csv',encoding='utf-8-sig')\n",
    "#将日期_Date只保留年月\n",
    "data['日期_Date']=data['日期_Date'].apply(lambda x:x[:7])\n",
    "data.head()\n"
   ]
  },
  {
   "cell_type": "code",
   "execution_count": 149,
   "metadata": {},
   "outputs": [
    {
     "data": {
      "text/html": [
       "<div>\n",
       "<style scoped>\n",
       "    .dataframe tbody tr th:only-of-type {\n",
       "        vertical-align: middle;\n",
       "    }\n",
       "\n",
       "    .dataframe tbody tr th {\n",
       "        vertical-align: top;\n",
       "    }\n",
       "\n",
       "    .dataframe thead th {\n",
       "        text-align: right;\n",
       "    }\n",
       "</style>\n",
       "<table border=\"1\" class=\"dataframe\">\n",
       "  <thead>\n",
       "    <tr style=\"text-align: right;\">\n",
       "      <th></th>\n",
       "      <th>0</th>\n",
       "      <th>1</th>\n",
       "    </tr>\n",
       "  </thead>\n",
       "  <tbody>\n",
       "    <tr>\n",
       "      <th>0</th>\n",
       "      <td>1997-01</td>\n",
       "      <td>最新股票名称_Lstknm  日期_Date  收盘价_ClPr  复权价1(...</td>\n",
       "    </tr>\n",
       "    <tr>\n",
       "      <th>1</th>\n",
       "      <td>1997-02</td>\n",
       "      <td>最新股票名称_Lstknm  日期_Date  收盘价_ClPr  复权价1(...</td>\n",
       "    </tr>\n",
       "    <tr>\n",
       "      <th>2</th>\n",
       "      <td>1997-03</td>\n",
       "      <td>最新股票名称_Lstknm  日期_Date  收盘价_ClPr  复权价1(...</td>\n",
       "    </tr>\n",
       "    <tr>\n",
       "      <th>3</th>\n",
       "      <td>1997-04</td>\n",
       "      <td>最新股票名称_Lstknm  日期_Date  收盘价_ClPr  复权价1(...</td>\n",
       "    </tr>\n",
       "    <tr>\n",
       "      <th>4</th>\n",
       "      <td>1997-05</td>\n",
       "      <td>最新股票名称_Lstknm  日期_Date  收盘价_ClPr  复权价1(...</td>\n",
       "    </tr>\n",
       "    <tr>\n",
       "      <th>...</th>\n",
       "      <td>...</td>\n",
       "      <td>...</td>\n",
       "    </tr>\n",
       "    <tr>\n",
       "      <th>310</th>\n",
       "      <td>2022-11</td>\n",
       "      <td>最新股票名称_Lstknm  日期_Date  收盘价_ClPr  复权价1(...</td>\n",
       "    </tr>\n",
       "    <tr>\n",
       "      <th>311</th>\n",
       "      <td>2022-12</td>\n",
       "      <td>最新股票名称_Lstknm  日期_Date  收盘价_ClPr  复权价1(...</td>\n",
       "    </tr>\n",
       "    <tr>\n",
       "      <th>312</th>\n",
       "      <td>2023-01</td>\n",
       "      <td>最新股票名称_Lstknm  日期_Date  收盘价_ClPr  复权价1(...</td>\n",
       "    </tr>\n",
       "    <tr>\n",
       "      <th>313</th>\n",
       "      <td>2023-02</td>\n",
       "      <td>最新股票名称_Lstknm  日期_Date  收盘价_ClPr  复权价1(...</td>\n",
       "    </tr>\n",
       "    <tr>\n",
       "      <th>314</th>\n",
       "      <td>2023-03</td>\n",
       "      <td>最新股票名称_Lstknm  日期_Date  收盘价_ClPr  复权价1(...</td>\n",
       "    </tr>\n",
       "  </tbody>\n",
       "</table>\n",
       "<p>315 rows × 2 columns</p>\n",
       "</div>"
      ],
      "text/plain": [
       "           0                                                  1\n",
       "0    1997-01         最新股票名称_Lstknm  日期_Date  收盘价_ClPr  复权价1(...\n",
       "1    1997-02         最新股票名称_Lstknm  日期_Date  收盘价_ClPr  复权价1(...\n",
       "2    1997-03         最新股票名称_Lstknm  日期_Date  收盘价_ClPr  复权价1(...\n",
       "3    1997-04         最新股票名称_Lstknm  日期_Date  收盘价_ClPr  复权价1(...\n",
       "4    1997-05         最新股票名称_Lstknm  日期_Date  收盘价_ClPr  复权价1(...\n",
       "..       ...                                                ...\n",
       "310  2022-11         最新股票名称_Lstknm  日期_Date  收盘价_ClPr  复权价1(...\n",
       "311  2022-12         最新股票名称_Lstknm  日期_Date  收盘价_ClPr  复权价1(...\n",
       "312  2023-01         最新股票名称_Lstknm  日期_Date  收盘价_ClPr  复权价1(...\n",
       "313  2023-02         最新股票名称_Lstknm  日期_Date  收盘价_ClPr  复权价1(...\n",
       "314  2023-03         最新股票名称_Lstknm  日期_Date  收盘价_ClPr  复权价1(...\n",
       "\n",
       "[315 rows x 2 columns]"
      ]
     },
     "execution_count": 149,
     "metadata": {},
     "output_type": "execute_result"
    }
   ],
   "source": [
    "#以日期_Date进行分类\n",
    "data_dt=data.groupby('日期_Date')\n",
    "data_dt=pd.DataFrame(data_dt)\n",
    "data_dt"
   ]
  },
  {
   "cell_type": "code",
   "execution_count": 150,
   "metadata": {},
   "outputs": [
    {
     "data": {
      "text/html": [
       "<div>\n",
       "<style scoped>\n",
       "    .dataframe tbody tr th:only-of-type {\n",
       "        vertical-align: middle;\n",
       "    }\n",
       "\n",
       "    .dataframe tbody tr th {\n",
       "        vertical-align: top;\n",
       "    }\n",
       "\n",
       "    .dataframe thead th {\n",
       "        text-align: right;\n",
       "    }\n",
       "</style>\n",
       "<table border=\"1\" class=\"dataframe\">\n",
       "  <thead>\n",
       "    <tr style=\"text-align: right;\">\n",
       "      <th></th>\n",
       "      <th>最新股票名称_Lstknm</th>\n",
       "      <th>日期_Date</th>\n",
       "      <th>收盘价_ClPr</th>\n",
       "      <th>复权价1(元)_AdjClpr1</th>\n",
       "      <th>复权价2(元)_AdjClpr2</th>\n",
       "      <th>成交量_Trdvol</th>\n",
       "      <th>成交金额_Trdsum</th>\n",
       "      <th>总股数月换手率(%)_MonFulTurnR</th>\n",
       "      <th>流通股月换手率(%)_MonTrdTurnR</th>\n",
       "      <th>总股数平均日换手率(%)_AvgDFulTurnR</th>\n",
       "      <th>...</th>\n",
       "      <th>市销率_PS</th>\n",
       "      <th>每股收益(摊薄)(元/股)_EPS</th>\n",
       "      <th>净资产收益率(摊薄)_ROE</th>\n",
       "      <th>每股公积金(元/股)_AccumFundPS</th>\n",
       "      <th>每股营业利润(元/股)_OpPrfPS</th>\n",
       "      <th>每股净资产(元/股)_NAPS</th>\n",
       "      <th>调整后每股净资产(元/股)_NAPSadj</th>\n",
       "      <th>每股营业收入(元/股)_IncomePS</th>\n",
       "      <th>每股经营活动现金流量净额(元/股)_NCFfropePS</th>\n",
       "      <th>市值</th>\n",
       "    </tr>\n",
       "  </thead>\n",
       "  <tbody>\n",
       "    <tr>\n",
       "      <th>0</th>\n",
       "      <td>万科A</td>\n",
       "      <td>1997-01</td>\n",
       "      <td>11.20</td>\n",
       "      <td>44.5573</td>\n",
       "      <td>0.3323</td>\n",
       "      <td>68823654.0</td>\n",
       "      <td>7.349675e+08</td>\n",
       "      <td>27.9416</td>\n",
       "      <td>40.1766</td>\n",
       "      <td>1.2701</td>\n",
       "      <td>...</td>\n",
       "      <td>2.21</td>\n",
       "      <td>0.19</td>\n",
       "      <td>4.3326</td>\n",
       "      <td>3.62</td>\n",
       "      <td>0.77</td>\n",
       "      <td>4.29</td>\n",
       "      <td>NaN</td>\n",
       "      <td>6.11</td>\n",
       "      <td>NaN</td>\n",
       "      <td>1.918590e+09</td>\n",
       "    </tr>\n",
       "    <tr>\n",
       "      <th>315</th>\n",
       "      <td>深振业A</td>\n",
       "      <td>1997-01</td>\n",
       "      <td>14.92</td>\n",
       "      <td>68.5262</td>\n",
       "      <td>1.1594</td>\n",
       "      <td>50529771.0</td>\n",
       "      <td>7.347805e+08</td>\n",
       "      <td>37.2583</td>\n",
       "      <td>59.8731</td>\n",
       "      <td>1.6936</td>\n",
       "      <td>...</td>\n",
       "      <td>16.74</td>\n",
       "      <td>0.52</td>\n",
       "      <td>15.3646</td>\n",
       "      <td>2.35</td>\n",
       "      <td>0.60</td>\n",
       "      <td>3.37</td>\n",
       "      <td>NaN</td>\n",
       "      <td>1.37</td>\n",
       "      <td>NaN</td>\n",
       "      <td>1.259170e+09</td>\n",
       "    </tr>\n",
       "    <tr>\n",
       "      <th>630</th>\n",
       "      <td>神州高铁</td>\n",
       "      <td>1997-01</td>\n",
       "      <td>7.08</td>\n",
       "      <td>17.9188</td>\n",
       "      <td>0.7998</td>\n",
       "      <td>39495888.0</td>\n",
       "      <td>2.716819e+08</td>\n",
       "      <td>53.6241</td>\n",
       "      <td>111.9163</td>\n",
       "      <td>2.4375</td>\n",
       "      <td>...</td>\n",
       "      <td>24.38</td>\n",
       "      <td>-0.15</td>\n",
       "      <td>-5.4374</td>\n",
       "      <td>1.42</td>\n",
       "      <td>0.00</td>\n",
       "      <td>2.71</td>\n",
       "      <td>NaN</td>\n",
       "      <td>0.25</td>\n",
       "      <td>NaN</td>\n",
       "      <td>2.498573e+08</td>\n",
       "    </tr>\n",
       "    <tr>\n",
       "      <th>838</th>\n",
       "      <td>中国宝安</td>\n",
       "      <td>1997-01</td>\n",
       "      <td>7.30</td>\n",
       "      <td>27.7349</td>\n",
       "      <td>2.9942</td>\n",
       "      <td>160609535.0</td>\n",
       "      <td>1.118950e+09</td>\n",
       "      <td>16.7509</td>\n",
       "      <td>27.7054</td>\n",
       "      <td>0.7614</td>\n",
       "      <td>...</td>\n",
       "      <td>8.94</td>\n",
       "      <td>0.05</td>\n",
       "      <td>1.9980</td>\n",
       "      <td>1.38</td>\n",
       "      <td>0.18</td>\n",
       "      <td>2.50</td>\n",
       "      <td>NaN</td>\n",
       "      <td>0.77</td>\n",
       "      <td>NaN</td>\n",
       "      <td>4.231853e+09</td>\n",
       "    </tr>\n",
       "    <tr>\n",
       "      <th>1141</th>\n",
       "      <td>深物业A</td>\n",
       "      <td>1997-01</td>\n",
       "      <td>8.71</td>\n",
       "      <td>19.1516</td>\n",
       "      <td>6.1490</td>\n",
       "      <td>40025185.0</td>\n",
       "      <td>3.276398e+08</td>\n",
       "      <td>8.3327</td>\n",
       "      <td>43.7954</td>\n",
       "      <td>0.3788</td>\n",
       "      <td>...</td>\n",
       "      <td>4.19</td>\n",
       "      <td>0.03</td>\n",
       "      <td>1.0707</td>\n",
       "      <td>1.62</td>\n",
       "      <td>0.48</td>\n",
       "      <td>2.54</td>\n",
       "      <td>NaN</td>\n",
       "      <td>2.16</td>\n",
       "      <td>NaN</td>\n",
       "      <td>7.960181e+08</td>\n",
       "    </tr>\n",
       "    <tr>\n",
       "      <th>...</th>\n",
       "      <td>...</td>\n",
       "      <td>...</td>\n",
       "      <td>...</td>\n",
       "      <td>...</td>\n",
       "      <td>...</td>\n",
       "      <td>...</td>\n",
       "      <td>...</td>\n",
       "      <td>...</td>\n",
       "      <td>...</td>\n",
       "      <td>...</td>\n",
       "      <td>...</td>\n",
       "      <td>...</td>\n",
       "      <td>...</td>\n",
       "      <td>...</td>\n",
       "      <td>...</td>\n",
       "      <td>...</td>\n",
       "      <td>...</td>\n",
       "      <td>...</td>\n",
       "      <td>...</td>\n",
       "      <td>...</td>\n",
       "      <td>...</td>\n",
       "    </tr>\n",
       "    <tr>\n",
       "      <th>364848</th>\n",
       "      <td>航发动力</td>\n",
       "      <td>1997-01</td>\n",
       "      <td>13.80</td>\n",
       "      <td>15.4077</td>\n",
       "      <td>5.0564</td>\n",
       "      <td>35632400.0</td>\n",
       "      <td>4.959000e+08</td>\n",
       "      <td>20.4395</td>\n",
       "      <td>73.6207</td>\n",
       "      <td>0.9291</td>\n",
       "      <td>...</td>\n",
       "      <td>3.73</td>\n",
       "      <td>0.22</td>\n",
       "      <td>6.6177</td>\n",
       "      <td>1.95</td>\n",
       "      <td>0.21</td>\n",
       "      <td>3.25</td>\n",
       "      <td>NaN</td>\n",
       "      <td>1.80</td>\n",
       "      <td>NaN</td>\n",
       "      <td>6.679200e+08</td>\n",
       "    </tr>\n",
       "    <tr>\n",
       "      <th>365134</th>\n",
       "      <td>广日股份</td>\n",
       "      <td>1997-01</td>\n",
       "      <td>5.74</td>\n",
       "      <td>8.8385</td>\n",
       "      <td>2.4261</td>\n",
       "      <td>22580633.0</td>\n",
       "      <td>1.260170e+08</td>\n",
       "      <td>3.7634</td>\n",
       "      <td>25.0896</td>\n",
       "      <td>0.1711</td>\n",
       "      <td>...</td>\n",
       "      <td>1.55</td>\n",
       "      <td>0.11</td>\n",
       "      <td>3.5318</td>\n",
       "      <td>1.38</td>\n",
       "      <td>0.18</td>\n",
       "      <td>3.22</td>\n",
       "      <td>NaN</td>\n",
       "      <td>3.15</td>\n",
       "      <td>NaN</td>\n",
       "      <td>5.166000e+08</td>\n",
       "    </tr>\n",
       "    <tr>\n",
       "      <th>365443</th>\n",
       "      <td>张江高科</td>\n",
       "      <td>1997-01</td>\n",
       "      <td>14.80</td>\n",
       "      <td>22.2000</td>\n",
       "      <td>1.7709</td>\n",
       "      <td>12002009.0</td>\n",
       "      <td>1.786709e+08</td>\n",
       "      <td>8.0013</td>\n",
       "      <td>32.0054</td>\n",
       "      <td>0.3637</td>\n",
       "      <td>...</td>\n",
       "      <td>23.91</td>\n",
       "      <td>0.26</td>\n",
       "      <td>9.6333</td>\n",
       "      <td>1.06</td>\n",
       "      <td>0.01</td>\n",
       "      <td>2.74</td>\n",
       "      <td>NaN</td>\n",
       "      <td>0.04</td>\n",
       "      <td>NaN</td>\n",
       "      <td>5.550000e+08</td>\n",
       "    </tr>\n",
       "    <tr>\n",
       "      <th>365758</th>\n",
       "      <td>厦门空港</td>\n",
       "      <td>1997-01</td>\n",
       "      <td>19.12</td>\n",
       "      <td>19.1200</td>\n",
       "      <td>5.1348</td>\n",
       "      <td>13920708.0</td>\n",
       "      <td>2.546683e+08</td>\n",
       "      <td>12.8895</td>\n",
       "      <td>51.5582</td>\n",
       "      <td>0.5859</td>\n",
       "      <td>...</td>\n",
       "      <td>21.29</td>\n",
       "      <td>0.30</td>\n",
       "      <td>8.1293</td>\n",
       "      <td>2.35</td>\n",
       "      <td>0.35</td>\n",
       "      <td>3.64</td>\n",
       "      <td>NaN</td>\n",
       "      <td>0.47</td>\n",
       "      <td>NaN</td>\n",
       "      <td>5.162400e+08</td>\n",
       "    </tr>\n",
       "    <tr>\n",
       "      <th>382666</th>\n",
       "      <td>上海医药</td>\n",
       "      <td>1997-01</td>\n",
       "      <td>9.60</td>\n",
       "      <td>10.0554</td>\n",
       "      <td>1.0047</td>\n",
       "      <td>6497729.0</td>\n",
       "      <td>5.939818e+07</td>\n",
       "      <td>11.2094</td>\n",
       "      <td>43.3182</td>\n",
       "      <td>0.5095</td>\n",
       "      <td>...</td>\n",
       "      <td>1.46</td>\n",
       "      <td>0.18</td>\n",
       "      <td>5.3992</td>\n",
       "      <td>2.16</td>\n",
       "      <td>0.37</td>\n",
       "      <td>3.34</td>\n",
       "      <td>NaN</td>\n",
       "      <td>5.82</td>\n",
       "      <td>NaN</td>\n",
       "      <td>1.440000e+08</td>\n",
       "    </tr>\n",
       "  </tbody>\n",
       "</table>\n",
       "<p>255 rows × 45 columns</p>\n",
       "</div>"
      ],
      "text/plain": [
       "       最新股票名称_Lstknm  日期_Date  收盘价_ClPr  复权价1(元)_AdjClpr1  复权价2(元)_AdjClpr2   \n",
       "0                万科A  1997-01     11.20           44.5573            0.3323  \\\n",
       "315             深振业A  1997-01     14.92           68.5262            1.1594   \n",
       "630             神州高铁  1997-01      7.08           17.9188            0.7998   \n",
       "838             中国宝安  1997-01      7.30           27.7349            2.9942   \n",
       "1141            深物业A  1997-01      8.71           19.1516            6.1490   \n",
       "...              ...      ...       ...               ...               ...   \n",
       "364848          航发动力  1997-01     13.80           15.4077            5.0564   \n",
       "365134          广日股份  1997-01      5.74            8.8385            2.4261   \n",
       "365443          张江高科  1997-01     14.80           22.2000            1.7709   \n",
       "365758          厦门空港  1997-01     19.12           19.1200            5.1348   \n",
       "382666          上海医药  1997-01      9.60           10.0554            1.0047   \n",
       "\n",
       "         成交量_Trdvol   成交金额_Trdsum  总股数月换手率(%)_MonFulTurnR   \n",
       "0        68823654.0  7.349675e+08                 27.9416  \\\n",
       "315      50529771.0  7.347805e+08                 37.2583   \n",
       "630      39495888.0  2.716819e+08                 53.6241   \n",
       "838     160609535.0  1.118950e+09                 16.7509   \n",
       "1141     40025185.0  3.276398e+08                  8.3327   \n",
       "...             ...           ...                     ...   \n",
       "364848   35632400.0  4.959000e+08                 20.4395   \n",
       "365134   22580633.0  1.260170e+08                  3.7634   \n",
       "365443   12002009.0  1.786709e+08                  8.0013   \n",
       "365758   13920708.0  2.546683e+08                 12.8895   \n",
       "382666    6497729.0  5.939818e+07                 11.2094   \n",
       "\n",
       "        流通股月换手率(%)_MonTrdTurnR  总股数平均日换手率(%)_AvgDFulTurnR  ...  市销率_PS   \n",
       "0                      40.1766                     1.2701  ...    2.21  \\\n",
       "315                    59.8731                     1.6936  ...   16.74   \n",
       "630                   111.9163                     2.4375  ...   24.38   \n",
       "838                    27.7054                     0.7614  ...    8.94   \n",
       "1141                   43.7954                     0.3788  ...    4.19   \n",
       "...                        ...                        ...  ...     ...   \n",
       "364848                 73.6207                     0.9291  ...    3.73   \n",
       "365134                 25.0896                     0.1711  ...    1.55   \n",
       "365443                 32.0054                     0.3637  ...   23.91   \n",
       "365758                 51.5582                     0.5859  ...   21.29   \n",
       "382666                 43.3182                     0.5095  ...    1.46   \n",
       "\n",
       "        每股收益(摊薄)(元/股)_EPS  净资产收益率(摊薄)_ROE  每股公积金(元/股)_AccumFundPS   \n",
       "0                    0.19          4.3326                    3.62  \\\n",
       "315                  0.52         15.3646                    2.35   \n",
       "630                 -0.15         -5.4374                    1.42   \n",
       "838                  0.05          1.9980                    1.38   \n",
       "1141                 0.03          1.0707                    1.62   \n",
       "...                   ...             ...                     ...   \n",
       "364848               0.22          6.6177                    1.95   \n",
       "365134               0.11          3.5318                    1.38   \n",
       "365443               0.26          9.6333                    1.06   \n",
       "365758               0.30          8.1293                    2.35   \n",
       "382666               0.18          5.3992                    2.16   \n",
       "\n",
       "        每股营业利润(元/股)_OpPrfPS  每股净资产(元/股)_NAPS  调整后每股净资产(元/股)_NAPSadj   \n",
       "0                      0.77             4.29                    NaN  \\\n",
       "315                    0.60             3.37                    NaN   \n",
       "630                    0.00             2.71                    NaN   \n",
       "838                    0.18             2.50                    NaN   \n",
       "1141                   0.48             2.54                    NaN   \n",
       "...                     ...              ...                    ...   \n",
       "364848                 0.21             3.25                    NaN   \n",
       "365134                 0.18             3.22                    NaN   \n",
       "365443                 0.01             2.74                    NaN   \n",
       "365758                 0.35             3.64                    NaN   \n",
       "382666                 0.37             3.34                    NaN   \n",
       "\n",
       "        每股营业收入(元/股)_IncomePS  每股经营活动现金流量净额(元/股)_NCFfropePS            市值  \n",
       "0                       6.11                           NaN  1.918590e+09  \n",
       "315                     1.37                           NaN  1.259170e+09  \n",
       "630                     0.25                           NaN  2.498573e+08  \n",
       "838                     0.77                           NaN  4.231853e+09  \n",
       "1141                    2.16                           NaN  7.960181e+08  \n",
       "...                      ...                           ...           ...  \n",
       "364848                  1.80                           NaN  6.679200e+08  \n",
       "365134                  3.15                           NaN  5.166000e+08  \n",
       "365443                  0.04                           NaN  5.550000e+08  \n",
       "365758                  0.47                           NaN  5.162400e+08  \n",
       "382666                  5.82                           NaN  1.440000e+08  \n",
       "\n",
       "[255 rows x 45 columns]"
      ]
     },
     "execution_count": 150,
     "metadata": {},
     "output_type": "execute_result"
    }
   ],
   "source": [
    "data_dt[1].iloc[0] # type: ignore\n"
   ]
  },
  {
   "cell_type": "code",
   "execution_count": 151,
   "metadata": {},
   "outputs": [
    {
     "data": {
      "text/html": [
       "<div>\n",
       "<style scoped>\n",
       "    .dataframe tbody tr th:only-of-type {\n",
       "        vertical-align: middle;\n",
       "    }\n",
       "\n",
       "    .dataframe tbody tr th {\n",
       "        vertical-align: top;\n",
       "    }\n",
       "\n",
       "    .dataframe thead th {\n",
       "        text-align: right;\n",
       "    }\n",
       "</style>\n",
       "<table border=\"1\" class=\"dataframe\">\n",
       "  <thead>\n",
       "    <tr style=\"text-align: right;\">\n",
       "      <th></th>\n",
       "      <th>0</th>\n",
       "      <th>1</th>\n",
       "    </tr>\n",
       "  </thead>\n",
       "  <tbody>\n",
       "    <tr>\n",
       "      <th>0</th>\n",
       "      <td>*ST亚联</td>\n",
       "      <td>最新股票名称_Lstknm  日期_Date  收盘价_ClPr  复权价1(...</td>\n",
       "    </tr>\n",
       "    <tr>\n",
       "      <th>1</th>\n",
       "      <td>*ST海伦</td>\n",
       "      <td>最新股票名称_Lstknm  日期_Date  收盘价_ClPr  复权价1(...</td>\n",
       "    </tr>\n",
       "    <tr>\n",
       "      <th>2</th>\n",
       "      <td>*ST科华</td>\n",
       "      <td>最新股票名称_Lstknm  日期_Date  收盘价_ClPr  复权价1(元...</td>\n",
       "    </tr>\n",
       "    <tr>\n",
       "      <th>3</th>\n",
       "      <td>C未来</td>\n",
       "      <td>最新股票名称_Lstknm  日期_Date  收盘价_ClPr  复权价1(...</td>\n",
       "    </tr>\n",
       "    <tr>\n",
       "      <th>4</th>\n",
       "      <td>C科瑞思</td>\n",
       "      <td>最新股票名称_Lstknm  日期_Date  收盘价_ClPr  复权价1(...</td>\n",
       "    </tr>\n",
       "    <tr>\n",
       "      <th>...</th>\n",
       "      <td>...</td>\n",
       "      <td>...</td>\n",
       "    </tr>\n",
       "    <tr>\n",
       "      <th>3030</th>\n",
       "      <td>龙源技术</td>\n",
       "      <td>最新股票名称_Lstknm  日期_Date  收盘价_ClPr  复权价1(...</td>\n",
       "    </tr>\n",
       "    <tr>\n",
       "      <th>3031</th>\n",
       "      <td>龙源电力</td>\n",
       "      <td>最新股票名称_Lstknm  日期_Date  收盘价_ClPr  复权价1(元...</td>\n",
       "    </tr>\n",
       "    <tr>\n",
       "      <th>3032</th>\n",
       "      <td>龙版传媒</td>\n",
       "      <td>最新股票名称_Lstknm  日期_Date  收盘价_ClPr  复权价1(...</td>\n",
       "    </tr>\n",
       "    <tr>\n",
       "      <th>3033</th>\n",
       "      <td>龙磁科技</td>\n",
       "      <td>最新股票名称_Lstknm  日期_Date  收盘价_ClPr  复权价1(...</td>\n",
       "    </tr>\n",
       "    <tr>\n",
       "      <th>3034</th>\n",
       "      <td>龙蟠科技</td>\n",
       "      <td>最新股票名称_Lstknm  日期_Date  收盘价_ClPr  复权价1(...</td>\n",
       "    </tr>\n",
       "  </tbody>\n",
       "</table>\n",
       "<p>3035 rows × 2 columns</p>\n",
       "</div>"
      ],
      "text/plain": [
       "          0                                                  1\n",
       "0     *ST亚联         最新股票名称_Lstknm  日期_Date  收盘价_ClPr  复权价1(...\n",
       "1     *ST海伦         最新股票名称_Lstknm  日期_Date  收盘价_ClPr  复权价1(...\n",
       "2     *ST科华        最新股票名称_Lstknm  日期_Date  收盘价_ClPr  复权价1(元...\n",
       "3       C未来         最新股票名称_Lstknm  日期_Date  收盘价_ClPr  复权价1(...\n",
       "4      C科瑞思         最新股票名称_Lstknm  日期_Date  收盘价_ClPr  复权价1(...\n",
       "...     ...                                                ...\n",
       "3030   龙源技术         最新股票名称_Lstknm  日期_Date  收盘价_ClPr  复权价1(...\n",
       "3031   龙源电力        最新股票名称_Lstknm  日期_Date  收盘价_ClPr  复权价1(元...\n",
       "3032   龙版传媒         最新股票名称_Lstknm  日期_Date  收盘价_ClPr  复权价1(...\n",
       "3033   龙磁科技         最新股票名称_Lstknm  日期_Date  收盘价_ClPr  复权价1(...\n",
       "3034   龙蟠科技         最新股票名称_Lstknm  日期_Date  收盘价_ClPr  复权价1(...\n",
       "\n",
       "[3035 rows x 2 columns]"
      ]
     },
     "execution_count": 151,
     "metadata": {},
     "output_type": "execute_result"
    }
   ],
   "source": [
    "#将data以最新股票名称_Lstknm进行分类\n",
    "data_name=data.groupby('最新股票名称_Lstknm')\n",
    "data_name=pd.DataFrame(data_name)\n",
    "data_name"
   ]
  },
  {
   "cell_type": "code",
   "execution_count": 152,
   "metadata": {},
   "outputs": [
    {
     "data": {
      "text/html": [
       "<div>\n",
       "<style scoped>\n",
       "    .dataframe tbody tr th:only-of-type {\n",
       "        vertical-align: middle;\n",
       "    }\n",
       "\n",
       "    .dataframe tbody tr th {\n",
       "        vertical-align: top;\n",
       "    }\n",
       "\n",
       "    .dataframe thead th {\n",
       "        text-align: right;\n",
       "    }\n",
       "</style>\n",
       "<table border=\"1\" class=\"dataframe\">\n",
       "  <thead>\n",
       "    <tr style=\"text-align: right;\">\n",
       "      <th></th>\n",
       "      <th>最新股票名称_Lstknm</th>\n",
       "      <th>日期_Date</th>\n",
       "      <th>收盘价_ClPr</th>\n",
       "      <th>复权价1(元)_AdjClpr1</th>\n",
       "      <th>复权价2(元)_AdjClpr2</th>\n",
       "      <th>成交量_Trdvol</th>\n",
       "      <th>成交金额_Trdsum</th>\n",
       "      <th>总股数月换手率(%)_MonFulTurnR</th>\n",
       "      <th>流通股月换手率(%)_MonTrdTurnR</th>\n",
       "      <th>总股数平均日换手率(%)_AvgDFulTurnR</th>\n",
       "      <th>...</th>\n",
       "      <th>市销率_PS</th>\n",
       "      <th>每股收益(摊薄)(元/股)_EPS</th>\n",
       "      <th>净资产收益率(摊薄)_ROE</th>\n",
       "      <th>每股公积金(元/股)_AccumFundPS</th>\n",
       "      <th>每股营业利润(元/股)_OpPrfPS</th>\n",
       "      <th>每股净资产(元/股)_NAPS</th>\n",
       "      <th>调整后每股净资产(元/股)_NAPSadj</th>\n",
       "      <th>每股营业收入(元/股)_IncomePS</th>\n",
       "      <th>每股经营活动现金流量净额(元/股)_NCFfropePS</th>\n",
       "      <th>市值</th>\n",
       "    </tr>\n",
       "  </thead>\n",
       "  <tbody>\n",
       "    <tr>\n",
       "      <th>118352</th>\n",
       "      <td>*ST亚联</td>\n",
       "      <td>2009-12</td>\n",
       "      <td>31.13</td>\n",
       "      <td>31.1300</td>\n",
       "      <td>9.3293</td>\n",
       "      <td>1.015868e+08</td>\n",
       "      <td>3.593719e+09</td>\n",
       "      <td>84.6557</td>\n",
       "      <td>423.2783</td>\n",
       "      <td>4.9797</td>\n",
       "      <td>...</td>\n",
       "      <td>23.22</td>\n",
       "      <td>0.07</td>\n",
       "      <td>2.9160</td>\n",
       "      <td>0.16</td>\n",
       "      <td>0.04</td>\n",
       "      <td>2.49</td>\n",
       "      <td>NaN</td>\n",
       "      <td>0.25</td>\n",
       "      <td>-0.13</td>\n",
       "      <td>3.735600e+09</td>\n",
       "    </tr>\n",
       "    <tr>\n",
       "      <th>118353</th>\n",
       "      <td>*ST亚联</td>\n",
       "      <td>2010-01</td>\n",
       "      <td>30.40</td>\n",
       "      <td>30.4000</td>\n",
       "      <td>9.1105</td>\n",
       "      <td>4.246252e+07</td>\n",
       "      <td>1.342982e+09</td>\n",
       "      <td>35.3854</td>\n",
       "      <td>176.9272</td>\n",
       "      <td>1.8624</td>\n",
       "      <td>...</td>\n",
       "      <td>23.22</td>\n",
       "      <td>0.07</td>\n",
       "      <td>2.9160</td>\n",
       "      <td>0.16</td>\n",
       "      <td>0.04</td>\n",
       "      <td>2.49</td>\n",
       "      <td>NaN</td>\n",
       "      <td>0.25</td>\n",
       "      <td>-0.13</td>\n",
       "      <td>3.648000e+09</td>\n",
       "    </tr>\n",
       "    <tr>\n",
       "      <th>118354</th>\n",
       "      <td>*ST亚联</td>\n",
       "      <td>2010-02</td>\n",
       "      <td>29.01</td>\n",
       "      <td>29.0100</td>\n",
       "      <td>8.6939</td>\n",
       "      <td>1.297757e+07</td>\n",
       "      <td>3.635387e+08</td>\n",
       "      <td>10.8146</td>\n",
       "      <td>54.0732</td>\n",
       "      <td>0.7210</td>\n",
       "      <td>...</td>\n",
       "      <td>23.22</td>\n",
       "      <td>0.07</td>\n",
       "      <td>2.9160</td>\n",
       "      <td>0.16</td>\n",
       "      <td>0.04</td>\n",
       "      <td>2.49</td>\n",
       "      <td>NaN</td>\n",
       "      <td>0.25</td>\n",
       "      <td>-0.13</td>\n",
       "      <td>3.481200e+09</td>\n",
       "    </tr>\n",
       "    <tr>\n",
       "      <th>118355</th>\n",
       "      <td>*ST亚联</td>\n",
       "      <td>2010-03</td>\n",
       "      <td>33.24</td>\n",
       "      <td>33.2400</td>\n",
       "      <td>9.9616</td>\n",
       "      <td>5.325514e+07</td>\n",
       "      <td>1.574111e+09</td>\n",
       "      <td>44.3793</td>\n",
       "      <td>182.3871</td>\n",
       "      <td>1.9295</td>\n",
       "      <td>...</td>\n",
       "      <td>23.08</td>\n",
       "      <td>0.07</td>\n",
       "      <td>2.9160</td>\n",
       "      <td>0.16</td>\n",
       "      <td>0.04</td>\n",
       "      <td>2.49</td>\n",
       "      <td>NaN</td>\n",
       "      <td>0.25</td>\n",
       "      <td>-0.13</td>\n",
       "      <td>3.988800e+09</td>\n",
       "    </tr>\n",
       "    <tr>\n",
       "      <th>118356</th>\n",
       "      <td>*ST亚联</td>\n",
       "      <td>2010-04</td>\n",
       "      <td>29.70</td>\n",
       "      <td>29.7000</td>\n",
       "      <td>8.9007</td>\n",
       "      <td>4.410502e+07</td>\n",
       "      <td>1.431721e+09</td>\n",
       "      <td>36.7542</td>\n",
       "      <td>147.0167</td>\n",
       "      <td>1.8377</td>\n",
       "      <td>...</td>\n",
       "      <td>23.08</td>\n",
       "      <td>0.01</td>\n",
       "      <td>0.1729</td>\n",
       "      <td>4.34</td>\n",
       "      <td>0.00</td>\n",
       "      <td>6.46</td>\n",
       "      <td>NaN</td>\n",
       "      <td>0.25</td>\n",
       "      <td>-0.61</td>\n",
       "      <td>3.564000e+09</td>\n",
       "    </tr>\n",
       "    <tr>\n",
       "      <th>...</th>\n",
       "      <td>...</td>\n",
       "      <td>...</td>\n",
       "      <td>...</td>\n",
       "      <td>...</td>\n",
       "      <td>...</td>\n",
       "      <td>...</td>\n",
       "      <td>...</td>\n",
       "      <td>...</td>\n",
       "      <td>...</td>\n",
       "      <td>...</td>\n",
       "      <td>...</td>\n",
       "      <td>...</td>\n",
       "      <td>...</td>\n",
       "      <td>...</td>\n",
       "      <td>...</td>\n",
       "      <td>...</td>\n",
       "      <td>...</td>\n",
       "      <td>...</td>\n",
       "      <td>...</td>\n",
       "      <td>...</td>\n",
       "      <td>...</td>\n",
       "    </tr>\n",
       "    <tr>\n",
       "      <th>118496</th>\n",
       "      <td>*ST亚联</td>\n",
       "      <td>2021-12</td>\n",
       "      <td>4.73</td>\n",
       "      <td>15.7831</td>\n",
       "      <td>4.7300</td>\n",
       "      <td>6.555342e+08</td>\n",
       "      <td>3.331974e+09</td>\n",
       "      <td>166.7517</td>\n",
       "      <td>208.0268</td>\n",
       "      <td>7.2501</td>\n",
       "      <td>...</td>\n",
       "      <td>0.57</td>\n",
       "      <td>-0.20</td>\n",
       "      <td>-49.3821</td>\n",
       "      <td>0.59</td>\n",
       "      <td>-0.26</td>\n",
       "      <td>0.40</td>\n",
       "      <td>NaN</td>\n",
       "      <td>4.00</td>\n",
       "      <td>-0.40</td>\n",
       "      <td>1.859458e+09</td>\n",
       "    </tr>\n",
       "    <tr>\n",
       "      <th>118497</th>\n",
       "      <td>*ST亚联</td>\n",
       "      <td>2022-01</td>\n",
       "      <td>5.86</td>\n",
       "      <td>19.5537</td>\n",
       "      <td>5.8600</td>\n",
       "      <td>1.271340e+09</td>\n",
       "      <td>8.825066e+09</td>\n",
       "      <td>323.3974</td>\n",
       "      <td>403.4463</td>\n",
       "      <td>17.0209</td>\n",
       "      <td>...</td>\n",
       "      <td>0.57</td>\n",
       "      <td>-0.20</td>\n",
       "      <td>-49.3821</td>\n",
       "      <td>0.59</td>\n",
       "      <td>-0.26</td>\n",
       "      <td>0.40</td>\n",
       "      <td>NaN</td>\n",
       "      <td>4.00</td>\n",
       "      <td>-0.40</td>\n",
       "      <td>2.303683e+09</td>\n",
       "    </tr>\n",
       "    <tr>\n",
       "      <th>118498</th>\n",
       "      <td>*ST亚联</td>\n",
       "      <td>2022-02</td>\n",
       "      <td>6.18</td>\n",
       "      <td>20.6215</td>\n",
       "      <td>6.1800</td>\n",
       "      <td>1.258108e+09</td>\n",
       "      <td>8.085229e+09</td>\n",
       "      <td>320.0315</td>\n",
       "      <td>399.2472</td>\n",
       "      <td>20.0020</td>\n",
       "      <td>...</td>\n",
       "      <td>0.57</td>\n",
       "      <td>-0.20</td>\n",
       "      <td>-49.3821</td>\n",
       "      <td>0.59</td>\n",
       "      <td>-0.26</td>\n",
       "      <td>0.40</td>\n",
       "      <td>NaN</td>\n",
       "      <td>4.00</td>\n",
       "      <td>-0.40</td>\n",
       "      <td>2.429482e+09</td>\n",
       "    </tr>\n",
       "    <tr>\n",
       "      <th>118499</th>\n",
       "      <td>*ST亚联</td>\n",
       "      <td>2022-03</td>\n",
       "      <td>5.50</td>\n",
       "      <td>18.3525</td>\n",
       "      <td>5.5000</td>\n",
       "      <td>6.810422e+08</td>\n",
       "      <td>3.746289e+09</td>\n",
       "      <td>173.2403</td>\n",
       "      <td>216.1215</td>\n",
       "      <td>7.5322</td>\n",
       "      <td>...</td>\n",
       "      <td>1.11</td>\n",
       "      <td>-0.20</td>\n",
       "      <td>-49.3821</td>\n",
       "      <td>0.59</td>\n",
       "      <td>-0.26</td>\n",
       "      <td>0.40</td>\n",
       "      <td>NaN</td>\n",
       "      <td>4.00</td>\n",
       "      <td>-0.40</td>\n",
       "      <td>2.162160e+09</td>\n",
       "    </tr>\n",
       "    <tr>\n",
       "      <th>118500</th>\n",
       "      <td>*ST亚联</td>\n",
       "      <td>2022-04</td>\n",
       "      <td>3.03</td>\n",
       "      <td>10.1105</td>\n",
       "      <td>3.0300</td>\n",
       "      <td>7.722941e+08</td>\n",
       "      <td>3.843245e+09</td>\n",
       "      <td>196.4525</td>\n",
       "      <td>245.0794</td>\n",
       "      <td>10.3396</td>\n",
       "      <td>...</td>\n",
       "      <td>1.11</td>\n",
       "      <td>-0.05</td>\n",
       "      <td>-49.3821</td>\n",
       "      <td>0.59</td>\n",
       "      <td>-0.08</td>\n",
       "      <td>-0.16</td>\n",
       "      <td>NaN</td>\n",
       "      <td>0.76</td>\n",
       "      <td>0.20</td>\n",
       "      <td>1.191154e+09</td>\n",
       "    </tr>\n",
       "  </tbody>\n",
       "</table>\n",
       "<p>149 rows × 45 columns</p>\n",
       "</div>"
      ],
      "text/plain": [
       "       最新股票名称_Lstknm  日期_Date  收盘价_ClPr  复权价1(元)_AdjClpr1  复权价2(元)_AdjClpr2   \n",
       "118352         *ST亚联  2009-12     31.13           31.1300            9.3293  \\\n",
       "118353         *ST亚联  2010-01     30.40           30.4000            9.1105   \n",
       "118354         *ST亚联  2010-02     29.01           29.0100            8.6939   \n",
       "118355         *ST亚联  2010-03     33.24           33.2400            9.9616   \n",
       "118356         *ST亚联  2010-04     29.70           29.7000            8.9007   \n",
       "...              ...      ...       ...               ...               ...   \n",
       "118496         *ST亚联  2021-12      4.73           15.7831            4.7300   \n",
       "118497         *ST亚联  2022-01      5.86           19.5537            5.8600   \n",
       "118498         *ST亚联  2022-02      6.18           20.6215            6.1800   \n",
       "118499         *ST亚联  2022-03      5.50           18.3525            5.5000   \n",
       "118500         *ST亚联  2022-04      3.03           10.1105            3.0300   \n",
       "\n",
       "          成交量_Trdvol   成交金额_Trdsum  总股数月换手率(%)_MonFulTurnR   \n",
       "118352  1.015868e+08  3.593719e+09                 84.6557  \\\n",
       "118353  4.246252e+07  1.342982e+09                 35.3854   \n",
       "118354  1.297757e+07  3.635387e+08                 10.8146   \n",
       "118355  5.325514e+07  1.574111e+09                 44.3793   \n",
       "118356  4.410502e+07  1.431721e+09                 36.7542   \n",
       "...              ...           ...                     ...   \n",
       "118496  6.555342e+08  3.331974e+09                166.7517   \n",
       "118497  1.271340e+09  8.825066e+09                323.3974   \n",
       "118498  1.258108e+09  8.085229e+09                320.0315   \n",
       "118499  6.810422e+08  3.746289e+09                173.2403   \n",
       "118500  7.722941e+08  3.843245e+09                196.4525   \n",
       "\n",
       "        流通股月换手率(%)_MonTrdTurnR  总股数平均日换手率(%)_AvgDFulTurnR  ...  市销率_PS   \n",
       "118352                423.2783                     4.9797  ...   23.22  \\\n",
       "118353                176.9272                     1.8624  ...   23.22   \n",
       "118354                 54.0732                     0.7210  ...   23.22   \n",
       "118355                182.3871                     1.9295  ...   23.08   \n",
       "118356                147.0167                     1.8377  ...   23.08   \n",
       "...                        ...                        ...  ...     ...   \n",
       "118496                208.0268                     7.2501  ...    0.57   \n",
       "118497                403.4463                    17.0209  ...    0.57   \n",
       "118498                399.2472                    20.0020  ...    0.57   \n",
       "118499                216.1215                     7.5322  ...    1.11   \n",
       "118500                245.0794                    10.3396  ...    1.11   \n",
       "\n",
       "        每股收益(摊薄)(元/股)_EPS  净资产收益率(摊薄)_ROE  每股公积金(元/股)_AccumFundPS   \n",
       "118352               0.07          2.9160                    0.16  \\\n",
       "118353               0.07          2.9160                    0.16   \n",
       "118354               0.07          2.9160                    0.16   \n",
       "118355               0.07          2.9160                    0.16   \n",
       "118356               0.01          0.1729                    4.34   \n",
       "...                   ...             ...                     ...   \n",
       "118496              -0.20        -49.3821                    0.59   \n",
       "118497              -0.20        -49.3821                    0.59   \n",
       "118498              -0.20        -49.3821                    0.59   \n",
       "118499              -0.20        -49.3821                    0.59   \n",
       "118500              -0.05        -49.3821                    0.59   \n",
       "\n",
       "        每股营业利润(元/股)_OpPrfPS  每股净资产(元/股)_NAPS  调整后每股净资产(元/股)_NAPSadj   \n",
       "118352                 0.04             2.49                    NaN  \\\n",
       "118353                 0.04             2.49                    NaN   \n",
       "118354                 0.04             2.49                    NaN   \n",
       "118355                 0.04             2.49                    NaN   \n",
       "118356                 0.00             6.46                    NaN   \n",
       "...                     ...              ...                    ...   \n",
       "118496                -0.26             0.40                    NaN   \n",
       "118497                -0.26             0.40                    NaN   \n",
       "118498                -0.26             0.40                    NaN   \n",
       "118499                -0.26             0.40                    NaN   \n",
       "118500                -0.08            -0.16                    NaN   \n",
       "\n",
       "        每股营业收入(元/股)_IncomePS  每股经营活动现金流量净额(元/股)_NCFfropePS            市值  \n",
       "118352                  0.25                         -0.13  3.735600e+09  \n",
       "118353                  0.25                         -0.13  3.648000e+09  \n",
       "118354                  0.25                         -0.13  3.481200e+09  \n",
       "118355                  0.25                         -0.13  3.988800e+09  \n",
       "118356                  0.25                         -0.61  3.564000e+09  \n",
       "...                      ...                           ...           ...  \n",
       "118496                  4.00                         -0.40  1.859458e+09  \n",
       "118497                  4.00                         -0.40  2.303683e+09  \n",
       "118498                  4.00                         -0.40  2.429482e+09  \n",
       "118499                  4.00                         -0.40  2.162160e+09  \n",
       "118500                  0.76                          0.20  1.191154e+09  \n",
       "\n",
       "[149 rows x 45 columns]"
      ]
     },
     "execution_count": 152,
     "metadata": {},
     "output_type": "execute_result"
    }
   ],
   "source": [
    "#将data_name[1]进行合并，列名保持不变\n",
    "data_name[1].iloc[0] # type: ignore # type: ignore"
   ]
  },
  {
   "attachments": {},
   "cell_type": "markdown",
   "metadata": {},
   "source": [
    "1. 特质波动率(IVOL)\n",
    "根据Ang(2006)，使用Fama-French 三因子模型进行回归：\n",
    "$$r_{i, d}-r_{f, d}=\\alpha_{i}+\\beta_{i, M K T} M K T_{d}+\\beta_{i, S M B} S M B_{d}+\\beta_{i, H M L} H M L_{d}+\\varepsilon_{i, d}$$\n",
    "其中𝑟𝑖,𝑑为股票𝑖的日收益率，𝑟𝑓,𝑑为日无风险利率。回归得到的残差收益𝜀𝑖,𝑑的标准\n",
    "差即为股票𝑖在𝑡月末的特质波动率。\n"
   ]
  },
  {
   "cell_type": "code",
   "execution_count": 153,
   "metadata": {},
   "outputs": [
    {
     "data": {
      "text/html": [
       "<div>\n",
       "<style scoped>\n",
       "    .dataframe tbody tr th:only-of-type {\n",
       "        vertical-align: middle;\n",
       "    }\n",
       "\n",
       "    .dataframe tbody tr th {\n",
       "        vertical-align: top;\n",
       "    }\n",
       "\n",
       "    .dataframe thead th {\n",
       "        text-align: right;\n",
       "    }\n",
       "</style>\n",
       "<table border=\"1\" class=\"dataframe\">\n",
       "  <thead>\n",
       "    <tr style=\"text-align: right;\">\n",
       "      <th></th>\n",
       "      <th>IVOL</th>\n",
       "    </tr>\n",
       "  </thead>\n",
       "  <tbody>\n",
       "    <tr>\n",
       "      <th>1997-01</th>\n",
       "      <td>-4.794299e-18</td>\n",
       "    </tr>\n",
       "    <tr>\n",
       "      <th>1997-02</th>\n",
       "      <td>-1.793515e-16</td>\n",
       "    </tr>\n",
       "    <tr>\n",
       "      <th>1997-03</th>\n",
       "      <td>6.677024e-17</td>\n",
       "    </tr>\n",
       "    <tr>\n",
       "      <th>1997-04</th>\n",
       "      <td>-4.962825e-17</td>\n",
       "    </tr>\n",
       "    <tr>\n",
       "      <th>1997-05</th>\n",
       "      <td>1.205255e-16</td>\n",
       "    </tr>\n",
       "  </tbody>\n",
       "</table>\n",
       "</div>"
      ],
      "text/plain": [
       "                 IVOL\n",
       "1997-01 -4.794299e-18\n",
       "1997-02 -1.793515e-16\n",
       "1997-03  6.677024e-17\n",
       "1997-04 -4.962825e-17\n",
       "1997-05  1.205255e-16"
      ]
     },
     "execution_count": 153,
     "metadata": {},
     "output_type": "execute_result"
    }
   ],
   "source": [
    "import statsmodels.api as sm\n",
    "\n",
    "#对data_dt按照上述步骤进行处理\n",
    "resid={};IVOL={}\n",
    "for i in range(len(data_dt[1])): # type: ignore\n",
    "    temp=data_dt[1].iloc[i] # type: ignore # type: ignore\n",
    "    temp=temp.interpolate(method='nearest')\n",
    "    #将temp的标准化到0.002至1\n",
    " \n",
    "    # Select columns to standardize\n",
    "    cols_to_standardize = ['市盈率_PE', '市销率_PS', '市净率_PB', '月收益率_Monret', '月无风险收益率_Monrfret']\n",
    "    data=temp\n",
    "    # Standardize selected columns\n",
    "    for col in cols_to_standardize:\n",
    "        col_data = data[col]\n",
    "        col_data = pd.to_numeric(col_data, errors='coerce')\n",
    "        col_mean = col_data.mean()\n",
    "        col_std = col_data.std()\n",
    "        col_scaled = (col_data - col_mean) / col_std\n",
    "        col_scaled = (col_scaled - col_scaled.min()) / (col_scaled.max() - col_scaled.min()) * 0.998 + 0.002\n",
    "        data[col] = col_scaled\n",
    "\n",
    "    temp=data\n",
    "    #将temp['月无风险收益率_Monrfret']替换成data_dt[1].iloc[i]['月无风险收益率_Monrfret']\n",
    "    temp['月无风险收益率_Monrfret']=data_dt[1].iloc[i]['月无风险收益率_Monrfret'] # type: ignore\n",
    "    market_factor = pd.concat([temp['市盈率_PE'],temp['市销率_PS']], axis=1)\n",
    "    size_factor = temp['市净率_PB']\n",
    "    value_factor = temp['月收益率_Monret'] - temp['月无风险收益率_Monrfret']\n",
    "    X = pd.concat([market_factor, size_factor, value_factor], axis=1)\n",
    "    #填充X中的缺失值，最近邻\n",
    "    X=X.interpolate(method='nearest')\n",
    "    X = sm.add_constant(X)\n",
    "    try:\n",
    "        model=sm.OLS(temp['月收益率_Monret'],X).fit()\n",
    "        resid[data_dt[0][i]]=model.resid.mean() # type: ignore # type: ignore\n",
    "    except:\n",
    "        continue\n",
    "\n",
    "IVOL=resid\n",
    "IVOL=pd.DataFrame(IVOL.values(),index=IVOL.keys(),columns=['IVOL'])#type: ignore\n",
    "IVOL.head()"
   ]
  },
  {
   "attachments": {},
   "cell_type": "markdown",
   "metadata": {},
   "source": [
    "2. 规模(SIZE)\n",
    "根据Barberis，Jin 和Wang(2021)，股票𝑖在𝑡月末的规模按如下公式计算得到：\n",
    "$$SIZE_{i,t}=LOG(流通股数_{i,t}\\times月收盘价_{i,t})$$"
   ]
  },
  {
   "cell_type": "code",
   "execution_count": 154,
   "metadata": {},
   "outputs": [
    {
     "data": {
      "text/html": [
       "<div>\n",
       "<style scoped>\n",
       "    .dataframe tbody tr th:only-of-type {\n",
       "        vertical-align: middle;\n",
       "    }\n",
       "\n",
       "    .dataframe tbody tr th {\n",
       "        vertical-align: top;\n",
       "    }\n",
       "\n",
       "    .dataframe thead th {\n",
       "        text-align: right;\n",
       "    }\n",
       "</style>\n",
       "<table border=\"1\" class=\"dataframe\">\n",
       "  <thead>\n",
       "    <tr style=\"text-align: right;\">\n",
       "      <th></th>\n",
       "      <th>SIZE</th>\n",
       "    </tr>\n",
       "  </thead>\n",
       "  <tbody>\n",
       "    <tr>\n",
       "      <th>1997-01</th>\n",
       "      <td>21.374856</td>\n",
       "    </tr>\n",
       "    <tr>\n",
       "      <th>1997-02</th>\n",
       "      <td>20.911275</td>\n",
       "    </tr>\n",
       "    <tr>\n",
       "      <th>1997-03</th>\n",
       "      <td>19.793253</td>\n",
       "    </tr>\n",
       "    <tr>\n",
       "      <th>1997-04</th>\n",
       "      <td>22.217952</td>\n",
       "    </tr>\n",
       "    <tr>\n",
       "      <th>1997-05</th>\n",
       "      <td>20.407599</td>\n",
       "    </tr>\n",
       "  </tbody>\n",
       "</table>\n",
       "</div>"
      ],
      "text/plain": [
       "              SIZE\n",
       "1997-01  21.374856\n",
       "1997-02  20.911275\n",
       "1997-03  19.793253\n",
       "1997-04  22.217952\n",
       "1997-05  20.407599"
      ]
     },
     "execution_count": 154,
     "metadata": {},
     "output_type": "execute_result"
    }
   ],
   "source": [
    "SIZE={}\n",
    " # type: ignore\n",
    "for i in range(len(data_dt[1])): # type: ignore # type: ignore # type: ignore\n",
    "    temp=data_dt[1].iloc[i] # type: ignore # type: ignore\n",
    "    SIZE[data_dt[0][i]]=np.log(temp['流通股_Trdshr'].iloc[i]*temp['收盘价_ClPr'].iloc[i]) # type: ignore # type: ignore\n",
    "\n",
    "SIZE=pd.DataFrame(SIZE.values(),index=SIZE.keys(),columns=['SIZE'])# type: ignore\n",
    "SIZE.head()"
   ]
  },
  {
   "attachments": {},
   "cell_type": "markdown",
   "metadata": {},
   "source": [
    "3. 动量(MOM)\n",
    "根据Barberis，Jin 和Wang(2021)，股票𝑖在𝑡月末的12 个月动量等于在股票𝑖\n",
    "在𝑡 − 12月末到𝑡 − 1月末区间上的累计收益率：\n",
    "$$MOM_{i,t}=\\prod\\limits_{j=i-11}^{t-1}\\left(1+r_{i,j}\\right)-1$$"
   ]
  },
  {
   "cell_type": "code",
   "execution_count": 155,
   "metadata": {},
   "outputs": [
    {
     "data": {
      "text/html": [
       "<div>\n",
       "<style scoped>\n",
       "    .dataframe tbody tr th:only-of-type {\n",
       "        vertical-align: middle;\n",
       "    }\n",
       "\n",
       "    .dataframe tbody tr th {\n",
       "        vertical-align: top;\n",
       "    }\n",
       "\n",
       "    .dataframe thead th {\n",
       "        text-align: right;\n",
       "    }\n",
       "</style>\n",
       "<table border=\"1\" class=\"dataframe\">\n",
       "  <thead>\n",
       "    <tr style=\"text-align: right;\">\n",
       "      <th></th>\n",
       "      <th>MOM</th>\n",
       "    </tr>\n",
       "  </thead>\n",
       "  <tbody>\n",
       "    <tr>\n",
       "      <th>2015-12</th>\n",
       "      <td>0.0687</td>\n",
       "    </tr>\n",
       "    <tr>\n",
       "      <th>2016-11</th>\n",
       "      <td>-0.0416</td>\n",
       "    </tr>\n",
       "    <tr>\n",
       "      <th>2002-03</th>\n",
       "      <td>0.4206</td>\n",
       "    </tr>\n",
       "    <tr>\n",
       "      <th>2006-11</th>\n",
       "      <td>-0.1211</td>\n",
       "    </tr>\n",
       "    <tr>\n",
       "      <th>1999-12</th>\n",
       "      <td>-0.1705</td>\n",
       "    </tr>\n",
       "  </tbody>\n",
       "</table>\n",
       "</div>"
      ],
      "text/plain": [
       "            MOM\n",
       "2015-12  0.0687\n",
       "2016-11 -0.0416\n",
       "2002-03  0.4206\n",
       "2006-11 -0.1211\n",
       "1999-12 -0.1705"
      ]
     },
     "execution_count": 155,
     "metadata": {},
     "output_type": "execute_result"
    }
   ],
   "source": [
    "MOM = {}\n",
    "for i in range(len(data_dt[1])):# type: ignore\n",
    "    temp = data_dt[1].iloc[i]# type: ignore\n",
    "    if '日期_Date' in temp and i < len(temp['日期_Date']):\n",
    "        date = temp['日期_Date'].iloc[i]\n",
    "    else:\n",
    "        continue\n",
    "    if '月收益率_Monret' in temp and i < len(temp['月收益率_Monret']):\n",
    "        monret = temp['月收益率_Monret'].iloc[i]\n",
    "    else:\n",
    "        continue\n",
    "    key = (date, data_dt[0][i])# type: ignore\n",
    "    if key in MOM:\n",
    "        MOM[key] += monret\n",
    "    else:\n",
    "        MOM[key] = monret\n",
    "\n",
    "#取出MOM中的日期\n",
    "MOM_date=[i[0] for i in MOM.keys()]\n",
    "MOM_date=list(set(MOM_date))\n",
    "MOM_date\n",
    "\n",
    "MOM=pd.DataFrame(MOM.values(),MOM_date,columns=['MOM'])# type: ignore\n",
    "MOM.head()"
   ]
  },
  {
   "attachments": {},
   "cell_type": "markdown",
   "metadata": {},
   "source": [
    "4. 极大日收益率(MAX)\n",
    "根据Bali，Cakici 和Whitelaw(2011)，股票𝑖在𝑡月末的最大日收益率等于股票\n",
    "𝑖在𝑡月这一个月中最大的日收益率：\n",
    "$$MAX_{i,t}=MAX_{d\\in S(i,t)}r_{i,d}$$\n",
    "其中𝑆(𝑖, 𝑡)表示股票𝑖在𝑡月的交易日集合。"
   ]
  },
  {
   "cell_type": "code",
   "execution_count": 156,
   "metadata": {},
   "outputs": [
    {
     "data": {
      "text/html": [
       "<div>\n",
       "<style scoped>\n",
       "    .dataframe tbody tr th:only-of-type {\n",
       "        vertical-align: middle;\n",
       "    }\n",
       "\n",
       "    .dataframe tbody tr th {\n",
       "        vertical-align: top;\n",
       "    }\n",
       "\n",
       "    .dataframe thead th {\n",
       "        text-align: right;\n",
       "    }\n",
       "</style>\n",
       "<table border=\"1\" class=\"dataframe\">\n",
       "  <thead>\n",
       "    <tr style=\"text-align: right;\">\n",
       "      <th></th>\n",
       "      <th>MAX</th>\n",
       "    </tr>\n",
       "  </thead>\n",
       "  <tbody>\n",
       "    <tr>\n",
       "      <th>1997-01</th>\n",
       "      <td>0.5763</td>\n",
       "    </tr>\n",
       "    <tr>\n",
       "      <th>1997-02</th>\n",
       "      <td>0.4754</td>\n",
       "    </tr>\n",
       "    <tr>\n",
       "      <th>1997-03</th>\n",
       "      <td>0.5997</td>\n",
       "    </tr>\n",
       "    <tr>\n",
       "      <th>1997-04</th>\n",
       "      <td>0.8278</td>\n",
       "    </tr>\n",
       "    <tr>\n",
       "      <th>1997-05</th>\n",
       "      <td>0.6503</td>\n",
       "    </tr>\n",
       "  </tbody>\n",
       "</table>\n",
       "</div>"
      ],
      "text/plain": [
       "            MAX\n",
       "1997-01  0.5763\n",
       "1997-02  0.4754\n",
       "1997-03  0.5997\n",
       "1997-04  0.8278\n",
       "1997-05  0.6503"
      ]
     },
     "execution_count": 156,
     "metadata": {},
     "output_type": "execute_result"
    }
   ],
   "source": [
    "MAX={}\n",
    "for i in range(len(data_dt[1])): # type: ignore # type: ignore\n",
    "    temp=data_dt[1].iloc[i] # type: ignore # type: ignore\n",
    "    MAX[data_dt[0][i]]=temp['月收益率_Monret'].max() # type: ignore\n",
    "MAX=pd.DataFrame(MAX.values(),index=MAX.keys(),columns=['MAX'])# type: ignore\n",
    "MAX.head()"
   ]
  },
  {
   "attachments": {},
   "cell_type": "markdown",
   "metadata": {},
   "source": [
    "5. 长期反转(LTREV)\n",
    "根据Barberis，Jin 和Wang(2021)，股票𝑖在𝑡月末的短期反转等于股票从𝑡 − 60\n",
    "月末到𝑡 − 12月末区间上的累计收益率：\n",
    "$$LTREV_{i,t}=\\prod\\limits_{j=i-59}^{t-12}\\left(1+r_{i,j}\\right)-1$$"
   ]
  },
  {
   "cell_type": "code",
   "execution_count": 157,
   "metadata": {},
   "outputs": [
    {
     "data": {
      "text/html": [
       "<div>\n",
       "<style scoped>\n",
       "    .dataframe tbody tr th:only-of-type {\n",
       "        vertical-align: middle;\n",
       "    }\n",
       "\n",
       "    .dataframe tbody tr th {\n",
       "        vertical-align: top;\n",
       "    }\n",
       "\n",
       "    .dataframe thead th {\n",
       "        text-align: right;\n",
       "    }\n",
       "</style>\n",
       "<table border=\"1\" class=\"dataframe\">\n",
       "  <thead>\n",
       "    <tr style=\"text-align: right;\">\n",
       "      <th></th>\n",
       "      <th>LTREV</th>\n",
       "    </tr>\n",
       "  </thead>\n",
       "  <tbody>\n",
       "    <tr>\n",
       "      <th>2015-12</th>\n",
       "      <td>0.0687</td>\n",
       "    </tr>\n",
       "    <tr>\n",
       "      <th>2016-11</th>\n",
       "      <td>-0.0416</td>\n",
       "    </tr>\n",
       "    <tr>\n",
       "      <th>2002-03</th>\n",
       "      <td>0.4206</td>\n",
       "    </tr>\n",
       "    <tr>\n",
       "      <th>2006-11</th>\n",
       "      <td>-0.1211</td>\n",
       "    </tr>\n",
       "    <tr>\n",
       "      <th>1999-12</th>\n",
       "      <td>-0.1705</td>\n",
       "    </tr>\n",
       "  </tbody>\n",
       "</table>\n",
       "</div>"
      ],
      "text/plain": [
       "          LTREV\n",
       "2015-12  0.0687\n",
       "2016-11 -0.0416\n",
       "2002-03  0.4206\n",
       "2006-11 -0.1211\n",
       "1999-12 -0.1705"
      ]
     },
     "execution_count": 157,
     "metadata": {},
     "output_type": "execute_result"
    }
   ],
   "source": [
    "LTREV = {}\n",
    "for i in range(len(data_dt[1])):# type: ignore\n",
    "    temp = data_dt[1].iloc[i]# type: ignore\n",
    "    if '日期_Date' in temp and i < len(temp['日期_Date']):\n",
    "        date = temp['日期_Date'].iloc[i]\n",
    "    else:\n",
    "        continue\n",
    "    if '月收益率_Monret' in temp and i < len(temp['月收益率_Monret']):\n",
    "        monret = temp['月收益率_Monret'].iloc[i]\n",
    "    else:\n",
    "        continue\n",
    "    key = (date, data_dt[0][i])# type: ignore\n",
    "    if key in MOM:\n",
    "        LTREV[key] += monret\n",
    "    else:\n",
    "        LTREV[key] = monret\n",
    "\n",
    "#取出MOM中的日期\n",
    "LTREV_date=[i[0] for i in LTREV.keys()]\n",
    "LTREV_date=list(set(LTREV_date))\n",
    "LTREV_date\n",
    "\n",
    "LTREV=pd.DataFrame(LTREV.values(),LTREV_date,columns=['LTREV'])# type: ignore\n",
    "LTREV.head()"
   ]
  },
  {
   "attachments": {},
   "cell_type": "markdown",
   "metadata": {},
   "source": [
    "6. 短期反转(STREV)\n",
    "根据Barberis，Jin 和Wang(2021)，股票𝑖在𝑡月末的短期反转等于股票𝑖在𝑡月\n",
    "的月收益率：\n",
    "$$\\textit{STREF}_{i,t} =r_{i,t}$$"
   ]
  },
  {
   "cell_type": "code",
   "execution_count": 158,
   "metadata": {},
   "outputs": [
    {
     "data": {
      "text/html": [
       "<div>\n",
       "<style scoped>\n",
       "    .dataframe tbody tr th:only-of-type {\n",
       "        vertical-align: middle;\n",
       "    }\n",
       "\n",
       "    .dataframe tbody tr th {\n",
       "        vertical-align: top;\n",
       "    }\n",
       "\n",
       "    .dataframe thead th {\n",
       "        text-align: right;\n",
       "    }\n",
       "</style>\n",
       "<table border=\"1\" class=\"dataframe\">\n",
       "  <thead>\n",
       "    <tr style=\"text-align: right;\">\n",
       "      <th></th>\n",
       "      <th>STREV</th>\n",
       "    </tr>\n",
       "  </thead>\n",
       "  <tbody>\n",
       "    <tr>\n",
       "      <th>1997-01</th>\n",
       "      <td>0.0687</td>\n",
       "    </tr>\n",
       "    <tr>\n",
       "      <th>1997-02</th>\n",
       "      <td>-0.0416</td>\n",
       "    </tr>\n",
       "    <tr>\n",
       "      <th>1997-03</th>\n",
       "      <td>0.4206</td>\n",
       "    </tr>\n",
       "    <tr>\n",
       "      <th>1997-04</th>\n",
       "      <td>-0.1211</td>\n",
       "    </tr>\n",
       "    <tr>\n",
       "      <th>1997-05</th>\n",
       "      <td>-0.1705</td>\n",
       "    </tr>\n",
       "  </tbody>\n",
       "</table>\n",
       "</div>"
      ],
      "text/plain": [
       "          STREV\n",
       "1997-01  0.0687\n",
       "1997-02 -0.0416\n",
       "1997-03  0.4206\n",
       "1997-04 -0.1211\n",
       "1997-05 -0.1705"
      ]
     },
     "execution_count": 158,
     "metadata": {},
     "output_type": "execute_result"
    }
   ],
   "source": [
    "STREV={} # type: ignore\n",
    "for i in range(len(data_dt[1])): # type: ignore # type: ignore\n",
    "    temp=data_dt[1].iloc[i] # type: ignore # type: ignore\n",
    "    STREV[data_dt[0][i]]=temp['月收益率_Monret'].iloc[i] # type: ignore\n",
    "\n",
    "STREV=pd.DataFrame(STREV.values(),index=STREV.keys(),columns=['STREV'])# type: ignore\n",
    "STREV.head()"
   ]
  },
  {
   "attachments": {},
   "cell_type": "markdown",
   "metadata": {},
   "source": [
    "7. 价值(VAL)\n",
    "根据Liu 等(2018)，使用市盈率的倒数Earnings-to-Price 作为价值异象的异象\n",
    "变量。"
   ]
  },
  {
   "cell_type": "code",
   "execution_count": 159,
   "metadata": {},
   "outputs": [
    {
     "data": {
      "text/html": [
       "<div>\n",
       "<style scoped>\n",
       "    .dataframe tbody tr th:only-of-type {\n",
       "        vertical-align: middle;\n",
       "    }\n",
       "\n",
       "    .dataframe tbody tr th {\n",
       "        vertical-align: top;\n",
       "    }\n",
       "\n",
       "    .dataframe thead th {\n",
       "        text-align: right;\n",
       "    }\n",
       "</style>\n",
       "<table border=\"1\" class=\"dataframe\">\n",
       "  <thead>\n",
       "    <tr style=\"text-align: right;\">\n",
       "      <th></th>\n",
       "      <th>VAL</th>\n",
       "    </tr>\n",
       "  </thead>\n",
       "  <tbody>\n",
       "    <tr>\n",
       "      <th>1997-01</th>\n",
       "      <td>0.042159</td>\n",
       "    </tr>\n",
       "    <tr>\n",
       "      <th>1997-02</th>\n",
       "      <td>0.036258</td>\n",
       "    </tr>\n",
       "    <tr>\n",
       "      <th>1997-03</th>\n",
       "      <td>-0.020859</td>\n",
       "    </tr>\n",
       "    <tr>\n",
       "      <th>1997-04</th>\n",
       "      <td>0.003828</td>\n",
       "    </tr>\n",
       "    <tr>\n",
       "      <th>1997-05</th>\n",
       "      <td>-0.000660</td>\n",
       "    </tr>\n",
       "  </tbody>\n",
       "</table>\n",
       "</div>"
      ],
      "text/plain": [
       "              VAL\n",
       "1997-01  0.042159\n",
       "1997-02  0.036258\n",
       "1997-03 -0.020859\n",
       "1997-04  0.003828\n",
       "1997-05 -0.000660"
      ]
     },
     "execution_count": 159,
     "metadata": {},
     "output_type": "execute_result"
    }
   ],
   "source": [
    "VAL={}\n",
    "for i in range(len(data_dt[1])): # type: ignore # type: ignore\n",
    "    temp=data_dt[1].iloc[i] # type: ignore # type: ignore\n",
    "    VAL[data_dt[0][i]]=1/(temp['市盈率_PE'].iloc[i]) # type: ignore\n",
    "VAL=pd.DataFrame(VAL.values(),index=VAL.keys(),columns=['VAL'])# type: ignore\n",
    "VAL.head()"
   ]
  },
  {
   "attachments": {},
   "cell_type": "markdown",
   "metadata": {},
   "source": [
    "8. 预期特质偏度(EISKEW)\n",
    "参考郑振龙，王磊和王路(2013)，为了计算预期特质偏度，首先进行如下式的\n",
    "Fama-French 三因子回归:\n",
    "$$r_{i,d}-r_{f,d}=\\alpha_i+\\beta_{i,MHT}MKT_d+\\beta_{i,SMB}SMB_d+\\beta_{i,HML}HML_d+\\varepsilon_{i,d}$$\n",
    "然后计算已实现的特质波动率𝐼𝑉𝑖,𝑡和特质偏度𝐼𝑆𝑖,𝑡：\n",
    "$$IV_{i,t}=\\left(\\frac{1}{N(t)}\\sum\\limits_{d\\in S(t)}\\varepsilon_{i,d}^2\\right)^\\frac12$$\n",
    "$$IS_{i,t}=\\frac{1}{N(t)}\\frac{\\sum_{d\\in S(t)}\\varepsilon_{i,d}^3}{IV_{i,t}^3}$$\n",
    "其中𝑆(𝑡)为从𝑡 − 𝑇 + 1月月初至𝑡月月末的交易日集合，𝑁(𝑡)为𝑆(𝑡)集合中交易日\n",
    "的天数，𝑇 = 12。计算出𝐼𝑉𝑖,𝑡和𝐼𝑆𝑖,𝑡后，在横截面上，进行下式回归：\n",
    "$$IS_{i,t}=\\beta_{0,t}+\\beta_{1,t}IS_{i,t-T}+\\beta_{2,t}IV_{i,t-T}+\\gamma_tX_{i,t-T}+\\varepsilon_{i,t}$$\n",
    "\n",
    "其中与公司相关的特质变量𝑋𝑖,𝑡−𝑇中包括动量(𝑚𝑜𝑚𝑖,𝑡−𝑇 )、换手率(𝑡𝑢𝑟𝑛𝑖,𝑡−𝑇)和流通\n",
    "市值(𝑐𝑎𝑝𝑡𝑖,𝑡−𝑇)。𝑚𝑜𝑚𝑖,𝑡−𝑇表示股票𝑖在𝑡 − 𝑇 − 12月至𝑡 − 𝑇 − 1月之间的累积收益\n",
    "率，𝑡𝑢𝑟𝑛𝑖,𝑡−𝑇表示股票𝑖在𝑡 − 𝑇月的换手率。以所有个股为样本进行横截面回归，\n",
    "获得在𝑡月末市场上的𝛽系数。最后预期特质偏度𝐸𝑡[𝐼𝑆𝑖,𝑡+𝑇 ]计算公式如下：\n",
    "$$E_t\\big[IS_{i,t+T}\\big]=\\beta_{0,t}+\\beta_{1,t}IS_{i,t}+\\beta_{2,t}IV_{i,t}+\\gamma_tX_{i,t}.$$"
   ]
  },
  {
   "cell_type": "code",
   "execution_count": 160,
   "metadata": {},
   "outputs": [
    {
     "data": {
      "text/html": [
       "<div>\n",
       "<style scoped>\n",
       "    .dataframe tbody tr th:only-of-type {\n",
       "        vertical-align: middle;\n",
       "    }\n",
       "\n",
       "    .dataframe tbody tr th {\n",
       "        vertical-align: top;\n",
       "    }\n",
       "\n",
       "    .dataframe thead th {\n",
       "        text-align: right;\n",
       "    }\n",
       "</style>\n",
       "<table border=\"1\" class=\"dataframe\">\n",
       "  <thead>\n",
       "    <tr style=\"text-align: right;\">\n",
       "      <th></th>\n",
       "      <th>EISKEW</th>\n",
       "    </tr>\n",
       "  </thead>\n",
       "  <tbody>\n",
       "    <tr>\n",
       "      <th>1997-01</th>\n",
       "      <td>-4.794299e-18</td>\n",
       "    </tr>\n",
       "    <tr>\n",
       "      <th>1997-02</th>\n",
       "      <td>-1.793515e-16</td>\n",
       "    </tr>\n",
       "    <tr>\n",
       "      <th>1997-03</th>\n",
       "      <td>6.677024e-17</td>\n",
       "    </tr>\n",
       "    <tr>\n",
       "      <th>1997-04</th>\n",
       "      <td>-4.962825e-17</td>\n",
       "    </tr>\n",
       "    <tr>\n",
       "      <th>1997-05</th>\n",
       "      <td>1.205255e-16</td>\n",
       "    </tr>\n",
       "  </tbody>\n",
       "</table>\n",
       "</div>"
      ],
      "text/plain": [
       "               EISKEW\n",
       "1997-01 -4.794299e-18\n",
       "1997-02 -1.793515e-16\n",
       "1997-03  6.677024e-17\n",
       "1997-04 -4.962825e-17\n",
       "1997-05  1.205255e-16"
      ]
     },
     "execution_count": 160,
     "metadata": {},
     "output_type": "execute_result"
    }
   ],
   "source": [
    "EISKEW={}\n",
    "for i in range(len(data_dt[1])): # type: ignore\n",
    "    temp=data_dt[1].iloc[i] # type: ignore # type: ignore\n",
    "    temp=temp.interpolate(method='nearest')\n",
    "    #将temp的标准化到0.002至1\n",
    " \n",
    "    # Select columns to standardize\n",
    "    cols_to_standardize = ['市盈率_PE', '市销率_PS', '市净率_PB', '月收益率_Monret', '月无风险收益率_Monrfret']\n",
    "    data=temp\n",
    "    # Standardize selected columns\n",
    "    for col in cols_to_standardize:\n",
    "        col_data = data[col]\n",
    "        col_data = pd.to_numeric(col_data, errors='coerce')\n",
    "        col_mean = col_data.mean()\n",
    "        col_std = col_data.std()\n",
    "        col_scaled = (col_data - col_mean) / col_std\n",
    "        col_scaled = (col_scaled - col_scaled.min()) / (col_scaled.max() - col_scaled.min()) * 0.998 + 0.002\n",
    "        data[col] = col_scaled\n",
    "\n",
    "    temp=data\n",
    "    #将temp['月无风险收益率_Monrfret']替换成data_dt[1].iloc[i]['月无风险收益率_Monrfret']\n",
    "    temp['月无风险收益率_Monrfret']=data_dt[1].iloc[i]['月无风险收益率_Monrfret'] # type: ignore\n",
    "    market_factor = pd.concat([temp['市盈率_PE'],temp['市销率_PS']], axis=1)\n",
    "    size_factor = temp['市净率_PB']\n",
    "    value_factor = temp['月收益率_Monret'] - temp['月无风险收益率_Monrfret']\n",
    "    X = pd.concat([market_factor, size_factor, value_factor], axis=1)\n",
    "    #填充X中的缺失值，最近邻\n",
    "    X=X.interpolate(method='nearest')\n",
    "    X = sm.add_constant(X)\n",
    "    try:\n",
    "        model=sm.OLS(temp['月收益率_Monret'],X).fit()\n",
    "        EISKEW[data_dt[0][i]]=model.resid.mean() # type: ignore # type: ignore\n",
    "    except:\n",
    "        continue\n",
    "EISKEW=pd.DataFrame(EISKEW.values(),index=EISKEW.keys(),columns=['EISKEW'])# type: ignore\n",
    "EISKEW.head()"
   ]
  },
  {
   "attachments": {},
   "cell_type": "markdown",
   "metadata": {},
   "source": [
    "9. 失败概率(FPROB)\n",
    "根据Campbell，Hilscher 和Szilagyi(2008)，利用Logit 模型，计算失败概率。\n",
    "具体计算方法如下：公司失败及陷入财务困境的标志为公司被特别处理(ST)，采\n",
    "用Logit 模型来估计公司被ST 的可能性，公司𝑖在𝑡月被ST 的可能性为：\n",
    "$$P_{t-1}\\bigl(Y_{i,t-1+j}=1\\mid Y_{i,t-2+j}=0\\bigr)=\\frac{1}{1+exp\\bigl(-\\alpha_j-\\beta_jx_{i,t-1}\\bigr)}$$\n",
    "如果公司𝑖在𝑡月被ST，那么𝑌𝑖,𝑡等于１，其他情况𝑌𝑖,𝑡−1+𝑗都等于0，𝑥𝑖,𝑡−1为选\n",
    "取的解释变量，这里𝑗 = 12，表明采用滞后12 个月的解释变量去估计公司被ST\n",
    "的可能性。解释变量包括NIMTAAVG，TMLTA，EXRETAVG，CASHMTA，SIGMA，\n",
    "RSIZE，MB，PRICE，计算公式如下：\n",
    "$$NIMTA_{i,t}=\\frac{净利润_{i,t}}{(流通市值_{i,t}+总负债_{i,t})}$$\n",
    "$$NIMTAAVG_{t-1,t-12}=\\frac{1-\\phi^3}{1-\\phi^{12}}\\big(NNMTA_{t-1,t-3}+\\cdots+\\phi^9NIMTA_{t-10,t-12}\\big)$$\n",
    "$$TLMTA_{i,t}=\\frac{总负债_{i,t}}{(流通市值_{i,t}+总负债_{i,t})}$$\n",
    "$$CASHMTA_{i,t}=\\frac{现金及短期投资_{i,t}}{(流通市值_{i,t}+总负债_{i,t})}$$\n",
    "$$SIGMA_{i,t-1,t-3}=\\Bigg(250\\times\\frac{1}{D-1}\\sum_{k\\in(t-1,t-2,t-3)}(个股月回报率_{i,t})^2\\Bigg)^{\\frac{1}{2}}$$\n",
    "\n",
    "$$REIZE_{i,t}=log\\big(\\frac{流通市值_{i,t}}{上证综指流通市值_{i,t}}\\big)$$\n",
    "$$MB_{i,t}=\\frac{流通市值_{i,t}}{所有者权益_{i,t}+0.1\\times(流通市值_{i,t}-所有者权益_{i,t})}$$\n",
    "$$EXRET_{i,t}=LOG(1+个股月回报率_{i,t})-log(1+上证综指月回报率_{i,t})$$\n",
    "$$EXREFTAVG_{t-1,t-12}=\\frac{1-\\phi}{1-\\phi^{12}}(EXRT_{t-1}+\\cdots+\\phi^{11}EXREF_{t-12})$$\n",
    "$$PRICE_{i,t}=LOG(个股月收盘价_{i,t})$$\n",
    "其中D 为股票𝑡 − 1，𝑡 − 2和𝑡 − 3这三个月实际交易天数。由于这里可以获得的\n",
    "财务数据为季度的，这里将财务数据向前填充两个月。\n",
    "采用Logit 模型计算出解释变量的系数以及截距项，则FPROB 可以根据如下\n",
    "公式计算出：\n",
    "$$\\begin{gathered}\n",
    "\\textit{FP}_t=\\alpha+\\beta_1 \\\\\n",
    "+\\beta_5RSIZE_t+\\beta_6CASHMTA_t+\\beta_7MB_t+\\beta_8PRICE_t. \n",
    "\\end{gathered}$$"
   ]
  },
  {
   "cell_type": "code",
   "execution_count": 161,
   "metadata": {},
   "outputs": [
    {
     "name": "stderr",
     "output_type": "stream",
     "text": [
      "/home/codespace/.local/lib/python3.10/site-packages/pandas/core/arraylike.py:396: RuntimeWarning: divide by zero encountered in log\n",
      "  result = getattr(ufunc, method)(*inputs, **kwargs)\n",
      "/home/codespace/.local/lib/python3.10/site-packages/pandas/core/arraylike.py:396: RuntimeWarning: divide by zero encountered in log\n",
      "  result = getattr(ufunc, method)(*inputs, **kwargs)\n",
      "/home/codespace/.local/lib/python3.10/site-packages/pandas/core/arraylike.py:396: RuntimeWarning: divide by zero encountered in log\n",
      "  result = getattr(ufunc, method)(*inputs, **kwargs)\n",
      "/home/codespace/.local/lib/python3.10/site-packages/pandas/core/arraylike.py:396: RuntimeWarning: divide by zero encountered in log\n",
      "  result = getattr(ufunc, method)(*inputs, **kwargs)\n"
     ]
    },
    {
     "name": "stdout",
     "output_type": "stream",
     "text": [
      "Optimization terminated successfully.\n",
      "         Current function value: 0.498447\n",
      "         Iterations 6\n",
      "Optimization terminated successfully.\n",
      "         Current function value: 0.507962\n",
      "         Iterations 6\n"
     ]
    },
    {
     "name": "stderr",
     "output_type": "stream",
     "text": [
      "/home/codespace/.local/lib/python3.10/site-packages/pandas/core/arraylike.py:396: RuntimeWarning: divide by zero encountered in log\n",
      "  result = getattr(ufunc, method)(*inputs, **kwargs)\n",
      "/home/codespace/.local/lib/python3.10/site-packages/pandas/core/arraylike.py:396: RuntimeWarning: divide by zero encountered in log\n",
      "  result = getattr(ufunc, method)(*inputs, **kwargs)\n",
      "/home/codespace/.local/lib/python3.10/site-packages/pandas/core/arraylike.py:396: RuntimeWarning: divide by zero encountered in log\n",
      "  result = getattr(ufunc, method)(*inputs, **kwargs)\n",
      "/home/codespace/.local/lib/python3.10/site-packages/pandas/core/arraylike.py:396: RuntimeWarning: divide by zero encountered in log\n",
      "  result = getattr(ufunc, method)(*inputs, **kwargs)\n"
     ]
    },
    {
     "name": "stdout",
     "output_type": "stream",
     "text": [
      "Optimization terminated successfully.\n",
      "         Current function value: 0.504963\n",
      "         Iterations 6\n",
      "Optimization terminated successfully.\n",
      "         Current function value: 0.516413\n",
      "         Iterations 7\n"
     ]
    },
    {
     "name": "stderr",
     "output_type": "stream",
     "text": [
      "/home/codespace/.local/lib/python3.10/site-packages/pandas/core/arraylike.py:396: RuntimeWarning: divide by zero encountered in log\n",
      "  result = getattr(ufunc, method)(*inputs, **kwargs)\n",
      "/home/codespace/.local/lib/python3.10/site-packages/pandas/core/arraylike.py:396: RuntimeWarning: divide by zero encountered in log\n",
      "  result = getattr(ufunc, method)(*inputs, **kwargs)\n",
      "/home/codespace/.local/lib/python3.10/site-packages/pandas/core/arraylike.py:396: RuntimeWarning: divide by zero encountered in log\n",
      "  result = getattr(ufunc, method)(*inputs, **kwargs)\n",
      "/home/codespace/.local/lib/python3.10/site-packages/pandas/core/arraylike.py:396: RuntimeWarning: divide by zero encountered in log\n",
      "  result = getattr(ufunc, method)(*inputs, **kwargs)\n"
     ]
    },
    {
     "name": "stdout",
     "output_type": "stream",
     "text": [
      "Optimization terminated successfully.\n",
      "         Current function value: 0.516070\n",
      "         Iterations 9\n",
      "Optimization terminated successfully.\n",
      "         Current function value: 0.332003\n",
      "         Iterations 10\n"
     ]
    },
    {
     "name": "stderr",
     "output_type": "stream",
     "text": [
      "/home/codespace/.local/lib/python3.10/site-packages/pandas/core/arraylike.py:396: RuntimeWarning: divide by zero encountered in log\n",
      "  result = getattr(ufunc, method)(*inputs, **kwargs)\n",
      "/home/codespace/.local/lib/python3.10/site-packages/pandas/core/arraylike.py:396: RuntimeWarning: divide by zero encountered in log\n",
      "  result = getattr(ufunc, method)(*inputs, **kwargs)\n",
      "/home/codespace/.local/lib/python3.10/site-packages/pandas/core/arraylike.py:396: RuntimeWarning: divide by zero encountered in log\n",
      "  result = getattr(ufunc, method)(*inputs, **kwargs)\n",
      "/home/codespace/.local/lib/python3.10/site-packages/pandas/core/arraylike.py:396: RuntimeWarning: divide by zero encountered in log\n",
      "  result = getattr(ufunc, method)(*inputs, **kwargs)\n"
     ]
    },
    {
     "name": "stdout",
     "output_type": "stream",
     "text": [
      "Optimization terminated successfully.\n",
      "         Current function value: 0.335504\n",
      "         Iterations 8\n",
      "Optimization terminated successfully.\n",
      "         Current function value: 0.338698\n",
      "         Iterations 7\n"
     ]
    },
    {
     "name": "stderr",
     "output_type": "stream",
     "text": [
      "/home/codespace/.local/lib/python3.10/site-packages/pandas/core/arraylike.py:396: RuntimeWarning: divide by zero encountered in log\n",
      "  result = getattr(ufunc, method)(*inputs, **kwargs)\n",
      "/home/codespace/.local/lib/python3.10/site-packages/pandas/core/arraylike.py:396: RuntimeWarning: divide by zero encountered in log\n",
      "  result = getattr(ufunc, method)(*inputs, **kwargs)\n",
      "/home/codespace/.local/lib/python3.10/site-packages/pandas/core/arraylike.py:396: RuntimeWarning: divide by zero encountered in log\n",
      "  result = getattr(ufunc, method)(*inputs, **kwargs)\n",
      "/home/codespace/.local/lib/python3.10/site-packages/pandas/core/arraylike.py:396: RuntimeWarning: divide by zero encountered in log\n",
      "  result = getattr(ufunc, method)(*inputs, **kwargs)\n"
     ]
    },
    {
     "name": "stdout",
     "output_type": "stream",
     "text": [
      "Optimization terminated successfully.\n",
      "         Current function value: 0.341054\n",
      "         Iterations 7\n",
      "Optimization terminated successfully.\n",
      "         Current function value: 0.342033\n",
      "         Iterations 7\n"
     ]
    },
    {
     "name": "stderr",
     "output_type": "stream",
     "text": [
      "/home/codespace/.local/lib/python3.10/site-packages/pandas/core/arraylike.py:396: RuntimeWarning: divide by zero encountered in log\n",
      "  result = getattr(ufunc, method)(*inputs, **kwargs)\n",
      "/home/codespace/.local/lib/python3.10/site-packages/pandas/core/arraylike.py:396: RuntimeWarning: divide by zero encountered in log\n",
      "  result = getattr(ufunc, method)(*inputs, **kwargs)\n",
      "/home/codespace/.local/lib/python3.10/site-packages/pandas/core/arraylike.py:396: RuntimeWarning: divide by zero encountered in log\n",
      "  result = getattr(ufunc, method)(*inputs, **kwargs)\n",
      "/home/codespace/.local/lib/python3.10/site-packages/pandas/core/arraylike.py:396: RuntimeWarning: divide by zero encountered in log\n",
      "  result = getattr(ufunc, method)(*inputs, **kwargs)\n"
     ]
    },
    {
     "name": "stdout",
     "output_type": "stream",
     "text": [
      "Optimization terminated successfully.\n",
      "         Current function value: 0.346597\n",
      "         Iterations 8\n",
      "Optimization terminated successfully.\n",
      "         Current function value: 0.338550\n",
      "         Iterations 8\n"
     ]
    },
    {
     "name": "stderr",
     "output_type": "stream",
     "text": [
      "/home/codespace/.local/lib/python3.10/site-packages/pandas/core/arraylike.py:396: RuntimeWarning: divide by zero encountered in log\n",
      "  result = getattr(ufunc, method)(*inputs, **kwargs)\n",
      "/home/codespace/.local/lib/python3.10/site-packages/pandas/core/arraylike.py:396: RuntimeWarning: divide by zero encountered in log\n",
      "  result = getattr(ufunc, method)(*inputs, **kwargs)\n",
      "/home/codespace/.local/lib/python3.10/site-packages/pandas/core/arraylike.py:396: RuntimeWarning: divide by zero encountered in log\n",
      "  result = getattr(ufunc, method)(*inputs, **kwargs)\n",
      "/home/codespace/.local/lib/python3.10/site-packages/pandas/core/arraylike.py:396: RuntimeWarning: divide by zero encountered in log\n",
      "  result = getattr(ufunc, method)(*inputs, **kwargs)\n"
     ]
    },
    {
     "name": "stdout",
     "output_type": "stream",
     "text": [
      "Optimization terminated successfully.\n",
      "         Current function value: 0.338279\n",
      "         Iterations 7\n",
      "Optimization terminated successfully.\n",
      "         Current function value: 0.340945\n",
      "         Iterations 7\n"
     ]
    },
    {
     "name": "stderr",
     "output_type": "stream",
     "text": [
      "/home/codespace/.local/lib/python3.10/site-packages/pandas/core/arraylike.py:396: RuntimeWarning: divide by zero encountered in log\n",
      "  result = getattr(ufunc, method)(*inputs, **kwargs)\n",
      "/home/codespace/.local/lib/python3.10/site-packages/pandas/core/arraylike.py:396: RuntimeWarning: divide by zero encountered in log\n",
      "  result = getattr(ufunc, method)(*inputs, **kwargs)\n",
      "/home/codespace/.local/lib/python3.10/site-packages/pandas/core/arraylike.py:396: RuntimeWarning: divide by zero encountered in log\n",
      "  result = getattr(ufunc, method)(*inputs, **kwargs)\n",
      "/home/codespace/.local/lib/python3.10/site-packages/pandas/core/arraylike.py:396: RuntimeWarning: divide by zero encountered in log\n",
      "  result = getattr(ufunc, method)(*inputs, **kwargs)\n"
     ]
    },
    {
     "name": "stdout",
     "output_type": "stream",
     "text": [
      "Optimization terminated successfully.\n",
      "         Current function value: 0.343102\n",
      "         Iterations 7\n",
      "Optimization terminated successfully.\n",
      "         Current function value: 0.337827\n",
      "         Iterations 7\n"
     ]
    },
    {
     "name": "stderr",
     "output_type": "stream",
     "text": [
      "/home/codespace/.local/lib/python3.10/site-packages/pandas/core/arraylike.py:396: RuntimeWarning: divide by zero encountered in log\n",
      "  result = getattr(ufunc, method)(*inputs, **kwargs)\n",
      "/home/codespace/.local/lib/python3.10/site-packages/pandas/core/arraylike.py:396: RuntimeWarning: divide by zero encountered in log\n",
      "  result = getattr(ufunc, method)(*inputs, **kwargs)\n",
      "/home/codespace/.local/lib/python3.10/site-packages/pandas/core/arraylike.py:396: RuntimeWarning: divide by zero encountered in log\n",
      "  result = getattr(ufunc, method)(*inputs, **kwargs)\n",
      "/home/codespace/.local/lib/python3.10/site-packages/pandas/core/arraylike.py:396: RuntimeWarning: divide by zero encountered in log\n",
      "  result = getattr(ufunc, method)(*inputs, **kwargs)\n"
     ]
    },
    {
     "name": "stdout",
     "output_type": "stream",
     "text": [
      "Optimization terminated successfully.\n",
      "         Current function value: 0.336756\n",
      "         Iterations 7\n",
      "Optimization terminated successfully.\n",
      "         Current function value: 0.417384\n",
      "         Iterations 7\n"
     ]
    },
    {
     "name": "stderr",
     "output_type": "stream",
     "text": [
      "/home/codespace/.local/lib/python3.10/site-packages/pandas/core/arraylike.py:396: RuntimeWarning: divide by zero encountered in log\n",
      "  result = getattr(ufunc, method)(*inputs, **kwargs)\n",
      "/home/codespace/.local/lib/python3.10/site-packages/pandas/core/arraylike.py:396: RuntimeWarning: divide by zero encountered in log\n",
      "  result = getattr(ufunc, method)(*inputs, **kwargs)\n",
      "/home/codespace/.local/lib/python3.10/site-packages/pandas/core/arraylike.py:396: RuntimeWarning: divide by zero encountered in log\n",
      "  result = getattr(ufunc, method)(*inputs, **kwargs)\n",
      "/home/codespace/.local/lib/python3.10/site-packages/pandas/core/arraylike.py:396: RuntimeWarning: divide by zero encountered in log\n",
      "  result = getattr(ufunc, method)(*inputs, **kwargs)\n"
     ]
    },
    {
     "name": "stdout",
     "output_type": "stream",
     "text": [
      "Optimization terminated successfully.\n",
      "         Current function value: 0.415033\n",
      "         Iterations 7\n",
      "Optimization terminated successfully.\n",
      "         Current function value: 0.422161\n",
      "         Iterations 7\n"
     ]
    },
    {
     "name": "stderr",
     "output_type": "stream",
     "text": [
      "/home/codespace/.local/lib/python3.10/site-packages/pandas/core/arraylike.py:396: RuntimeWarning: divide by zero encountered in log\n",
      "  result = getattr(ufunc, method)(*inputs, **kwargs)\n",
      "/home/codespace/.local/lib/python3.10/site-packages/pandas/core/arraylike.py:396: RuntimeWarning: divide by zero encountered in log\n",
      "  result = getattr(ufunc, method)(*inputs, **kwargs)\n",
      "/home/codespace/.local/lib/python3.10/site-packages/pandas/core/arraylike.py:396: RuntimeWarning: divide by zero encountered in log\n",
      "  result = getattr(ufunc, method)(*inputs, **kwargs)\n",
      "/home/codespace/.local/lib/python3.10/site-packages/pandas/core/arraylike.py:396: RuntimeWarning: divide by zero encountered in log\n",
      "  result = getattr(ufunc, method)(*inputs, **kwargs)\n"
     ]
    },
    {
     "name": "stdout",
     "output_type": "stream",
     "text": [
      "Optimization terminated successfully.\n",
      "         Current function value: 0.424430\n",
      "         Iterations 7\n",
      "Optimization terminated successfully.\n",
      "         Current function value: 0.426131\n",
      "         Iterations 7\n"
     ]
    },
    {
     "name": "stderr",
     "output_type": "stream",
     "text": [
      "/home/codespace/.local/lib/python3.10/site-packages/pandas/core/arraylike.py:396: RuntimeWarning: divide by zero encountered in log\n",
      "  result = getattr(ufunc, method)(*inputs, **kwargs)\n",
      "/home/codespace/.local/lib/python3.10/site-packages/pandas/core/arraylike.py:396: RuntimeWarning: divide by zero encountered in log\n",
      "  result = getattr(ufunc, method)(*inputs, **kwargs)\n",
      "/home/codespace/.local/lib/python3.10/site-packages/pandas/core/arraylike.py:396: RuntimeWarning: divide by zero encountered in log\n",
      "  result = getattr(ufunc, method)(*inputs, **kwargs)\n",
      "/home/codespace/.local/lib/python3.10/site-packages/pandas/core/arraylike.py:396: RuntimeWarning: divide by zero encountered in log\n",
      "  result = getattr(ufunc, method)(*inputs, **kwargs)\n"
     ]
    },
    {
     "name": "stdout",
     "output_type": "stream",
     "text": [
      "Optimization terminated successfully.\n",
      "         Current function value: 0.426850\n",
      "         Iterations 7\n",
      "Optimization terminated successfully.\n",
      "         Current function value: 0.118833\n",
      "         Iterations 8\n"
     ]
    },
    {
     "name": "stderr",
     "output_type": "stream",
     "text": [
      "/home/codespace/.local/lib/python3.10/site-packages/pandas/core/arraylike.py:396: RuntimeWarning: divide by zero encountered in log\n",
      "  result = getattr(ufunc, method)(*inputs, **kwargs)\n",
      "/home/codespace/.local/lib/python3.10/site-packages/pandas/core/arraylike.py:396: RuntimeWarning: divide by zero encountered in log\n",
      "  result = getattr(ufunc, method)(*inputs, **kwargs)\n",
      "/home/codespace/.local/lib/python3.10/site-packages/pandas/core/arraylike.py:396: RuntimeWarning: divide by zero encountered in log\n",
      "  result = getattr(ufunc, method)(*inputs, **kwargs)\n",
      "/home/codespace/.local/lib/python3.10/site-packages/pandas/core/arraylike.py:396: RuntimeWarning: divide by zero encountered in log\n",
      "  result = getattr(ufunc, method)(*inputs, **kwargs)\n"
     ]
    },
    {
     "name": "stdout",
     "output_type": "stream",
     "text": [
      "Optimization terminated successfully.\n",
      "         Current function value: 0.119568\n",
      "         Iterations 9\n",
      "Optimization terminated successfully.\n",
      "         Current function value: 0.119553\n",
      "         Iterations 9\n"
     ]
    },
    {
     "name": "stderr",
     "output_type": "stream",
     "text": [
      "/home/codespace/.local/lib/python3.10/site-packages/pandas/core/arraylike.py:396: RuntimeWarning: divide by zero encountered in log\n",
      "  result = getattr(ufunc, method)(*inputs, **kwargs)\n",
      "/home/codespace/.local/lib/python3.10/site-packages/pandas/core/arraylike.py:396: RuntimeWarning: divide by zero encountered in log\n",
      "  result = getattr(ufunc, method)(*inputs, **kwargs)\n",
      "/home/codespace/.local/lib/python3.10/site-packages/pandas/core/arraylike.py:396: RuntimeWarning: divide by zero encountered in log\n",
      "  result = getattr(ufunc, method)(*inputs, **kwargs)\n",
      "/home/codespace/.local/lib/python3.10/site-packages/pandas/core/arraylike.py:396: RuntimeWarning: divide by zero encountered in log\n",
      "  result = getattr(ufunc, method)(*inputs, **kwargs)\n"
     ]
    },
    {
     "name": "stdout",
     "output_type": "stream",
     "text": [
      "Optimization terminated successfully.\n",
      "         Current function value: 0.118634\n",
      "         Iterations 9\n",
      "Optimization terminated successfully.\n",
      "         Current function value: 0.393896\n",
      "         Iterations 8\n"
     ]
    },
    {
     "name": "stderr",
     "output_type": "stream",
     "text": [
      "/home/codespace/.local/lib/python3.10/site-packages/pandas/core/arraylike.py:396: RuntimeWarning: divide by zero encountered in log\n",
      "  result = getattr(ufunc, method)(*inputs, **kwargs)\n",
      "/home/codespace/.local/lib/python3.10/site-packages/pandas/core/arraylike.py:396: RuntimeWarning: divide by zero encountered in log\n",
      "  result = getattr(ufunc, method)(*inputs, **kwargs)\n",
      "/home/codespace/.local/lib/python3.10/site-packages/pandas/core/arraylike.py:396: RuntimeWarning: divide by zero encountered in log\n",
      "  result = getattr(ufunc, method)(*inputs, **kwargs)\n",
      "/home/codespace/.local/lib/python3.10/site-packages/pandas/core/arraylike.py:396: RuntimeWarning: divide by zero encountered in log\n",
      "  result = getattr(ufunc, method)(*inputs, **kwargs)\n"
     ]
    },
    {
     "name": "stdout",
     "output_type": "stream",
     "text": [
      "Optimization terminated successfully.\n",
      "         Current function value: 0.397819\n",
      "         Iterations 9\n",
      "Optimization terminated successfully.\n",
      "         Current function value: 0.295689\n",
      "         Iterations 9\n"
     ]
    },
    {
     "name": "stderr",
     "output_type": "stream",
     "text": [
      "/home/codespace/.local/lib/python3.10/site-packages/pandas/core/arraylike.py:396: RuntimeWarning: divide by zero encountered in log\n",
      "  result = getattr(ufunc, method)(*inputs, **kwargs)\n",
      "/home/codespace/.local/lib/python3.10/site-packages/pandas/core/arraylike.py:396: RuntimeWarning: divide by zero encountered in log\n",
      "  result = getattr(ufunc, method)(*inputs, **kwargs)\n",
      "/home/codespace/.local/lib/python3.10/site-packages/pandas/core/arraylike.py:396: RuntimeWarning: divide by zero encountered in log\n",
      "  result = getattr(ufunc, method)(*inputs, **kwargs)\n",
      "/home/codespace/.local/lib/python3.10/site-packages/pandas/core/arraylike.py:396: RuntimeWarning: divide by zero encountered in log\n",
      "  result = getattr(ufunc, method)(*inputs, **kwargs)\n"
     ]
    },
    {
     "name": "stdout",
     "output_type": "stream",
     "text": [
      "Optimization terminated successfully.\n",
      "         Current function value: 0.296031\n",
      "         Iterations 10\n",
      "Optimization terminated successfully.\n",
      "         Current function value: 0.295874\n",
      "         Iterations 10\n"
     ]
    },
    {
     "name": "stderr",
     "output_type": "stream",
     "text": [
      "/home/codespace/.local/lib/python3.10/site-packages/pandas/core/arraylike.py:396: RuntimeWarning: divide by zero encountered in log\n",
      "  result = getattr(ufunc, method)(*inputs, **kwargs)\n",
      "/home/codespace/.local/lib/python3.10/site-packages/pandas/core/arraylike.py:396: RuntimeWarning: divide by zero encountered in log\n",
      "  result = getattr(ufunc, method)(*inputs, **kwargs)\n",
      "/home/codespace/.local/lib/python3.10/site-packages/pandas/core/arraylike.py:396: RuntimeWarning: divide by zero encountered in log\n",
      "  result = getattr(ufunc, method)(*inputs, **kwargs)\n",
      "/home/codespace/.local/lib/python3.10/site-packages/pandas/core/arraylike.py:396: RuntimeWarning: divide by zero encountered in log\n",
      "  result = getattr(ufunc, method)(*inputs, **kwargs)\n"
     ]
    },
    {
     "name": "stdout",
     "output_type": "stream",
     "text": [
      "Optimization terminated successfully.\n",
      "         Current function value: 0.296212\n",
      "         Iterations 10\n",
      "Optimization terminated successfully.\n",
      "         Current function value: 0.299794\n",
      "         Iterations 11\n"
     ]
    },
    {
     "name": "stderr",
     "output_type": "stream",
     "text": [
      "/home/codespace/.local/lib/python3.10/site-packages/pandas/core/arraylike.py:396: RuntimeWarning: divide by zero encountered in log\n",
      "  result = getattr(ufunc, method)(*inputs, **kwargs)\n",
      "/home/codespace/.local/lib/python3.10/site-packages/pandas/core/arraylike.py:396: RuntimeWarning: divide by zero encountered in log\n",
      "  result = getattr(ufunc, method)(*inputs, **kwargs)\n",
      "/home/codespace/.local/lib/python3.10/site-packages/pandas/core/arraylike.py:396: RuntimeWarning: divide by zero encountered in log\n",
      "  result = getattr(ufunc, method)(*inputs, **kwargs)\n",
      "/home/codespace/.local/lib/python3.10/site-packages/pandas/core/arraylike.py:396: RuntimeWarning: divide by zero encountered in log\n",
      "  result = getattr(ufunc, method)(*inputs, **kwargs)\n"
     ]
    },
    {
     "name": "stdout",
     "output_type": "stream",
     "text": [
      "Optimization terminated successfully.\n",
      "         Current function value: 0.299981\n",
      "         Iterations 10\n",
      "Optimization terminated successfully.\n",
      "         Current function value: 0.161856\n",
      "         Iterations 10\n"
     ]
    },
    {
     "name": "stderr",
     "output_type": "stream",
     "text": [
      "/home/codespace/.local/lib/python3.10/site-packages/pandas/core/arraylike.py:396: RuntimeWarning: divide by zero encountered in log\n",
      "  result = getattr(ufunc, method)(*inputs, **kwargs)\n",
      "/home/codespace/.local/lib/python3.10/site-packages/pandas/core/arraylike.py:396: RuntimeWarning: divide by zero encountered in log\n",
      "  result = getattr(ufunc, method)(*inputs, **kwargs)\n",
      "/home/codespace/.local/lib/python3.10/site-packages/pandas/core/arraylike.py:396: RuntimeWarning: divide by zero encountered in log\n",
      "  result = getattr(ufunc, method)(*inputs, **kwargs)\n",
      "/home/codespace/.local/lib/python3.10/site-packages/pandas/core/arraylike.py:396: RuntimeWarning: divide by zero encountered in log\n",
      "  result = getattr(ufunc, method)(*inputs, **kwargs)\n"
     ]
    },
    {
     "name": "stdout",
     "output_type": "stream",
     "text": [
      "Optimization terminated successfully.\n",
      "         Current function value: 0.160229\n",
      "         Iterations 14\n",
      "Optimization terminated successfully.\n",
      "         Current function value: 0.159864\n",
      "         Iterations 34\n"
     ]
    },
    {
     "name": "stderr",
     "output_type": "stream",
     "text": [
      "/home/codespace/.local/lib/python3.10/site-packages/pandas/core/arraylike.py:396: RuntimeWarning: divide by zero encountered in log\n",
      "  result = getattr(ufunc, method)(*inputs, **kwargs)\n",
      "/home/codespace/.local/lib/python3.10/site-packages/pandas/core/arraylike.py:396: RuntimeWarning: divide by zero encountered in log\n",
      "  result = getattr(ufunc, method)(*inputs, **kwargs)\n",
      "/home/codespace/.local/lib/python3.10/site-packages/pandas/core/arraylike.py:396: RuntimeWarning: divide by zero encountered in log\n",
      "  result = getattr(ufunc, method)(*inputs, **kwargs)\n",
      "/home/codespace/.local/lib/python3.10/site-packages/pandas/core/arraylike.py:396: RuntimeWarning: divide by zero encountered in log\n",
      "  result = getattr(ufunc, method)(*inputs, **kwargs)\n"
     ]
    },
    {
     "name": "stdout",
     "output_type": "stream",
     "text": [
      "Optimization terminated successfully.\n",
      "         Current function value: 0.160996\n",
      "         Iterations 17\n",
      "Optimization terminated successfully.\n",
      "         Current function value: 0.154448\n",
      "         Iterations 11\n"
     ]
    },
    {
     "name": "stderr",
     "output_type": "stream",
     "text": [
      "/home/codespace/.local/lib/python3.10/site-packages/pandas/core/arraylike.py:396: RuntimeWarning: divide by zero encountered in log\n",
      "  result = getattr(ufunc, method)(*inputs, **kwargs)\n",
      "/home/codespace/.local/lib/python3.10/site-packages/pandas/core/arraylike.py:396: RuntimeWarning: divide by zero encountered in log\n",
      "  result = getattr(ufunc, method)(*inputs, **kwargs)\n",
      "/home/codespace/.local/lib/python3.10/site-packages/pandas/core/arraylike.py:396: RuntimeWarning: divide by zero encountered in log\n",
      "  result = getattr(ufunc, method)(*inputs, **kwargs)\n",
      "/home/codespace/.local/lib/python3.10/site-packages/pandas/core/arraylike.py:396: RuntimeWarning: divide by zero encountered in log\n",
      "  result = getattr(ufunc, method)(*inputs, **kwargs)\n"
     ]
    },
    {
     "name": "stdout",
     "output_type": "stream",
     "text": [
      "Optimization terminated successfully.\n",
      "         Current function value: 0.151097\n",
      "         Iterations 11\n",
      "Optimization terminated successfully.\n",
      "         Current function value: 0.175812\n",
      "         Iterations 11\n"
     ]
    },
    {
     "name": "stderr",
     "output_type": "stream",
     "text": [
      "/home/codespace/.local/lib/python3.10/site-packages/pandas/core/arraylike.py:396: RuntimeWarning: divide by zero encountered in log\n",
      "  result = getattr(ufunc, method)(*inputs, **kwargs)\n",
      "/home/codespace/.local/lib/python3.10/site-packages/pandas/core/arraylike.py:396: RuntimeWarning: divide by zero encountered in log\n",
      "  result = getattr(ufunc, method)(*inputs, **kwargs)\n",
      "/home/codespace/.local/lib/python3.10/site-packages/pandas/core/arraylike.py:396: RuntimeWarning: divide by zero encountered in log\n",
      "  result = getattr(ufunc, method)(*inputs, **kwargs)\n",
      "/home/codespace/.local/lib/python3.10/site-packages/pandas/core/arraylike.py:396: RuntimeWarning: divide by zero encountered in log\n",
      "  result = getattr(ufunc, method)(*inputs, **kwargs)\n"
     ]
    },
    {
     "name": "stdout",
     "output_type": "stream",
     "text": [
      "Optimization terminated successfully.\n",
      "         Current function value: 0.174440\n",
      "         Iterations 12\n",
      "Optimization terminated successfully.\n",
      "         Current function value: 0.174107\n",
      "         Iterations 9\n"
     ]
    },
    {
     "name": "stderr",
     "output_type": "stream",
     "text": [
      "/home/codespace/.local/lib/python3.10/site-packages/pandas/core/arraylike.py:396: RuntimeWarning: divide by zero encountered in log\n",
      "  result = getattr(ufunc, method)(*inputs, **kwargs)\n",
      "/home/codespace/.local/lib/python3.10/site-packages/pandas/core/arraylike.py:396: RuntimeWarning: divide by zero encountered in log\n",
      "  result = getattr(ufunc, method)(*inputs, **kwargs)\n",
      "/home/codespace/.local/lib/python3.10/site-packages/pandas/core/arraylike.py:396: RuntimeWarning: divide by zero encountered in log\n",
      "  result = getattr(ufunc, method)(*inputs, **kwargs)\n",
      "/home/codespace/.local/lib/python3.10/site-packages/pandas/core/arraylike.py:396: RuntimeWarning: divide by zero encountered in log\n",
      "  result = getattr(ufunc, method)(*inputs, **kwargs)\n"
     ]
    },
    {
     "name": "stdout",
     "output_type": "stream",
     "text": [
      "Optimization terminated successfully.\n",
      "         Current function value: 0.173610\n",
      "         Iterations 9\n",
      "Optimization terminated successfully.\n",
      "         Current function value: 0.173700\n",
      "         Iterations 9\n"
     ]
    },
    {
     "name": "stderr",
     "output_type": "stream",
     "text": [
      "/home/codespace/.local/lib/python3.10/site-packages/pandas/core/arraylike.py:396: RuntimeWarning: divide by zero encountered in log\n",
      "  result = getattr(ufunc, method)(*inputs, **kwargs)\n",
      "/home/codespace/.local/lib/python3.10/site-packages/pandas/core/arraylike.py:396: RuntimeWarning: divide by zero encountered in log\n",
      "  result = getattr(ufunc, method)(*inputs, **kwargs)\n",
      "/home/codespace/.local/lib/python3.10/site-packages/pandas/core/arraylike.py:396: RuntimeWarning: divide by zero encountered in log\n",
      "  result = getattr(ufunc, method)(*inputs, **kwargs)\n",
      "/home/codespace/.local/lib/python3.10/site-packages/pandas/core/arraylike.py:396: RuntimeWarning: divide by zero encountered in log\n",
      "  result = getattr(ufunc, method)(*inputs, **kwargs)\n"
     ]
    },
    {
     "name": "stdout",
     "output_type": "stream",
     "text": [
      "Optimization terminated successfully.\n",
      "         Current function value: 0.173919\n",
      "         Iterations 9\n",
      "Optimization terminated successfully.\n",
      "         Current function value: 0.194957\n",
      "         Iterations 8\n"
     ]
    },
    {
     "name": "stderr",
     "output_type": "stream",
     "text": [
      "/home/codespace/.local/lib/python3.10/site-packages/pandas/core/arraylike.py:396: RuntimeWarning: divide by zero encountered in log\n",
      "  result = getattr(ufunc, method)(*inputs, **kwargs)\n",
      "/home/codespace/.local/lib/python3.10/site-packages/pandas/core/arraylike.py:396: RuntimeWarning: divide by zero encountered in log\n",
      "  result = getattr(ufunc, method)(*inputs, **kwargs)\n",
      "/home/codespace/.local/lib/python3.10/site-packages/pandas/core/arraylike.py:396: RuntimeWarning: divide by zero encountered in log\n",
      "  result = getattr(ufunc, method)(*inputs, **kwargs)\n",
      "/home/codespace/.local/lib/python3.10/site-packages/pandas/core/arraylike.py:396: RuntimeWarning: divide by zero encountered in log\n",
      "  result = getattr(ufunc, method)(*inputs, **kwargs)\n"
     ]
    },
    {
     "name": "stdout",
     "output_type": "stream",
     "text": [
      "Optimization terminated successfully.\n",
      "         Current function value: 0.195292\n",
      "         Iterations 8\n",
      "Optimization terminated successfully.\n",
      "         Current function value: 0.195545\n",
      "         Iterations 9\n"
     ]
    },
    {
     "name": "stderr",
     "output_type": "stream",
     "text": [
      "/home/codespace/.local/lib/python3.10/site-packages/pandas/core/arraylike.py:396: RuntimeWarning: divide by zero encountered in log\n",
      "  result = getattr(ufunc, method)(*inputs, **kwargs)\n",
      "/home/codespace/.local/lib/python3.10/site-packages/pandas/core/arraylike.py:396: RuntimeWarning: divide by zero encountered in log\n",
      "  result = getattr(ufunc, method)(*inputs, **kwargs)\n"
     ]
    },
    {
     "name": "stdout",
     "output_type": "stream",
     "text": [
      "Optimization terminated successfully.\n",
      "         Current function value: 0.195072\n",
      "         Iterations 9\n"
     ]
    },
    {
     "name": "stderr",
     "output_type": "stream",
     "text": [
      "/home/codespace/.local/lib/python3.10/site-packages/pandas/core/arraylike.py:396: RuntimeWarning: divide by zero encountered in log\n",
      "  result = getattr(ufunc, method)(*inputs, **kwargs)\n",
      "/home/codespace/.local/lib/python3.10/site-packages/pandas/core/arraylike.py:396: RuntimeWarning: divide by zero encountered in log\n",
      "  result = getattr(ufunc, method)(*inputs, **kwargs)\n",
      "/home/codespace/.local/lib/python3.10/site-packages/pandas/core/arraylike.py:396: RuntimeWarning: divide by zero encountered in log\n",
      "  result = getattr(ufunc, method)(*inputs, **kwargs)\n",
      "/home/codespace/.local/lib/python3.10/site-packages/pandas/core/arraylike.py:396: RuntimeWarning: divide by zero encountered in log\n",
      "  result = getattr(ufunc, method)(*inputs, **kwargs)\n"
     ]
    },
    {
     "name": "stdout",
     "output_type": "stream",
     "text": [
      "Optimization terminated successfully.\n",
      "         Current function value: 0.193088\n",
      "         Iterations 8\n",
      "Optimization terminated successfully.\n",
      "         Current function value: 0.188920\n",
      "         Iterations 8\n",
      "Optimization terminated successfully.\n",
      "         Current function value: 0.273424\n",
      "         Iterations 7\n"
     ]
    },
    {
     "name": "stderr",
     "output_type": "stream",
     "text": [
      "/home/codespace/.local/lib/python3.10/site-packages/pandas/core/arraylike.py:396: RuntimeWarning: divide by zero encountered in log\n",
      "  result = getattr(ufunc, method)(*inputs, **kwargs)\n",
      "/home/codespace/.local/lib/python3.10/site-packages/pandas/core/arraylike.py:396: RuntimeWarning: divide by zero encountered in log\n",
      "  result = getattr(ufunc, method)(*inputs, **kwargs)\n",
      "/home/codespace/.local/lib/python3.10/site-packages/pandas/core/arraylike.py:396: RuntimeWarning: divide by zero encountered in log\n",
      "  result = getattr(ufunc, method)(*inputs, **kwargs)\n",
      "/home/codespace/.local/lib/python3.10/site-packages/pandas/core/arraylike.py:396: RuntimeWarning: divide by zero encountered in log\n",
      "  result = getattr(ufunc, method)(*inputs, **kwargs)\n"
     ]
    },
    {
     "name": "stdout",
     "output_type": "stream",
     "text": [
      "Optimization terminated successfully.\n",
      "         Current function value: 0.272597\n",
      "         Iterations 8\n"
     ]
    },
    {
     "name": "stderr",
     "output_type": "stream",
     "text": [
      "/home/codespace/.local/lib/python3.10/site-packages/pandas/core/arraylike.py:396: RuntimeWarning: divide by zero encountered in log\n",
      "  result = getattr(ufunc, method)(*inputs, **kwargs)\n",
      "/home/codespace/.local/lib/python3.10/site-packages/pandas/core/arraylike.py:396: RuntimeWarning: divide by zero encountered in log\n",
      "  result = getattr(ufunc, method)(*inputs, **kwargs)\n",
      "/home/codespace/.local/lib/python3.10/site-packages/pandas/core/arraylike.py:396: RuntimeWarning: divide by zero encountered in log\n",
      "  result = getattr(ufunc, method)(*inputs, **kwargs)\n",
      "/home/codespace/.local/lib/python3.10/site-packages/pandas/core/arraylike.py:396: RuntimeWarning: divide by zero encountered in log\n",
      "  result = getattr(ufunc, method)(*inputs, **kwargs)\n"
     ]
    },
    {
     "name": "stdout",
     "output_type": "stream",
     "text": [
      "Optimization terminated successfully.\n",
      "         Current function value: 0.269492\n",
      "         Iterations 8\n",
      "Optimization terminated successfully.\n",
      "         Current function value: 0.270931\n",
      "         Iterations 9\n"
     ]
    },
    {
     "name": "stderr",
     "output_type": "stream",
     "text": [
      "/home/codespace/.local/lib/python3.10/site-packages/pandas/core/arraylike.py:396: RuntimeWarning: divide by zero encountered in log\n",
      "  result = getattr(ufunc, method)(*inputs, **kwargs)\n",
      "/home/codespace/.local/lib/python3.10/site-packages/pandas/core/arraylike.py:396: RuntimeWarning: divide by zero encountered in log\n",
      "  result = getattr(ufunc, method)(*inputs, **kwargs)\n"
     ]
    },
    {
     "name": "stdout",
     "output_type": "stream",
     "text": [
      "Optimization terminated successfully.\n",
      "         Current function value: 0.273997\n",
      "         Iterations 8\n"
     ]
    },
    {
     "name": "stderr",
     "output_type": "stream",
     "text": [
      "/home/codespace/.local/lib/python3.10/site-packages/pandas/core/arraylike.py:396: RuntimeWarning: divide by zero encountered in log\n",
      "  result = getattr(ufunc, method)(*inputs, **kwargs)\n",
      "/home/codespace/.local/lib/python3.10/site-packages/pandas/core/arraylike.py:396: RuntimeWarning: divide by zero encountered in log\n",
      "  result = getattr(ufunc, method)(*inputs, **kwargs)\n",
      "/home/codespace/.local/lib/python3.10/site-packages/pandas/core/arraylike.py:396: RuntimeWarning: divide by zero encountered in log\n",
      "  result = getattr(ufunc, method)(*inputs, **kwargs)\n"
     ]
    },
    {
     "name": "stdout",
     "output_type": "stream",
     "text": [
      "Optimization terminated successfully.\n",
      "         Current function value: 0.275343\n",
      "         Iterations 7\n"
     ]
    },
    {
     "name": "stderr",
     "output_type": "stream",
     "text": [
      "/home/codespace/.local/lib/python3.10/site-packages/pandas/core/arraylike.py:396: RuntimeWarning: divide by zero encountered in log\n",
      "  result = getattr(ufunc, method)(*inputs, **kwargs)\n",
      "/home/codespace/.local/lib/python3.10/site-packages/pandas/core/arraylike.py:396: RuntimeWarning: divide by zero encountered in log\n",
      "  result = getattr(ufunc, method)(*inputs, **kwargs)\n"
     ]
    },
    {
     "name": "stdout",
     "output_type": "stream",
     "text": [
      "Optimization terminated successfully.\n",
      "         Current function value: 0.048394\n",
      "         Iterations 9\n",
      "Optimization terminated successfully.\n",
      "         Current function value: 0.048505\n",
      "         Iterations 10\n"
     ]
    },
    {
     "name": "stderr",
     "output_type": "stream",
     "text": [
      "/home/codespace/.local/lib/python3.10/site-packages/pandas/core/arraylike.py:396: RuntimeWarning: divide by zero encountered in log\n",
      "  result = getattr(ufunc, method)(*inputs, **kwargs)\n",
      "/home/codespace/.local/lib/python3.10/site-packages/pandas/core/arraylike.py:396: RuntimeWarning: divide by zero encountered in log\n",
      "  result = getattr(ufunc, method)(*inputs, **kwargs)\n",
      "/home/codespace/.local/lib/python3.10/site-packages/pandas/core/arraylike.py:396: RuntimeWarning: divide by zero encountered in log\n",
      "  result = getattr(ufunc, method)(*inputs, **kwargs)\n",
      "/home/codespace/.local/lib/python3.10/site-packages/pandas/core/arraylike.py:396: RuntimeWarning: divide by zero encountered in log\n",
      "  result = getattr(ufunc, method)(*inputs, **kwargs)\n",
      "/home/codespace/.local/lib/python3.10/site-packages/pandas/core/arraylike.py:396: RuntimeWarning: divide by zero encountered in log\n",
      "  result = getattr(ufunc, method)(*inputs, **kwargs)\n"
     ]
    },
    {
     "name": "stdout",
     "output_type": "stream",
     "text": [
      "Optimization terminated successfully.\n",
      "         Current function value: 0.048189\n",
      "         Iterations 9\n",
      "Optimization terminated successfully.\n",
      "         Current function value: 0.022327\n",
      "         Iterations 12\n"
     ]
    },
    {
     "name": "stderr",
     "output_type": "stream",
     "text": [
      "/home/codespace/.local/lib/python3.10/site-packages/pandas/core/arraylike.py:396: RuntimeWarning: divide by zero encountered in log\n",
      "  result = getattr(ufunc, method)(*inputs, **kwargs)\n",
      "/home/codespace/.local/lib/python3.10/site-packages/pandas/core/arraylike.py:396: RuntimeWarning: divide by zero encountered in log\n",
      "  result = getattr(ufunc, method)(*inputs, **kwargs)\n",
      "/home/codespace/.local/lib/python3.10/site-packages/pandas/core/arraylike.py:396: RuntimeWarning: divide by zero encountered in log\n",
      "  result = getattr(ufunc, method)(*inputs, **kwargs)\n",
      "/home/codespace/.local/lib/python3.10/site-packages/pandas/core/arraylike.py:396: RuntimeWarning: divide by zero encountered in log\n",
      "  result = getattr(ufunc, method)(*inputs, **kwargs)\n"
     ]
    },
    {
     "name": "stdout",
     "output_type": "stream",
     "text": [
      "Optimization terminated successfully.\n",
      "         Current function value: 0.123405\n",
      "         Iterations 8\n",
      "Optimization terminated successfully.\n",
      "         Current function value: 0.213720\n",
      "         Iterations 7\n"
     ]
    },
    {
     "name": "stderr",
     "output_type": "stream",
     "text": [
      "/home/codespace/.local/lib/python3.10/site-packages/pandas/core/arraylike.py:396: RuntimeWarning: divide by zero encountered in log\n",
      "  result = getattr(ufunc, method)(*inputs, **kwargs)\n",
      "/home/codespace/.local/lib/python3.10/site-packages/pandas/core/arraylike.py:396: RuntimeWarning: divide by zero encountered in log\n",
      "  result = getattr(ufunc, method)(*inputs, **kwargs)\n",
      "/home/codespace/.local/lib/python3.10/site-packages/pandas/core/arraylike.py:396: RuntimeWarning: divide by zero encountered in log\n",
      "  result = getattr(ufunc, method)(*inputs, **kwargs)\n",
      "/home/codespace/.local/lib/python3.10/site-packages/pandas/core/arraylike.py:396: RuntimeWarning: divide by zero encountered in log\n",
      "  result = getattr(ufunc, method)(*inputs, **kwargs)\n"
     ]
    },
    {
     "name": "stdout",
     "output_type": "stream",
     "text": [
      "Optimization terminated successfully.\n",
      "         Current function value: 0.210756\n",
      "         Iterations 7\n",
      "Optimization terminated successfully.\n",
      "         Current function value: 0.209925\n",
      "         Iterations 7\n"
     ]
    },
    {
     "name": "stderr",
     "output_type": "stream",
     "text": [
      "/home/codespace/.local/lib/python3.10/site-packages/pandas/core/arraylike.py:396: RuntimeWarning: divide by zero encountered in log\n",
      "  result = getattr(ufunc, method)(*inputs, **kwargs)\n",
      "/home/codespace/.local/lib/python3.10/site-packages/pandas/core/arraylike.py:396: RuntimeWarning: divide by zero encountered in log\n",
      "  result = getattr(ufunc, method)(*inputs, **kwargs)\n",
      "/home/codespace/.local/lib/python3.10/site-packages/pandas/core/arraylike.py:396: RuntimeWarning: divide by zero encountered in log\n",
      "  result = getattr(ufunc, method)(*inputs, **kwargs)\n",
      "/home/codespace/.local/lib/python3.10/site-packages/pandas/core/arraylike.py:396: RuntimeWarning: divide by zero encountered in log\n",
      "  result = getattr(ufunc, method)(*inputs, **kwargs)\n"
     ]
    },
    {
     "name": "stdout",
     "output_type": "stream",
     "text": [
      "Optimization terminated successfully.\n",
      "         Current function value: 0.207323\n",
      "         Iterations 7\n",
      "Optimization terminated successfully.\n",
      "         Current function value: 0.188879\n",
      "         Iterations 7\n"
     ]
    },
    {
     "name": "stderr",
     "output_type": "stream",
     "text": [
      "/home/codespace/.local/lib/python3.10/site-packages/pandas/core/arraylike.py:396: RuntimeWarning: divide by zero encountered in log\n",
      "  result = getattr(ufunc, method)(*inputs, **kwargs)\n",
      "/home/codespace/.local/lib/python3.10/site-packages/pandas/core/arraylike.py:396: RuntimeWarning: divide by zero encountered in log\n",
      "  result = getattr(ufunc, method)(*inputs, **kwargs)\n",
      "/home/codespace/.local/lib/python3.10/site-packages/pandas/core/arraylike.py:396: RuntimeWarning: divide by zero encountered in log\n",
      "  result = getattr(ufunc, method)(*inputs, **kwargs)\n",
      "/home/codespace/.local/lib/python3.10/site-packages/pandas/core/arraylike.py:396: RuntimeWarning: divide by zero encountered in log\n",
      "  result = getattr(ufunc, method)(*inputs, **kwargs)\n"
     ]
    },
    {
     "name": "stdout",
     "output_type": "stream",
     "text": [
      "Optimization terminated successfully.\n",
      "         Current function value: 0.188766\n",
      "         Iterations 9\n",
      "Optimization terminated successfully.\n",
      "         Current function value: 0.189141\n",
      "         Iterations 7\n"
     ]
    },
    {
     "name": "stderr",
     "output_type": "stream",
     "text": [
      "/home/codespace/.local/lib/python3.10/site-packages/pandas/core/arraylike.py:396: RuntimeWarning: divide by zero encountered in log\n",
      "  result = getattr(ufunc, method)(*inputs, **kwargs)\n",
      "/home/codespace/.local/lib/python3.10/site-packages/pandas/core/arraylike.py:396: RuntimeWarning: divide by zero encountered in log\n",
      "  result = getattr(ufunc, method)(*inputs, **kwargs)\n",
      "/home/codespace/.local/lib/python3.10/site-packages/pandas/core/arraylike.py:396: RuntimeWarning: divide by zero encountered in log\n",
      "  result = getattr(ufunc, method)(*inputs, **kwargs)\n",
      "/home/codespace/.local/lib/python3.10/site-packages/pandas/core/arraylike.py:396: RuntimeWarning: divide by zero encountered in log\n",
      "  result = getattr(ufunc, method)(*inputs, **kwargs)\n"
     ]
    },
    {
     "name": "stdout",
     "output_type": "stream",
     "text": [
      "Optimization terminated successfully.\n",
      "         Current function value: 0.105486\n",
      "         Iterations 8\n",
      "Optimization terminated successfully.\n",
      "         Current function value: 0.104657\n",
      "         Iterations 8\n"
     ]
    },
    {
     "name": "stderr",
     "output_type": "stream",
     "text": [
      "/home/codespace/.local/lib/python3.10/site-packages/pandas/core/arraylike.py:396: RuntimeWarning: divide by zero encountered in log\n",
      "  result = getattr(ufunc, method)(*inputs, **kwargs)\n",
      "/home/codespace/.local/lib/python3.10/site-packages/pandas/core/arraylike.py:396: RuntimeWarning: divide by zero encountered in log\n",
      "  result = getattr(ufunc, method)(*inputs, **kwargs)\n",
      "/home/codespace/.local/lib/python3.10/site-packages/pandas/core/arraylike.py:396: RuntimeWarning: divide by zero encountered in log\n",
      "  result = getattr(ufunc, method)(*inputs, **kwargs)\n",
      "/home/codespace/.local/lib/python3.10/site-packages/pandas/core/arraylike.py:396: RuntimeWarning: divide by zero encountered in log\n",
      "  result = getattr(ufunc, method)(*inputs, **kwargs)\n"
     ]
    },
    {
     "name": "stdout",
     "output_type": "stream",
     "text": [
      "Optimization terminated successfully.\n",
      "         Current function value: 0.107068\n",
      "         Iterations 7\n",
      "Optimization terminated successfully.\n",
      "         Current function value: 0.105635\n",
      "         Iterations 8\n"
     ]
    },
    {
     "name": "stderr",
     "output_type": "stream",
     "text": [
      "/home/codespace/.local/lib/python3.10/site-packages/pandas/core/arraylike.py:396: RuntimeWarning: divide by zero encountered in log\n",
      "  result = getattr(ufunc, method)(*inputs, **kwargs)\n",
      "/home/codespace/.local/lib/python3.10/site-packages/pandas/core/arraylike.py:396: RuntimeWarning: divide by zero encountered in log\n",
      "  result = getattr(ufunc, method)(*inputs, **kwargs)\n",
      "/home/codespace/.local/lib/python3.10/site-packages/pandas/core/arraylike.py:396: RuntimeWarning: divide by zero encountered in log\n",
      "  result = getattr(ufunc, method)(*inputs, **kwargs)\n",
      "/home/codespace/.local/lib/python3.10/site-packages/pandas/core/arraylike.py:396: RuntimeWarning: divide by zero encountered in log\n",
      "  result = getattr(ufunc, method)(*inputs, **kwargs)\n"
     ]
    },
    {
     "name": "stdout",
     "output_type": "stream",
     "text": [
      "Optimization terminated successfully.\n",
      "         Current function value: 0.168864\n",
      "         Iterations 10\n",
      "Optimization terminated successfully.\n",
      "         Current function value: 0.167007\n",
      "         Iterations 9\n"
     ]
    },
    {
     "name": "stderr",
     "output_type": "stream",
     "text": [
      "/home/codespace/.local/lib/python3.10/site-packages/pandas/core/arraylike.py:396: RuntimeWarning: divide by zero encountered in log\n",
      "  result = getattr(ufunc, method)(*inputs, **kwargs)\n",
      "/home/codespace/.local/lib/python3.10/site-packages/pandas/core/arraylike.py:396: RuntimeWarning: divide by zero encountered in log\n",
      "  result = getattr(ufunc, method)(*inputs, **kwargs)\n",
      "/home/codespace/.local/lib/python3.10/site-packages/pandas/core/arraylike.py:396: RuntimeWarning: divide by zero encountered in log\n",
      "  result = getattr(ufunc, method)(*inputs, **kwargs)\n",
      "/home/codespace/.local/lib/python3.10/site-packages/pandas/core/arraylike.py:396: RuntimeWarning: divide by zero encountered in log\n",
      "  result = getattr(ufunc, method)(*inputs, **kwargs)\n"
     ]
    },
    {
     "name": "stdout",
     "output_type": "stream",
     "text": [
      "Optimization terminated successfully.\n",
      "         Current function value: 0.150263\n",
      "         Iterations 8\n",
      "Optimization terminated successfully.\n",
      "         Current function value: 0.150245\n",
      "         Iterations 8\n"
     ]
    },
    {
     "name": "stderr",
     "output_type": "stream",
     "text": [
      "/home/codespace/.local/lib/python3.10/site-packages/pandas/core/arraylike.py:396: RuntimeWarning: divide by zero encountered in log\n",
      "  result = getattr(ufunc, method)(*inputs, **kwargs)\n",
      "/home/codespace/.local/lib/python3.10/site-packages/pandas/core/arraylike.py:396: RuntimeWarning: divide by zero encountered in log\n",
      "  result = getattr(ufunc, method)(*inputs, **kwargs)\n",
      "/home/codespace/.local/lib/python3.10/site-packages/pandas/core/arraylike.py:396: RuntimeWarning: divide by zero encountered in log\n",
      "  result = getattr(ufunc, method)(*inputs, **kwargs)\n",
      "/home/codespace/.local/lib/python3.10/site-packages/pandas/core/arraylike.py:396: RuntimeWarning: divide by zero encountered in log\n",
      "  result = getattr(ufunc, method)(*inputs, **kwargs)\n"
     ]
    },
    {
     "name": "stdout",
     "output_type": "stream",
     "text": [
      "Optimization terminated successfully.\n",
      "         Current function value: 0.150034\n",
      "         Iterations 7\n",
      "Optimization terminated successfully.\n",
      "         Current function value: 0.121908\n",
      "         Iterations 7\n"
     ]
    },
    {
     "name": "stderr",
     "output_type": "stream",
     "text": [
      "/home/codespace/.local/lib/python3.10/site-packages/pandas/core/arraylike.py:396: RuntimeWarning: divide by zero encountered in log\n",
      "  result = getattr(ufunc, method)(*inputs, **kwargs)\n",
      "/home/codespace/.local/lib/python3.10/site-packages/pandas/core/arraylike.py:396: RuntimeWarning: divide by zero encountered in log\n",
      "  result = getattr(ufunc, method)(*inputs, **kwargs)\n",
      "/home/codespace/.local/lib/python3.10/site-packages/pandas/core/arraylike.py:396: RuntimeWarning: divide by zero encountered in log\n",
      "  result = getattr(ufunc, method)(*inputs, **kwargs)\n",
      "/home/codespace/.local/lib/python3.10/site-packages/pandas/core/arraylike.py:396: RuntimeWarning: divide by zero encountered in log\n",
      "  result = getattr(ufunc, method)(*inputs, **kwargs)\n"
     ]
    },
    {
     "name": "stdout",
     "output_type": "stream",
     "text": [
      "Optimization terminated successfully.\n",
      "         Current function value: 0.121234\n",
      "         Iterations 8\n",
      "Optimization terminated successfully.\n",
      "         Current function value: 0.121370\n",
      "         Iterations 8\n"
     ]
    },
    {
     "name": "stderr",
     "output_type": "stream",
     "text": [
      "/home/codespace/.local/lib/python3.10/site-packages/pandas/core/arraylike.py:396: RuntimeWarning: divide by zero encountered in log\n",
      "  result = getattr(ufunc, method)(*inputs, **kwargs)\n",
      "/home/codespace/.local/lib/python3.10/site-packages/pandas/core/arraylike.py:396: RuntimeWarning: divide by zero encountered in log\n",
      "  result = getattr(ufunc, method)(*inputs, **kwargs)\n"
     ]
    },
    {
     "name": "stdout",
     "output_type": "stream",
     "text": [
      "Optimization terminated successfully.\n",
      "         Current function value: 0.023778\n",
      "         Iterations 11\n"
     ]
    },
    {
     "name": "stderr",
     "output_type": "stream",
     "text": [
      "/home/codespace/.local/lib/python3.10/site-packages/pandas/core/arraylike.py:396: RuntimeWarning: divide by zero encountered in log\n",
      "  result = getattr(ufunc, method)(*inputs, **kwargs)\n",
      "/home/codespace/.local/lib/python3.10/site-packages/pandas/core/arraylike.py:396: RuntimeWarning: divide by zero encountered in log\n",
      "  result = getattr(ufunc, method)(*inputs, **kwargs)\n"
     ]
    },
    {
     "name": "stdout",
     "output_type": "stream",
     "text": [
      "Optimization terminated successfully.\n",
      "         Current function value: 0.023699\n",
      "         Iterations 13\n"
     ]
    },
    {
     "name": "stderr",
     "output_type": "stream",
     "text": [
      "/home/codespace/.local/lib/python3.10/site-packages/pandas/core/arraylike.py:396: RuntimeWarning: divide by zero encountered in log\n",
      "  result = getattr(ufunc, method)(*inputs, **kwargs)\n",
      "/home/codespace/.local/lib/python3.10/site-packages/pandas/core/arraylike.py:396: RuntimeWarning: divide by zero encountered in log\n",
      "  result = getattr(ufunc, method)(*inputs, **kwargs)\n",
      "/home/codespace/.local/lib/python3.10/site-packages/pandas/core/arraylike.py:396: RuntimeWarning: divide by zero encountered in log\n",
      "  result = getattr(ufunc, method)(*inputs, **kwargs)\n",
      "/home/codespace/.local/lib/python3.10/site-packages/pandas/core/arraylike.py:396: RuntimeWarning: divide by zero encountered in log\n",
      "  result = getattr(ufunc, method)(*inputs, **kwargs)\n"
     ]
    },
    {
     "name": "stdout",
     "output_type": "stream",
     "text": [
      "Optimization terminated successfully.\n",
      "         Current function value: 0.023500\n",
      "         Iterations 11\n",
      "Optimization terminated successfully.\n",
      "         Current function value: 0.100660\n",
      "         Iterations 8\n"
     ]
    },
    {
     "name": "stderr",
     "output_type": "stream",
     "text": [
      "/home/codespace/.local/lib/python3.10/site-packages/pandas/core/arraylike.py:396: RuntimeWarning: divide by zero encountered in log\n",
      "  result = getattr(ufunc, method)(*inputs, **kwargs)\n",
      "/home/codespace/.local/lib/python3.10/site-packages/pandas/core/arraylike.py:396: RuntimeWarning: divide by zero encountered in log\n",
      "  result = getattr(ufunc, method)(*inputs, **kwargs)\n"
     ]
    },
    {
     "name": "stdout",
     "output_type": "stream",
     "text": [
      "Optimization terminated successfully.\n",
      "         Current function value: 0.213851\n",
      "         Iterations 7\n"
     ]
    },
    {
     "name": "stderr",
     "output_type": "stream",
     "text": [
      "/home/codespace/.local/lib/python3.10/site-packages/pandas/core/arraylike.py:396: RuntimeWarning: divide by zero encountered in log\n",
      "  result = getattr(ufunc, method)(*inputs, **kwargs)\n",
      "/home/codespace/.local/lib/python3.10/site-packages/pandas/core/arraylike.py:396: RuntimeWarning: divide by zero encountered in log\n",
      "  result = getattr(ufunc, method)(*inputs, **kwargs)\n"
     ]
    },
    {
     "name": "stdout",
     "output_type": "stream",
     "text": [
      "Optimization terminated successfully.\n",
      "         Current function value: 0.213328\n",
      "         Iterations 7\n"
     ]
    },
    {
     "name": "stderr",
     "output_type": "stream",
     "text": [
      "/home/codespace/.local/lib/python3.10/site-packages/pandas/core/arraylike.py:396: RuntimeWarning: divide by zero encountered in log\n",
      "  result = getattr(ufunc, method)(*inputs, **kwargs)\n",
      "/home/codespace/.local/lib/python3.10/site-packages/pandas/core/arraylike.py:396: RuntimeWarning: divide by zero encountered in log\n",
      "  result = getattr(ufunc, method)(*inputs, **kwargs)\n"
     ]
    },
    {
     "name": "stdout",
     "output_type": "stream",
     "text": [
      "Optimization terminated successfully.\n",
      "         Current function value: 0.142305\n",
      "         Iterations 7\n"
     ]
    },
    {
     "name": "stderr",
     "output_type": "stream",
     "text": [
      "/home/codespace/.local/lib/python3.10/site-packages/pandas/core/arraylike.py:396: RuntimeWarning: divide by zero encountered in log\n",
      "  result = getattr(ufunc, method)(*inputs, **kwargs)\n",
      "/home/codespace/.local/lib/python3.10/site-packages/pandas/core/arraylike.py:396: RuntimeWarning: divide by zero encountered in log\n",
      "  result = getattr(ufunc, method)(*inputs, **kwargs)\n"
     ]
    },
    {
     "name": "stdout",
     "output_type": "stream",
     "text": [
      "Optimization terminated successfully.\n",
      "         Current function value: 0.144000\n",
      "         Iterations 7\n"
     ]
    },
    {
     "name": "stderr",
     "output_type": "stream",
     "text": [
      "/home/codespace/.local/lib/python3.10/site-packages/pandas/core/arraylike.py:396: RuntimeWarning: divide by zero encountered in log\n",
      "  result = getattr(ufunc, method)(*inputs, **kwargs)\n",
      "/home/codespace/.local/lib/python3.10/site-packages/pandas/core/arraylike.py:396: RuntimeWarning: divide by zero encountered in log\n",
      "  result = getattr(ufunc, method)(*inputs, **kwargs)\n"
     ]
    },
    {
     "name": "stdout",
     "output_type": "stream",
     "text": [
      "Optimization terminated successfully.\n",
      "         Current function value: 0.144044\n",
      "         Iterations 7\n"
     ]
    },
    {
     "name": "stderr",
     "output_type": "stream",
     "text": [
      "/home/codespace/.local/lib/python3.10/site-packages/pandas/core/arraylike.py:396: RuntimeWarning: divide by zero encountered in log\n",
      "  result = getattr(ufunc, method)(*inputs, **kwargs)\n",
      "/home/codespace/.local/lib/python3.10/site-packages/pandas/core/arraylike.py:396: RuntimeWarning: divide by zero encountered in log\n",
      "  result = getattr(ufunc, method)(*inputs, **kwargs)\n"
     ]
    },
    {
     "name": "stdout",
     "output_type": "stream",
     "text": [
      "Optimization terminated successfully.\n",
      "         Current function value: 0.092933\n",
      "         Iterations 8\n"
     ]
    },
    {
     "name": "stderr",
     "output_type": "stream",
     "text": [
      "/home/codespace/.local/lib/python3.10/site-packages/pandas/core/arraylike.py:396: RuntimeWarning: divide by zero encountered in log\n",
      "  result = getattr(ufunc, method)(*inputs, **kwargs)\n",
      "/home/codespace/.local/lib/python3.10/site-packages/pandas/core/arraylike.py:396: RuntimeWarning: divide by zero encountered in log\n",
      "  result = getattr(ufunc, method)(*inputs, **kwargs)\n"
     ]
    },
    {
     "name": "stdout",
     "output_type": "stream",
     "text": [
      "Optimization terminated successfully.\n",
      "         Current function value: 0.097695\n",
      "         Iterations 7\n"
     ]
    },
    {
     "name": "stderr",
     "output_type": "stream",
     "text": [
      "/home/codespace/.local/lib/python3.10/site-packages/pandas/core/arraylike.py:396: RuntimeWarning: divide by zero encountered in log\n",
      "  result = getattr(ufunc, method)(*inputs, **kwargs)\n",
      "/home/codespace/.local/lib/python3.10/site-packages/pandas/core/arraylike.py:396: RuntimeWarning: divide by zero encountered in log\n",
      "  result = getattr(ufunc, method)(*inputs, **kwargs)\n"
     ]
    },
    {
     "name": "stdout",
     "output_type": "stream",
     "text": [
      "Optimization terminated successfully.\n",
      "         Current function value: 0.097325\n",
      "         Iterations 8\n"
     ]
    },
    {
     "name": "stderr",
     "output_type": "stream",
     "text": [
      "/home/codespace/.local/lib/python3.10/site-packages/pandas/core/arraylike.py:396: RuntimeWarning: divide by zero encountered in log\n",
      "  result = getattr(ufunc, method)(*inputs, **kwargs)\n",
      "/home/codespace/.local/lib/python3.10/site-packages/pandas/core/arraylike.py:396: RuntimeWarning: divide by zero encountered in log\n",
      "  result = getattr(ufunc, method)(*inputs, **kwargs)\n"
     ]
    },
    {
     "name": "stdout",
     "output_type": "stream",
     "text": [
      "Optimization terminated successfully.\n",
      "         Current function value: 0.013337\n",
      "         Iterations 11\n"
     ]
    },
    {
     "name": "stderr",
     "output_type": "stream",
     "text": [
      "/home/codespace/.local/lib/python3.10/site-packages/pandas/core/arraylike.py:396: RuntimeWarning: divide by zero encountered in log\n",
      "  result = getattr(ufunc, method)(*inputs, **kwargs)\n",
      "/home/codespace/.local/lib/python3.10/site-packages/pandas/core/arraylike.py:396: RuntimeWarning: divide by zero encountered in log\n",
      "  result = getattr(ufunc, method)(*inputs, **kwargs)\n"
     ]
    },
    {
     "name": "stdout",
     "output_type": "stream",
     "text": [
      "Optimization terminated successfully.\n",
      "         Current function value: 0.013371\n",
      "         Iterations 12\n"
     ]
    },
    {
     "name": "stderr",
     "output_type": "stream",
     "text": [
      "/home/codespace/.local/lib/python3.10/site-packages/pandas/core/arraylike.py:396: RuntimeWarning: divide by zero encountered in log\n",
      "  result = getattr(ufunc, method)(*inputs, **kwargs)\n",
      "/home/codespace/.local/lib/python3.10/site-packages/pandas/core/arraylike.py:396: RuntimeWarning: divide by zero encountered in log\n",
      "  result = getattr(ufunc, method)(*inputs, **kwargs)\n"
     ]
    },
    {
     "name": "stdout",
     "output_type": "stream",
     "text": [
      "Optimization terminated successfully.\n",
      "         Current function value: 0.012980\n",
      "         Iterations 12\n"
     ]
    },
    {
     "name": "stderr",
     "output_type": "stream",
     "text": [
      "/home/codespace/.local/lib/python3.10/site-packages/pandas/core/arraylike.py:396: RuntimeWarning: divide by zero encountered in log\n",
      "  result = getattr(ufunc, method)(*inputs, **kwargs)\n",
      "/home/codespace/.local/lib/python3.10/site-packages/pandas/core/arraylike.py:396: RuntimeWarning: divide by zero encountered in log\n",
      "  result = getattr(ufunc, method)(*inputs, **kwargs)\n"
     ]
    },
    {
     "name": "stdout",
     "output_type": "stream",
     "text": [
      "Optimization terminated successfully.\n",
      "         Current function value: 0.012781\n",
      "         Iterations 11\n"
     ]
    },
    {
     "name": "stderr",
     "output_type": "stream",
     "text": [
      "/home/codespace/.local/lib/python3.10/site-packages/pandas/core/arraylike.py:396: RuntimeWarning: divide by zero encountered in log\n",
      "  result = getattr(ufunc, method)(*inputs, **kwargs)\n",
      "/home/codespace/.local/lib/python3.10/site-packages/pandas/core/arraylike.py:396: RuntimeWarning: divide by zero encountered in log\n",
      "  result = getattr(ufunc, method)(*inputs, **kwargs)\n"
     ]
    },
    {
     "name": "stdout",
     "output_type": "stream",
     "text": [
      "Optimization terminated successfully.\n",
      "         Current function value: 0.011817\n",
      "         Iterations 11\n"
     ]
    },
    {
     "name": "stderr",
     "output_type": "stream",
     "text": [
      "/home/codespace/.local/lib/python3.10/site-packages/pandas/core/arraylike.py:396: RuntimeWarning: divide by zero encountered in log\n",
      "  result = getattr(ufunc, method)(*inputs, **kwargs)\n",
      "/home/codespace/.local/lib/python3.10/site-packages/pandas/core/arraylike.py:396: RuntimeWarning: divide by zero encountered in log\n",
      "  result = getattr(ufunc, method)(*inputs, **kwargs)\n"
     ]
    },
    {
     "name": "stdout",
     "output_type": "stream",
     "text": [
      "Optimization terminated successfully.\n",
      "         Current function value: 0.011345\n",
      "         Iterations 13\n"
     ]
    },
    {
     "name": "stderr",
     "output_type": "stream",
     "text": [
      "/home/codespace/.local/lib/python3.10/site-packages/pandas/core/arraylike.py:396: RuntimeWarning: divide by zero encountered in log\n",
      "  result = getattr(ufunc, method)(*inputs, **kwargs)\n",
      "/home/codespace/.local/lib/python3.10/site-packages/pandas/core/arraylike.py:396: RuntimeWarning: divide by zero encountered in log\n",
      "  result = getattr(ufunc, method)(*inputs, **kwargs)\n"
     ]
    },
    {
     "name": "stdout",
     "output_type": "stream",
     "text": [
      "Optimization terminated successfully.\n",
      "         Current function value: 0.010835\n",
      "         Iterations 13\n"
     ]
    },
    {
     "name": "stderr",
     "output_type": "stream",
     "text": [
      "/home/codespace/.local/lib/python3.10/site-packages/pandas/core/arraylike.py:396: RuntimeWarning: divide by zero encountered in log\n",
      "  result = getattr(ufunc, method)(*inputs, **kwargs)\n",
      "/home/codespace/.local/lib/python3.10/site-packages/pandas/core/arraylike.py:396: RuntimeWarning: divide by zero encountered in log\n",
      "  result = getattr(ufunc, method)(*inputs, **kwargs)\n"
     ]
    },
    {
     "name": "stdout",
     "output_type": "stream",
     "text": [
      "Optimization terminated successfully.\n",
      "         Current function value: 0.012085\n",
      "         Iterations 13\n"
     ]
    },
    {
     "name": "stderr",
     "output_type": "stream",
     "text": [
      "/home/codespace/.local/lib/python3.10/site-packages/pandas/core/arraylike.py:396: RuntimeWarning: divide by zero encountered in log\n",
      "  result = getattr(ufunc, method)(*inputs, **kwargs)\n",
      "/home/codespace/.local/lib/python3.10/site-packages/pandas/core/arraylike.py:396: RuntimeWarning: divide by zero encountered in log\n",
      "  result = getattr(ufunc, method)(*inputs, **kwargs)\n"
     ]
    },
    {
     "name": "stdout",
     "output_type": "stream",
     "text": [
      "Optimization terminated successfully.\n",
      "         Current function value: 0.008397\n",
      "         Iterations 12\n"
     ]
    },
    {
     "name": "stderr",
     "output_type": "stream",
     "text": [
      "/home/codespace/.local/lib/python3.10/site-packages/pandas/core/arraylike.py:396: RuntimeWarning: divide by zero encountered in log\n",
      "  result = getattr(ufunc, method)(*inputs, **kwargs)\n",
      "/home/codespace/.local/lib/python3.10/site-packages/pandas/core/arraylike.py:396: RuntimeWarning: divide by zero encountered in log\n",
      "  result = getattr(ufunc, method)(*inputs, **kwargs)\n"
     ]
    },
    {
     "name": "stdout",
     "output_type": "stream",
     "text": [
      "Optimization terminated successfully.\n",
      "         Current function value: 0.008927\n",
      "         Iterations 11\n"
     ]
    },
    {
     "name": "stderr",
     "output_type": "stream",
     "text": [
      "/home/codespace/.local/lib/python3.10/site-packages/pandas/core/arraylike.py:396: RuntimeWarning: divide by zero encountered in log\n",
      "  result = getattr(ufunc, method)(*inputs, **kwargs)\n",
      "/home/codespace/.local/lib/python3.10/site-packages/pandas/core/arraylike.py:396: RuntimeWarning: divide by zero encountered in log\n",
      "  result = getattr(ufunc, method)(*inputs, **kwargs)\n"
     ]
    },
    {
     "name": "stdout",
     "output_type": "stream",
     "text": [
      "Optimization terminated successfully.\n",
      "         Current function value: 0.011400\n",
      "         Iterations 12\n"
     ]
    },
    {
     "name": "stderr",
     "output_type": "stream",
     "text": [
      "/home/codespace/.local/lib/python3.10/site-packages/pandas/core/arraylike.py:396: RuntimeWarning: divide by zero encountered in log\n",
      "  result = getattr(ufunc, method)(*inputs, **kwargs)\n",
      "/home/codespace/.local/lib/python3.10/site-packages/pandas/core/arraylike.py:396: RuntimeWarning: divide by zero encountered in log\n",
      "  result = getattr(ufunc, method)(*inputs, **kwargs)\n"
     ]
    },
    {
     "name": "stdout",
     "output_type": "stream",
     "text": [
      "Optimization terminated successfully.\n",
      "         Current function value: 0.011262\n",
      "         Iterations 12\n"
     ]
    },
    {
     "name": "stderr",
     "output_type": "stream",
     "text": [
      "/home/codespace/.local/lib/python3.10/site-packages/pandas/core/arraylike.py:396: RuntimeWarning: divide by zero encountered in log\n",
      "  result = getattr(ufunc, method)(*inputs, **kwargs)\n",
      "/home/codespace/.local/lib/python3.10/site-packages/pandas/core/arraylike.py:396: RuntimeWarning: divide by zero encountered in log\n",
      "  result = getattr(ufunc, method)(*inputs, **kwargs)\n"
     ]
    },
    {
     "name": "stdout",
     "output_type": "stream",
     "text": [
      "Optimization terminated successfully.\n",
      "         Current function value: 0.010641\n",
      "         Iterations 13\n"
     ]
    },
    {
     "name": "stderr",
     "output_type": "stream",
     "text": [
      "/home/codespace/.local/lib/python3.10/site-packages/pandas/core/arraylike.py:396: RuntimeWarning: divide by zero encountered in log\n",
      "  result = getattr(ufunc, method)(*inputs, **kwargs)\n",
      "/home/codespace/.local/lib/python3.10/site-packages/pandas/core/arraylike.py:396: RuntimeWarning: divide by zero encountered in log\n",
      "  result = getattr(ufunc, method)(*inputs, **kwargs)\n"
     ]
    },
    {
     "name": "stdout",
     "output_type": "stream",
     "text": [
      "Optimization terminated successfully.\n",
      "         Current function value: 0.010143\n",
      "         Iterations 13\n"
     ]
    },
    {
     "name": "stderr",
     "output_type": "stream",
     "text": [
      "/home/codespace/.local/lib/python3.10/site-packages/pandas/core/arraylike.py:396: RuntimeWarning: divide by zero encountered in log\n",
      "  result = getattr(ufunc, method)(*inputs, **kwargs)\n",
      "/home/codespace/.local/lib/python3.10/site-packages/pandas/core/arraylike.py:396: RuntimeWarning: divide by zero encountered in log\n",
      "  result = getattr(ufunc, method)(*inputs, **kwargs)\n"
     ]
    },
    {
     "name": "stdout",
     "output_type": "stream",
     "text": [
      "Optimization terminated successfully.\n",
      "         Current function value: 0.010141\n",
      "         Iterations 15\n"
     ]
    },
    {
     "name": "stderr",
     "output_type": "stream",
     "text": [
      "/home/codespace/.local/lib/python3.10/site-packages/pandas/core/arraylike.py:396: RuntimeWarning: divide by zero encountered in log\n",
      "  result = getattr(ufunc, method)(*inputs, **kwargs)\n",
      "/home/codespace/.local/lib/python3.10/site-packages/pandas/core/arraylike.py:396: RuntimeWarning: divide by zero encountered in log\n",
      "  result = getattr(ufunc, method)(*inputs, **kwargs)\n"
     ]
    },
    {
     "name": "stdout",
     "output_type": "stream",
     "text": [
      "Optimization terminated successfully.\n",
      "         Current function value: 0.011440\n",
      "         Iterations 12\n"
     ]
    },
    {
     "name": "stderr",
     "output_type": "stream",
     "text": [
      "/home/codespace/.local/lib/python3.10/site-packages/pandas/core/arraylike.py:396: RuntimeWarning: divide by zero encountered in log\n",
      "  result = getattr(ufunc, method)(*inputs, **kwargs)\n",
      "/home/codespace/.local/lib/python3.10/site-packages/pandas/core/arraylike.py:396: RuntimeWarning: divide by zero encountered in log\n",
      "  result = getattr(ufunc, method)(*inputs, **kwargs)\n"
     ]
    },
    {
     "name": "stdout",
     "output_type": "stream",
     "text": [
      "Optimization terminated successfully.\n",
      "         Current function value: 0.243653\n",
      "         Iterations 7\n"
     ]
    },
    {
     "name": "stderr",
     "output_type": "stream",
     "text": [
      "/home/codespace/.local/lib/python3.10/site-packages/pandas/core/arraylike.py:396: RuntimeWarning: divide by zero encountered in log\n",
      "  result = getattr(ufunc, method)(*inputs, **kwargs)\n"
     ]
    },
    {
     "name": "stdout",
     "output_type": "stream",
     "text": [
      "Optimization terminated successfully.\n",
      "         Current function value: 0.234296\n",
      "         Iterations 7\n"
     ]
    },
    {
     "name": "stderr",
     "output_type": "stream",
     "text": [
      "/home/codespace/.local/lib/python3.10/site-packages/pandas/core/arraylike.py:396: RuntimeWarning: divide by zero encountered in log\n",
      "  result = getattr(ufunc, method)(*inputs, **kwargs)\n"
     ]
    },
    {
     "name": "stdout",
     "output_type": "stream",
     "text": [
      "Optimization terminated successfully.\n",
      "         Current function value: 0.260175\n",
      "         Iterations 7\n"
     ]
    },
    {
     "name": "stderr",
     "output_type": "stream",
     "text": [
      "/home/codespace/.local/lib/python3.10/site-packages/pandas/core/arraylike.py:396: RuntimeWarning: divide by zero encountered in log\n",
      "  result = getattr(ufunc, method)(*inputs, **kwargs)\n"
     ]
    },
    {
     "name": "stdout",
     "output_type": "stream",
     "text": [
      "Optimization terminated successfully.\n",
      "         Current function value: 0.261488\n",
      "         Iterations 8\n"
     ]
    },
    {
     "name": "stderr",
     "output_type": "stream",
     "text": [
      "/home/codespace/.local/lib/python3.10/site-packages/pandas/core/arraylike.py:396: RuntimeWarning: divide by zero encountered in log\n",
      "  result = getattr(ufunc, method)(*inputs, **kwargs)\n",
      "/home/codespace/.local/lib/python3.10/site-packages/pandas/core/arraylike.py:396: RuntimeWarning: divide by zero encountered in log\n",
      "  result = getattr(ufunc, method)(*inputs, **kwargs)\n"
     ]
    },
    {
     "name": "stdout",
     "output_type": "stream",
     "text": [
      "Optimization terminated successfully.\n",
      "         Current function value: 0.209209\n",
      "         Iterations 7\n"
     ]
    },
    {
     "name": "stderr",
     "output_type": "stream",
     "text": [
      "/home/codespace/.local/lib/python3.10/site-packages/pandas/core/arraylike.py:396: RuntimeWarning: divide by zero encountered in log\n",
      "  result = getattr(ufunc, method)(*inputs, **kwargs)\n",
      "/home/codespace/.local/lib/python3.10/site-packages/pandas/core/arraylike.py:396: RuntimeWarning: divide by zero encountered in log\n",
      "  result = getattr(ufunc, method)(*inputs, **kwargs)\n"
     ]
    },
    {
     "name": "stdout",
     "output_type": "stream",
     "text": [
      "Optimization terminated successfully.\n",
      "         Current function value: 0.269809\n",
      "         Iterations 7\n"
     ]
    },
    {
     "name": "stderr",
     "output_type": "stream",
     "text": [
      "/home/codespace/.local/lib/python3.10/site-packages/pandas/core/arraylike.py:396: RuntimeWarning: divide by zero encountered in log\n",
      "  result = getattr(ufunc, method)(*inputs, **kwargs)\n",
      "/home/codespace/.local/lib/python3.10/site-packages/pandas/core/arraylike.py:396: RuntimeWarning: divide by zero encountered in log\n",
      "  result = getattr(ufunc, method)(*inputs, **kwargs)\n"
     ]
    },
    {
     "name": "stdout",
     "output_type": "stream",
     "text": [
      "Optimization terminated successfully.\n",
      "         Current function value: 0.269813\n",
      "         Iterations 7\n"
     ]
    },
    {
     "name": "stderr",
     "output_type": "stream",
     "text": [
      "/home/codespace/.local/lib/python3.10/site-packages/pandas/core/arraylike.py:396: RuntimeWarning: divide by zero encountered in log\n",
      "  result = getattr(ufunc, method)(*inputs, **kwargs)\n",
      "/home/codespace/.local/lib/python3.10/site-packages/pandas/core/arraylike.py:396: RuntimeWarning: divide by zero encountered in log\n",
      "  result = getattr(ufunc, method)(*inputs, **kwargs)\n"
     ]
    },
    {
     "name": "stdout",
     "output_type": "stream",
     "text": [
      "Optimization terminated successfully.\n",
      "         Current function value: 0.270451\n",
      "         Iterations 7\n"
     ]
    },
    {
     "name": "stderr",
     "output_type": "stream",
     "text": [
      "/home/codespace/.local/lib/python3.10/site-packages/pandas/core/arraylike.py:396: RuntimeWarning: divide by zero encountered in log\n",
      "  result = getattr(ufunc, method)(*inputs, **kwargs)\n",
      "/home/codespace/.local/lib/python3.10/site-packages/pandas/core/arraylike.py:396: RuntimeWarning: divide by zero encountered in log\n",
      "  result = getattr(ufunc, method)(*inputs, **kwargs)\n"
     ]
    },
    {
     "name": "stdout",
     "output_type": "stream",
     "text": [
      "Optimization terminated successfully.\n",
      "         Current function value: 0.258067\n",
      "         Iterations 7\n"
     ]
    },
    {
     "name": "stderr",
     "output_type": "stream",
     "text": [
      "/home/codespace/.local/lib/python3.10/site-packages/pandas/core/arraylike.py:396: RuntimeWarning: divide by zero encountered in log\n",
      "  result = getattr(ufunc, method)(*inputs, **kwargs)\n",
      "/home/codespace/.local/lib/python3.10/site-packages/pandas/core/arraylike.py:396: RuntimeWarning: divide by zero encountered in log\n",
      "  result = getattr(ufunc, method)(*inputs, **kwargs)\n"
     ]
    },
    {
     "name": "stdout",
     "output_type": "stream",
     "text": [
      "Optimization terminated successfully.\n",
      "         Current function value: 0.253552\n",
      "         Iterations 7\n"
     ]
    },
    {
     "name": "stderr",
     "output_type": "stream",
     "text": [
      "/home/codespace/.local/lib/python3.10/site-packages/pandas/core/arraylike.py:396: RuntimeWarning: divide by zero encountered in log\n",
      "  result = getattr(ufunc, method)(*inputs, **kwargs)\n",
      "/home/codespace/.local/lib/python3.10/site-packages/pandas/core/arraylike.py:396: RuntimeWarning: divide by zero encountered in log\n",
      "  result = getattr(ufunc, method)(*inputs, **kwargs)\n"
     ]
    },
    {
     "name": "stdout",
     "output_type": "stream",
     "text": [
      "Optimization terminated successfully.\n",
      "         Current function value: 0.056293\n",
      "         Iterations 9\n"
     ]
    },
    {
     "name": "stderr",
     "output_type": "stream",
     "text": [
      "/home/codespace/.local/lib/python3.10/site-packages/pandas/core/arraylike.py:396: RuntimeWarning: divide by zero encountered in log\n",
      "  result = getattr(ufunc, method)(*inputs, **kwargs)\n",
      "/home/codespace/.local/lib/python3.10/site-packages/pandas/core/arraylike.py:396: RuntimeWarning: divide by zero encountered in log\n",
      "  result = getattr(ufunc, method)(*inputs, **kwargs)\n"
     ]
    },
    {
     "name": "stdout",
     "output_type": "stream",
     "text": [
      "Optimization terminated successfully.\n",
      "         Current function value: 0.022337\n",
      "         Iterations 9\n"
     ]
    },
    {
     "name": "stderr",
     "output_type": "stream",
     "text": [
      "/home/codespace/.local/lib/python3.10/site-packages/pandas/core/arraylike.py:396: RuntimeWarning: divide by zero encountered in log\n",
      "  result = getattr(ufunc, method)(*inputs, **kwargs)\n",
      "/home/codespace/.local/lib/python3.10/site-packages/pandas/core/arraylike.py:396: RuntimeWarning: divide by zero encountered in log\n",
      "  result = getattr(ufunc, method)(*inputs, **kwargs)\n"
     ]
    },
    {
     "name": "stdout",
     "output_type": "stream",
     "text": [
      "Optimization terminated successfully.\n",
      "         Current function value: 0.021624\n",
      "         Iterations 9\n"
     ]
    },
    {
     "name": "stderr",
     "output_type": "stream",
     "text": [
      "/home/codespace/.local/lib/python3.10/site-packages/pandas/core/arraylike.py:396: RuntimeWarning: divide by zero encountered in log\n",
      "  result = getattr(ufunc, method)(*inputs, **kwargs)\n",
      "/home/codespace/.local/lib/python3.10/site-packages/pandas/core/arraylike.py:396: RuntimeWarning: divide by zero encountered in log\n",
      "  result = getattr(ufunc, method)(*inputs, **kwargs)\n"
     ]
    },
    {
     "name": "stdout",
     "output_type": "stream",
     "text": [
      "Optimization terminated successfully.\n",
      "         Current function value: 0.020725\n",
      "         Iterations 9\n"
     ]
    },
    {
     "name": "stderr",
     "output_type": "stream",
     "text": [
      "/home/codespace/.local/lib/python3.10/site-packages/pandas/core/arraylike.py:396: RuntimeWarning: divide by zero encountered in log\n",
      "  result = getattr(ufunc, method)(*inputs, **kwargs)\n",
      "/home/codespace/.local/lib/python3.10/site-packages/pandas/core/arraylike.py:396: RuntimeWarning: divide by zero encountered in log\n",
      "  result = getattr(ufunc, method)(*inputs, **kwargs)\n"
     ]
    },
    {
     "name": "stdout",
     "output_type": "stream",
     "text": [
      "Optimization terminated successfully.\n",
      "         Current function value: 0.071066\n",
      "         Iterations 8\n"
     ]
    },
    {
     "name": "stderr",
     "output_type": "stream",
     "text": [
      "/home/codespace/.local/lib/python3.10/site-packages/pandas/core/arraylike.py:396: RuntimeWarning: divide by zero encountered in log\n",
      "  result = getattr(ufunc, method)(*inputs, **kwargs)\n",
      "/home/codespace/.local/lib/python3.10/site-packages/pandas/core/arraylike.py:396: RuntimeWarning: divide by zero encountered in log\n",
      "  result = getattr(ufunc, method)(*inputs, **kwargs)\n"
     ]
    },
    {
     "name": "stdout",
     "output_type": "stream",
     "text": [
      "Optimization terminated successfully.\n",
      "         Current function value: 0.070961\n",
      "         Iterations 8\n"
     ]
    },
    {
     "name": "stderr",
     "output_type": "stream",
     "text": [
      "/home/codespace/.local/lib/python3.10/site-packages/pandas/core/arraylike.py:396: RuntimeWarning: divide by zero encountered in log\n",
      "  result = getattr(ufunc, method)(*inputs, **kwargs)\n"
     ]
    },
    {
     "name": "stdout",
     "output_type": "stream",
     "text": [
      "Optimization terminated successfully.\n",
      "         Current function value: 0.076138\n",
      "         Iterations 8\n"
     ]
    },
    {
     "name": "stderr",
     "output_type": "stream",
     "text": [
      "/home/codespace/.local/lib/python3.10/site-packages/pandas/core/arraylike.py:396: RuntimeWarning: divide by zero encountered in log\n",
      "  result = getattr(ufunc, method)(*inputs, **kwargs)\n"
     ]
    },
    {
     "name": "stdout",
     "output_type": "stream",
     "text": [
      "Optimization terminated successfully.\n",
      "         Current function value: 0.089802\n",
      "         Iterations 8\n"
     ]
    },
    {
     "name": "stderr",
     "output_type": "stream",
     "text": [
      "/home/codespace/.local/lib/python3.10/site-packages/pandas/core/arraylike.py:396: RuntimeWarning: divide by zero encountered in log\n",
      "  result = getattr(ufunc, method)(*inputs, **kwargs)\n",
      "/home/codespace/.local/lib/python3.10/site-packages/pandas/core/arraylike.py:396: RuntimeWarning: divide by zero encountered in log\n",
      "  result = getattr(ufunc, method)(*inputs, **kwargs)\n"
     ]
    },
    {
     "name": "stdout",
     "output_type": "stream",
     "text": [
      "Optimization terminated successfully.\n",
      "         Current function value: 0.089877\n",
      "         Iterations 9\n"
     ]
    },
    {
     "name": "stderr",
     "output_type": "stream",
     "text": [
      "/home/codespace/.local/lib/python3.10/site-packages/pandas/core/arraylike.py:396: RuntimeWarning: divide by zero encountered in log\n",
      "  result = getattr(ufunc, method)(*inputs, **kwargs)\n",
      "/home/codespace/.local/lib/python3.10/site-packages/pandas/core/arraylike.py:396: RuntimeWarning: divide by zero encountered in log\n",
      "  result = getattr(ufunc, method)(*inputs, **kwargs)\n"
     ]
    },
    {
     "name": "stdout",
     "output_type": "stream",
     "text": [
      "Optimization terminated successfully.\n",
      "         Current function value: 0.090121\n",
      "         Iterations 8\n"
     ]
    },
    {
     "name": "stderr",
     "output_type": "stream",
     "text": [
      "/home/codespace/.local/lib/python3.10/site-packages/pandas/core/arraylike.py:396: RuntimeWarning: divide by zero encountered in log\n",
      "  result = getattr(ufunc, method)(*inputs, **kwargs)\n",
      "/home/codespace/.local/lib/python3.10/site-packages/pandas/core/arraylike.py:396: RuntimeWarning: divide by zero encountered in log\n",
      "  result = getattr(ufunc, method)(*inputs, **kwargs)\n"
     ]
    },
    {
     "name": "stdout",
     "output_type": "stream",
     "text": [
      "Optimization terminated successfully.\n",
      "         Current function value: 0.033368\n",
      "         Iterations 9\n"
     ]
    },
    {
     "name": "stderr",
     "output_type": "stream",
     "text": [
      "/home/codespace/.local/lib/python3.10/site-packages/pandas/core/arraylike.py:396: RuntimeWarning: divide by zero encountered in log\n",
      "  result = getattr(ufunc, method)(*inputs, **kwargs)\n",
      "/home/codespace/.local/lib/python3.10/site-packages/pandas/core/arraylike.py:396: RuntimeWarning: divide by zero encountered in log\n",
      "  result = getattr(ufunc, method)(*inputs, **kwargs)\n"
     ]
    },
    {
     "name": "stdout",
     "output_type": "stream",
     "text": [
      "Optimization terminated successfully.\n",
      "         Current function value: 0.033562\n",
      "         Iterations 9\n"
     ]
    },
    {
     "name": "stderr",
     "output_type": "stream",
     "text": [
      "/home/codespace/.local/lib/python3.10/site-packages/pandas/core/arraylike.py:396: RuntimeWarning: divide by zero encountered in log\n",
      "  result = getattr(ufunc, method)(*inputs, **kwargs)\n",
      "/home/codespace/.local/lib/python3.10/site-packages/pandas/core/arraylike.py:396: RuntimeWarning: divide by zero encountered in log\n",
      "  result = getattr(ufunc, method)(*inputs, **kwargs)\n"
     ]
    },
    {
     "name": "stdout",
     "output_type": "stream",
     "text": [
      "Optimization terminated successfully.\n",
      "         Current function value: 0.034802\n",
      "         Iterations 9\n"
     ]
    },
    {
     "name": "stderr",
     "output_type": "stream",
     "text": [
      "/home/codespace/.local/lib/python3.10/site-packages/pandas/core/arraylike.py:396: RuntimeWarning: divide by zero encountered in log\n",
      "  result = getattr(ufunc, method)(*inputs, **kwargs)\n",
      "/home/codespace/.local/lib/python3.10/site-packages/pandas/core/arraylike.py:396: RuntimeWarning: divide by zero encountered in log\n",
      "  result = getattr(ufunc, method)(*inputs, **kwargs)\n"
     ]
    },
    {
     "name": "stdout",
     "output_type": "stream",
     "text": [
      "Optimization terminated successfully.\n",
      "         Current function value: 0.013040\n",
      "         Iterations 10\n"
     ]
    },
    {
     "name": "stderr",
     "output_type": "stream",
     "text": [
      "/home/codespace/.local/lib/python3.10/site-packages/pandas/core/arraylike.py:396: RuntimeWarning: divide by zero encountered in log\n",
      "  result = getattr(ufunc, method)(*inputs, **kwargs)\n",
      "/home/codespace/.local/lib/python3.10/site-packages/pandas/core/arraylike.py:396: RuntimeWarning: divide by zero encountered in log\n",
      "  result = getattr(ufunc, method)(*inputs, **kwargs)\n"
     ]
    },
    {
     "name": "stdout",
     "output_type": "stream",
     "text": [
      "Optimization terminated successfully.\n",
      "         Current function value: 0.027621\n",
      "         Iterations 9\n"
     ]
    },
    {
     "name": "stderr",
     "output_type": "stream",
     "text": [
      "/home/codespace/.local/lib/python3.10/site-packages/pandas/core/arraylike.py:396: RuntimeWarning: divide by zero encountered in log\n",
      "  result = getattr(ufunc, method)(*inputs, **kwargs)\n",
      "/home/codespace/.local/lib/python3.10/site-packages/pandas/core/arraylike.py:396: RuntimeWarning: divide by zero encountered in log\n",
      "  result = getattr(ufunc, method)(*inputs, **kwargs)\n"
     ]
    },
    {
     "name": "stdout",
     "output_type": "stream",
     "text": [
      "Optimization terminated successfully.\n",
      "         Current function value: 0.027549\n",
      "         Iterations 10\n"
     ]
    },
    {
     "name": "stderr",
     "output_type": "stream",
     "text": [
      "/home/codespace/.local/lib/python3.10/site-packages/pandas/core/arraylike.py:396: RuntimeWarning: divide by zero encountered in log\n",
      "  result = getattr(ufunc, method)(*inputs, **kwargs)\n",
      "/home/codespace/.local/lib/python3.10/site-packages/pandas/core/arraylike.py:396: RuntimeWarning: divide by zero encountered in log\n",
      "  result = getattr(ufunc, method)(*inputs, **kwargs)\n"
     ]
    },
    {
     "name": "stdout",
     "output_type": "stream",
     "text": [
      "Optimization terminated successfully.\n",
      "         Current function value: 0.068705\n",
      "         Iterations 9\n"
     ]
    },
    {
     "name": "stderr",
     "output_type": "stream",
     "text": [
      "/home/codespace/.local/lib/python3.10/site-packages/pandas/core/arraylike.py:396: RuntimeWarning: divide by zero encountered in log\n",
      "  result = getattr(ufunc, method)(*inputs, **kwargs)\n",
      "/home/codespace/.local/lib/python3.10/site-packages/pandas/core/arraylike.py:396: RuntimeWarning: divide by zero encountered in log\n",
      "  result = getattr(ufunc, method)(*inputs, **kwargs)\n"
     ]
    },
    {
     "name": "stdout",
     "output_type": "stream",
     "text": [
      "Optimization terminated successfully.\n",
      "         Current function value: 0.068633\n",
      "         Iterations 9\n"
     ]
    },
    {
     "name": "stderr",
     "output_type": "stream",
     "text": [
      "/home/codespace/.local/lib/python3.10/site-packages/pandas/core/arraylike.py:396: RuntimeWarning: divide by zero encountered in log\n",
      "  result = getattr(ufunc, method)(*inputs, **kwargs)\n",
      "/home/codespace/.local/lib/python3.10/site-packages/pandas/core/arraylike.py:396: RuntimeWarning: divide by zero encountered in log\n",
      "  result = getattr(ufunc, method)(*inputs, **kwargs)\n"
     ]
    },
    {
     "name": "stdout",
     "output_type": "stream",
     "text": [
      "Optimization terminated successfully.\n",
      "         Current function value: 0.068016\n",
      "         Iterations 8\n"
     ]
    },
    {
     "name": "stderr",
     "output_type": "stream",
     "text": [
      "/home/codespace/.local/lib/python3.10/site-packages/pandas/core/arraylike.py:396: RuntimeWarning: divide by zero encountered in log\n",
      "  result = getattr(ufunc, method)(*inputs, **kwargs)\n",
      "/home/codespace/.local/lib/python3.10/site-packages/pandas/core/arraylike.py:396: RuntimeWarning: divide by zero encountered in log\n",
      "  result = getattr(ufunc, method)(*inputs, **kwargs)\n"
     ]
    },
    {
     "name": "stdout",
     "output_type": "stream",
     "text": [
      "Optimization terminated successfully.\n",
      "         Current function value: 0.055344\n",
      "         Iterations 8\n"
     ]
    },
    {
     "name": "stderr",
     "output_type": "stream",
     "text": [
      "/home/codespace/.local/lib/python3.10/site-packages/pandas/core/arraylike.py:396: RuntimeWarning: divide by zero encountered in log\n",
      "  result = getattr(ufunc, method)(*inputs, **kwargs)\n",
      "/home/codespace/.local/lib/python3.10/site-packages/pandas/core/arraylike.py:396: RuntimeWarning: divide by zero encountered in log\n",
      "  result = getattr(ufunc, method)(*inputs, **kwargs)\n"
     ]
    },
    {
     "name": "stdout",
     "output_type": "stream",
     "text": [
      "Optimization terminated successfully.\n",
      "         Current function value: 0.055580\n",
      "         Iterations 10\n"
     ]
    },
    {
     "name": "stderr",
     "output_type": "stream",
     "text": [
      "/home/codespace/.local/lib/python3.10/site-packages/pandas/core/arraylike.py:396: RuntimeWarning: divide by zero encountered in log\n",
      "  result = getattr(ufunc, method)(*inputs, **kwargs)\n",
      "/home/codespace/.local/lib/python3.10/site-packages/pandas/core/arraylike.py:396: RuntimeWarning: divide by zero encountered in log\n",
      "  result = getattr(ufunc, method)(*inputs, **kwargs)\n"
     ]
    },
    {
     "name": "stdout",
     "output_type": "stream",
     "text": [
      "Optimization terminated successfully.\n",
      "         Current function value: 0.055494\n",
      "         Iterations 9\n"
     ]
    },
    {
     "name": "stderr",
     "output_type": "stream",
     "text": [
      "/home/codespace/.local/lib/python3.10/site-packages/pandas/core/arraylike.py:396: RuntimeWarning: divide by zero encountered in log\n",
      "  result = getattr(ufunc, method)(*inputs, **kwargs)\n",
      "/home/codespace/.local/lib/python3.10/site-packages/pandas/core/arraylike.py:396: RuntimeWarning: divide by zero encountered in log\n",
      "  result = getattr(ufunc, method)(*inputs, **kwargs)\n"
     ]
    },
    {
     "name": "stdout",
     "output_type": "stream",
     "text": [
      "Optimization terminated successfully.\n",
      "         Current function value: 0.053584\n",
      "         Iterations 9\n"
     ]
    },
    {
     "name": "stderr",
     "output_type": "stream",
     "text": [
      "/home/codespace/.local/lib/python3.10/site-packages/pandas/core/arraylike.py:396: RuntimeWarning: divide by zero encountered in log\n",
      "  result = getattr(ufunc, method)(*inputs, **kwargs)\n",
      "/home/codespace/.local/lib/python3.10/site-packages/pandas/core/arraylike.py:396: RuntimeWarning: divide by zero encountered in log\n",
      "  result = getattr(ufunc, method)(*inputs, **kwargs)\n"
     ]
    },
    {
     "name": "stdout",
     "output_type": "stream",
     "text": [
      "Optimization terminated successfully.\n",
      "         Current function value: 0.053526\n",
      "         Iterations 8\n"
     ]
    },
    {
     "name": "stderr",
     "output_type": "stream",
     "text": [
      "/home/codespace/.local/lib/python3.10/site-packages/pandas/core/arraylike.py:396: RuntimeWarning: divide by zero encountered in log\n",
      "  result = getattr(ufunc, method)(*inputs, **kwargs)\n",
      "/home/codespace/.local/lib/python3.10/site-packages/pandas/core/arraylike.py:396: RuntimeWarning: divide by zero encountered in log\n",
      "  result = getattr(ufunc, method)(*inputs, **kwargs)\n"
     ]
    },
    {
     "name": "stdout",
     "output_type": "stream",
     "text": [
      "Optimization terminated successfully.\n",
      "         Current function value: 0.053533\n",
      "         Iterations 10\n"
     ]
    },
    {
     "name": "stderr",
     "output_type": "stream",
     "text": [
      "/home/codespace/.local/lib/python3.10/site-packages/pandas/core/arraylike.py:396: RuntimeWarning: divide by zero encountered in log\n",
      "  result = getattr(ufunc, method)(*inputs, **kwargs)\n",
      "/home/codespace/.local/lib/python3.10/site-packages/pandas/core/arraylike.py:396: RuntimeWarning: divide by zero encountered in log\n",
      "  result = getattr(ufunc, method)(*inputs, **kwargs)\n"
     ]
    },
    {
     "name": "stdout",
     "output_type": "stream",
     "text": [
      "Optimization terminated successfully.\n",
      "         Current function value: 0.076879\n",
      "         Iterations 8\n"
     ]
    },
    {
     "name": "stderr",
     "output_type": "stream",
     "text": [
      "/home/codespace/.local/lib/python3.10/site-packages/pandas/core/arraylike.py:396: RuntimeWarning: divide by zero encountered in log\n",
      "  result = getattr(ufunc, method)(*inputs, **kwargs)\n",
      "/home/codespace/.local/lib/python3.10/site-packages/pandas/core/arraylike.py:396: RuntimeWarning: divide by zero encountered in log\n",
      "  result = getattr(ufunc, method)(*inputs, **kwargs)\n"
     ]
    },
    {
     "name": "stdout",
     "output_type": "stream",
     "text": [
      "Optimization terminated successfully.\n",
      "         Current function value: 0.217355\n",
      "         Iterations 7\n"
     ]
    },
    {
     "name": "stderr",
     "output_type": "stream",
     "text": [
      "/home/codespace/.local/lib/python3.10/site-packages/pandas/core/arraylike.py:396: RuntimeWarning: divide by zero encountered in log\n",
      "  result = getattr(ufunc, method)(*inputs, **kwargs)\n",
      "/home/codespace/.local/lib/python3.10/site-packages/pandas/core/arraylike.py:396: RuntimeWarning: divide by zero encountered in log\n",
      "  result = getattr(ufunc, method)(*inputs, **kwargs)\n"
     ]
    },
    {
     "name": "stdout",
     "output_type": "stream",
     "text": [
      "Optimization terminated successfully.\n",
      "         Current function value: 0.216914\n",
      "         Iterations 7\n"
     ]
    },
    {
     "name": "stderr",
     "output_type": "stream",
     "text": [
      "/home/codespace/.local/lib/python3.10/site-packages/pandas/core/arraylike.py:396: RuntimeWarning: divide by zero encountered in log\n",
      "  result = getattr(ufunc, method)(*inputs, **kwargs)\n",
      "/home/codespace/.local/lib/python3.10/site-packages/pandas/core/arraylike.py:396: RuntimeWarning: divide by zero encountered in log\n",
      "  result = getattr(ufunc, method)(*inputs, **kwargs)\n"
     ]
    },
    {
     "name": "stdout",
     "output_type": "stream",
     "text": [
      "Optimization terminated successfully.\n",
      "         Current function value: 0.122170\n",
      "         Iterations 8\n"
     ]
    },
    {
     "name": "stderr",
     "output_type": "stream",
     "text": [
      "/home/codespace/.local/lib/python3.10/site-packages/pandas/core/arraylike.py:396: RuntimeWarning: divide by zero encountered in log\n",
      "  result = getattr(ufunc, method)(*inputs, **kwargs)\n",
      "/home/codespace/.local/lib/python3.10/site-packages/pandas/core/arraylike.py:396: RuntimeWarning: divide by zero encountered in log\n",
      "  result = getattr(ufunc, method)(*inputs, **kwargs)\n"
     ]
    },
    {
     "name": "stdout",
     "output_type": "stream",
     "text": [
      "Optimization terminated successfully.\n",
      "         Current function value: 0.121663\n",
      "         Iterations 7\n"
     ]
    },
    {
     "name": "stderr",
     "output_type": "stream",
     "text": [
      "/home/codespace/.local/lib/python3.10/site-packages/pandas/core/arraylike.py:396: RuntimeWarning: divide by zero encountered in log\n",
      "  result = getattr(ufunc, method)(*inputs, **kwargs)\n",
      "/home/codespace/.local/lib/python3.10/site-packages/pandas/core/arraylike.py:396: RuntimeWarning: divide by zero encountered in log\n",
      "  result = getattr(ufunc, method)(*inputs, **kwargs)\n"
     ]
    },
    {
     "name": "stdout",
     "output_type": "stream",
     "text": [
      "Optimization terminated successfully.\n",
      "         Current function value: 0.121171\n",
      "         Iterations 7\n"
     ]
    },
    {
     "name": "stderr",
     "output_type": "stream",
     "text": [
      "/home/codespace/.local/lib/python3.10/site-packages/pandas/core/arraylike.py:396: RuntimeWarning: divide by zero encountered in log\n",
      "  result = getattr(ufunc, method)(*inputs, **kwargs)\n",
      "/home/codespace/.local/lib/python3.10/site-packages/pandas/core/arraylike.py:396: RuntimeWarning: divide by zero encountered in log\n",
      "  result = getattr(ufunc, method)(*inputs, **kwargs)\n"
     ]
    },
    {
     "name": "stdout",
     "output_type": "stream",
     "text": [
      "Optimization terminated successfully.\n",
      "         Current function value: 0.151584\n",
      "         Iterations 7\n"
     ]
    },
    {
     "name": "stderr",
     "output_type": "stream",
     "text": [
      "/home/codespace/.local/lib/python3.10/site-packages/pandas/core/arraylike.py:396: RuntimeWarning: divide by zero encountered in log\n",
      "  result = getattr(ufunc, method)(*inputs, **kwargs)\n",
      "/home/codespace/.local/lib/python3.10/site-packages/pandas/core/arraylike.py:396: RuntimeWarning: divide by zero encountered in log\n",
      "  result = getattr(ufunc, method)(*inputs, **kwargs)\n"
     ]
    },
    {
     "name": "stdout",
     "output_type": "stream",
     "text": [
      "Optimization terminated successfully.\n",
      "         Current function value: 0.151441\n",
      "         Iterations 7\n"
     ]
    },
    {
     "name": "stderr",
     "output_type": "stream",
     "text": [
      "/home/codespace/.local/lib/python3.10/site-packages/pandas/core/arraylike.py:396: RuntimeWarning: divide by zero encountered in log\n",
      "  result = getattr(ufunc, method)(*inputs, **kwargs)\n",
      "/home/codespace/.local/lib/python3.10/site-packages/pandas/core/arraylike.py:396: RuntimeWarning: divide by zero encountered in log\n",
      "  result = getattr(ufunc, method)(*inputs, **kwargs)\n"
     ]
    },
    {
     "name": "stdout",
     "output_type": "stream",
     "text": [
      "Optimization terminated successfully.\n",
      "         Current function value: 0.150426\n",
      "         Iterations 7\n"
     ]
    },
    {
     "name": "stderr",
     "output_type": "stream",
     "text": [
      "/home/codespace/.local/lib/python3.10/site-packages/pandas/core/arraylike.py:396: RuntimeWarning: divide by zero encountered in log\n",
      "  result = getattr(ufunc, method)(*inputs, **kwargs)\n",
      "/home/codespace/.local/lib/python3.10/site-packages/pandas/core/arraylike.py:396: RuntimeWarning: divide by zero encountered in log\n",
      "  result = getattr(ufunc, method)(*inputs, **kwargs)\n"
     ]
    },
    {
     "name": "stdout",
     "output_type": "stream",
     "text": [
      "Optimization terminated successfully.\n",
      "         Current function value: 0.038199\n",
      "         Iterations 8\n"
     ]
    },
    {
     "name": "stderr",
     "output_type": "stream",
     "text": [
      "/home/codespace/.local/lib/python3.10/site-packages/pandas/core/arraylike.py:396: RuntimeWarning: divide by zero encountered in log\n",
      "  result = getattr(ufunc, method)(*inputs, **kwargs)\n",
      "/home/codespace/.local/lib/python3.10/site-packages/pandas/core/arraylike.py:396: RuntimeWarning: divide by zero encountered in log\n",
      "  result = getattr(ufunc, method)(*inputs, **kwargs)\n"
     ]
    },
    {
     "name": "stdout",
     "output_type": "stream",
     "text": [
      "Optimization terminated successfully.\n",
      "         Current function value: 0.037817\n",
      "         Iterations 9\n"
     ]
    },
    {
     "name": "stderr",
     "output_type": "stream",
     "text": [
      "/home/codespace/.local/lib/python3.10/site-packages/pandas/core/arraylike.py:396: RuntimeWarning: divide by zero encountered in log\n",
      "  result = getattr(ufunc, method)(*inputs, **kwargs)\n",
      "/home/codespace/.local/lib/python3.10/site-packages/pandas/core/arraylike.py:396: RuntimeWarning: divide by zero encountered in log\n",
      "  result = getattr(ufunc, method)(*inputs, **kwargs)\n"
     ]
    },
    {
     "name": "stdout",
     "output_type": "stream",
     "text": [
      "Optimization terminated successfully.\n",
      "         Current function value: 0.037205\n",
      "         Iterations 8\n"
     ]
    },
    {
     "name": "stderr",
     "output_type": "stream",
     "text": [
      "/home/codespace/.local/lib/python3.10/site-packages/pandas/core/arraylike.py:396: RuntimeWarning: divide by zero encountered in log\n",
      "  result = getattr(ufunc, method)(*inputs, **kwargs)\n",
      "/home/codespace/.local/lib/python3.10/site-packages/pandas/core/arraylike.py:396: RuntimeWarning: divide by zero encountered in log\n",
      "  result = getattr(ufunc, method)(*inputs, **kwargs)\n"
     ]
    },
    {
     "name": "stdout",
     "output_type": "stream",
     "text": [
      "Optimization terminated successfully.\n",
      "         Current function value: 0.165735\n",
      "         Iterations 7\n"
     ]
    },
    {
     "name": "stderr",
     "output_type": "stream",
     "text": [
      "/home/codespace/.local/lib/python3.10/site-packages/pandas/core/arraylike.py:396: RuntimeWarning: divide by zero encountered in log\n",
      "  result = getattr(ufunc, method)(*inputs, **kwargs)\n",
      "/home/codespace/.local/lib/python3.10/site-packages/pandas/core/arraylike.py:396: RuntimeWarning: divide by zero encountered in log\n",
      "  result = getattr(ufunc, method)(*inputs, **kwargs)\n"
     ]
    },
    {
     "name": "stdout",
     "output_type": "stream",
     "text": [
      "Optimization terminated successfully.\n",
      "         Current function value: 0.230303\n",
      "         Iterations 7\n"
     ]
    },
    {
     "name": "stderr",
     "output_type": "stream",
     "text": [
      "/home/codespace/.local/lib/python3.10/site-packages/pandas/core/arraylike.py:396: RuntimeWarning: divide by zero encountered in log\n",
      "  result = getattr(ufunc, method)(*inputs, **kwargs)\n",
      "/home/codespace/.local/lib/python3.10/site-packages/pandas/core/arraylike.py:396: RuntimeWarning: divide by zero encountered in log\n",
      "  result = getattr(ufunc, method)(*inputs, **kwargs)\n"
     ]
    },
    {
     "name": "stdout",
     "output_type": "stream",
     "text": [
      "Optimization terminated successfully.\n",
      "         Current function value: 0.183690\n",
      "         Iterations 7\n"
     ]
    },
    {
     "name": "stderr",
     "output_type": "stream",
     "text": [
      "/home/codespace/.local/lib/python3.10/site-packages/pandas/core/arraylike.py:396: RuntimeWarning: divide by zero encountered in log\n",
      "  result = getattr(ufunc, method)(*inputs, **kwargs)\n",
      "/home/codespace/.local/lib/python3.10/site-packages/pandas/core/arraylike.py:396: RuntimeWarning: divide by zero encountered in log\n",
      "  result = getattr(ufunc, method)(*inputs, **kwargs)\n"
     ]
    },
    {
     "name": "stdout",
     "output_type": "stream",
     "text": [
      "Optimization terminated successfully.\n",
      "         Current function value: 0.276074\n",
      "         Iterations 7\n"
     ]
    },
    {
     "name": "stderr",
     "output_type": "stream",
     "text": [
      "/home/codespace/.local/lib/python3.10/site-packages/pandas/core/arraylike.py:396: RuntimeWarning: divide by zero encountered in log\n",
      "  result = getattr(ufunc, method)(*inputs, **kwargs)\n",
      "/home/codespace/.local/lib/python3.10/site-packages/pandas/core/arraylike.py:396: RuntimeWarning: divide by zero encountered in log\n",
      "  result = getattr(ufunc, method)(*inputs, **kwargs)\n"
     ]
    },
    {
     "name": "stdout",
     "output_type": "stream",
     "text": [
      "Optimization terminated successfully.\n",
      "         Current function value: 0.274877\n",
      "         Iterations 7\n"
     ]
    },
    {
     "name": "stderr",
     "output_type": "stream",
     "text": [
      "/home/codespace/.local/lib/python3.10/site-packages/pandas/core/arraylike.py:396: RuntimeWarning: divide by zero encountered in log\n",
      "  result = getattr(ufunc, method)(*inputs, **kwargs)\n",
      "/home/codespace/.local/lib/python3.10/site-packages/pandas/core/arraylike.py:396: RuntimeWarning: divide by zero encountered in log\n",
      "  result = getattr(ufunc, method)(*inputs, **kwargs)\n"
     ]
    },
    {
     "name": "stdout",
     "output_type": "stream",
     "text": [
      "Optimization terminated successfully.\n",
      "         Current function value: 0.274233\n",
      "         Iterations 7\n"
     ]
    },
    {
     "name": "stderr",
     "output_type": "stream",
     "text": [
      "/home/codespace/.local/lib/python3.10/site-packages/pandas/core/arraylike.py:396: RuntimeWarning: divide by zero encountered in log\n",
      "  result = getattr(ufunc, method)(*inputs, **kwargs)\n",
      "/home/codespace/.local/lib/python3.10/site-packages/pandas/core/arraylike.py:396: RuntimeWarning: divide by zero encountered in log\n",
      "  result = getattr(ufunc, method)(*inputs, **kwargs)\n"
     ]
    },
    {
     "name": "stdout",
     "output_type": "stream",
     "text": [
      "Optimization terminated successfully.\n",
      "         Current function value: 0.134155\n",
      "         Iterations 8\n"
     ]
    },
    {
     "name": "stderr",
     "output_type": "stream",
     "text": [
      "/home/codespace/.local/lib/python3.10/site-packages/pandas/core/arraylike.py:396: RuntimeWarning: divide by zero encountered in log\n",
      "  result = getattr(ufunc, method)(*inputs, **kwargs)\n",
      "/home/codespace/.local/lib/python3.10/site-packages/pandas/core/arraylike.py:396: RuntimeWarning: divide by zero encountered in log\n",
      "  result = getattr(ufunc, method)(*inputs, **kwargs)\n"
     ]
    },
    {
     "name": "stdout",
     "output_type": "stream",
     "text": [
      "Optimization terminated successfully.\n",
      "         Current function value: 0.134373\n",
      "         Iterations 8\n"
     ]
    },
    {
     "name": "stderr",
     "output_type": "stream",
     "text": [
      "/home/codespace/.local/lib/python3.10/site-packages/pandas/core/arraylike.py:396: RuntimeWarning: divide by zero encountered in log\n",
      "  result = getattr(ufunc, method)(*inputs, **kwargs)\n",
      "/home/codespace/.local/lib/python3.10/site-packages/pandas/core/arraylike.py:396: RuntimeWarning: divide by zero encountered in log\n",
      "  result = getattr(ufunc, method)(*inputs, **kwargs)\n"
     ]
    },
    {
     "name": "stdout",
     "output_type": "stream",
     "text": [
      "Optimization terminated successfully.\n",
      "         Current function value: 0.133566\n",
      "         Iterations 8\n"
     ]
    },
    {
     "name": "stderr",
     "output_type": "stream",
     "text": [
      "/home/codespace/.local/lib/python3.10/site-packages/pandas/core/arraylike.py:396: RuntimeWarning: divide by zero encountered in log\n",
      "  result = getattr(ufunc, method)(*inputs, **kwargs)\n",
      "/home/codespace/.local/lib/python3.10/site-packages/pandas/core/arraylike.py:396: RuntimeWarning: divide by zero encountered in log\n",
      "  result = getattr(ufunc, method)(*inputs, **kwargs)\n"
     ]
    },
    {
     "name": "stdout",
     "output_type": "stream",
     "text": [
      "Optimization terminated successfully.\n",
      "         Current function value: 0.131333\n",
      "         Iterations 8\n"
     ]
    },
    {
     "name": "stderr",
     "output_type": "stream",
     "text": [
      "/home/codespace/.local/lib/python3.10/site-packages/pandas/core/arraylike.py:396: RuntimeWarning: divide by zero encountered in log\n",
      "  result = getattr(ufunc, method)(*inputs, **kwargs)\n",
      "/home/codespace/.local/lib/python3.10/site-packages/pandas/core/arraylike.py:396: RuntimeWarning: divide by zero encountered in log\n",
      "  result = getattr(ufunc, method)(*inputs, **kwargs)\n"
     ]
    },
    {
     "name": "stdout",
     "output_type": "stream",
     "text": [
      "Optimization terminated successfully.\n",
      "         Current function value: 0.130156\n",
      "         Iterations 8\n"
     ]
    },
    {
     "name": "stderr",
     "output_type": "stream",
     "text": [
      "/home/codespace/.local/lib/python3.10/site-packages/pandas/core/arraylike.py:396: RuntimeWarning: divide by zero encountered in log\n",
      "  result = getattr(ufunc, method)(*inputs, **kwargs)\n",
      "/home/codespace/.local/lib/python3.10/site-packages/pandas/core/arraylike.py:396: RuntimeWarning: divide by zero encountered in log\n",
      "  result = getattr(ufunc, method)(*inputs, **kwargs)\n"
     ]
    },
    {
     "name": "stdout",
     "output_type": "stream",
     "text": [
      "Optimization terminated successfully.\n",
      "         Current function value: 0.128597\n",
      "         Iterations 8\n"
     ]
    },
    {
     "name": "stderr",
     "output_type": "stream",
     "text": [
      "/home/codespace/.local/lib/python3.10/site-packages/pandas/core/arraylike.py:396: RuntimeWarning: divide by zero encountered in log\n",
      "  result = getattr(ufunc, method)(*inputs, **kwargs)\n",
      "/home/codespace/.local/lib/python3.10/site-packages/pandas/core/arraylike.py:396: RuntimeWarning: divide by zero encountered in log\n",
      "  result = getattr(ufunc, method)(*inputs, **kwargs)\n"
     ]
    },
    {
     "name": "stdout",
     "output_type": "stream",
     "text": [
      "Optimization terminated successfully.\n",
      "         Current function value: 0.104161\n",
      "         Iterations 8\n"
     ]
    },
    {
     "name": "stderr",
     "output_type": "stream",
     "text": [
      "/home/codespace/.local/lib/python3.10/site-packages/pandas/core/arraylike.py:396: RuntimeWarning: divide by zero encountered in log\n",
      "  result = getattr(ufunc, method)(*inputs, **kwargs)\n",
      "/home/codespace/.local/lib/python3.10/site-packages/pandas/core/arraylike.py:396: RuntimeWarning: divide by zero encountered in log\n",
      "  result = getattr(ufunc, method)(*inputs, **kwargs)\n"
     ]
    },
    {
     "name": "stdout",
     "output_type": "stream",
     "text": [
      "Optimization terminated successfully.\n",
      "         Current function value: 0.105418\n",
      "         Iterations 8\n"
     ]
    },
    {
     "name": "stderr",
     "output_type": "stream",
     "text": [
      "/home/codespace/.local/lib/python3.10/site-packages/pandas/core/arraylike.py:396: RuntimeWarning: divide by zero encountered in log\n",
      "  result = getattr(ufunc, method)(*inputs, **kwargs)\n",
      "/home/codespace/.local/lib/python3.10/site-packages/pandas/core/arraylike.py:396: RuntimeWarning: divide by zero encountered in log\n",
      "  result = getattr(ufunc, method)(*inputs, **kwargs)\n"
     ]
    },
    {
     "name": "stdout",
     "output_type": "stream",
     "text": [
      "Optimization terminated successfully.\n",
      "         Current function value: 0.104905\n",
      "         Iterations 8\n"
     ]
    },
    {
     "name": "stderr",
     "output_type": "stream",
     "text": [
      "/home/codespace/.local/lib/python3.10/site-packages/pandas/core/arraylike.py:396: RuntimeWarning: divide by zero encountered in log\n",
      "  result = getattr(ufunc, method)(*inputs, **kwargs)\n",
      "/home/codespace/.local/lib/python3.10/site-packages/pandas/core/arraylike.py:396: RuntimeWarning: divide by zero encountered in log\n",
      "  result = getattr(ufunc, method)(*inputs, **kwargs)\n"
     ]
    },
    {
     "name": "stdout",
     "output_type": "stream",
     "text": [
      "Optimization terminated successfully.\n",
      "         Current function value: 0.134382\n",
      "         Iterations 7\n"
     ]
    },
    {
     "name": "stderr",
     "output_type": "stream",
     "text": [
      "/home/codespace/.local/lib/python3.10/site-packages/pandas/core/arraylike.py:396: RuntimeWarning: divide by zero encountered in log\n",
      "  result = getattr(ufunc, method)(*inputs, **kwargs)\n",
      "/home/codespace/.local/lib/python3.10/site-packages/pandas/core/arraylike.py:396: RuntimeWarning: divide by zero encountered in log\n",
      "  result = getattr(ufunc, method)(*inputs, **kwargs)\n"
     ]
    },
    {
     "name": "stdout",
     "output_type": "stream",
     "text": [
      "Optimization terminated successfully.\n",
      "         Current function value: 0.134067\n",
      "         Iterations 8\n"
     ]
    },
    {
     "name": "stderr",
     "output_type": "stream",
     "text": [
      "/home/codespace/.local/lib/python3.10/site-packages/pandas/core/arraylike.py:396: RuntimeWarning: divide by zero encountered in log\n",
      "  result = getattr(ufunc, method)(*inputs, **kwargs)\n",
      "/home/codespace/.local/lib/python3.10/site-packages/pandas/core/arraylike.py:396: RuntimeWarning: divide by zero encountered in log\n",
      "  result = getattr(ufunc, method)(*inputs, **kwargs)\n"
     ]
    },
    {
     "name": "stdout",
     "output_type": "stream",
     "text": [
      "Optimization terminated successfully.\n",
      "         Current function value: 0.002225\n",
      "         Iterations 13\n"
     ]
    },
    {
     "name": "stderr",
     "output_type": "stream",
     "text": [
      "/home/codespace/.local/lib/python3.10/site-packages/pandas/core/arraylike.py:396: RuntimeWarning: divide by zero encountered in log\n",
      "  result = getattr(ufunc, method)(*inputs, **kwargs)\n",
      "/home/codespace/.local/lib/python3.10/site-packages/pandas/core/arraylike.py:396: RuntimeWarning: divide by zero encountered in log\n",
      "  result = getattr(ufunc, method)(*inputs, **kwargs)\n"
     ]
    },
    {
     "name": "stdout",
     "output_type": "stream",
     "text": [
      "Optimization terminated successfully.\n",
      "         Current function value: 0.128032\n",
      "         Iterations 8\n"
     ]
    },
    {
     "name": "stderr",
     "output_type": "stream",
     "text": [
      "/home/codespace/.local/lib/python3.10/site-packages/pandas/core/arraylike.py:396: RuntimeWarning: divide by zero encountered in log\n",
      "  result = getattr(ufunc, method)(*inputs, **kwargs)\n",
      "/home/codespace/.local/lib/python3.10/site-packages/pandas/core/arraylike.py:396: RuntimeWarning: divide by zero encountered in log\n",
      "  result = getattr(ufunc, method)(*inputs, **kwargs)\n"
     ]
    },
    {
     "name": "stdout",
     "output_type": "stream",
     "text": [
      "Optimization terminated successfully.\n",
      "         Current function value: 0.128072\n",
      "         Iterations 7\n"
     ]
    },
    {
     "name": "stderr",
     "output_type": "stream",
     "text": [
      "/home/codespace/.local/lib/python3.10/site-packages/pandas/core/arraylike.py:396: RuntimeWarning: divide by zero encountered in log\n",
      "  result = getattr(ufunc, method)(*inputs, **kwargs)\n",
      "/home/codespace/.local/lib/python3.10/site-packages/pandas/core/arraylike.py:396: RuntimeWarning: divide by zero encountered in log\n",
      "  result = getattr(ufunc, method)(*inputs, **kwargs)\n"
     ]
    },
    {
     "name": "stdout",
     "output_type": "stream",
     "text": [
      "Optimization terminated successfully.\n",
      "         Current function value: 0.128188\n",
      "         Iterations 7\n"
     ]
    },
    {
     "name": "stderr",
     "output_type": "stream",
     "text": [
      "/home/codespace/.local/lib/python3.10/site-packages/pandas/core/arraylike.py:396: RuntimeWarning: divide by zero encountered in log\n",
      "  result = getattr(ufunc, method)(*inputs, **kwargs)\n",
      "/home/codespace/.local/lib/python3.10/site-packages/pandas/core/arraylike.py:396: RuntimeWarning: divide by zero encountered in log\n",
      "  result = getattr(ufunc, method)(*inputs, **kwargs)\n"
     ]
    },
    {
     "name": "stdout",
     "output_type": "stream",
     "text": [
      "Optimization terminated successfully.\n",
      "         Current function value: 0.101706\n",
      "         Iterations 8\n"
     ]
    },
    {
     "name": "stderr",
     "output_type": "stream",
     "text": [
      "/home/codespace/.local/lib/python3.10/site-packages/pandas/core/arraylike.py:396: RuntimeWarning: divide by zero encountered in log\n",
      "  result = getattr(ufunc, method)(*inputs, **kwargs)\n",
      "/home/codespace/.local/lib/python3.10/site-packages/pandas/core/arraylike.py:396: RuntimeWarning: divide by zero encountered in log\n",
      "  result = getattr(ufunc, method)(*inputs, **kwargs)\n"
     ]
    },
    {
     "name": "stdout",
     "output_type": "stream",
     "text": [
      "Optimization terminated successfully.\n",
      "         Current function value: 0.101088\n",
      "         Iterations 8\n"
     ]
    },
    {
     "name": "stderr",
     "output_type": "stream",
     "text": [
      "/home/codespace/.local/lib/python3.10/site-packages/pandas/core/arraylike.py:396: RuntimeWarning: divide by zero encountered in log\n",
      "  result = getattr(ufunc, method)(*inputs, **kwargs)\n",
      "/home/codespace/.local/lib/python3.10/site-packages/pandas/core/arraylike.py:396: RuntimeWarning: divide by zero encountered in log\n",
      "  result = getattr(ufunc, method)(*inputs, **kwargs)\n"
     ]
    },
    {
     "name": "stdout",
     "output_type": "stream",
     "text": [
      "Optimization terminated successfully.\n",
      "         Current function value: 0.099790\n",
      "         Iterations 8\n"
     ]
    },
    {
     "name": "stderr",
     "output_type": "stream",
     "text": [
      "/home/codespace/.local/lib/python3.10/site-packages/pandas/core/arraylike.py:396: RuntimeWarning: divide by zero encountered in log\n",
      "  result = getattr(ufunc, method)(*inputs, **kwargs)\n",
      "/home/codespace/.local/lib/python3.10/site-packages/pandas/core/arraylike.py:396: RuntimeWarning: divide by zero encountered in log\n",
      "  result = getattr(ufunc, method)(*inputs, **kwargs)\n"
     ]
    },
    {
     "name": "stdout",
     "output_type": "stream",
     "text": [
      "Optimization terminated successfully.\n",
      "         Current function value: 0.008637\n",
      "         Iterations 11\n"
     ]
    },
    {
     "name": "stderr",
     "output_type": "stream",
     "text": [
      "/home/codespace/.local/lib/python3.10/site-packages/pandas/core/arraylike.py:396: RuntimeWarning: divide by zero encountered in log\n",
      "  result = getattr(ufunc, method)(*inputs, **kwargs)\n",
      "/home/codespace/.local/lib/python3.10/site-packages/pandas/core/arraylike.py:396: RuntimeWarning: divide by zero encountered in log\n",
      "  result = getattr(ufunc, method)(*inputs, **kwargs)\n"
     ]
    },
    {
     "name": "stdout",
     "output_type": "stream",
     "text": [
      "Optimization terminated successfully.\n",
      "         Current function value: 0.058127\n",
      "         Iterations 8\n"
     ]
    },
    {
     "name": "stderr",
     "output_type": "stream",
     "text": [
      "/home/codespace/.local/lib/python3.10/site-packages/pandas/core/arraylike.py:396: RuntimeWarning: divide by zero encountered in log\n",
      "  result = getattr(ufunc, method)(*inputs, **kwargs)\n",
      "/home/codespace/.local/lib/python3.10/site-packages/pandas/core/arraylike.py:396: RuntimeWarning: divide by zero encountered in log\n",
      "  result = getattr(ufunc, method)(*inputs, **kwargs)\n"
     ]
    },
    {
     "name": "stdout",
     "output_type": "stream",
     "text": [
      "Optimization terminated successfully.\n",
      "         Current function value: 0.058540\n",
      "         Iterations 8\n"
     ]
    },
    {
     "name": "stderr",
     "output_type": "stream",
     "text": [
      "/home/codespace/.local/lib/python3.10/site-packages/pandas/core/arraylike.py:396: RuntimeWarning: divide by zero encountered in log\n",
      "  result = getattr(ufunc, method)(*inputs, **kwargs)\n",
      "/home/codespace/.local/lib/python3.10/site-packages/pandas/core/arraylike.py:396: RuntimeWarning: divide by zero encountered in log\n",
      "  result = getattr(ufunc, method)(*inputs, **kwargs)\n"
     ]
    },
    {
     "name": "stdout",
     "output_type": "stream",
     "text": [
      "Optimization terminated successfully.\n",
      "         Current function value: 0.075840\n",
      "         Iterations 8\n"
     ]
    },
    {
     "name": "stderr",
     "output_type": "stream",
     "text": [
      "/home/codespace/.local/lib/python3.10/site-packages/pandas/core/arraylike.py:396: RuntimeWarning: divide by zero encountered in log\n",
      "  result = getattr(ufunc, method)(*inputs, **kwargs)\n",
      "/home/codespace/.local/lib/python3.10/site-packages/pandas/core/arraylike.py:396: RuntimeWarning: divide by zero encountered in log\n",
      "  result = getattr(ufunc, method)(*inputs, **kwargs)\n"
     ]
    },
    {
     "name": "stdout",
     "output_type": "stream",
     "text": [
      "Optimization terminated successfully.\n",
      "         Current function value: 0.075824\n",
      "         Iterations 8\n"
     ]
    },
    {
     "name": "stderr",
     "output_type": "stream",
     "text": [
      "/home/codespace/.local/lib/python3.10/site-packages/pandas/core/arraylike.py:396: RuntimeWarning: divide by zero encountered in log\n",
      "  result = getattr(ufunc, method)(*inputs, **kwargs)\n",
      "/home/codespace/.local/lib/python3.10/site-packages/pandas/core/arraylike.py:396: RuntimeWarning: divide by zero encountered in log\n",
      "  result = getattr(ufunc, method)(*inputs, **kwargs)\n"
     ]
    },
    {
     "name": "stdout",
     "output_type": "stream",
     "text": [
      "Optimization terminated successfully.\n",
      "         Current function value: 0.077862\n",
      "         Iterations 8\n"
     ]
    },
    {
     "name": "stderr",
     "output_type": "stream",
     "text": [
      "/home/codespace/.local/lib/python3.10/site-packages/pandas/core/arraylike.py:396: RuntimeWarning: divide by zero encountered in log\n",
      "  result = getattr(ufunc, method)(*inputs, **kwargs)\n",
      "/home/codespace/.local/lib/python3.10/site-packages/pandas/core/arraylike.py:396: RuntimeWarning: divide by zero encountered in log\n",
      "  result = getattr(ufunc, method)(*inputs, **kwargs)\n"
     ]
    },
    {
     "name": "stdout",
     "output_type": "stream",
     "text": [
      "Optimization terminated successfully.\n",
      "         Current function value: 0.107053\n",
      "         Iterations 8\n"
     ]
    },
    {
     "name": "stderr",
     "output_type": "stream",
     "text": [
      "/home/codespace/.local/lib/python3.10/site-packages/pandas/core/arraylike.py:396: RuntimeWarning: divide by zero encountered in log\n",
      "  result = getattr(ufunc, method)(*inputs, **kwargs)\n",
      "/home/codespace/.local/lib/python3.10/site-packages/pandas/core/arraylike.py:396: RuntimeWarning: divide by zero encountered in log\n",
      "  result = getattr(ufunc, method)(*inputs, **kwargs)\n"
     ]
    },
    {
     "name": "stdout",
     "output_type": "stream",
     "text": [
      "Optimization terminated successfully.\n",
      "         Current function value: 0.107346\n",
      "         Iterations 8\n"
     ]
    },
    {
     "name": "stderr",
     "output_type": "stream",
     "text": [
      "/home/codespace/.local/lib/python3.10/site-packages/pandas/core/arraylike.py:396: RuntimeWarning: divide by zero encountered in log\n",
      "  result = getattr(ufunc, method)(*inputs, **kwargs)\n",
      "/home/codespace/.local/lib/python3.10/site-packages/pandas/core/arraylike.py:396: RuntimeWarning: divide by zero encountered in log\n",
      "  result = getattr(ufunc, method)(*inputs, **kwargs)\n"
     ]
    },
    {
     "name": "stdout",
     "output_type": "stream",
     "text": [
      "Optimization terminated successfully.\n",
      "         Current function value: 0.107929\n",
      "         Iterations 8\n"
     ]
    },
    {
     "name": "stderr",
     "output_type": "stream",
     "text": [
      "/home/codespace/.local/lib/python3.10/site-packages/pandas/core/arraylike.py:396: RuntimeWarning: divide by zero encountered in log\n",
      "  result = getattr(ufunc, method)(*inputs, **kwargs)\n",
      "/home/codespace/.local/lib/python3.10/site-packages/pandas/core/arraylike.py:396: RuntimeWarning: divide by zero encountered in log\n",
      "  result = getattr(ufunc, method)(*inputs, **kwargs)\n"
     ]
    },
    {
     "name": "stdout",
     "output_type": "stream",
     "text": [
      "Optimization terminated successfully.\n",
      "         Current function value: 0.029536\n",
      "         Iterations 9\n"
     ]
    },
    {
     "name": "stderr",
     "output_type": "stream",
     "text": [
      "/home/codespace/.local/lib/python3.10/site-packages/pandas/core/arraylike.py:396: RuntimeWarning: divide by zero encountered in log\n",
      "  result = getattr(ufunc, method)(*inputs, **kwargs)\n",
      "/home/codespace/.local/lib/python3.10/site-packages/pandas/core/arraylike.py:396: RuntimeWarning: divide by zero encountered in log\n",
      "  result = getattr(ufunc, method)(*inputs, **kwargs)\n"
     ]
    },
    {
     "name": "stdout",
     "output_type": "stream",
     "text": [
      "Optimization terminated successfully.\n",
      "         Current function value: 0.029932\n",
      "         Iterations 9\n"
     ]
    },
    {
     "name": "stderr",
     "output_type": "stream",
     "text": [
      "/home/codespace/.local/lib/python3.10/site-packages/pandas/core/arraylike.py:396: RuntimeWarning: divide by zero encountered in log\n",
      "  result = getattr(ufunc, method)(*inputs, **kwargs)\n",
      "/home/codespace/.local/lib/python3.10/site-packages/pandas/core/arraylike.py:396: RuntimeWarning: divide by zero encountered in log\n",
      "  result = getattr(ufunc, method)(*inputs, **kwargs)\n"
     ]
    },
    {
     "name": "stdout",
     "output_type": "stream",
     "text": [
      "Optimization terminated successfully.\n",
      "         Current function value: 0.030056\n",
      "         Iterations 9\n"
     ]
    },
    {
     "name": "stderr",
     "output_type": "stream",
     "text": [
      "/home/codespace/.local/lib/python3.10/site-packages/pandas/core/arraylike.py:396: RuntimeWarning: divide by zero encountered in log\n",
      "  result = getattr(ufunc, method)(*inputs, **kwargs)\n",
      "/home/codespace/.local/lib/python3.10/site-packages/pandas/core/arraylike.py:396: RuntimeWarning: divide by zero encountered in log\n",
      "  result = getattr(ufunc, method)(*inputs, **kwargs)\n"
     ]
    },
    {
     "name": "stdout",
     "output_type": "stream",
     "text": [
      "Optimization terminated successfully.\n",
      "         Current function value: 0.010586\n",
      "         Iterations 10\n"
     ]
    },
    {
     "name": "stderr",
     "output_type": "stream",
     "text": [
      "/home/codespace/.local/lib/python3.10/site-packages/pandas/core/arraylike.py:396: RuntimeWarning: divide by zero encountered in log\n",
      "  result = getattr(ufunc, method)(*inputs, **kwargs)\n",
      "/home/codespace/.local/lib/python3.10/site-packages/pandas/core/arraylike.py:396: RuntimeWarning: divide by zero encountered in log\n",
      "  result = getattr(ufunc, method)(*inputs, **kwargs)\n"
     ]
    },
    {
     "name": "stdout",
     "output_type": "stream",
     "text": [
      "Optimization terminated successfully.\n",
      "         Current function value: 0.011670\n",
      "         Iterations 10\n"
     ]
    },
    {
     "name": "stderr",
     "output_type": "stream",
     "text": [
      "/home/codespace/.local/lib/python3.10/site-packages/pandas/core/arraylike.py:396: RuntimeWarning: divide by zero encountered in log\n",
      "  result = getattr(ufunc, method)(*inputs, **kwargs)\n",
      "/home/codespace/.local/lib/python3.10/site-packages/pandas/core/arraylike.py:396: RuntimeWarning: divide by zero encountered in log\n",
      "  result = getattr(ufunc, method)(*inputs, **kwargs)\n"
     ]
    },
    {
     "name": "stdout",
     "output_type": "stream",
     "text": [
      "Optimization terminated successfully.\n",
      "         Current function value: 0.011740\n",
      "         Iterations 10\n"
     ]
    },
    {
     "name": "stderr",
     "output_type": "stream",
     "text": [
      "/home/codespace/.local/lib/python3.10/site-packages/pandas/core/arraylike.py:396: RuntimeWarning: divide by zero encountered in log\n",
      "  result = getattr(ufunc, method)(*inputs, **kwargs)\n",
      "/home/codespace/.local/lib/python3.10/site-packages/pandas/core/arraylike.py:396: RuntimeWarning: divide by zero encountered in log\n",
      "  result = getattr(ufunc, method)(*inputs, **kwargs)\n"
     ]
    },
    {
     "name": "stdout",
     "output_type": "stream",
     "text": [
      "Optimization terminated successfully.\n",
      "         Current function value: 0.011011\n",
      "         Iterations 10\n"
     ]
    },
    {
     "name": "stderr",
     "output_type": "stream",
     "text": [
      "/home/codespace/.local/lib/python3.10/site-packages/pandas/core/arraylike.py:396: RuntimeWarning: divide by zero encountered in log\n",
      "  result = getattr(ufunc, method)(*inputs, **kwargs)\n",
      "/home/codespace/.local/lib/python3.10/site-packages/pandas/core/arraylike.py:396: RuntimeWarning: divide by zero encountered in log\n",
      "  result = getattr(ufunc, method)(*inputs, **kwargs)\n"
     ]
    },
    {
     "name": "stdout",
     "output_type": "stream",
     "text": [
      "Optimization terminated successfully.\n",
      "         Current function value: 0.011163\n",
      "         Iterations 10\n"
     ]
    },
    {
     "name": "stderr",
     "output_type": "stream",
     "text": [
      "/home/codespace/.local/lib/python3.10/site-packages/pandas/core/arraylike.py:396: RuntimeWarning: divide by zero encountered in log\n",
      "  result = getattr(ufunc, method)(*inputs, **kwargs)\n",
      "/home/codespace/.local/lib/python3.10/site-packages/pandas/core/arraylike.py:396: RuntimeWarning: divide by zero encountered in log\n",
      "  result = getattr(ufunc, method)(*inputs, **kwargs)\n"
     ]
    },
    {
     "name": "stdout",
     "output_type": "stream",
     "text": [
      "Optimization terminated successfully.\n",
      "         Current function value: 0.011050\n",
      "         Iterations 10\n"
     ]
    },
    {
     "name": "stderr",
     "output_type": "stream",
     "text": [
      "/home/codespace/.local/lib/python3.10/site-packages/pandas/core/arraylike.py:396: RuntimeWarning: divide by zero encountered in log\n",
      "  result = getattr(ufunc, method)(*inputs, **kwargs)\n",
      "/home/codespace/.local/lib/python3.10/site-packages/pandas/core/arraylike.py:396: RuntimeWarning: divide by zero encountered in log\n",
      "  result = getattr(ufunc, method)(*inputs, **kwargs)\n"
     ]
    },
    {
     "name": "stdout",
     "output_type": "stream",
     "text": [
      "Optimization terminated successfully.\n",
      "         Current function value: 0.028763\n",
      "         Iterations 9\n"
     ]
    },
    {
     "name": "stderr",
     "output_type": "stream",
     "text": [
      "/home/codespace/.local/lib/python3.10/site-packages/pandas/core/arraylike.py:396: RuntimeWarning: divide by zero encountered in log\n",
      "  result = getattr(ufunc, method)(*inputs, **kwargs)\n",
      "/home/codespace/.local/lib/python3.10/site-packages/pandas/core/arraylike.py:396: RuntimeWarning: divide by zero encountered in log\n",
      "  result = getattr(ufunc, method)(*inputs, **kwargs)\n"
     ]
    },
    {
     "name": "stdout",
     "output_type": "stream",
     "text": [
      "Optimization terminated successfully.\n",
      "         Current function value: 0.028714\n",
      "         Iterations 9\n"
     ]
    },
    {
     "name": "stderr",
     "output_type": "stream",
     "text": [
      "/home/codespace/.local/lib/python3.10/site-packages/pandas/core/arraylike.py:396: RuntimeWarning: divide by zero encountered in log\n",
      "  result = getattr(ufunc, method)(*inputs, **kwargs)\n",
      "/home/codespace/.local/lib/python3.10/site-packages/pandas/core/arraylike.py:396: RuntimeWarning: divide by zero encountered in log\n",
      "  result = getattr(ufunc, method)(*inputs, **kwargs)\n"
     ]
    },
    {
     "name": "stdout",
     "output_type": "stream",
     "text": [
      "Optimization terminated successfully.\n",
      "         Current function value: 0.028754\n",
      "         Iterations 9\n"
     ]
    },
    {
     "name": "stderr",
     "output_type": "stream",
     "text": [
      "/home/codespace/.local/lib/python3.10/site-packages/pandas/core/arraylike.py:396: RuntimeWarning: divide by zero encountered in log\n",
      "  result = getattr(ufunc, method)(*inputs, **kwargs)\n",
      "/home/codespace/.local/lib/python3.10/site-packages/pandas/core/arraylike.py:396: RuntimeWarning: divide by zero encountered in log\n",
      "  result = getattr(ufunc, method)(*inputs, **kwargs)\n"
     ]
    },
    {
     "name": "stdout",
     "output_type": "stream",
     "text": [
      "Optimization terminated successfully.\n",
      "         Current function value: 0.036663\n",
      "         Iterations 9\n"
     ]
    },
    {
     "name": "stderr",
     "output_type": "stream",
     "text": [
      "/home/codespace/.local/lib/python3.10/site-packages/pandas/core/arraylike.py:396: RuntimeWarning: divide by zero encountered in log\n",
      "  result = getattr(ufunc, method)(*inputs, **kwargs)\n",
      "/home/codespace/.local/lib/python3.10/site-packages/pandas/core/arraylike.py:396: RuntimeWarning: divide by zero encountered in log\n",
      "  result = getattr(ufunc, method)(*inputs, **kwargs)\n"
     ]
    },
    {
     "name": "stdout",
     "output_type": "stream",
     "text": [
      "Optimization terminated successfully.\n",
      "         Current function value: 0.036795\n",
      "         Iterations 9\n"
     ]
    },
    {
     "name": "stderr",
     "output_type": "stream",
     "text": [
      "/home/codespace/.local/lib/python3.10/site-packages/pandas/core/arraylike.py:396: RuntimeWarning: divide by zero encountered in log\n",
      "  result = getattr(ufunc, method)(*inputs, **kwargs)\n",
      "/home/codespace/.local/lib/python3.10/site-packages/pandas/core/arraylike.py:396: RuntimeWarning: divide by zero encountered in log\n",
      "  result = getattr(ufunc, method)(*inputs, **kwargs)\n"
     ]
    },
    {
     "name": "stdout",
     "output_type": "stream",
     "text": [
      "Optimization terminated successfully.\n",
      "         Current function value: 0.036863\n",
      "         Iterations 9\n"
     ]
    },
    {
     "name": "stderr",
     "output_type": "stream",
     "text": [
      "/home/codespace/.local/lib/python3.10/site-packages/pandas/core/arraylike.py:396: RuntimeWarning: divide by zero encountered in log\n",
      "  result = getattr(ufunc, method)(*inputs, **kwargs)\n",
      "/home/codespace/.local/lib/python3.10/site-packages/pandas/core/arraylike.py:396: RuntimeWarning: divide by zero encountered in log\n",
      "  result = getattr(ufunc, method)(*inputs, **kwargs)\n"
     ]
    },
    {
     "name": "stdout",
     "output_type": "stream",
     "text": [
      "Optimization terminated successfully.\n",
      "         Current function value: 0.013784\n",
      "         Iterations 10\n"
     ]
    },
    {
     "name": "stderr",
     "output_type": "stream",
     "text": [
      "/home/codespace/.local/lib/python3.10/site-packages/pandas/core/arraylike.py:396: RuntimeWarning: divide by zero encountered in log\n",
      "  result = getattr(ufunc, method)(*inputs, **kwargs)\n",
      "/home/codespace/.local/lib/python3.10/site-packages/pandas/core/arraylike.py:396: RuntimeWarning: divide by zero encountered in log\n",
      "  result = getattr(ufunc, method)(*inputs, **kwargs)\n"
     ]
    },
    {
     "name": "stdout",
     "output_type": "stream",
     "text": [
      "Optimization terminated successfully.\n",
      "         Current function value: 0.014147\n",
      "         Iterations 10\n"
     ]
    },
    {
     "name": "stderr",
     "output_type": "stream",
     "text": [
      "/home/codespace/.local/lib/python3.10/site-packages/pandas/core/arraylike.py:396: RuntimeWarning: divide by zero encountered in log\n",
      "  result = getattr(ufunc, method)(*inputs, **kwargs)\n",
      "/home/codespace/.local/lib/python3.10/site-packages/pandas/core/arraylike.py:396: RuntimeWarning: divide by zero encountered in log\n",
      "  result = getattr(ufunc, method)(*inputs, **kwargs)\n"
     ]
    },
    {
     "name": "stdout",
     "output_type": "stream",
     "text": [
      "Optimization terminated successfully.\n",
      "         Current function value: 0.014215\n",
      "         Iterations 10\n"
     ]
    },
    {
     "name": "stderr",
     "output_type": "stream",
     "text": [
      "/home/codespace/.local/lib/python3.10/site-packages/pandas/core/arraylike.py:396: RuntimeWarning: divide by zero encountered in log\n",
      "  result = getattr(ufunc, method)(*inputs, **kwargs)\n",
      "/home/codespace/.local/lib/python3.10/site-packages/pandas/core/arraylike.py:396: RuntimeWarning: divide by zero encountered in log\n",
      "  result = getattr(ufunc, method)(*inputs, **kwargs)\n"
     ]
    },
    {
     "name": "stdout",
     "output_type": "stream",
     "text": [
      "Optimization terminated successfully.\n",
      "         Current function value: 0.013031\n",
      "         Iterations 10\n"
     ]
    },
    {
     "name": "stderr",
     "output_type": "stream",
     "text": [
      "/home/codespace/.local/lib/python3.10/site-packages/pandas/core/arraylike.py:396: RuntimeWarning: divide by zero encountered in log\n",
      "  result = getattr(ufunc, method)(*inputs, **kwargs)\n",
      "/home/codespace/.local/lib/python3.10/site-packages/pandas/core/arraylike.py:396: RuntimeWarning: divide by zero encountered in log\n",
      "  result = getattr(ufunc, method)(*inputs, **kwargs)\n"
     ]
    },
    {
     "name": "stdout",
     "output_type": "stream",
     "text": [
      "Optimization terminated successfully.\n",
      "         Current function value: 0.012789\n",
      "         Iterations 10\n"
     ]
    },
    {
     "name": "stderr",
     "output_type": "stream",
     "text": [
      "/home/codespace/.local/lib/python3.10/site-packages/pandas/core/arraylike.py:396: RuntimeWarning: divide by zero encountered in log\n",
      "  result = getattr(ufunc, method)(*inputs, **kwargs)\n",
      "/home/codespace/.local/lib/python3.10/site-packages/pandas/core/arraylike.py:396: RuntimeWarning: divide by zero encountered in log\n",
      "  result = getattr(ufunc, method)(*inputs, **kwargs)\n"
     ]
    },
    {
     "name": "stdout",
     "output_type": "stream",
     "text": [
      "Optimization terminated successfully.\n",
      "         Current function value: 0.011552\n",
      "         Iterations 11\n"
     ]
    },
    {
     "name": "stderr",
     "output_type": "stream",
     "text": [
      "/home/codespace/.local/lib/python3.10/site-packages/pandas/core/arraylike.py:396: RuntimeWarning: divide by zero encountered in log\n",
      "  result = getattr(ufunc, method)(*inputs, **kwargs)\n",
      "/home/codespace/.local/lib/python3.10/site-packages/pandas/core/arraylike.py:396: RuntimeWarning: divide by zero encountered in log\n",
      "  result = getattr(ufunc, method)(*inputs, **kwargs)\n"
     ]
    },
    {
     "name": "stdout",
     "output_type": "stream",
     "text": [
      "Optimization terminated successfully.\n",
      "         Current function value: 0.013932\n",
      "         Iterations 11\n"
     ]
    },
    {
     "name": "stderr",
     "output_type": "stream",
     "text": [
      "/home/codespace/.local/lib/python3.10/site-packages/pandas/core/arraylike.py:396: RuntimeWarning: divide by zero encountered in log\n",
      "  result = getattr(ufunc, method)(*inputs, **kwargs)\n",
      "/home/codespace/.local/lib/python3.10/site-packages/pandas/core/arraylike.py:396: RuntimeWarning: divide by zero encountered in log\n",
      "  result = getattr(ufunc, method)(*inputs, **kwargs)\n"
     ]
    },
    {
     "name": "stdout",
     "output_type": "stream",
     "text": [
      "Optimization terminated successfully.\n",
      "         Current function value: 0.013857\n",
      "         Iterations 10\n"
     ]
    },
    {
     "name": "stderr",
     "output_type": "stream",
     "text": [
      "/home/codespace/.local/lib/python3.10/site-packages/pandas/core/arraylike.py:396: RuntimeWarning: divide by zero encountered in log\n",
      "  result = getattr(ufunc, method)(*inputs, **kwargs)\n",
      "/home/codespace/.local/lib/python3.10/site-packages/pandas/core/arraylike.py:396: RuntimeWarning: divide by zero encountered in log\n",
      "  result = getattr(ufunc, method)(*inputs, **kwargs)\n"
     ]
    },
    {
     "name": "stdout",
     "output_type": "stream",
     "text": [
      "Optimization terminated successfully.\n",
      "         Current function value: 0.013808\n",
      "         Iterations 10\n"
     ]
    },
    {
     "name": "stderr",
     "output_type": "stream",
     "text": [
      "/home/codespace/.local/lib/python3.10/site-packages/pandas/core/arraylike.py:396: RuntimeWarning: divide by zero encountered in log\n",
      "  result = getattr(ufunc, method)(*inputs, **kwargs)\n",
      "/home/codespace/.local/lib/python3.10/site-packages/pandas/core/arraylike.py:396: RuntimeWarning: divide by zero encountered in log\n",
      "  result = getattr(ufunc, method)(*inputs, **kwargs)\n"
     ]
    },
    {
     "name": "stdout",
     "output_type": "stream",
     "text": [
      "Optimization terminated successfully.\n",
      "         Current function value: 0.011757\n",
      "         Iterations 10\n"
     ]
    },
    {
     "name": "stderr",
     "output_type": "stream",
     "text": [
      "/home/codespace/.local/lib/python3.10/site-packages/pandas/core/arraylike.py:396: RuntimeWarning: divide by zero encountered in log\n",
      "  result = getattr(ufunc, method)(*inputs, **kwargs)\n",
      "/home/codespace/.local/lib/python3.10/site-packages/pandas/core/arraylike.py:396: RuntimeWarning: divide by zero encountered in log\n",
      "  result = getattr(ufunc, method)(*inputs, **kwargs)\n"
     ]
    },
    {
     "name": "stdout",
     "output_type": "stream",
     "text": [
      "Optimization terminated successfully.\n",
      "         Current function value: 0.005046\n",
      "         Iterations 13\n"
     ]
    },
    {
     "name": "stderr",
     "output_type": "stream",
     "text": [
      "/home/codespace/.local/lib/python3.10/site-packages/pandas/core/arraylike.py:396: RuntimeWarning: divide by zero encountered in log\n",
      "  result = getattr(ufunc, method)(*inputs, **kwargs)\n",
      "/home/codespace/.local/lib/python3.10/site-packages/pandas/core/arraylike.py:396: RuntimeWarning: divide by zero encountered in log\n",
      "  result = getattr(ufunc, method)(*inputs, **kwargs)\n"
     ]
    },
    {
     "name": "stdout",
     "output_type": "stream",
     "text": [
      "Optimization terminated successfully.\n",
      "         Current function value: 0.005039\n",
      "         Iterations 13\n"
     ]
    },
    {
     "name": "stderr",
     "output_type": "stream",
     "text": [
      "/home/codespace/.local/lib/python3.10/site-packages/pandas/core/arraylike.py:396: RuntimeWarning: divide by zero encountered in log\n",
      "  result = getattr(ufunc, method)(*inputs, **kwargs)\n",
      "/home/codespace/.local/lib/python3.10/site-packages/pandas/core/arraylike.py:396: RuntimeWarning: divide by zero encountered in log\n",
      "  result = getattr(ufunc, method)(*inputs, **kwargs)\n"
     ]
    },
    {
     "name": "stdout",
     "output_type": "stream",
     "text": [
      "Optimization terminated successfully.\n",
      "         Current function value: 0.005986\n",
      "         Iterations 12\n"
     ]
    },
    {
     "name": "stderr",
     "output_type": "stream",
     "text": [
      "/home/codespace/.local/lib/python3.10/site-packages/pandas/core/arraylike.py:396: RuntimeWarning: divide by zero encountered in log\n",
      "  result = getattr(ufunc, method)(*inputs, **kwargs)\n",
      "/home/codespace/.local/lib/python3.10/site-packages/pandas/core/arraylike.py:396: RuntimeWarning: divide by zero encountered in log\n",
      "  result = getattr(ufunc, method)(*inputs, **kwargs)\n"
     ]
    },
    {
     "name": "stdout",
     "output_type": "stream",
     "text": [
      "Optimization terminated successfully.\n",
      "         Current function value: 0.005938\n",
      "         Iterations 12\n"
     ]
    },
    {
     "name": "stderr",
     "output_type": "stream",
     "text": [
      "/home/codespace/.local/lib/python3.10/site-packages/pandas/core/arraylike.py:396: RuntimeWarning: divide by zero encountered in log\n",
      "  result = getattr(ufunc, method)(*inputs, **kwargs)\n",
      "/home/codespace/.local/lib/python3.10/site-packages/pandas/core/arraylike.py:396: RuntimeWarning: divide by zero encountered in log\n",
      "  result = getattr(ufunc, method)(*inputs, **kwargs)\n"
     ]
    },
    {
     "name": "stdout",
     "output_type": "stream",
     "text": [
      "Optimization terminated successfully.\n",
      "         Current function value: 0.005826\n",
      "         Iterations 12\n"
     ]
    },
    {
     "name": "stderr",
     "output_type": "stream",
     "text": [
      "/home/codespace/.local/lib/python3.10/site-packages/pandas/core/arraylike.py:396: RuntimeWarning: divide by zero encountered in log\n",
      "  result = getattr(ufunc, method)(*inputs, **kwargs)\n",
      "/home/codespace/.local/lib/python3.10/site-packages/pandas/core/arraylike.py:396: RuntimeWarning: divide by zero encountered in log\n",
      "  result = getattr(ufunc, method)(*inputs, **kwargs)\n"
     ]
    },
    {
     "name": "stdout",
     "output_type": "stream",
     "text": [
      "Optimization terminated successfully.\n",
      "         Current function value: 0.006947\n",
      "         Iterations 11\n"
     ]
    },
    {
     "name": "stderr",
     "output_type": "stream",
     "text": [
      "/home/codespace/.local/lib/python3.10/site-packages/pandas/core/arraylike.py:396: RuntimeWarning: divide by zero encountered in log\n",
      "  result = getattr(ufunc, method)(*inputs, **kwargs)\n",
      "/home/codespace/.local/lib/python3.10/site-packages/pandas/core/arraylike.py:396: RuntimeWarning: divide by zero encountered in log\n",
      "  result = getattr(ufunc, method)(*inputs, **kwargs)\n"
     ]
    },
    {
     "name": "stdout",
     "output_type": "stream",
     "text": [
      "Optimization terminated successfully.\n",
      "         Current function value: 0.006786\n",
      "         Iterations 12\n"
     ]
    },
    {
     "name": "stderr",
     "output_type": "stream",
     "text": [
      "/home/codespace/.local/lib/python3.10/site-packages/pandas/core/arraylike.py:396: RuntimeWarning: divide by zero encountered in log\n",
      "  result = getattr(ufunc, method)(*inputs, **kwargs)\n",
      "/home/codespace/.local/lib/python3.10/site-packages/pandas/core/arraylike.py:396: RuntimeWarning: divide by zero encountered in log\n",
      "  result = getattr(ufunc, method)(*inputs, **kwargs)\n"
     ]
    },
    {
     "name": "stdout",
     "output_type": "stream",
     "text": [
      "Optimization terminated successfully.\n",
      "         Current function value: 0.006972\n",
      "         Iterations 12\n"
     ]
    },
    {
     "name": "stderr",
     "output_type": "stream",
     "text": [
      "/home/codespace/.local/lib/python3.10/site-packages/pandas/core/arraylike.py:396: RuntimeWarning: divide by zero encountered in log\n",
      "  result = getattr(ufunc, method)(*inputs, **kwargs)\n",
      "/home/codespace/.local/lib/python3.10/site-packages/pandas/core/arraylike.py:396: RuntimeWarning: divide by zero encountered in log\n",
      "  result = getattr(ufunc, method)(*inputs, **kwargs)\n"
     ]
    },
    {
     "name": "stdout",
     "output_type": "stream",
     "text": [
      "Optimization terminated successfully.\n",
      "         Current function value: 0.007216\n",
      "         Iterations 11\n"
     ]
    },
    {
     "name": "stderr",
     "output_type": "stream",
     "text": [
      "/home/codespace/.local/lib/python3.10/site-packages/pandas/core/arraylike.py:396: RuntimeWarning: divide by zero encountered in log\n",
      "  result = getattr(ufunc, method)(*inputs, **kwargs)\n",
      "/home/codespace/.local/lib/python3.10/site-packages/pandas/core/arraylike.py:396: RuntimeWarning: divide by zero encountered in log\n",
      "  result = getattr(ufunc, method)(*inputs, **kwargs)\n"
     ]
    },
    {
     "name": "stdout",
     "output_type": "stream",
     "text": [
      "Optimization terminated successfully.\n",
      "         Current function value: 0.007118\n",
      "         Iterations 11\n"
     ]
    },
    {
     "name": "stderr",
     "output_type": "stream",
     "text": [
      "/home/codespace/.local/lib/python3.10/site-packages/pandas/core/arraylike.py:396: RuntimeWarning: divide by zero encountered in log\n",
      "  result = getattr(ufunc, method)(*inputs, **kwargs)\n",
      "/home/codespace/.local/lib/python3.10/site-packages/pandas/core/arraylike.py:396: RuntimeWarning: divide by zero encountered in log\n",
      "  result = getattr(ufunc, method)(*inputs, **kwargs)\n"
     ]
    },
    {
     "name": "stdout",
     "output_type": "stream",
     "text": [
      "Optimization terminated successfully.\n",
      "         Current function value: 0.006641\n",
      "         Iterations 11\n"
     ]
    },
    {
     "name": "stderr",
     "output_type": "stream",
     "text": [
      "/home/codespace/.local/lib/python3.10/site-packages/pandas/core/arraylike.py:396: RuntimeWarning: divide by zero encountered in log\n",
      "  result = getattr(ufunc, method)(*inputs, **kwargs)\n",
      "/home/codespace/.local/lib/python3.10/site-packages/pandas/core/arraylike.py:396: RuntimeWarning: divide by zero encountered in log\n",
      "  result = getattr(ufunc, method)(*inputs, **kwargs)\n"
     ]
    },
    {
     "name": "stdout",
     "output_type": "stream",
     "text": [
      "Optimization terminated successfully.\n",
      "         Current function value: 0.011755\n",
      "         Iterations 10\n"
     ]
    },
    {
     "name": "stderr",
     "output_type": "stream",
     "text": [
      "/home/codespace/.local/lib/python3.10/site-packages/pandas/core/arraylike.py:396: RuntimeWarning: divide by zero encountered in log\n",
      "  result = getattr(ufunc, method)(*inputs, **kwargs)\n",
      "/home/codespace/.local/lib/python3.10/site-packages/pandas/core/arraylike.py:396: RuntimeWarning: divide by zero encountered in log\n",
      "  result = getattr(ufunc, method)(*inputs, **kwargs)\n"
     ]
    },
    {
     "name": "stdout",
     "output_type": "stream",
     "text": [
      "Optimization terminated successfully.\n",
      "         Current function value: 0.011802\n",
      "         Iterations 11\n"
     ]
    },
    {
     "name": "stderr",
     "output_type": "stream",
     "text": [
      "/home/codespace/.local/lib/python3.10/site-packages/pandas/core/arraylike.py:396: RuntimeWarning: divide by zero encountered in log\n",
      "  result = getattr(ufunc, method)(*inputs, **kwargs)\n",
      "/home/codespace/.local/lib/python3.10/site-packages/pandas/core/arraylike.py:396: RuntimeWarning: divide by zero encountered in log\n",
      "  result = getattr(ufunc, method)(*inputs, **kwargs)\n"
     ]
    },
    {
     "name": "stdout",
     "output_type": "stream",
     "text": [
      "Optimization terminated successfully.\n",
      "         Current function value: 0.011713\n",
      "         Iterations 11\n"
     ]
    },
    {
     "name": "stderr",
     "output_type": "stream",
     "text": [
      "/home/codespace/.local/lib/python3.10/site-packages/pandas/core/arraylike.py:396: RuntimeWarning: divide by zero encountered in log\n",
      "  result = getattr(ufunc, method)(*inputs, **kwargs)\n",
      "/home/codespace/.local/lib/python3.10/site-packages/pandas/core/arraylike.py:396: RuntimeWarning: divide by zero encountered in log\n",
      "  result = getattr(ufunc, method)(*inputs, **kwargs)\n"
     ]
    },
    {
     "name": "stdout",
     "output_type": "stream",
     "text": [
      "Optimization terminated successfully.\n",
      "         Current function value: 0.009189\n",
      "         Iterations 10\n"
     ]
    },
    {
     "name": "stderr",
     "output_type": "stream",
     "text": [
      "/home/codespace/.local/lib/python3.10/site-packages/pandas/core/arraylike.py:396: RuntimeWarning: divide by zero encountered in log\n",
      "  result = getattr(ufunc, method)(*inputs, **kwargs)\n",
      "/home/codespace/.local/lib/python3.10/site-packages/pandas/core/arraylike.py:396: RuntimeWarning: divide by zero encountered in log\n",
      "  result = getattr(ufunc, method)(*inputs, **kwargs)\n"
     ]
    },
    {
     "name": "stdout",
     "output_type": "stream",
     "text": [
      "Optimization terminated successfully.\n",
      "         Current function value: 0.009090\n",
      "         Iterations 11\n"
     ]
    },
    {
     "name": "stderr",
     "output_type": "stream",
     "text": [
      "/home/codespace/.local/lib/python3.10/site-packages/pandas/core/arraylike.py:396: RuntimeWarning: divide by zero encountered in log\n",
      "  result = getattr(ufunc, method)(*inputs, **kwargs)\n",
      "/home/codespace/.local/lib/python3.10/site-packages/pandas/core/arraylike.py:396: RuntimeWarning: divide by zero encountered in log\n",
      "  result = getattr(ufunc, method)(*inputs, **kwargs)\n"
     ]
    },
    {
     "name": "stdout",
     "output_type": "stream",
     "text": [
      "Optimization terminated successfully.\n",
      "         Current function value: 0.008968\n",
      "         Iterations 11\n"
     ]
    },
    {
     "name": "stderr",
     "output_type": "stream",
     "text": [
      "/home/codespace/.local/lib/python3.10/site-packages/pandas/core/arraylike.py:396: RuntimeWarning: divide by zero encountered in log\n",
      "  result = getattr(ufunc, method)(*inputs, **kwargs)\n",
      "/home/codespace/.local/lib/python3.10/site-packages/pandas/core/arraylike.py:396: RuntimeWarning: divide by zero encountered in log\n",
      "  result = getattr(ufunc, method)(*inputs, **kwargs)\n"
     ]
    },
    {
     "name": "stdout",
     "output_type": "stream",
     "text": [
      "Optimization terminated successfully.\n",
      "         Current function value: 0.009447\n",
      "         Iterations 11\n"
     ]
    },
    {
     "name": "stderr",
     "output_type": "stream",
     "text": [
      "/home/codespace/.local/lib/python3.10/site-packages/pandas/core/arraylike.py:396: RuntimeWarning: divide by zero encountered in log\n",
      "  result = getattr(ufunc, method)(*inputs, **kwargs)\n",
      "/home/codespace/.local/lib/python3.10/site-packages/pandas/core/arraylike.py:396: RuntimeWarning: divide by zero encountered in log\n",
      "  result = getattr(ufunc, method)(*inputs, **kwargs)\n"
     ]
    },
    {
     "name": "stdout",
     "output_type": "stream",
     "text": [
      "Optimization terminated successfully.\n",
      "         Current function value: 0.009192\n",
      "         Iterations 11\n"
     ]
    },
    {
     "name": "stderr",
     "output_type": "stream",
     "text": [
      "/home/codespace/.local/lib/python3.10/site-packages/pandas/core/arraylike.py:396: RuntimeWarning: divide by zero encountered in log\n",
      "  result = getattr(ufunc, method)(*inputs, **kwargs)\n",
      "/home/codespace/.local/lib/python3.10/site-packages/pandas/core/arraylike.py:396: RuntimeWarning: divide by zero encountered in log\n",
      "  result = getattr(ufunc, method)(*inputs, **kwargs)\n"
     ]
    },
    {
     "name": "stdout",
     "output_type": "stream",
     "text": [
      "Optimization terminated successfully.\n",
      "         Current function value: 0.009418\n",
      "         Iterations 11\n"
     ]
    },
    {
     "name": "stderr",
     "output_type": "stream",
     "text": [
      "/home/codespace/.local/lib/python3.10/site-packages/pandas/core/arraylike.py:396: RuntimeWarning: divide by zero encountered in log\n",
      "  result = getattr(ufunc, method)(*inputs, **kwargs)\n",
      "/home/codespace/.local/lib/python3.10/site-packages/pandas/core/arraylike.py:396: RuntimeWarning: divide by zero encountered in log\n",
      "  result = getattr(ufunc, method)(*inputs, **kwargs)\n"
     ]
    },
    {
     "name": "stdout",
     "output_type": "stream",
     "text": [
      "Optimization terminated successfully.\n",
      "         Current function value: 0.008670\n",
      "         Iterations 10\n"
     ]
    },
    {
     "name": "stderr",
     "output_type": "stream",
     "text": [
      "/home/codespace/.local/lib/python3.10/site-packages/pandas/core/arraylike.py:396: RuntimeWarning: divide by zero encountered in log\n",
      "  result = getattr(ufunc, method)(*inputs, **kwargs)\n",
      "/home/codespace/.local/lib/python3.10/site-packages/pandas/core/arraylike.py:396: RuntimeWarning: divide by zero encountered in log\n",
      "  result = getattr(ufunc, method)(*inputs, **kwargs)\n"
     ]
    },
    {
     "name": "stdout",
     "output_type": "stream",
     "text": [
      "Optimization terminated successfully.\n",
      "         Current function value: 0.008280\n",
      "         Iterations 11\n"
     ]
    },
    {
     "name": "stderr",
     "output_type": "stream",
     "text": [
      "/home/codespace/.local/lib/python3.10/site-packages/pandas/core/arraylike.py:396: RuntimeWarning: divide by zero encountered in log\n",
      "  result = getattr(ufunc, method)(*inputs, **kwargs)\n",
      "/home/codespace/.local/lib/python3.10/site-packages/pandas/core/arraylike.py:396: RuntimeWarning: divide by zero encountered in log\n",
      "  result = getattr(ufunc, method)(*inputs, **kwargs)\n"
     ]
    },
    {
     "name": "stdout",
     "output_type": "stream",
     "text": [
      "Optimization terminated successfully.\n",
      "         Current function value: 0.008475\n",
      "         Iterations 10\n"
     ]
    },
    {
     "name": "stderr",
     "output_type": "stream",
     "text": [
      "/home/codespace/.local/lib/python3.10/site-packages/pandas/core/arraylike.py:396: RuntimeWarning: divide by zero encountered in log\n",
      "  result = getattr(ufunc, method)(*inputs, **kwargs)\n",
      "/home/codespace/.local/lib/python3.10/site-packages/pandas/core/arraylike.py:396: RuntimeWarning: divide by zero encountered in log\n",
      "  result = getattr(ufunc, method)(*inputs, **kwargs)\n"
     ]
    },
    {
     "name": "stdout",
     "output_type": "stream",
     "text": [
      "Optimization terminated successfully.\n",
      "         Current function value: 0.008381\n",
      "         Iterations 10\n"
     ]
    },
    {
     "name": "stderr",
     "output_type": "stream",
     "text": [
      "/home/codespace/.local/lib/python3.10/site-packages/pandas/core/arraylike.py:396: RuntimeWarning: divide by zero encountered in log\n",
      "  result = getattr(ufunc, method)(*inputs, **kwargs)\n",
      "/home/codespace/.local/lib/python3.10/site-packages/pandas/core/arraylike.py:396: RuntimeWarning: divide by zero encountered in log\n",
      "  result = getattr(ufunc, method)(*inputs, **kwargs)\n"
     ]
    },
    {
     "name": "stdout",
     "output_type": "stream",
     "text": [
      "Optimization terminated successfully.\n",
      "         Current function value: 0.008108\n",
      "         Iterations 11\n"
     ]
    },
    {
     "name": "stderr",
     "output_type": "stream",
     "text": [
      "/home/codespace/.local/lib/python3.10/site-packages/pandas/core/arraylike.py:396: RuntimeWarning: divide by zero encountered in log\n",
      "  result = getattr(ufunc, method)(*inputs, **kwargs)\n",
      "/home/codespace/.local/lib/python3.10/site-packages/pandas/core/arraylike.py:396: RuntimeWarning: divide by zero encountered in log\n",
      "  result = getattr(ufunc, method)(*inputs, **kwargs)\n"
     ]
    },
    {
     "name": "stdout",
     "output_type": "stream",
     "text": [
      "Optimization terminated successfully.\n",
      "         Current function value: 0.008228\n",
      "         Iterations 11\n"
     ]
    },
    {
     "name": "stderr",
     "output_type": "stream",
     "text": [
      "/home/codespace/.local/lib/python3.10/site-packages/pandas/core/arraylike.py:396: RuntimeWarning: divide by zero encountered in log\n",
      "  result = getattr(ufunc, method)(*inputs, **kwargs)\n",
      "/home/codespace/.local/lib/python3.10/site-packages/pandas/core/arraylike.py:396: RuntimeWarning: divide by zero encountered in log\n",
      "  result = getattr(ufunc, method)(*inputs, **kwargs)\n"
     ]
    },
    {
     "name": "stdout",
     "output_type": "stream",
     "text": [
      "Optimization terminated successfully.\n",
      "         Current function value: 0.008125\n",
      "         Iterations 10\n"
     ]
    },
    {
     "name": "stderr",
     "output_type": "stream",
     "text": [
      "/home/codespace/.local/lib/python3.10/site-packages/pandas/core/arraylike.py:396: RuntimeWarning: divide by zero encountered in log\n",
      "  result = getattr(ufunc, method)(*inputs, **kwargs)\n",
      "/home/codespace/.local/lib/python3.10/site-packages/pandas/core/arraylike.py:396: RuntimeWarning: divide by zero encountered in log\n",
      "  result = getattr(ufunc, method)(*inputs, **kwargs)\n"
     ]
    },
    {
     "name": "stdout",
     "output_type": "stream",
     "text": [
      "Optimization terminated successfully.\n",
      "         Current function value: 0.008153\n",
      "         Iterations 11\n"
     ]
    },
    {
     "name": "stderr",
     "output_type": "stream",
     "text": [
      "/home/codespace/.local/lib/python3.10/site-packages/pandas/core/arraylike.py:396: RuntimeWarning: divide by zero encountered in log\n",
      "  result = getattr(ufunc, method)(*inputs, **kwargs)\n",
      "/home/codespace/.local/lib/python3.10/site-packages/pandas/core/arraylike.py:396: RuntimeWarning: divide by zero encountered in log\n",
      "  result = getattr(ufunc, method)(*inputs, **kwargs)\n"
     ]
    },
    {
     "name": "stdout",
     "output_type": "stream",
     "text": [
      "Optimization terminated successfully.\n",
      "         Current function value: 0.015619\n",
      "         Iterations 9\n"
     ]
    },
    {
     "name": "stderr",
     "output_type": "stream",
     "text": [
      "/home/codespace/.local/lib/python3.10/site-packages/pandas/core/arraylike.py:396: RuntimeWarning: divide by zero encountered in log\n",
      "  result = getattr(ufunc, method)(*inputs, **kwargs)\n",
      "/home/codespace/.local/lib/python3.10/site-packages/pandas/core/arraylike.py:396: RuntimeWarning: divide by zero encountered in log\n",
      "  result = getattr(ufunc, method)(*inputs, **kwargs)\n"
     ]
    },
    {
     "name": "stdout",
     "output_type": "stream",
     "text": [
      "Optimization terminated successfully.\n",
      "         Current function value: 0.013754\n",
      "         Iterations 10\n"
     ]
    },
    {
     "name": "stderr",
     "output_type": "stream",
     "text": [
      "/home/codespace/.local/lib/python3.10/site-packages/pandas/core/arraylike.py:396: RuntimeWarning: divide by zero encountered in log\n",
      "  result = getattr(ufunc, method)(*inputs, **kwargs)\n",
      "/home/codespace/.local/lib/python3.10/site-packages/pandas/core/arraylike.py:396: RuntimeWarning: divide by zero encountered in log\n",
      "  result = getattr(ufunc, method)(*inputs, **kwargs)\n"
     ]
    },
    {
     "name": "stdout",
     "output_type": "stream",
     "text": [
      "Optimization terminated successfully.\n",
      "         Current function value: 0.013837\n",
      "         Iterations 10\n"
     ]
    },
    {
     "name": "stderr",
     "output_type": "stream",
     "text": [
      "/home/codespace/.local/lib/python3.10/site-packages/pandas/core/arraylike.py:396: RuntimeWarning: divide by zero encountered in log\n",
      "  result = getattr(ufunc, method)(*inputs, **kwargs)\n",
      "/home/codespace/.local/lib/python3.10/site-packages/pandas/core/arraylike.py:396: RuntimeWarning: divide by zero encountered in log\n",
      "  result = getattr(ufunc, method)(*inputs, **kwargs)\n"
     ]
    },
    {
     "name": "stdout",
     "output_type": "stream",
     "text": [
      "Optimization terminated successfully.\n",
      "         Current function value: 0.014023\n",
      "         Iterations 10\n"
     ]
    },
    {
     "name": "stderr",
     "output_type": "stream",
     "text": [
      "/home/codespace/.local/lib/python3.10/site-packages/pandas/core/arraylike.py:396: RuntimeWarning: divide by zero encountered in log\n",
      "  result = getattr(ufunc, method)(*inputs, **kwargs)\n",
      "/home/codespace/.local/lib/python3.10/site-packages/pandas/core/arraylike.py:396: RuntimeWarning: divide by zero encountered in log\n",
      "  result = getattr(ufunc, method)(*inputs, **kwargs)\n"
     ]
    },
    {
     "name": "stdout",
     "output_type": "stream",
     "text": [
      "Optimization terminated successfully.\n",
      "         Current function value: 0.002968\n",
      "         Iterations 15\n"
     ]
    },
    {
     "name": "stderr",
     "output_type": "stream",
     "text": [
      "/home/codespace/.local/lib/python3.10/site-packages/pandas/core/arraylike.py:396: RuntimeWarning: divide by zero encountered in log\n",
      "  result = getattr(ufunc, method)(*inputs, **kwargs)\n",
      "/home/codespace/.local/lib/python3.10/site-packages/pandas/core/arraylike.py:396: RuntimeWarning: divide by zero encountered in log\n",
      "  result = getattr(ufunc, method)(*inputs, **kwargs)\n"
     ]
    },
    {
     "name": "stdout",
     "output_type": "stream",
     "text": [
      "Optimization terminated successfully.\n",
      "         Current function value: 0.003406\n",
      "         Iterations 14\n"
     ]
    },
    {
     "name": "stderr",
     "output_type": "stream",
     "text": [
      "/home/codespace/.local/lib/python3.10/site-packages/pandas/core/arraylike.py:396: RuntimeWarning: divide by zero encountered in log\n",
      "  result = getattr(ufunc, method)(*inputs, **kwargs)\n",
      "/home/codespace/.local/lib/python3.10/site-packages/pandas/core/arraylike.py:396: RuntimeWarning: divide by zero encountered in log\n",
      "  result = getattr(ufunc, method)(*inputs, **kwargs)\n"
     ]
    },
    {
     "name": "stdout",
     "output_type": "stream",
     "text": [
      "Optimization terminated successfully.\n",
      "         Current function value: 0.003405\n",
      "         Iterations 15\n"
     ]
    },
    {
     "name": "stderr",
     "output_type": "stream",
     "text": [
      "/home/codespace/.local/lib/python3.10/site-packages/pandas/core/arraylike.py:396: RuntimeWarning: divide by zero encountered in log\n",
      "  result = getattr(ufunc, method)(*inputs, **kwargs)\n",
      "/home/codespace/.local/lib/python3.10/site-packages/pandas/core/arraylike.py:396: RuntimeWarning: divide by zero encountered in log\n",
      "  result = getattr(ufunc, method)(*inputs, **kwargs)\n"
     ]
    },
    {
     "name": "stdout",
     "output_type": "stream",
     "text": [
      "Optimization terminated successfully.\n",
      "         Current function value: 0.034198\n",
      "         Iterations 9\n"
     ]
    },
    {
     "name": "stderr",
     "output_type": "stream",
     "text": [
      "/home/codespace/.local/lib/python3.10/site-packages/pandas/core/arraylike.py:396: RuntimeWarning: divide by zero encountered in log\n",
      "  result = getattr(ufunc, method)(*inputs, **kwargs)\n",
      "/home/codespace/.local/lib/python3.10/site-packages/pandas/core/arraylike.py:396: RuntimeWarning: divide by zero encountered in log\n",
      "  result = getattr(ufunc, method)(*inputs, **kwargs)\n"
     ]
    },
    {
     "name": "stdout",
     "output_type": "stream",
     "text": [
      "Optimization terminated successfully.\n",
      "         Current function value: 0.034231\n",
      "         Iterations 9\n"
     ]
    },
    {
     "name": "stderr",
     "output_type": "stream",
     "text": [
      "/home/codespace/.local/lib/python3.10/site-packages/pandas/core/arraylike.py:396: RuntimeWarning: divide by zero encountered in log\n",
      "  result = getattr(ufunc, method)(*inputs, **kwargs)\n",
      "/home/codespace/.local/lib/python3.10/site-packages/pandas/core/arraylike.py:396: RuntimeWarning: divide by zero encountered in log\n",
      "  result = getattr(ufunc, method)(*inputs, **kwargs)\n"
     ]
    },
    {
     "name": "stdout",
     "output_type": "stream",
     "text": [
      "Optimization terminated successfully.\n",
      "         Current function value: 0.034191\n",
      "         Iterations 9\n"
     ]
    },
    {
     "name": "stderr",
     "output_type": "stream",
     "text": [
      "/home/codespace/.local/lib/python3.10/site-packages/pandas/core/arraylike.py:396: RuntimeWarning: divide by zero encountered in log\n",
      "  result = getattr(ufunc, method)(*inputs, **kwargs)\n",
      "/home/codespace/.local/lib/python3.10/site-packages/pandas/core/arraylike.py:396: RuntimeWarning: divide by zero encountered in log\n",
      "  result = getattr(ufunc, method)(*inputs, **kwargs)\n"
     ]
    },
    {
     "name": "stdout",
     "output_type": "stream",
     "text": [
      "Optimization terminated successfully.\n",
      "         Current function value: 0.007603\n",
      "         Iterations 11\n"
     ]
    },
    {
     "name": "stderr",
     "output_type": "stream",
     "text": [
      "/home/codespace/.local/lib/python3.10/site-packages/pandas/core/arraylike.py:396: RuntimeWarning: divide by zero encountered in log\n",
      "  result = getattr(ufunc, method)(*inputs, **kwargs)\n",
      "/home/codespace/.local/lib/python3.10/site-packages/pandas/core/arraylike.py:396: RuntimeWarning: divide by zero encountered in log\n",
      "  result = getattr(ufunc, method)(*inputs, **kwargs)\n"
     ]
    },
    {
     "name": "stdout",
     "output_type": "stream",
     "text": [
      "Optimization terminated successfully.\n",
      "         Current function value: 0.007391\n",
      "         Iterations 11\n"
     ]
    },
    {
     "name": "stderr",
     "output_type": "stream",
     "text": [
      "/home/codespace/.local/lib/python3.10/site-packages/pandas/core/arraylike.py:396: RuntimeWarning: divide by zero encountered in log\n",
      "  result = getattr(ufunc, method)(*inputs, **kwargs)\n",
      "/home/codespace/.local/lib/python3.10/site-packages/pandas/core/arraylike.py:396: RuntimeWarning: divide by zero encountered in log\n",
      "  result = getattr(ufunc, method)(*inputs, **kwargs)\n"
     ]
    },
    {
     "name": "stdout",
     "output_type": "stream",
     "text": [
      "Optimization terminated successfully.\n",
      "         Current function value: 0.007639\n",
      "         Iterations 11\n"
     ]
    },
    {
     "name": "stderr",
     "output_type": "stream",
     "text": [
      "/home/codespace/.local/lib/python3.10/site-packages/pandas/core/arraylike.py:396: RuntimeWarning: divide by zero encountered in log\n",
      "  result = getattr(ufunc, method)(*inputs, **kwargs)\n",
      "/home/codespace/.local/lib/python3.10/site-packages/pandas/core/arraylike.py:396: RuntimeWarning: divide by zero encountered in log\n",
      "  result = getattr(ufunc, method)(*inputs, **kwargs)\n"
     ]
    },
    {
     "name": "stdout",
     "output_type": "stream",
     "text": [
      "Optimization terminated successfully.\n",
      "         Current function value: 0.007237\n",
      "         Iterations 11\n"
     ]
    },
    {
     "name": "stderr",
     "output_type": "stream",
     "text": [
      "/home/codespace/.local/lib/python3.10/site-packages/pandas/core/arraylike.py:396: RuntimeWarning: divide by zero encountered in log\n",
      "  result = getattr(ufunc, method)(*inputs, **kwargs)\n",
      "/home/codespace/.local/lib/python3.10/site-packages/pandas/core/arraylike.py:396: RuntimeWarning: divide by zero encountered in log\n",
      "  result = getattr(ufunc, method)(*inputs, **kwargs)\n"
     ]
    },
    {
     "name": "stdout",
     "output_type": "stream",
     "text": [
      "Optimization terminated successfully.\n",
      "         Current function value: 0.007266\n",
      "         Iterations 11\n"
     ]
    },
    {
     "name": "stderr",
     "output_type": "stream",
     "text": [
      "/home/codespace/.local/lib/python3.10/site-packages/pandas/core/arraylike.py:396: RuntimeWarning: divide by zero encountered in log\n",
      "  result = getattr(ufunc, method)(*inputs, **kwargs)\n",
      "/home/codespace/.local/lib/python3.10/site-packages/pandas/core/arraylike.py:396: RuntimeWarning: divide by zero encountered in log\n",
      "  result = getattr(ufunc, method)(*inputs, **kwargs)\n"
     ]
    },
    {
     "name": "stdout",
     "output_type": "stream",
     "text": [
      "Optimization terminated successfully.\n",
      "         Current function value: 0.007266\n",
      "         Iterations 11\n"
     ]
    },
    {
     "name": "stderr",
     "output_type": "stream",
     "text": [
      "/home/codespace/.local/lib/python3.10/site-packages/pandas/core/arraylike.py:396: RuntimeWarning: divide by zero encountered in log\n",
      "  result = getattr(ufunc, method)(*inputs, **kwargs)\n",
      "/home/codespace/.local/lib/python3.10/site-packages/pandas/core/arraylike.py:396: RuntimeWarning: divide by zero encountered in log\n",
      "  result = getattr(ufunc, method)(*inputs, **kwargs)\n"
     ]
    },
    {
     "name": "stdout",
     "output_type": "stream",
     "text": [
      "Optimization terminated successfully.\n",
      "         Current function value: 0.006527\n",
      "         Iterations 11\n"
     ]
    },
    {
     "name": "stderr",
     "output_type": "stream",
     "text": [
      "/home/codespace/.local/lib/python3.10/site-packages/pandas/core/arraylike.py:396: RuntimeWarning: divide by zero encountered in log\n",
      "  result = getattr(ufunc, method)(*inputs, **kwargs)\n",
      "/home/codespace/.local/lib/python3.10/site-packages/pandas/core/arraylike.py:396: RuntimeWarning: divide by zero encountered in log\n",
      "  result = getattr(ufunc, method)(*inputs, **kwargs)\n"
     ]
    },
    {
     "name": "stdout",
     "output_type": "stream",
     "text": [
      "Optimization terminated successfully.\n",
      "         Current function value: 0.006553\n",
      "         Iterations 11\n"
     ]
    },
    {
     "name": "stderr",
     "output_type": "stream",
     "text": [
      "/home/codespace/.local/lib/python3.10/site-packages/pandas/core/arraylike.py:396: RuntimeWarning: divide by zero encountered in log\n",
      "  result = getattr(ufunc, method)(*inputs, **kwargs)\n",
      "/home/codespace/.local/lib/python3.10/site-packages/pandas/core/arraylike.py:396: RuntimeWarning: divide by zero encountered in log\n",
      "  result = getattr(ufunc, method)(*inputs, **kwargs)\n"
     ]
    },
    {
     "name": "stdout",
     "output_type": "stream",
     "text": [
      "Optimization terminated successfully.\n",
      "         Current function value: 0.006578\n",
      "         Iterations 11\n"
     ]
    },
    {
     "name": "stderr",
     "output_type": "stream",
     "text": [
      "/home/codespace/.local/lib/python3.10/site-packages/pandas/core/arraylike.py:396: RuntimeWarning: divide by zero encountered in log\n",
      "  result = getattr(ufunc, method)(*inputs, **kwargs)\n",
      "/home/codespace/.local/lib/python3.10/site-packages/pandas/core/arraylike.py:396: RuntimeWarning: divide by zero encountered in log\n",
      "  result = getattr(ufunc, method)(*inputs, **kwargs)\n"
     ]
    },
    {
     "name": "stdout",
     "output_type": "stream",
     "text": [
      "Optimization terminated successfully.\n",
      "         Current function value: 0.006137\n",
      "         Iterations 11\n"
     ]
    },
    {
     "name": "stderr",
     "output_type": "stream",
     "text": [
      "/home/codespace/.local/lib/python3.10/site-packages/pandas/core/arraylike.py:396: RuntimeWarning: divide by zero encountered in log\n",
      "  result = getattr(ufunc, method)(*inputs, **kwargs)\n",
      "/home/codespace/.local/lib/python3.10/site-packages/pandas/core/arraylike.py:396: RuntimeWarning: divide by zero encountered in log\n",
      "  result = getattr(ufunc, method)(*inputs, **kwargs)\n"
     ]
    },
    {
     "name": "stdout",
     "output_type": "stream",
     "text": [
      "Optimization terminated successfully.\n",
      "         Current function value: 0.006091\n",
      "         Iterations 11\n"
     ]
    },
    {
     "name": "stderr",
     "output_type": "stream",
     "text": [
      "/home/codespace/.local/lib/python3.10/site-packages/pandas/core/arraylike.py:396: RuntimeWarning: divide by zero encountered in log\n",
      "  result = getattr(ufunc, method)(*inputs, **kwargs)\n",
      "/home/codespace/.local/lib/python3.10/site-packages/pandas/core/arraylike.py:396: RuntimeWarning: divide by zero encountered in log\n",
      "  result = getattr(ufunc, method)(*inputs, **kwargs)\n"
     ]
    },
    {
     "name": "stdout",
     "output_type": "stream",
     "text": [
      "Optimization terminated successfully.\n",
      "         Current function value: 0.006160\n",
      "         Iterations 11\n"
     ]
    },
    {
     "name": "stderr",
     "output_type": "stream",
     "text": [
      "/home/codespace/.local/lib/python3.10/site-packages/pandas/core/arraylike.py:396: RuntimeWarning: divide by zero encountered in log\n",
      "  result = getattr(ufunc, method)(*inputs, **kwargs)\n",
      "/home/codespace/.local/lib/python3.10/site-packages/pandas/core/arraylike.py:396: RuntimeWarning: divide by zero encountered in log\n",
      "  result = getattr(ufunc, method)(*inputs, **kwargs)\n"
     ]
    },
    {
     "name": "stdout",
     "output_type": "stream",
     "text": [
      "Optimization terminated successfully.\n",
      "         Current function value: 0.001466\n",
      "         Iterations 12\n"
     ]
    },
    {
     "name": "stderr",
     "output_type": "stream",
     "text": [
      "/home/codespace/.local/lib/python3.10/site-packages/pandas/core/arraylike.py:396: RuntimeWarning: divide by zero encountered in log\n",
      "  result = getattr(ufunc, method)(*inputs, **kwargs)\n",
      "/home/codespace/.local/lib/python3.10/site-packages/pandas/core/arraylike.py:396: RuntimeWarning: divide by zero encountered in log\n",
      "  result = getattr(ufunc, method)(*inputs, **kwargs)\n"
     ]
    },
    {
     "name": "stdout",
     "output_type": "stream",
     "text": [
      "Optimization terminated successfully.\n",
      "         Current function value: 0.004266\n",
      "         Iterations 14\n"
     ]
    },
    {
     "name": "stderr",
     "output_type": "stream",
     "text": [
      "/home/codespace/.local/lib/python3.10/site-packages/pandas/core/arraylike.py:396: RuntimeWarning: divide by zero encountered in log\n",
      "  result = getattr(ufunc, method)(*inputs, **kwargs)\n",
      "/home/codespace/.local/lib/python3.10/site-packages/pandas/core/arraylike.py:396: RuntimeWarning: divide by zero encountered in log\n",
      "  result = getattr(ufunc, method)(*inputs, **kwargs)\n"
     ]
    },
    {
     "name": "stdout",
     "output_type": "stream",
     "text": [
      "Optimization terminated successfully.\n",
      "         Current function value: 0.004245\n",
      "         Iterations 15\n"
     ]
    },
    {
     "name": "stderr",
     "output_type": "stream",
     "text": [
      "/home/codespace/.local/lib/python3.10/site-packages/pandas/core/arraylike.py:396: RuntimeWarning: divide by zero encountered in log\n",
      "  result = getattr(ufunc, method)(*inputs, **kwargs)\n",
      "/home/codespace/.local/lib/python3.10/site-packages/pandas/core/arraylike.py:396: RuntimeWarning: divide by zero encountered in log\n",
      "  result = getattr(ufunc, method)(*inputs, **kwargs)\n"
     ]
    },
    {
     "name": "stdout",
     "output_type": "stream",
     "text": [
      "Optimization terminated successfully.\n",
      "         Current function value: 0.012660\n",
      "         Iterations 10\n"
     ]
    },
    {
     "name": "stderr",
     "output_type": "stream",
     "text": [
      "/home/codespace/.local/lib/python3.10/site-packages/pandas/core/arraylike.py:396: RuntimeWarning: divide by zero encountered in log\n",
      "  result = getattr(ufunc, method)(*inputs, **kwargs)\n",
      "/home/codespace/.local/lib/python3.10/site-packages/pandas/core/arraylike.py:396: RuntimeWarning: divide by zero encountered in log\n",
      "  result = getattr(ufunc, method)(*inputs, **kwargs)\n"
     ]
    },
    {
     "name": "stdout",
     "output_type": "stream",
     "text": [
      "Optimization terminated successfully.\n",
      "         Current function value: 0.012756\n",
      "         Iterations 10\n"
     ]
    },
    {
     "name": "stderr",
     "output_type": "stream",
     "text": [
      "/home/codespace/.local/lib/python3.10/site-packages/pandas/core/arraylike.py:396: RuntimeWarning: divide by zero encountered in log\n",
      "  result = getattr(ufunc, method)(*inputs, **kwargs)\n",
      "/home/codespace/.local/lib/python3.10/site-packages/pandas/core/arraylike.py:396: RuntimeWarning: divide by zero encountered in log\n",
      "  result = getattr(ufunc, method)(*inputs, **kwargs)\n"
     ]
    },
    {
     "name": "stdout",
     "output_type": "stream",
     "text": [
      "Optimization terminated successfully.\n",
      "         Current function value: 0.012345\n",
      "         Iterations 10\n"
     ]
    },
    {
     "name": "stderr",
     "output_type": "stream",
     "text": [
      "/home/codespace/.local/lib/python3.10/site-packages/pandas/core/arraylike.py:396: RuntimeWarning: divide by zero encountered in log\n",
      "  result = getattr(ufunc, method)(*inputs, **kwargs)\n",
      "/home/codespace/.local/lib/python3.10/site-packages/pandas/core/arraylike.py:396: RuntimeWarning: divide by zero encountered in log\n",
      "  result = getattr(ufunc, method)(*inputs, **kwargs)\n"
     ]
    },
    {
     "name": "stdout",
     "output_type": "stream",
     "text": [
      "Optimization terminated successfully.\n",
      "         Current function value: 0.010870\n",
      "         Iterations 10\n"
     ]
    },
    {
     "name": "stderr",
     "output_type": "stream",
     "text": [
      "/home/codespace/.local/lib/python3.10/site-packages/pandas/core/arraylike.py:396: RuntimeWarning: divide by zero encountered in log\n",
      "  result = getattr(ufunc, method)(*inputs, **kwargs)\n",
      "/home/codespace/.local/lib/python3.10/site-packages/pandas/core/arraylike.py:396: RuntimeWarning: divide by zero encountered in log\n",
      "  result = getattr(ufunc, method)(*inputs, **kwargs)\n"
     ]
    },
    {
     "name": "stdout",
     "output_type": "stream",
     "text": [
      "Optimization terminated successfully.\n",
      "         Current function value: 0.011178\n",
      "         Iterations 10\n"
     ]
    },
    {
     "name": "stderr",
     "output_type": "stream",
     "text": [
      "/home/codespace/.local/lib/python3.10/site-packages/pandas/core/arraylike.py:396: RuntimeWarning: divide by zero encountered in log\n",
      "  result = getattr(ufunc, method)(*inputs, **kwargs)\n",
      "/home/codespace/.local/lib/python3.10/site-packages/pandas/core/arraylike.py:396: RuntimeWarning: divide by zero encountered in log\n",
      "  result = getattr(ufunc, method)(*inputs, **kwargs)\n"
     ]
    },
    {
     "name": "stdout",
     "output_type": "stream",
     "text": [
      "Optimization terminated successfully.\n",
      "         Current function value: 0.011157\n",
      "         Iterations 10\n"
     ]
    },
    {
     "name": "stderr",
     "output_type": "stream",
     "text": [
      "/home/codespace/.local/lib/python3.10/site-packages/pandas/core/arraylike.py:396: RuntimeWarning: divide by zero encountered in log\n",
      "  result = getattr(ufunc, method)(*inputs, **kwargs)\n",
      "/home/codespace/.local/lib/python3.10/site-packages/pandas/core/arraylike.py:396: RuntimeWarning: divide by zero encountered in log\n",
      "  result = getattr(ufunc, method)(*inputs, **kwargs)\n"
     ]
    },
    {
     "name": "stdout",
     "output_type": "stream",
     "text": [
      "Optimization terminated successfully.\n",
      "         Current function value: 0.013495\n",
      "         Iterations 10\n"
     ]
    },
    {
     "name": "stderr",
     "output_type": "stream",
     "text": [
      "/home/codespace/.local/lib/python3.10/site-packages/pandas/core/arraylike.py:396: RuntimeWarning: divide by zero encountered in log\n",
      "  result = getattr(ufunc, method)(*inputs, **kwargs)\n",
      "/home/codespace/.local/lib/python3.10/site-packages/pandas/core/arraylike.py:396: RuntimeWarning: divide by zero encountered in log\n",
      "  result = getattr(ufunc, method)(*inputs, **kwargs)\n"
     ]
    },
    {
     "name": "stdout",
     "output_type": "stream",
     "text": [
      "Optimization terminated successfully.\n",
      "         Current function value: 0.013598\n",
      "         Iterations 10\n"
     ]
    },
    {
     "name": "stderr",
     "output_type": "stream",
     "text": [
      "/home/codespace/.local/lib/python3.10/site-packages/pandas/core/arraylike.py:396: RuntimeWarning: divide by zero encountered in log\n",
      "  result = getattr(ufunc, method)(*inputs, **kwargs)\n",
      "/home/codespace/.local/lib/python3.10/site-packages/pandas/core/arraylike.py:396: RuntimeWarning: divide by zero encountered in log\n",
      "  result = getattr(ufunc, method)(*inputs, **kwargs)\n"
     ]
    },
    {
     "name": "stdout",
     "output_type": "stream",
     "text": [
      "Optimization terminated successfully.\n",
      "         Current function value: 0.013622\n",
      "         Iterations 10\n"
     ]
    },
    {
     "name": "stderr",
     "output_type": "stream",
     "text": [
      "/home/codespace/.local/lib/python3.10/site-packages/pandas/core/arraylike.py:396: RuntimeWarning: divide by zero encountered in log\n",
      "  result = getattr(ufunc, method)(*inputs, **kwargs)\n",
      "/home/codespace/.local/lib/python3.10/site-packages/pandas/core/arraylike.py:396: RuntimeWarning: divide by zero encountered in log\n",
      "  result = getattr(ufunc, method)(*inputs, **kwargs)\n"
     ]
    },
    {
     "name": "stdout",
     "output_type": "stream",
     "text": [
      "Optimization terminated successfully.\n",
      "         Current function value: 0.013865\n",
      "         Iterations 10\n"
     ]
    },
    {
     "name": "stderr",
     "output_type": "stream",
     "text": [
      "/home/codespace/.local/lib/python3.10/site-packages/pandas/core/arraylike.py:396: RuntimeWarning: divide by zero encountered in log\n",
      "  result = getattr(ufunc, method)(*inputs, **kwargs)\n",
      "/home/codespace/.local/lib/python3.10/site-packages/pandas/core/arraylike.py:396: RuntimeWarning: divide by zero encountered in log\n",
      "  result = getattr(ufunc, method)(*inputs, **kwargs)\n"
     ]
    },
    {
     "name": "stdout",
     "output_type": "stream",
     "text": [
      "Optimization terminated successfully.\n",
      "         Current function value: 0.013800\n",
      "         Iterations 10\n"
     ]
    },
    {
     "name": "stderr",
     "output_type": "stream",
     "text": [
      "/home/codespace/.local/lib/python3.10/site-packages/pandas/core/arraylike.py:396: RuntimeWarning: divide by zero encountered in log\n",
      "  result = getattr(ufunc, method)(*inputs, **kwargs)\n",
      "/home/codespace/.local/lib/python3.10/site-packages/pandas/core/arraylike.py:396: RuntimeWarning: divide by zero encountered in log\n",
      "  result = getattr(ufunc, method)(*inputs, **kwargs)\n"
     ]
    },
    {
     "name": "stdout",
     "output_type": "stream",
     "text": [
      "Optimization terminated successfully.\n",
      "         Current function value: 0.013650\n",
      "         Iterations 10\n"
     ]
    },
    {
     "name": "stderr",
     "output_type": "stream",
     "text": [
      "/home/codespace/.local/lib/python3.10/site-packages/pandas/core/arraylike.py:396: RuntimeWarning: divide by zero encountered in log\n",
      "  result = getattr(ufunc, method)(*inputs, **kwargs)\n",
      "/home/codespace/.local/lib/python3.10/site-packages/pandas/core/arraylike.py:396: RuntimeWarning: divide by zero encountered in log\n",
      "  result = getattr(ufunc, method)(*inputs, **kwargs)\n"
     ]
    },
    {
     "name": "stdout",
     "output_type": "stream",
     "text": [
      "Optimization terminated successfully.\n",
      "         Current function value: 0.016836\n",
      "         Iterations 10\n"
     ]
    },
    {
     "name": "stderr",
     "output_type": "stream",
     "text": [
      "/home/codespace/.local/lib/python3.10/site-packages/pandas/core/arraylike.py:396: RuntimeWarning: divide by zero encountered in log\n",
      "  result = getattr(ufunc, method)(*inputs, **kwargs)\n",
      "/home/codespace/.local/lib/python3.10/site-packages/pandas/core/arraylike.py:396: RuntimeWarning: divide by zero encountered in log\n",
      "  result = getattr(ufunc, method)(*inputs, **kwargs)\n"
     ]
    },
    {
     "name": "stdout",
     "output_type": "stream",
     "text": [
      "Optimization terminated successfully.\n",
      "         Current function value: 0.016998\n",
      "         Iterations 10\n"
     ]
    },
    {
     "name": "stderr",
     "output_type": "stream",
     "text": [
      "/home/codespace/.local/lib/python3.10/site-packages/pandas/core/arraylike.py:396: RuntimeWarning: divide by zero encountered in log\n",
      "  result = getattr(ufunc, method)(*inputs, **kwargs)\n",
      "/home/codespace/.local/lib/python3.10/site-packages/pandas/core/arraylike.py:396: RuntimeWarning: divide by zero encountered in log\n",
      "  result = getattr(ufunc, method)(*inputs, **kwargs)\n"
     ]
    },
    {
     "name": "stdout",
     "output_type": "stream",
     "text": [
      "Optimization terminated successfully.\n",
      "         Current function value: 0.017058\n",
      "         Iterations 10\n"
     ]
    },
    {
     "name": "stderr",
     "output_type": "stream",
     "text": [
      "/home/codespace/.local/lib/python3.10/site-packages/pandas/core/arraylike.py:396: RuntimeWarning: divide by zero encountered in log\n",
      "  result = getattr(ufunc, method)(*inputs, **kwargs)\n",
      "/home/codespace/.local/lib/python3.10/site-packages/pandas/core/arraylike.py:396: RuntimeWarning: divide by zero encountered in log\n",
      "  result = getattr(ufunc, method)(*inputs, **kwargs)\n"
     ]
    },
    {
     "name": "stdout",
     "output_type": "stream",
     "text": [
      "Optimization terminated successfully.\n",
      "         Current function value: 0.017525\n",
      "         Iterations 10\n"
     ]
    },
    {
     "name": "stderr",
     "output_type": "stream",
     "text": [
      "/home/codespace/.local/lib/python3.10/site-packages/pandas/core/arraylike.py:396: RuntimeWarning: divide by zero encountered in log\n",
      "  result = getattr(ufunc, method)(*inputs, **kwargs)\n",
      "/home/codespace/.local/lib/python3.10/site-packages/pandas/core/arraylike.py:396: RuntimeWarning: divide by zero encountered in log\n",
      "  result = getattr(ufunc, method)(*inputs, **kwargs)\n"
     ]
    },
    {
     "name": "stdout",
     "output_type": "stream",
     "text": [
      "Optimization terminated successfully.\n",
      "         Current function value: 0.017529\n",
      "         Iterations 10\n"
     ]
    },
    {
     "name": "stderr",
     "output_type": "stream",
     "text": [
      "/home/codespace/.local/lib/python3.10/site-packages/pandas/core/arraylike.py:396: RuntimeWarning: divide by zero encountered in log\n",
      "  result = getattr(ufunc, method)(*inputs, **kwargs)\n",
      "/home/codespace/.local/lib/python3.10/site-packages/pandas/core/arraylike.py:396: RuntimeWarning: divide by zero encountered in log\n",
      "  result = getattr(ufunc, method)(*inputs, **kwargs)\n"
     ]
    },
    {
     "name": "stdout",
     "output_type": "stream",
     "text": [
      "Optimization terminated successfully.\n",
      "         Current function value: 0.017539\n",
      "         Iterations 10\n"
     ]
    },
    {
     "name": "stderr",
     "output_type": "stream",
     "text": [
      "/home/codespace/.local/lib/python3.10/site-packages/pandas/core/arraylike.py:396: RuntimeWarning: divide by zero encountered in log\n",
      "  result = getattr(ufunc, method)(*inputs, **kwargs)\n",
      "/home/codespace/.local/lib/python3.10/site-packages/pandas/core/arraylike.py:396: RuntimeWarning: divide by zero encountered in log\n",
      "  result = getattr(ufunc, method)(*inputs, **kwargs)\n"
     ]
    },
    {
     "name": "stdout",
     "output_type": "stream",
     "text": [
      "Optimization terminated successfully.\n",
      "         Current function value: 0.017159\n",
      "         Iterations 10\n"
     ]
    },
    {
     "name": "stderr",
     "output_type": "stream",
     "text": [
      "/home/codespace/.local/lib/python3.10/site-packages/pandas/core/arraylike.py:396: RuntimeWarning: divide by zero encountered in log\n",
      "  result = getattr(ufunc, method)(*inputs, **kwargs)\n",
      "/home/codespace/.local/lib/python3.10/site-packages/pandas/core/arraylike.py:396: RuntimeWarning: divide by zero encountered in log\n",
      "  result = getattr(ufunc, method)(*inputs, **kwargs)\n"
     ]
    },
    {
     "name": "stdout",
     "output_type": "stream",
     "text": [
      "Optimization terminated successfully.\n",
      "         Current function value: 0.017319\n",
      "         Iterations 10\n"
     ]
    },
    {
     "name": "stderr",
     "output_type": "stream",
     "text": [
      "/home/codespace/.local/lib/python3.10/site-packages/pandas/core/arraylike.py:396: RuntimeWarning: divide by zero encountered in log\n",
      "  result = getattr(ufunc, method)(*inputs, **kwargs)\n",
      "/home/codespace/.local/lib/python3.10/site-packages/pandas/core/arraylike.py:396: RuntimeWarning: divide by zero encountered in log\n",
      "  result = getattr(ufunc, method)(*inputs, **kwargs)\n"
     ]
    },
    {
     "name": "stdout",
     "output_type": "stream",
     "text": [
      "Optimization terminated successfully.\n",
      "         Current function value: 0.017273\n",
      "         Iterations 9\n"
     ]
    },
    {
     "name": "stderr",
     "output_type": "stream",
     "text": [
      "/home/codespace/.local/lib/python3.10/site-packages/pandas/core/arraylike.py:396: RuntimeWarning: divide by zero encountered in log\n",
      "  result = getattr(ufunc, method)(*inputs, **kwargs)\n",
      "/home/codespace/.local/lib/python3.10/site-packages/pandas/core/arraylike.py:396: RuntimeWarning: divide by zero encountered in log\n",
      "  result = getattr(ufunc, method)(*inputs, **kwargs)\n"
     ]
    },
    {
     "name": "stdout",
     "output_type": "stream",
     "text": [
      "Optimization terminated successfully.\n",
      "         Current function value: 0.015884\n",
      "         Iterations 9\n"
     ]
    },
    {
     "name": "stderr",
     "output_type": "stream",
     "text": [
      "/home/codespace/.local/lib/python3.10/site-packages/pandas/core/arraylike.py:396: RuntimeWarning: divide by zero encountered in log\n",
      "  result = getattr(ufunc, method)(*inputs, **kwargs)\n",
      "/home/codespace/.local/lib/python3.10/site-packages/pandas/core/arraylike.py:396: RuntimeWarning: divide by zero encountered in log\n",
      "  result = getattr(ufunc, method)(*inputs, **kwargs)\n"
     ]
    },
    {
     "name": "stdout",
     "output_type": "stream",
     "text": [
      "Optimization terminated successfully.\n",
      "         Current function value: 0.015434\n",
      "         Iterations 9\n"
     ]
    },
    {
     "name": "stderr",
     "output_type": "stream",
     "text": [
      "/home/codespace/.local/lib/python3.10/site-packages/pandas/core/arraylike.py:396: RuntimeWarning: divide by zero encountered in log\n",
      "  result = getattr(ufunc, method)(*inputs, **kwargs)\n",
      "/home/codespace/.local/lib/python3.10/site-packages/pandas/core/arraylike.py:396: RuntimeWarning: divide by zero encountered in log\n",
      "  result = getattr(ufunc, method)(*inputs, **kwargs)\n"
     ]
    },
    {
     "name": "stdout",
     "output_type": "stream",
     "text": [
      "Optimization terminated successfully.\n",
      "         Current function value: 0.015437\n",
      "         Iterations 10\n"
     ]
    },
    {
     "name": "stderr",
     "output_type": "stream",
     "text": [
      "/home/codespace/.local/lib/python3.10/site-packages/pandas/core/arraylike.py:396: RuntimeWarning: divide by zero encountered in log\n",
      "  result = getattr(ufunc, method)(*inputs, **kwargs)\n",
      "/home/codespace/.local/lib/python3.10/site-packages/pandas/core/arraylike.py:396: RuntimeWarning: divide by zero encountered in log\n",
      "  result = getattr(ufunc, method)(*inputs, **kwargs)\n"
     ]
    },
    {
     "name": "stdout",
     "output_type": "stream",
     "text": [
      "Optimization terminated successfully.\n",
      "         Current function value: 0.018311\n",
      "         Iterations 10\n"
     ]
    },
    {
     "name": "stderr",
     "output_type": "stream",
     "text": [
      "/home/codespace/.local/lib/python3.10/site-packages/pandas/core/arraylike.py:396: RuntimeWarning: divide by zero encountered in log\n",
      "  result = getattr(ufunc, method)(*inputs, **kwargs)\n",
      "/home/codespace/.local/lib/python3.10/site-packages/pandas/core/arraylike.py:396: RuntimeWarning: divide by zero encountered in log\n",
      "  result = getattr(ufunc, method)(*inputs, **kwargs)\n"
     ]
    },
    {
     "name": "stdout",
     "output_type": "stream",
     "text": [
      "Optimization terminated successfully.\n",
      "         Current function value: 0.018526\n",
      "         Iterations 9\n"
     ]
    },
    {
     "name": "stderr",
     "output_type": "stream",
     "text": [
      "/home/codespace/.local/lib/python3.10/site-packages/pandas/core/arraylike.py:396: RuntimeWarning: divide by zero encountered in log\n",
      "  result = getattr(ufunc, method)(*inputs, **kwargs)\n",
      "/home/codespace/.local/lib/python3.10/site-packages/pandas/core/arraylike.py:396: RuntimeWarning: divide by zero encountered in log\n",
      "  result = getattr(ufunc, method)(*inputs, **kwargs)\n"
     ]
    },
    {
     "name": "stdout",
     "output_type": "stream",
     "text": [
      "Optimization terminated successfully.\n",
      "         Current function value: 0.018807\n",
      "         Iterations 9\n"
     ]
    },
    {
     "name": "stderr",
     "output_type": "stream",
     "text": [
      "/home/codespace/.local/lib/python3.10/site-packages/pandas/core/arraylike.py:396: RuntimeWarning: divide by zero encountered in log\n",
      "  result = getattr(ufunc, method)(*inputs, **kwargs)\n",
      "/home/codespace/.local/lib/python3.10/site-packages/pandas/core/arraylike.py:396: RuntimeWarning: divide by zero encountered in log\n",
      "  result = getattr(ufunc, method)(*inputs, **kwargs)\n"
     ]
    },
    {
     "name": "stdout",
     "output_type": "stream",
     "text": [
      "Optimization terminated successfully.\n",
      "         Current function value: 0.018438\n",
      "         Iterations 10\n"
     ]
    },
    {
     "name": "stderr",
     "output_type": "stream",
     "text": [
      "/home/codespace/.local/lib/python3.10/site-packages/pandas/core/arraylike.py:396: RuntimeWarning: divide by zero encountered in log\n",
      "  result = getattr(ufunc, method)(*inputs, **kwargs)\n",
      "/home/codespace/.local/lib/python3.10/site-packages/pandas/core/arraylike.py:396: RuntimeWarning: divide by zero encountered in log\n",
      "  result = getattr(ufunc, method)(*inputs, **kwargs)\n"
     ]
    },
    {
     "name": "stdout",
     "output_type": "stream",
     "text": [
      "Optimization terminated successfully.\n",
      "         Current function value: 0.018426\n",
      "         Iterations 9\n"
     ]
    },
    {
     "name": "stderr",
     "output_type": "stream",
     "text": [
      "/home/codespace/.local/lib/python3.10/site-packages/pandas/core/arraylike.py:396: RuntimeWarning: divide by zero encountered in log\n",
      "  result = getattr(ufunc, method)(*inputs, **kwargs)\n",
      "/home/codespace/.local/lib/python3.10/site-packages/pandas/core/arraylike.py:396: RuntimeWarning: divide by zero encountered in log\n",
      "  result = getattr(ufunc, method)(*inputs, **kwargs)\n"
     ]
    },
    {
     "name": "stdout",
     "output_type": "stream",
     "text": [
      "Optimization terminated successfully.\n",
      "         Current function value: 0.018377\n",
      "         Iterations 9\n"
     ]
    },
    {
     "name": "stderr",
     "output_type": "stream",
     "text": [
      "/home/codespace/.local/lib/python3.10/site-packages/pandas/core/arraylike.py:396: RuntimeWarning: divide by zero encountered in log\n",
      "  result = getattr(ufunc, method)(*inputs, **kwargs)\n",
      "/home/codespace/.local/lib/python3.10/site-packages/pandas/core/arraylike.py:396: RuntimeWarning: divide by zero encountered in log\n",
      "  result = getattr(ufunc, method)(*inputs, **kwargs)\n"
     ]
    },
    {
     "name": "stdout",
     "output_type": "stream",
     "text": [
      "Optimization terminated successfully.\n",
      "         Current function value: 0.099176\n",
      "         Iterations 8\n"
     ]
    },
    {
     "name": "stderr",
     "output_type": "stream",
     "text": [
      "/home/codespace/.local/lib/python3.10/site-packages/pandas/core/arraylike.py:396: RuntimeWarning: divide by zero encountered in log\n",
      "  result = getattr(ufunc, method)(*inputs, **kwargs)\n",
      "/home/codespace/.local/lib/python3.10/site-packages/pandas/core/arraylike.py:396: RuntimeWarning: divide by zero encountered in log\n",
      "  result = getattr(ufunc, method)(*inputs, **kwargs)\n"
     ]
    },
    {
     "name": "stdout",
     "output_type": "stream",
     "text": [
      "Optimization terminated successfully.\n",
      "         Current function value: 0.099002\n",
      "         Iterations 8\n"
     ]
    },
    {
     "name": "stderr",
     "output_type": "stream",
     "text": [
      "/home/codespace/.local/lib/python3.10/site-packages/pandas/core/arraylike.py:396: RuntimeWarning: divide by zero encountered in log\n",
      "  result = getattr(ufunc, method)(*inputs, **kwargs)\n",
      "/home/codespace/.local/lib/python3.10/site-packages/pandas/core/arraylike.py:396: RuntimeWarning: divide by zero encountered in log\n",
      "  result = getattr(ufunc, method)(*inputs, **kwargs)\n"
     ]
    },
    {
     "name": "stdout",
     "output_type": "stream",
     "text": [
      "Optimization terminated successfully.\n",
      "         Current function value: 0.099027\n",
      "         Iterations 8\n"
     ]
    },
    {
     "name": "stderr",
     "output_type": "stream",
     "text": [
      "/home/codespace/.local/lib/python3.10/site-packages/pandas/core/arraylike.py:396: RuntimeWarning: divide by zero encountered in log\n",
      "  result = getattr(ufunc, method)(*inputs, **kwargs)\n",
      "/home/codespace/.local/lib/python3.10/site-packages/pandas/core/arraylike.py:396: RuntimeWarning: divide by zero encountered in log\n",
      "  result = getattr(ufunc, method)(*inputs, **kwargs)\n"
     ]
    },
    {
     "name": "stdout",
     "output_type": "stream",
     "text": [
      "Optimization terminated successfully.\n",
      "         Current function value: 0.045452\n",
      "         Iterations 8\n"
     ]
    },
    {
     "name": "stderr",
     "output_type": "stream",
     "text": [
      "/home/codespace/.local/lib/python3.10/site-packages/pandas/core/arraylike.py:396: RuntimeWarning: divide by zero encountered in log\n",
      "  result = getattr(ufunc, method)(*inputs, **kwargs)\n",
      "/home/codespace/.local/lib/python3.10/site-packages/pandas/core/arraylike.py:396: RuntimeWarning: divide by zero encountered in log\n",
      "  result = getattr(ufunc, method)(*inputs, **kwargs)\n"
     ]
    },
    {
     "name": "stdout",
     "output_type": "stream",
     "text": [
      "Optimization terminated successfully.\n",
      "         Current function value: 0.045306\n",
      "         Iterations 8\n"
     ]
    },
    {
     "name": "stderr",
     "output_type": "stream",
     "text": [
      "/home/codespace/.local/lib/python3.10/site-packages/pandas/core/arraylike.py:396: RuntimeWarning: divide by zero encountered in log\n",
      "  result = getattr(ufunc, method)(*inputs, **kwargs)\n",
      "/home/codespace/.local/lib/python3.10/site-packages/pandas/core/arraylike.py:396: RuntimeWarning: divide by zero encountered in log\n",
      "  result = getattr(ufunc, method)(*inputs, **kwargs)\n"
     ]
    },
    {
     "name": "stdout",
     "output_type": "stream",
     "text": [
      "Optimization terminated successfully.\n",
      "         Current function value: 0.046155\n",
      "         Iterations 9\n"
     ]
    },
    {
     "name": "stderr",
     "output_type": "stream",
     "text": [
      "/home/codespace/.local/lib/python3.10/site-packages/pandas/core/arraylike.py:396: RuntimeWarning: divide by zero encountered in log\n",
      "  result = getattr(ufunc, method)(*inputs, **kwargs)\n",
      "/home/codespace/.local/lib/python3.10/site-packages/pandas/core/arraylike.py:396: RuntimeWarning: divide by zero encountered in log\n",
      "  result = getattr(ufunc, method)(*inputs, **kwargs)\n"
     ]
    },
    {
     "name": "stdout",
     "output_type": "stream",
     "text": [
      "Optimization terminated successfully.\n",
      "         Current function value: 0.016297\n",
      "         Iterations 10\n"
     ]
    },
    {
     "name": "stderr",
     "output_type": "stream",
     "text": [
      "/home/codespace/.local/lib/python3.10/site-packages/pandas/core/arraylike.py:396: RuntimeWarning: divide by zero encountered in log\n",
      "  result = getattr(ufunc, method)(*inputs, **kwargs)\n",
      "/home/codespace/.local/lib/python3.10/site-packages/pandas/core/arraylike.py:396: RuntimeWarning: divide by zero encountered in log\n",
      "  result = getattr(ufunc, method)(*inputs, **kwargs)\n"
     ]
    },
    {
     "name": "stdout",
     "output_type": "stream",
     "text": [
      "Optimization terminated successfully.\n",
      "         Current function value: 0.016286\n",
      "         Iterations 10\n"
     ]
    },
    {
     "name": "stderr",
     "output_type": "stream",
     "text": [
      "/home/codespace/.local/lib/python3.10/site-packages/pandas/core/arraylike.py:396: RuntimeWarning: divide by zero encountered in log\n",
      "  result = getattr(ufunc, method)(*inputs, **kwargs)\n",
      "/home/codespace/.local/lib/python3.10/site-packages/pandas/core/arraylike.py:396: RuntimeWarning: divide by zero encountered in log\n",
      "  result = getattr(ufunc, method)(*inputs, **kwargs)\n"
     ]
    },
    {
     "name": "stdout",
     "output_type": "stream",
     "text": [
      "Optimization terminated successfully.\n",
      "         Current function value: 0.015638\n",
      "         Iterations 10\n"
     ]
    },
    {
     "name": "stderr",
     "output_type": "stream",
     "text": [
      "/home/codespace/.local/lib/python3.10/site-packages/pandas/core/arraylike.py:396: RuntimeWarning: divide by zero encountered in log\n",
      "  result = getattr(ufunc, method)(*inputs, **kwargs)\n",
      "/home/codespace/.local/lib/python3.10/site-packages/pandas/core/arraylike.py:396: RuntimeWarning: divide by zero encountered in log\n",
      "  result = getattr(ufunc, method)(*inputs, **kwargs)\n"
     ]
    },
    {
     "name": "stdout",
     "output_type": "stream",
     "text": [
      "Optimization terminated successfully.\n",
      "         Current function value: 0.013661\n",
      "         Iterations 10\n"
     ]
    },
    {
     "name": "stderr",
     "output_type": "stream",
     "text": [
      "/home/codespace/.local/lib/python3.10/site-packages/pandas/core/arraylike.py:396: RuntimeWarning: divide by zero encountered in log\n",
      "  result = getattr(ufunc, method)(*inputs, **kwargs)\n",
      "/home/codespace/.local/lib/python3.10/site-packages/pandas/core/arraylike.py:396: RuntimeWarning: divide by zero encountered in log\n",
      "  result = getattr(ufunc, method)(*inputs, **kwargs)\n"
     ]
    },
    {
     "name": "stdout",
     "output_type": "stream",
     "text": [
      "Optimization terminated successfully.\n",
      "         Current function value: 0.012577\n",
      "         Iterations 9\n"
     ]
    },
    {
     "name": "stderr",
     "output_type": "stream",
     "text": [
      "/home/codespace/.local/lib/python3.10/site-packages/pandas/core/arraylike.py:396: RuntimeWarning: divide by zero encountered in log\n",
      "  result = getattr(ufunc, method)(*inputs, **kwargs)\n",
      "/home/codespace/.local/lib/python3.10/site-packages/pandas/core/arraylike.py:396: RuntimeWarning: divide by zero encountered in log\n",
      "  result = getattr(ufunc, method)(*inputs, **kwargs)\n"
     ]
    },
    {
     "name": "stdout",
     "output_type": "stream",
     "text": [
      "Optimization terminated successfully.\n",
      "         Current function value: 0.012678\n",
      "         Iterations 9\n"
     ]
    },
    {
     "name": "stderr",
     "output_type": "stream",
     "text": [
      "/home/codespace/.local/lib/python3.10/site-packages/pandas/core/arraylike.py:396: RuntimeWarning: divide by zero encountered in log\n",
      "  result = getattr(ufunc, method)(*inputs, **kwargs)\n",
      "/home/codespace/.local/lib/python3.10/site-packages/pandas/core/arraylike.py:396: RuntimeWarning: divide by zero encountered in log\n",
      "  result = getattr(ufunc, method)(*inputs, **kwargs)\n"
     ]
    },
    {
     "name": "stdout",
     "output_type": "stream",
     "text": [
      "Optimization terminated successfully.\n",
      "         Current function value: 0.012772\n",
      "         Iterations 9\n"
     ]
    },
    {
     "name": "stderr",
     "output_type": "stream",
     "text": [
      "/home/codespace/.local/lib/python3.10/site-packages/pandas/core/arraylike.py:396: RuntimeWarning: divide by zero encountered in log\n",
      "  result = getattr(ufunc, method)(*inputs, **kwargs)\n",
      "/home/codespace/.local/lib/python3.10/site-packages/pandas/core/arraylike.py:396: RuntimeWarning: divide by zero encountered in log\n",
      "  result = getattr(ufunc, method)(*inputs, **kwargs)\n"
     ]
    },
    {
     "name": "stdout",
     "output_type": "stream",
     "text": [
      "Optimization terminated successfully.\n",
      "         Current function value: 0.012704\n",
      "         Iterations 9\n"
     ]
    },
    {
     "name": "stderr",
     "output_type": "stream",
     "text": [
      "/home/codespace/.local/lib/python3.10/site-packages/pandas/core/arraylike.py:396: RuntimeWarning: divide by zero encountered in log\n",
      "  result = getattr(ufunc, method)(*inputs, **kwargs)\n",
      "/home/codespace/.local/lib/python3.10/site-packages/pandas/core/arraylike.py:396: RuntimeWarning: divide by zero encountered in log\n",
      "  result = getattr(ufunc, method)(*inputs, **kwargs)\n"
     ]
    },
    {
     "name": "stdout",
     "output_type": "stream",
     "text": [
      "Optimization terminated successfully.\n",
      "         Current function value: 0.012775\n",
      "         Iterations 9\n",
      "Optimization terminated successfully.\n",
      "         Current function value: 0.013285\n",
      "         Iterations 9\n"
     ]
    },
    {
     "name": "stderr",
     "output_type": "stream",
     "text": [
      "/home/codespace/.local/lib/python3.10/site-packages/pandas/core/arraylike.py:396: RuntimeWarning: divide by zero encountered in log\n",
      "  result = getattr(ufunc, method)(*inputs, **kwargs)\n",
      "/home/codespace/.local/lib/python3.10/site-packages/pandas/core/arraylike.py:396: RuntimeWarning: divide by zero encountered in log\n",
      "  result = getattr(ufunc, method)(*inputs, **kwargs)\n"
     ]
    },
    {
     "data": {
      "text/html": [
       "<div>\n",
       "<style scoped>\n",
       "    .dataframe tbody tr th:only-of-type {\n",
       "        vertical-align: middle;\n",
       "    }\n",
       "\n",
       "    .dataframe tbody tr th {\n",
       "        vertical-align: top;\n",
       "    }\n",
       "\n",
       "    .dataframe thead th {\n",
       "        text-align: right;\n",
       "    }\n",
       "</style>\n",
       "<table border=\"1\" class=\"dataframe\">\n",
       "  <thead>\n",
       "    <tr style=\"text-align: right;\">\n",
       "      <th></th>\n",
       "      <th>FPROB</th>\n",
       "    </tr>\n",
       "  </thead>\n",
       "  <tbody>\n",
       "    <tr>\n",
       "      <th>1997-01</th>\n",
       "      <td>-0.950092</td>\n",
       "    </tr>\n",
       "    <tr>\n",
       "      <th>1997-02</th>\n",
       "      <td>-0.930288</td>\n",
       "    </tr>\n",
       "    <tr>\n",
       "      <th>1997-03</th>\n",
       "      <td>-0.932436</td>\n",
       "    </tr>\n",
       "    <tr>\n",
       "      <th>1997-04</th>\n",
       "      <td>-0.907698</td>\n",
       "    </tr>\n",
       "    <tr>\n",
       "      <th>1997-05</th>\n",
       "      <td>-0.916194</td>\n",
       "    </tr>\n",
       "  </tbody>\n",
       "</table>\n",
       "</div>"
      ],
      "text/plain": [
       "            FPROB\n",
       "1997-01 -0.950092\n",
       "1997-02 -0.930288\n",
       "1997-03 -0.932436\n",
       "1997-04 -0.907698\n",
       "1997-05 -0.916194"
      ]
     },
     "execution_count": 161,
     "metadata": {},
     "output_type": "execute_result"
    }
   ],
   "source": [
    "# Load the necessary financial data\n",
    "import statsmodels.api as sm\n",
    "FPROB={}\n",
    "for i in range(len(data_dt[1])): # type: ignore\n",
    "    data = data_dt[1].iloc[i] # type: ignore\n",
    "    #interpolate\n",
    "    data=data.interpolate(method='nearest')\n",
    "    # Select columns to standardize\n",
    "    cols_to_standardize = ['每股收益(摊薄)(元/股)_EPS', '流通股_Trdshr', '成交金额_Trdsum', '月收益率_Monret', '已上市流通股_Lsttrdshr','收盘价_ClPr','等权平均市场月收益率_Mreteq','市净率_PB']\n",
    "    # Standardize selected columns\n",
    "    for col in cols_to_standardize:\n",
    "        col_data = data[col]\n",
    "        col_data = pd.to_numeric(col_data, errors='coerce')\n",
    "        col_mean = col_data.mean()\n",
    "        col_std = col_data.std()\n",
    "        col_scaled = (col_data - col_mean) / col_std\n",
    "        col_scaled = (col_scaled - col_scaled.min()) / (col_scaled.max() - col_scaled.min())\n",
    "        data[col] = col_scaled\n",
    "\n",
    "    data['总负债']=data['成交金额_Trdsum']*data['月无风险收益率_Monrfret'];data['流通市值']=data['每股收益(摊薄)(元/股)_EPS']*data['已上市流通股_Lsttrdshr'];\n",
    "    data['净利润']=data['每股收益(摊薄)(元/股)_EPS']*data['流通股_Trdshr'];\n",
    "    data['现金及短期投资']=data['月资本收益率_Monaret']*data['成交金额_Trdsum'];\n",
    "    data['个股月回报率']=data['月收益率_Monret'];data['所有者权益']=data['流通市值']+data['总负债'];\n",
    "    data['个股月回报率']=data['等权平均市场月收益率_Mreteq'];data['个股月收盘价']=data['收盘价_ClPr'];\n",
    "    data['上证综指流通市值']=data['已上市流通股_Lsttrdshr']*data['收盘价_ClPr'];\n",
    "    data['上证综指月回报率']=data['等权平均市场月收益率_Mreteq'];data['上证综指月收盘价']=data['收盘价_ClPr'];\n",
    "    # Calculate the explanatory variables\n",
    "    data['NIMTA'] = (data['每股收益(摊薄)(元/股)_EPS']*data['流通股_Trdshr']) / (data['每股收益(摊薄)(元/股)_EPS']*data['已上市流通股_Lsttrdshr'])  + data['成交金额_Trdsum']\n",
    "    data['NIMTAAVG'] = ((1 - 0.97**3) / (1 - 0.97**12)) * (data['NIMTA'].rolling(3).sum() - 0.97**9 * data['NIMTA'].rolling(12).sum())\n",
    "    data['TLMTA'] = data['总负债'] / (data['流通市值'] + data['总负债'])\n",
    "    data['CASHMTA'] = data['现金及短期投资'] / (data['流通市值'] + data['总负债'])\n",
    "    data['SIGMA'] = np.sqrt(250 / 2) * np.sqrt(data['个股月回报率'].rolling(3).apply(lambda x: np.sum(x**2)) / (2 - 1))\n",
    "    data['RSIZE'] = np.log(data['流通市值'] / data['上证综指流通市值'])\n",
    "    data['MB'] = data['流通市值'] / (data['所有者权益'] + 0.1 * (data['流通市值'] - data['所有者权益']))\n",
    "    data['EXRET'] = np.log(1 + data['个股月回报率']) - np.log(1 + data['上证综指月回报率'])\n",
    "    data['EXRETAVG'] = ((1 - 0.95) / (1 - 0.95**12)) * (data['EXRET'].rolling(1).sum() - 0.95**11 * data['EXRET'].rolling(12).sum())\n",
    "    data['PRICE'] = np.log(data['个股月收盘价'])\n",
    "\n",
    "    # Fill missing values with forward fill\n",
    "    data.fillna(method='ffill', inplace=True)\n",
    "\n",
    "    # Estimate the probability of a company being ST using the Logit model\n",
    "    X = data[['NIMTAAVG', 'TLMTA', 'CASHMTA', 'SIGMA', 'RSIZE', 'MB', 'PRICE']]\n",
    "    X = sm.add_constant(X)\n",
    "    Y = data['市净率_PB']\n",
    "    #if nan or inf in X or Y, replace nan with 0.002, inf with 0.999\n",
    "    X=X.replace([np.inf, -np.inf], np.nan)# type: ignore\n",
    "    X=X.fillna(0.002)\n",
    "    Y=Y.replace([np.inf, -np.inf], np.nan)\n",
    "    Y=Y.fillna(0.999)\n",
    "\n",
    "    logit_model = sm.Logit(Y, X)\n",
    "    result = logit_model.fit()\n",
    "    prob_ST = result.predict(X)\n",
    "\n",
    "    # Calculate the FPROB using the estimated coefficients and intercept from the Logit model\n",
    "    alpha = result.params[0]\n",
    "    beta = result.params[1:]\n",
    "    FPROB_ = alpha + np.dot(beta, X.T[1:])\n",
    "    FPROB[data_dt[0][i]] = FPROB_.mean() # type: ignore\n",
    "\n",
    "\n",
    "FPROB = pd.DataFrame(FPROB.values(),index=FPROB.keys(), columns=['FPROB'])# type: ignore\n",
    "FPROB.head()\n"
   ]
  },
  {
   "attachments": {},
   "cell_type": "markdown",
   "metadata": {},
   "source": [
    "10. O-Score(OSC)\n",
    "参考吴世农和卢贤义(2001)，计算A 股上市公司财务困境指数:\n",
    "$$\\begin{aligned}\n",
    "O\\text{-}Score: =-0.8670+2.5313x_1-40.2785x_2+0.4597x_3+3.2293x_4-3.9544x_5  \\\\\n",
    "-1.7814x_6,\n",
    "\\end{aligned}$$\n",
    "其中𝑥1是盈利增长比率，𝑥2是资产报酬率，𝑥3是流动比率，𝑥4是长期负债股东权\n",
    "益比，𝑥5是营运资本/总资产，𝑥6是资产周转率。"
   ]
  },
  {
   "cell_type": "code",
   "execution_count": 162,
   "metadata": {},
   "outputs": [
    {
     "data": {
      "text/html": [
       "<div>\n",
       "<style scoped>\n",
       "    .dataframe tbody tr th:only-of-type {\n",
       "        vertical-align: middle;\n",
       "    }\n",
       "\n",
       "    .dataframe tbody tr th {\n",
       "        vertical-align: top;\n",
       "    }\n",
       "\n",
       "    .dataframe thead th {\n",
       "        text-align: right;\n",
       "    }\n",
       "</style>\n",
       "<table border=\"1\" class=\"dataframe\">\n",
       "  <thead>\n",
       "    <tr style=\"text-align: right;\">\n",
       "      <th></th>\n",
       "      <th>OSC</th>\n",
       "    </tr>\n",
       "  </thead>\n",
       "  <tbody>\n",
       "    <tr>\n",
       "      <th>1997-01</th>\n",
       "      <td>0.852186</td>\n",
       "    </tr>\n",
       "    <tr>\n",
       "      <th>1997-02</th>\n",
       "      <td>-0.865293</td>\n",
       "    </tr>\n",
       "    <tr>\n",
       "      <th>1997-03</th>\n",
       "      <td>6.098498</td>\n",
       "    </tr>\n",
       "    <tr>\n",
       "      <th>1997-04</th>\n",
       "      <td>-9.982740</td>\n",
       "    </tr>\n",
       "    <tr>\n",
       "      <th>1997-05</th>\n",
       "      <td>-40.500976</td>\n",
       "    </tr>\n",
       "  </tbody>\n",
       "</table>\n",
       "</div>"
      ],
      "text/plain": [
       "               OSC\n",
       "1997-01   0.852186\n",
       "1997-02  -0.865293\n",
       "1997-03   6.098498\n",
       "1997-04  -9.982740\n",
       "1997-05 -40.500976"
      ]
     },
     "execution_count": 162,
     "metadata": {},
     "output_type": "execute_result"
    }
   ],
   "source": [
    "OSC={}\n",
    "for i in range(len(data_dt[1])):# type: ignore\n",
    "    data = data_dt[1][i]# type: ignore\n",
    "    #interpolate missing values\n",
    "    data=data.interpolate(match='nearest')\n",
    "    col=['每股收益(摊薄)(元/股)_EPS','流通股_Trdshr','成交金额_Trdsum','已上市流通股_Lsttrdshr','月资本收益率_Monaret','月收益率_Monret','等权平均市场月收益率_Mreteq','收盘价_ClPr']\n",
    "    # Standardize selected columns\n",
    "    for col in cols_to_standardize:\n",
    "        col_data = data[col]\n",
    "        col_data = pd.to_numeric(col_data, errors='coerce')\n",
    "        col_mean = col_data.mean()\n",
    "        col_std = col_data.std()\n",
    "        col_scaled = (col_data - col_mean) / col_std\n",
    "        col_scaled = (col_scaled - col_scaled.min()) / (col_scaled.max() - col_scaled.min())\n",
    "        data[col] = col_scaled\n",
    "\n",
    "    \n",
    "    data['净利润']=data['每股收益(摊薄)(元/股)_EPS']*data['流通股_Trdshr']\n",
    "    data['资产总计']=data['成交金额_Trdsum']\n",
    "    data['流动资产合计']=data['每股收益(摊薄)(元/股)_EPS']*data['已上市流通股_Lsttrdshr']\n",
    "    data['流动负债合计']=data['月资本收益率_Monaret']*data['成交金额_Trdsum']\n",
    "    data['长期借款']=data['月资本收益率_Monaret']*data['成交金额_Trdsum']\n",
    "    data['股东权益合计']=data['月资本收益率_Monaret']*data['成交金额_Trdsum']\n",
    "    data['营业收入']=data['已上市流通股_Lsttrdshr']*data['收盘价_ClPr']\n",
    "\n",
    "\n",
    "\n",
    "    # Calculate x1: Profit growth rate\n",
    "    net_income = data['净利润']\n",
    "    net_income_lag = net_income.shift(1)\n",
    "    x1 = (net_income - net_income_lag) / net_income_lag\n",
    "\n",
    "    # Calculate x2: Return on assets\n",
    "    net_income = data['净利润']\n",
    "    total_assets = data['资产总计']\n",
    "    x2 = net_income / total_assets\n",
    "\n",
    "    # Calculate x3: Current ratio\n",
    "    current_assets = data['流动资产合计']\n",
    "    current_liabilities = data['流动负债合计']\n",
    "    x3 = current_assets / current_liabilities\n",
    "\n",
    "    # Calculate x4: Long-term debt to equity ratio\n",
    "    long_term_debt = data['长期借款']\n",
    "    shareholders_equity = data['股东权益合计']\n",
    "    x4 = long_term_debt / shareholders_equity\n",
    "\n",
    "    # Calculate x5: Working capital to total assets ratio\n",
    "    working_capital = current_assets - current_liabilities\n",
    "    x5 = working_capital / total_assets\n",
    "\n",
    "    # Calculate x6: Asset turnover ratio\n",
    "    sales = data['营业收入']\n",
    "    x6 = sales / total_assets\n",
    "\n",
    "    #if nan or inf in x1 or x2, replace nan with 0.002, inf with 0.999\n",
    "    for j in [x1,x2,x3,x4,x5,x6]:\n",
    "        j=j.replace([np.inf, -np.inf], np.nan)\n",
    "        j=j.fillna(0.002)\n",
    "\n",
    "\n",
    "    oscore = -0.8670 + 2.5313*x1 - 40.2785*x2 + 0.4597*x3 + 3.2293*x4 - 3.9544*x5 - 1.7814*x6\n",
    "    if np.nan or np.inf in oscore:\n",
    "        oscore=oscore.replace([np.inf, -np.inf], np.nan)\n",
    "        oscore=oscore.fillna(method='ffill')\n",
    "    #OSC[data_dt[0][i]] = oscore # type: ignore\n",
    "    \n",
    "    OSC[data_dt[0][i]] = oscore.mean() # type: ignore\n",
    "OSC=pd.DataFrame(OSC.values(),index=OSC.keys(), columns=['OSC'])# type: ignore\n",
    "OSC.head()\n"
   ]
  },
  {
   "attachments": {},
   "cell_type": "markdown",
   "metadata": {},
   "source": [
    "11. 净股票发行(NSI)\n",
    "根据Stambaugh，Yu 和Yuan(2012)，公司的净股票发行NSI 计算如下：\n",
    "$$NSI_t=\\frac{log(财政年度𝑡的流通股数)}{log(财政年度𝑡 − 1 的流通股数)}$$"
   ]
  },
  {
   "cell_type": "code",
   "execution_count": 163,
   "metadata": {},
   "outputs": [
    {
     "data": {
      "text/html": [
       "<div>\n",
       "<style scoped>\n",
       "    .dataframe tbody tr th:only-of-type {\n",
       "        vertical-align: middle;\n",
       "    }\n",
       "\n",
       "    .dataframe tbody tr th {\n",
       "        vertical-align: top;\n",
       "    }\n",
       "\n",
       "    .dataframe thead th {\n",
       "        text-align: right;\n",
       "    }\n",
       "</style>\n",
       "<table border=\"1\" class=\"dataframe\">\n",
       "  <thead>\n",
       "    <tr style=\"text-align: right;\">\n",
       "      <th></th>\n",
       "      <th>NSI</th>\n",
       "    </tr>\n",
       "  </thead>\n",
       "  <tbody>\n",
       "    <tr>\n",
       "      <th>1997-02</th>\n",
       "      <td>0.962660</td>\n",
       "    </tr>\n",
       "    <tr>\n",
       "      <th>1997-03</th>\n",
       "      <td>0.952228</td>\n",
       "    </tr>\n",
       "    <tr>\n",
       "      <th>1997-04</th>\n",
       "      <td>1.161050</td>\n",
       "    </tr>\n",
       "    <tr>\n",
       "      <th>1997-05</th>\n",
       "      <td>0.908446</td>\n",
       "    </tr>\n",
       "    <tr>\n",
       "      <th>1997-06</th>\n",
       "      <td>0.992927</td>\n",
       "    </tr>\n",
       "  </tbody>\n",
       "</table>\n",
       "</div>"
      ],
      "text/plain": [
       "              NSI\n",
       "1997-02  0.962660\n",
       "1997-03  0.952228\n",
       "1997-04  1.161050\n",
       "1997-05  0.908446\n",
       "1997-06  0.992927"
      ]
     },
     "execution_count": 163,
     "metadata": {},
     "output_type": "execute_result"
    }
   ],
   "source": [
    "import math\n",
    "NSI = {}\n",
    "for i in range(1,len(data_dt[1])):# type: ignore\n",
    "# Calculate the NSI for each fiscal year\n",
    "    df=data_dt[1][i]# type: ignore\n",
    "    df=df.interpolate(method='nearest')\n",
    "    nsi_t = math.log(df['流通股_Trdshr'].iloc[i]) / math.log(df['流通股_Trdshr'].iloc[i-1])\n",
    "    NSI[data_dt[0][i]] = nsi_t # type: ignore\n",
    "\n",
    "NSI=pd.DataFrame(NSI.values(),index=NSI.keys(), columns=['NSI'])# type: ignore\n",
    "NSI.head()"
   ]
  },
  {
   "attachments": {},
   "cell_type": "markdown",
   "metadata": {},
   "source": [
    "12. 复合股权发行(CEI)\n",
    "根据Daniel 和Titman(2006)，用公司过去5 年市值增长中不属于股票收益的\n",
    "部分来衡量复合股权发行：$$CEI_t=log\\left(\\frac{ME_t}{ME_{t-5}}\\right)-r(t-5,t)$$\n",
    "例如计算第𝑡年6 月的CEI，$𝑀𝐸_t$是𝑡年6 月底的总市值，$ME_{t-5}$是𝑡 − 5年6 月底的总市值，𝑟(𝑡 − 5, 𝑡)是𝑡 − 5年6 月底至𝑡年6 月底的股票对数累计回报。"
   ]
  },
  {
   "cell_type": "code",
   "execution_count": 164,
   "metadata": {},
   "outputs": [
    {
     "data": {
      "text/html": [
       "<div>\n",
       "<style scoped>\n",
       "    .dataframe tbody tr th:only-of-type {\n",
       "        vertical-align: middle;\n",
       "    }\n",
       "\n",
       "    .dataframe tbody tr th {\n",
       "        vertical-align: top;\n",
       "    }\n",
       "\n",
       "    .dataframe thead th {\n",
       "        text-align: right;\n",
       "    }\n",
       "</style>\n",
       "<table border=\"1\" class=\"dataframe\">\n",
       "  <thead>\n",
       "    <tr style=\"text-align: right;\">\n",
       "      <th></th>\n",
       "      <th>CEI</th>\n",
       "    </tr>\n",
       "  </thead>\n",
       "  <tbody>\n",
       "    <tr>\n",
       "      <th>1997-06</th>\n",
       "      <td>-1.981104</td>\n",
       "    </tr>\n",
       "    <tr>\n",
       "      <th>1997-07</th>\n",
       "      <td>-0.142660</td>\n",
       "    </tr>\n",
       "    <tr>\n",
       "      <th>1997-08</th>\n",
       "      <td>-0.524882</td>\n",
       "    </tr>\n",
       "    <tr>\n",
       "      <th>1997-09</th>\n",
       "      <td>-2.042513</td>\n",
       "    </tr>\n",
       "    <tr>\n",
       "      <th>1997-10</th>\n",
       "      <td>2.109891</td>\n",
       "    </tr>\n",
       "  </tbody>\n",
       "</table>\n",
       "</div>"
      ],
      "text/plain": [
       "              CEI\n",
       "1997-06 -1.981104\n",
       "1997-07 -0.142660\n",
       "1997-08 -0.524882\n",
       "1997-09 -2.042513\n",
       "1997-10  2.109891"
      ]
     },
     "execution_count": 164,
     "metadata": {},
     "output_type": "execute_result"
    }
   ],
   "source": [
    "import math\n",
    "\n",
    "# Calculate the CEI for each fiscal year\n",
    "CEI = {}\n",
    "for i in range(5, len(data_dt[1])):# type: ignore\n",
    "    data['总市值']=data['每股收益(摊薄)(元/股)_EPS']*data['流通股_Trdshr'];\n",
    "    data['股票对数累计回报']=data['等权平均市场月收益率_Mreteq']\n",
    "    me_t = data['总市值'].iloc[i]\n",
    "    me_t_minus_5 = data['总市值'].iloc[i-5]\n",
    "    r_t_minus_5_t = math.log(data['股票对数累计回报'].iloc[i]) - math.log(data['股票对数累计回报'].iloc[i-5])\n",
    "    cei_t = math.log(me_t / me_t_minus_5) - r_t_minus_5_t\n",
    "    CEI[data_dt[0][i]] = cei_t # type: ignore\n",
    "\n",
    "CEI=pd.DataFrame(CEI.values(),index=CEI.keys(), columns=['CEI'])# type: ignore\n",
    "CEI.head()\n"
   ]
  },
  {
   "attachments": {},
   "cell_type": "markdown",
   "metadata": {},
   "source": [
    "13. 应计利润(ACC)\n",
    "根据李远鹏和牛建军(2007)，应计利润等于公司的净利润减去经营活动现金\n",
    "流，再除以平均总资产以消除规模效应。"
   ]
  },
  {
   "cell_type": "code",
   "execution_count": 165,
   "metadata": {},
   "outputs": [
    {
     "data": {
      "text/html": [
       "<div>\n",
       "<style scoped>\n",
       "    .dataframe tbody tr th:only-of-type {\n",
       "        vertical-align: middle;\n",
       "    }\n",
       "\n",
       "    .dataframe tbody tr th {\n",
       "        vertical-align: top;\n",
       "    }\n",
       "\n",
       "    .dataframe thead th {\n",
       "        text-align: right;\n",
       "    }\n",
       "</style>\n",
       "<table border=\"1\" class=\"dataframe\">\n",
       "  <thead>\n",
       "    <tr style=\"text-align: right;\">\n",
       "      <th></th>\n",
       "      <th>ACC</th>\n",
       "    </tr>\n",
       "  </thead>\n",
       "  <tbody>\n",
       "    <tr>\n",
       "      <th>1997-01</th>\n",
       "      <td>0.0</td>\n",
       "    </tr>\n",
       "    <tr>\n",
       "      <th>1997-02</th>\n",
       "      <td>0.0</td>\n",
       "    </tr>\n",
       "    <tr>\n",
       "      <th>1997-03</th>\n",
       "      <td>0.0</td>\n",
       "    </tr>\n",
       "    <tr>\n",
       "      <th>1997-04</th>\n",
       "      <td>0.0</td>\n",
       "    </tr>\n",
       "    <tr>\n",
       "      <th>1997-05</th>\n",
       "      <td>0.0</td>\n",
       "    </tr>\n",
       "  </tbody>\n",
       "</table>\n",
       "</div>"
      ],
      "text/plain": [
       "         ACC\n",
       "1997-01  0.0\n",
       "1997-02  0.0\n",
       "1997-03  0.0\n",
       "1997-04  0.0\n",
       "1997-05  0.0"
      ]
     },
     "execution_count": 165,
     "metadata": {},
     "output_type": "execute_result"
    }
   ],
   "source": [
    "import pandas as pd\n",
    "\n",
    "ACC ={}\n",
    "for i in range(len(data_dt[1])):# type: ignore\n",
    "    data['净利润']=data['每股收益(摊薄)(元/股)_EPS']*data['流通股_Trdshr']\n",
    "    data['经营活动现金流']=data['每股收益(摊薄)(元/股)_EPS']*data['流通股_Trdshr']\n",
    "    data['总资产']=data['成交金额_Trdsum']\n",
    "\n",
    "    net_income = data['净利润'].iloc[i]\n",
    "    operating_cash_flow = data['经营活动现金流'].iloc[i]\n",
    "    total_assets = data['总资产'].iloc[i]\n",
    "    if i == 0:\n",
    "        avg_total_assets = total_assets\n",
    "    else:\n",
    "        avg_total_assets = (total_assets + data.iloc[i-1]['总资产']) / 2\n",
    "    acc_t = (net_income - operating_cash_flow) / avg_total_assets\n",
    "    ACC[data_dt[0][i]] = acc_t # type: ignore\n",
    "\n",
    "ACC=pd.DataFrame(ACC.values(),index=ACC.keys(), columns=['ACC'])# type: ignore\n",
    "ACC.head()"
   ]
  },
  {
   "attachments": {},
   "cell_type": "markdown",
   "metadata": {},
   "source": [
    "14. 净经营资产(NOA)\n",
    "根据Hirshleifer 等(2004)，参考A 股市场上的做法进行变形，计算方法如下：\n",
    "$$NOA_t=\\frac{股东权益_t+短期负债_t+长期负债_t-现金_t-短期投资_t}{总资产_{t-1}}"
   ]
  },
  {
   "cell_type": "code",
   "execution_count": 166,
   "metadata": {},
   "outputs": [
    {
     "data": {
      "text/html": [
       "<div>\n",
       "<style scoped>\n",
       "    .dataframe tbody tr th:only-of-type {\n",
       "        vertical-align: middle;\n",
       "    }\n",
       "\n",
       "    .dataframe tbody tr th {\n",
       "        vertical-align: top;\n",
       "    }\n",
       "\n",
       "    .dataframe thead th {\n",
       "        text-align: right;\n",
       "    }\n",
       "</style>\n",
       "<table border=\"1\" class=\"dataframe\">\n",
       "  <thead>\n",
       "    <tr style=\"text-align: right;\">\n",
       "      <th></th>\n",
       "      <th>NOA</th>\n",
       "    </tr>\n",
       "  </thead>\n",
       "  <tbody>\n",
       "    <tr>\n",
       "      <th>1997-02</th>\n",
       "      <td>-1.259761</td>\n",
       "    </tr>\n",
       "    <tr>\n",
       "      <th>1997-03</th>\n",
       "      <td>0.230237</td>\n",
       "    </tr>\n",
       "    <tr>\n",
       "      <th>1997-04</th>\n",
       "      <td>-4.578203</td>\n",
       "    </tr>\n",
       "    <tr>\n",
       "      <th>1997-05</th>\n",
       "      <td>-0.928923</td>\n",
       "    </tr>\n",
       "    <tr>\n",
       "      <th>1997-06</th>\n",
       "      <td>-3.180844</td>\n",
       "    </tr>\n",
       "  </tbody>\n",
       "</table>\n",
       "</div>"
      ],
      "text/plain": [
       "              NOA\n",
       "1997-02 -1.259761\n",
       "1997-03  0.230237\n",
       "1997-04 -4.578203\n",
       "1997-05 -0.928923\n",
       "1997-06 -3.180844"
      ]
     },
     "execution_count": 166,
     "metadata": {},
     "output_type": "execute_result"
    }
   ],
   "source": [
    "NOA = {}\n",
    "for i in range(1, len(data_dt[1])):# type: ignore\n",
    "    data=data_dt[1][i]# type: ignore\n",
    "    data=data.interpolate(method='nearest')\n",
    "    data['股东权益']=data['月资本收益率_Monaret']*data['成交金额_Trdsum']\n",
    "    data['现金']=data['总股数_Fullshr']*data['市净率_PB']\n",
    "    data['长期负债']=data['月资本收益率_Monaret']*data['成交金额_Trdsum']\n",
    "    data['短期负债']=data['流通市值加权平均市场月资本收益率_Marettmv']*data['成交金额_Trdsum']\n",
    "    data['总资产']=data['成交金额_Trdsum']\n",
    "    data['短期投资']=data['月无风险收益率_Monrfret']*data['成交金额_Trdsum']\n",
    "\n",
    "    shareholder_equity = data['股东权益'].iloc[i]\n",
    "    short_term_debt = data['短期负债'].iloc[i]\n",
    "    long_term_debt = data['长期负债'].iloc[i]\n",
    "    cash = data['现金'].iloc[i]\n",
    "    short_term_investments = data['短期投资'].iloc[i]\n",
    "    total_assets_t_minus_1 = data['总资产'].iloc[i-1]\n",
    "    noa_t = (shareholder_equity + short_term_debt + long_term_debt - cash - short_term_investments) / total_assets_t_minus_1\n",
    "    \n",
    "\n",
    "    NOA[data_dt[0][i]] = noa_t # type: ignore\n",
    "NOA=pd.DataFrame(NOA.values(),index=NOA.keys(), columns=['NOA'])# type: ignore\n",
    "NOA.head()"
   ]
  },
  {
   "attachments": {},
   "cell_type": "markdown",
   "metadata": {},
   "source": [
    "15. 毛利率(PROF)\n",
    "根据Novy-Marx(2013)计算毛利率，计算方法如下：\n",
    "$$PROF_t=\\frac{总收入_𝑡−营业成本_𝑡}{总资产_{𝑡−1}}$$"
   ]
  },
  {
   "cell_type": "code",
   "execution_count": 167,
   "metadata": {},
   "outputs": [
    {
     "name": "stderr",
     "output_type": "stream",
     "text": [
      "/tmp/ipykernel_1006/4209168401.py:13: RuntimeWarning: divide by zero encountered in scalar divide\n",
      "  prof_t = (total_revenue - operating_cost) / total_assets_t_minus_1\n",
      "/tmp/ipykernel_1006/4209168401.py:13: RuntimeWarning: divide by zero encountered in scalar divide\n",
      "  prof_t = (total_revenue - operating_cost) / total_assets_t_minus_1\n",
      "/tmp/ipykernel_1006/4209168401.py:13: RuntimeWarning: divide by zero encountered in scalar divide\n",
      "  prof_t = (total_revenue - operating_cost) / total_assets_t_minus_1\n",
      "/tmp/ipykernel_1006/4209168401.py:13: RuntimeWarning: divide by zero encountered in scalar divide\n",
      "  prof_t = (total_revenue - operating_cost) / total_assets_t_minus_1\n",
      "/tmp/ipykernel_1006/4209168401.py:13: RuntimeWarning: divide by zero encountered in scalar divide\n",
      "  prof_t = (total_revenue - operating_cost) / total_assets_t_minus_1\n",
      "/tmp/ipykernel_1006/4209168401.py:13: RuntimeWarning: divide by zero encountered in scalar divide\n",
      "  prof_t = (total_revenue - operating_cost) / total_assets_t_minus_1\n",
      "/tmp/ipykernel_1006/4209168401.py:13: RuntimeWarning: divide by zero encountered in scalar divide\n",
      "  prof_t = (total_revenue - operating_cost) / total_assets_t_minus_1\n",
      "/tmp/ipykernel_1006/4209168401.py:13: RuntimeWarning: divide by zero encountered in scalar divide\n",
      "  prof_t = (total_revenue - operating_cost) / total_assets_t_minus_1\n",
      "/tmp/ipykernel_1006/4209168401.py:13: RuntimeWarning: divide by zero encountered in scalar divide\n",
      "  prof_t = (total_revenue - operating_cost) / total_assets_t_minus_1\n",
      "/tmp/ipykernel_1006/4209168401.py:13: RuntimeWarning: divide by zero encountered in scalar divide\n",
      "  prof_t = (total_revenue - operating_cost) / total_assets_t_minus_1\n",
      "/tmp/ipykernel_1006/4209168401.py:13: RuntimeWarning: divide by zero encountered in scalar divide\n",
      "  prof_t = (total_revenue - operating_cost) / total_assets_t_minus_1\n",
      "/tmp/ipykernel_1006/4209168401.py:13: RuntimeWarning: divide by zero encountered in scalar divide\n",
      "  prof_t = (total_revenue - operating_cost) / total_assets_t_minus_1\n"
     ]
    },
    {
     "data": {
      "text/html": [
       "<div>\n",
       "<style scoped>\n",
       "    .dataframe tbody tr th:only-of-type {\n",
       "        vertical-align: middle;\n",
       "    }\n",
       "\n",
       "    .dataframe tbody tr th {\n",
       "        vertical-align: top;\n",
       "    }\n",
       "\n",
       "    .dataframe thead th {\n",
       "        text-align: right;\n",
       "    }\n",
       "</style>\n",
       "<table border=\"1\" class=\"dataframe\">\n",
       "  <thead>\n",
       "    <tr style=\"text-align: right;\">\n",
       "      <th></th>\n",
       "      <th>PROF</th>\n",
       "    </tr>\n",
       "  </thead>\n",
       "  <tbody>\n",
       "    <tr>\n",
       "      <th>1997-02</th>\n",
       "      <td>24.454755</td>\n",
       "    </tr>\n",
       "    <tr>\n",
       "      <th>1997-03</th>\n",
       "      <td>-5.644113</td>\n",
       "    </tr>\n",
       "    <tr>\n",
       "      <th>1997-04</th>\n",
       "      <td>-251.822490</td>\n",
       "    </tr>\n",
       "    <tr>\n",
       "      <th>1997-05</th>\n",
       "      <td>14.736036</td>\n",
       "    </tr>\n",
       "    <tr>\n",
       "      <th>1997-06</th>\n",
       "      <td>inf</td>\n",
       "    </tr>\n",
       "  </tbody>\n",
       "</table>\n",
       "</div>"
      ],
      "text/plain": [
       "               PROF\n",
       "1997-02   24.454755\n",
       "1997-03   -5.644113\n",
       "1997-04 -251.822490\n",
       "1997-05   14.736036\n",
       "1997-06         inf"
      ]
     },
     "execution_count": 167,
     "metadata": {},
     "output_type": "execute_result"
    }
   ],
   "source": [
    "# Calculate the PROF for each fiscal year\n",
    "PROF ={}\n",
    "for i in range(1, len(data_dt[1])): #type: ignore\n",
    "    data=data_dt[1][i]# type: ignore\n",
    "    data=data.interpolate(method='nearest')\n",
    "    data['总收入']=data['收盘价_ClPr']*data['流通股_Trdshr'];\n",
    "    data['营业成本']=data['成交金额_Trdsum']\n",
    "    data['总资产']=data['每股收益(摊薄)(元/股)_EPS']*data['流通股_Trdshr']\n",
    "    \n",
    "    total_revenue = data['总收入'].iloc[i]\n",
    "    operating_cost = data['营业成本'].iloc[i]\n",
    "    total_assets_t_minus_1 = data['总资产'].iloc[i-1]\n",
    "    prof_t = (total_revenue - operating_cost) / total_assets_t_minus_1\n",
    "    PROF[data_dt[0][i]]=prof_t # type:ignore\n",
    "\n",
    "\n",
    "PROF=pd.DataFrame(PROF.values(),index=PROF.keys(), columns=['PROF'])# type: ignore\n",
    "PROF.head()\n"
   ]
  },
  {
   "attachments": {},
   "cell_type": "markdown",
   "metadata": {},
   "source": [
    "16. 资产增长(AG)\n",
    "根据Cooper，Gulen 和Chill(2008)计算资产增长率，财政年度𝑡的资产增长率\n",
    "计算方法如下：\n",
    "$$AG_t=\\frac{总资产_t-总资产_{t-1}}{总资产_{t-1}}$$"
   ]
  },
  {
   "cell_type": "code",
   "execution_count": 168,
   "metadata": {},
   "outputs": [
    {
     "name": "stderr",
     "output_type": "stream",
     "text": [
      "/tmp/ipykernel_1006/4268908491.py:9: RuntimeWarning: divide by zero encountered in scalar divide\n",
      "  ag_t = (total_assets_t - total_assets_t_minus_1) / total_assets_t_minus_1\n",
      "/tmp/ipykernel_1006/4268908491.py:9: RuntimeWarning: divide by zero encountered in scalar divide\n",
      "  ag_t = (total_assets_t - total_assets_t_minus_1) / total_assets_t_minus_1\n",
      "/tmp/ipykernel_1006/4268908491.py:9: RuntimeWarning: divide by zero encountered in scalar divide\n",
      "  ag_t = (total_assets_t - total_assets_t_minus_1) / total_assets_t_minus_1\n",
      "/tmp/ipykernel_1006/4268908491.py:9: RuntimeWarning: divide by zero encountered in scalar divide\n",
      "  ag_t = (total_assets_t - total_assets_t_minus_1) / total_assets_t_minus_1\n",
      "/tmp/ipykernel_1006/4268908491.py:9: RuntimeWarning: divide by zero encountered in scalar divide\n",
      "  ag_t = (total_assets_t - total_assets_t_minus_1) / total_assets_t_minus_1\n",
      "/tmp/ipykernel_1006/4268908491.py:9: RuntimeWarning: divide by zero encountered in scalar divide\n",
      "  ag_t = (total_assets_t - total_assets_t_minus_1) / total_assets_t_minus_1\n",
      "/tmp/ipykernel_1006/4268908491.py:9: RuntimeWarning: divide by zero encountered in scalar divide\n",
      "  ag_t = (total_assets_t - total_assets_t_minus_1) / total_assets_t_minus_1\n",
      "/tmp/ipykernel_1006/4268908491.py:9: RuntimeWarning: divide by zero encountered in scalar divide\n",
      "  ag_t = (total_assets_t - total_assets_t_minus_1) / total_assets_t_minus_1\n",
      "/tmp/ipykernel_1006/4268908491.py:9: RuntimeWarning: invalid value encountered in scalar divide\n",
      "  ag_t = (total_assets_t - total_assets_t_minus_1) / total_assets_t_minus_1\n",
      "/tmp/ipykernel_1006/4268908491.py:9: RuntimeWarning: divide by zero encountered in scalar divide\n",
      "  ag_t = (total_assets_t - total_assets_t_minus_1) / total_assets_t_minus_1\n",
      "/tmp/ipykernel_1006/4268908491.py:9: RuntimeWarning: divide by zero encountered in scalar divide\n",
      "  ag_t = (total_assets_t - total_assets_t_minus_1) / total_assets_t_minus_1\n",
      "/tmp/ipykernel_1006/4268908491.py:9: RuntimeWarning: divide by zero encountered in scalar divide\n",
      "  ag_t = (total_assets_t - total_assets_t_minus_1) / total_assets_t_minus_1\n"
     ]
    },
    {
     "data": {
      "text/html": [
       "<div>\n",
       "<style scoped>\n",
       "    .dataframe tbody tr th:only-of-type {\n",
       "        vertical-align: middle;\n",
       "    }\n",
       "\n",
       "    .dataframe tbody tr th {\n",
       "        vertical-align: top;\n",
       "    }\n",
       "\n",
       "    .dataframe thead th {\n",
       "        text-align: right;\n",
       "    }\n",
       "</style>\n",
       "<table border=\"1\" class=\"dataframe\">\n",
       "  <thead>\n",
       "    <tr style=\"text-align: right;\">\n",
       "      <th></th>\n",
       "      <th>AG</th>\n",
       "    </tr>\n",
       "  </thead>\n",
       "  <tbody>\n",
       "    <tr>\n",
       "      <th>1997-02</th>\n",
       "      <td>0.348345</td>\n",
       "    </tr>\n",
       "    <tr>\n",
       "      <th>1997-03</th>\n",
       "      <td>-1.120623</td>\n",
       "    </tr>\n",
       "    <tr>\n",
       "      <th>1997-04</th>\n",
       "      <td>-3.856808</td>\n",
       "    </tr>\n",
       "    <tr>\n",
       "      <th>1997-05</th>\n",
       "      <td>-1.000000</td>\n",
       "    </tr>\n",
       "    <tr>\n",
       "      <th>1997-06</th>\n",
       "      <td>inf</td>\n",
       "    </tr>\n",
       "  </tbody>\n",
       "</table>\n",
       "</div>"
      ],
      "text/plain": [
       "               AG\n",
       "1997-02  0.348345\n",
       "1997-03 -1.120623\n",
       "1997-04 -3.856808\n",
       "1997-05 -1.000000\n",
       "1997-06       inf"
      ]
     },
     "execution_count": 168,
     "metadata": {},
     "output_type": "execute_result"
    }
   ],
   "source": [
    "# Calculate the AG for each fiscal year\n",
    "AG = {}\n",
    "for i in range(1, len(data_dt)): #type:ignore\n",
    "    data=data_dt[1][i]# type: ignore\n",
    "    data=data.interpolate(method='nearest')\n",
    "    data['总资产']=data['每股收益(摊薄)(元/股)_EPS']*data['流通股_Trdshr']\n",
    "    total_assets_t = data['总资产'].iloc[i]\n",
    "    total_assets_t_minus_1 = data['总资产'].iloc[i-1]\n",
    "    ag_t = (total_assets_t - total_assets_t_minus_1) / total_assets_t_minus_1\n",
    "    if ag_t==np.nan:ag_t.replce(np.nan,0.03)\n",
    "    AG[data_dt[0][i]] = ag_t # type: ignore\n",
    "\n",
    "AG=pd.DataFrame(AG.values(),index=AG.keys(), columns=['AG'])# type: ignore\n",
    "AG.head()\n"
   ]
  },
  {
   "attachments": {},
   "cell_type": "markdown",
   "metadata": {},
   "source": [
    "17. 资产回报率(ROA)\n",
    "根据Stambaugh，Yu 和Yuan(2012)计算资产报酬率，计算方法如下：\n",
    "$$ROA_t=\\frac{净利润_t}{总资产_{t-1}}$$"
   ]
  },
  {
   "cell_type": "code",
   "execution_count": 169,
   "metadata": {},
   "outputs": [
    {
     "name": "stderr",
     "output_type": "stream",
     "text": [
      "/tmp/ipykernel_1006/2996509392.py:10: RuntimeWarning: divide by zero encountered in scalar divide\n",
      "  roa_t = net_income_t / total_assets_t_minus_1\n",
      "/tmp/ipykernel_1006/2996509392.py:10: RuntimeWarning: divide by zero encountered in scalar divide\n",
      "  roa_t = net_income_t / total_assets_t_minus_1\n",
      "/tmp/ipykernel_1006/2996509392.py:10: RuntimeWarning: divide by zero encountered in scalar divide\n",
      "  roa_t = net_income_t / total_assets_t_minus_1\n",
      "/tmp/ipykernel_1006/2996509392.py:10: RuntimeWarning: divide by zero encountered in scalar divide\n",
      "  roa_t = net_income_t / total_assets_t_minus_1\n",
      "/tmp/ipykernel_1006/2996509392.py:10: RuntimeWarning: divide by zero encountered in scalar divide\n",
      "  roa_t = net_income_t / total_assets_t_minus_1\n",
      "/tmp/ipykernel_1006/2996509392.py:10: RuntimeWarning: divide by zero encountered in scalar divide\n",
      "  roa_t = net_income_t / total_assets_t_minus_1\n",
      "/tmp/ipykernel_1006/2996509392.py:10: RuntimeWarning: divide by zero encountered in scalar divide\n",
      "  roa_t = net_income_t / total_assets_t_minus_1\n",
      "/tmp/ipykernel_1006/2996509392.py:10: RuntimeWarning: divide by zero encountered in scalar divide\n",
      "  roa_t = net_income_t / total_assets_t_minus_1\n",
      "/tmp/ipykernel_1006/2996509392.py:10: RuntimeWarning: divide by zero encountered in scalar divide\n",
      "  roa_t = net_income_t / total_assets_t_minus_1\n",
      "/tmp/ipykernel_1006/2996509392.py:10: RuntimeWarning: divide by zero encountered in scalar divide\n",
      "  roa_t = net_income_t / total_assets_t_minus_1\n",
      "/tmp/ipykernel_1006/2996509392.py:10: RuntimeWarning: divide by zero encountered in scalar divide\n",
      "  roa_t = net_income_t / total_assets_t_minus_1\n",
      "/tmp/ipykernel_1006/2996509392.py:10: RuntimeWarning: divide by zero encountered in scalar divide\n",
      "  roa_t = net_income_t / total_assets_t_minus_1\n"
     ]
    },
    {
     "data": {
      "text/html": [
       "<div>\n",
       "<style scoped>\n",
       "    .dataframe tbody tr th:only-of-type {\n",
       "        vertical-align: middle;\n",
       "    }\n",
       "\n",
       "    .dataframe tbody tr th {\n",
       "        vertical-align: top;\n",
       "    }\n",
       "\n",
       "    .dataframe thead th {\n",
       "        text-align: right;\n",
       "    }\n",
       "</style>\n",
       "<table border=\"1\" class=\"dataframe\">\n",
       "  <thead>\n",
       "    <tr style=\"text-align: right;\">\n",
       "      <th></th>\n",
       "      <th>ROA</th>\n",
       "    </tr>\n",
       "  </thead>\n",
       "  <tbody>\n",
       "    <tr>\n",
       "      <th>1997-02</th>\n",
       "      <td>37.079482</td>\n",
       "    </tr>\n",
       "    <tr>\n",
       "      <th>1997-03</th>\n",
       "      <td>8.990457</td>\n",
       "    </tr>\n",
       "    <tr>\n",
       "      <th>1997-04</th>\n",
       "      <td>-549.221433</td>\n",
       "    </tr>\n",
       "    <tr>\n",
       "      <th>1997-05</th>\n",
       "      <td>31.451400</td>\n",
       "    </tr>\n",
       "    <tr>\n",
       "      <th>1997-06</th>\n",
       "      <td>inf</td>\n",
       "    </tr>\n",
       "  </tbody>\n",
       "</table>\n",
       "</div>"
      ],
      "text/plain": [
       "                ROA\n",
       "1997-02   37.079482\n",
       "1997-03    8.990457\n",
       "1997-04 -549.221433\n",
       "1997-05   31.451400\n",
       "1997-06         inf"
      ]
     },
     "execution_count": 169,
     "metadata": {},
     "output_type": "execute_result"
    }
   ],
   "source": [
    "# Calculate the ROA for each fiscal year\n",
    "ROA= {}\n",
    "for i in range(1, len(data_dt)):\n",
    "    data=data_dt[1][i] # type: ignore\n",
    "    data=data.interpolate(method='nearest')\n",
    "    data['净利润']=data['收盘价_ClPr']*data['流通股_Trdshr'];\n",
    "    data['总资产']=data['每股收益(摊薄)(元/股)_EPS']*data['流通股_Trdshr']\n",
    "    net_income_t = data['净利润'].iloc[i]\n",
    "    total_assets_t_minus_1 = data['总资产'].iloc[i-1]\n",
    "    roa_t = net_income_t / total_assets_t_minus_1\n",
    "    if ag_t==np.nan:ag_t.replce(np.nan,36)\n",
    "    ROA[data_dt[0][i]]=roa_t #type:ignore\n",
    "ROA=pd.DataFrame(ROA.values(),index=ROA.keys(), columns=['ROA'])# type: ignore\n",
    "ROA.head()"
   ]
  },
  {
   "attachments": {},
   "cell_type": "markdown",
   "metadata": {},
   "source": [
    "18. 投资支出(INV)\n",
    "根据Stambaugh，Yu 和Yuan(2012)，对资产的投资为固定资产年度变化加上\n",
    "库存的年度变化，除以滞后资产账面价值，具体计算方法如下：\n",
    "$$INV=\\frac{\\Delta固定资产_𝑡−\\Delta存货_𝑡}{总资产_{𝑡−1}}"
   ]
  },
  {
   "cell_type": "code",
   "execution_count": 170,
   "metadata": {},
   "outputs": [
    {
     "name": "stderr",
     "output_type": "stream",
     "text": [
      "/tmp/ipykernel_1006/774472964.py:10: RuntimeWarning: divide by zero encountered in scalar divide\n",
      "  roa_t = net_income_t / total_assets_t_minus_1\n",
      "/tmp/ipykernel_1006/774472964.py:10: RuntimeWarning: divide by zero encountered in scalar divide\n",
      "  roa_t = net_income_t / total_assets_t_minus_1\n",
      "/tmp/ipykernel_1006/774472964.py:10: RuntimeWarning: divide by zero encountered in scalar divide\n",
      "  roa_t = net_income_t / total_assets_t_minus_1\n",
      "/tmp/ipykernel_1006/774472964.py:10: RuntimeWarning: divide by zero encountered in scalar divide\n",
      "  roa_t = net_income_t / total_assets_t_minus_1\n",
      "/tmp/ipykernel_1006/774472964.py:10: RuntimeWarning: divide by zero encountered in scalar divide\n",
      "  roa_t = net_income_t / total_assets_t_minus_1\n",
      "/tmp/ipykernel_1006/774472964.py:10: RuntimeWarning: divide by zero encountered in scalar divide\n",
      "  roa_t = net_income_t / total_assets_t_minus_1\n",
      "/tmp/ipykernel_1006/774472964.py:10: RuntimeWarning: divide by zero encountered in scalar divide\n",
      "  roa_t = net_income_t / total_assets_t_minus_1\n",
      "/tmp/ipykernel_1006/774472964.py:10: RuntimeWarning: divide by zero encountered in scalar divide\n",
      "  roa_t = net_income_t / total_assets_t_minus_1\n",
      "/tmp/ipykernel_1006/774472964.py:10: RuntimeWarning: divide by zero encountered in scalar divide\n",
      "  roa_t = net_income_t / total_assets_t_minus_1\n",
      "/tmp/ipykernel_1006/774472964.py:10: RuntimeWarning: divide by zero encountered in scalar divide\n",
      "  roa_t = net_income_t / total_assets_t_minus_1\n",
      "/tmp/ipykernel_1006/774472964.py:10: RuntimeWarning: divide by zero encountered in scalar divide\n",
      "  roa_t = net_income_t / total_assets_t_minus_1\n",
      "/tmp/ipykernel_1006/774472964.py:10: RuntimeWarning: divide by zero encountered in scalar divide\n",
      "  roa_t = net_income_t / total_assets_t_minus_1\n",
      "/tmp/ipykernel_1006/774472964.py:10: RuntimeWarning: divide by zero encountered in scalar divide\n",
      "  roa_t = net_income_t / total_assets_t_minus_1\n"
     ]
    },
    {
     "data": {
      "text/html": [
       "<div>\n",
       "<style scoped>\n",
       "    .dataframe tbody tr th:only-of-type {\n",
       "        vertical-align: middle;\n",
       "    }\n",
       "\n",
       "    .dataframe tbody tr th {\n",
       "        vertical-align: top;\n",
       "    }\n",
       "\n",
       "    .dataframe thead th {\n",
       "        text-align: right;\n",
       "    }\n",
       "</style>\n",
       "<table border=\"1\" class=\"dataframe\">\n",
       "  <thead>\n",
       "    <tr style=\"text-align: right;\">\n",
       "      <th></th>\n",
       "      <th>INV</th>\n",
       "    </tr>\n",
       "  </thead>\n",
       "  <tbody>\n",
       "    <tr>\n",
       "      <th>1997-02</th>\n",
       "      <td>19.759259</td>\n",
       "    </tr>\n",
       "    <tr>\n",
       "      <th>1997-03</th>\n",
       "      <td>8.920635</td>\n",
       "    </tr>\n",
       "    <tr>\n",
       "      <th>1997-04</th>\n",
       "      <td>12.007937</td>\n",
       "    </tr>\n",
       "    <tr>\n",
       "      <th>1997-05</th>\n",
       "      <td>6.138889</td>\n",
       "    </tr>\n",
       "    <tr>\n",
       "      <th>1997-06</th>\n",
       "      <td>5.083929</td>\n",
       "    </tr>\n",
       "  </tbody>\n",
       "</table>\n",
       "</div>"
      ],
      "text/plain": [
       "               INV\n",
       "1997-02  19.759259\n",
       "1997-03   8.920635\n",
       "1997-04  12.007937\n",
       "1997-05   6.138889\n",
       "1997-06   5.083929"
      ]
     },
     "execution_count": 170,
     "metadata": {},
     "output_type": "execute_result"
    }
   ],
   "source": [
    "\n",
    "# Calculate the ROA for each fiscal year\n",
    "INV = {}\n",
    "for i in range(1, len(data_dt)):\n",
    "    data = data_dt[1][i]  # type:ignore\n",
    "    data = data.interpolate(method='nearest')\n",
    "    data['净利润'] = data['收盘价_ClPr'] * data['流通股_Trdshr']\n",
    "    data['总资产'] = data['每股收益(摊薄)(元/股)_EPS'] * data['流通股_Trdshr']\n",
    "    net_income_t = data['净利润'].iloc[-1]\n",
    "    total_assets_t_minus_1 = data['总资产'].iloc[-2]\n",
    "    roa_t = net_income_t / total_assets_t_minus_1\n",
    "    INV[data_dt[0][i]] = roa_t  # type:ignore\n",
    "    if np.isnan(roa_t):\n",
    "        ROA[data_dt[i-1].columns[0]] = 143   #type:ignore\n",
    "\n",
    "INV=pd.DataFrame(INV.values(),index=INV.keys(), columns=['INV'])# type: ignore\n",
    "INV.head()"
   ]
  },
  {
   "attachments": {},
   "cell_type": "markdown",
   "metadata": {},
   "source": [
    "19. 组织资本(ORGCAP)\n",
    "根据Bali，Cakici 和Whitelaw(2013)，组织资本为销售及一般管理费用，具体\n",
    "计算方法如下：$$ORGCAP=销售费用+管理费用+财务费用+研发费用$$"
   ]
  },
  {
   "cell_type": "code",
   "execution_count": 171,
   "metadata": {},
   "outputs": [
    {
     "data": {
      "text/html": [
       "<div>\n",
       "<style scoped>\n",
       "    .dataframe tbody tr th:only-of-type {\n",
       "        vertical-align: middle;\n",
       "    }\n",
       "\n",
       "    .dataframe tbody tr th {\n",
       "        vertical-align: top;\n",
       "    }\n",
       "\n",
       "    .dataframe thead th {\n",
       "        text-align: right;\n",
       "    }\n",
       "</style>\n",
       "<table border=\"1\" class=\"dataframe\">\n",
       "  <thead>\n",
       "    <tr style=\"text-align: right;\">\n",
       "      <th></th>\n",
       "      <th>ORGCPA</th>\n",
       "    </tr>\n",
       "  </thead>\n",
       "  <tbody>\n",
       "    <tr>\n",
       "      <th>1997-01</th>\n",
       "      <td>0.0155</td>\n",
       "    </tr>\n",
       "    <tr>\n",
       "      <th>1997-02</th>\n",
       "      <td>0.0155</td>\n",
       "    </tr>\n",
       "    <tr>\n",
       "      <th>1997-03</th>\n",
       "      <td>0.0155</td>\n",
       "    </tr>\n",
       "    <tr>\n",
       "      <th>1997-04</th>\n",
       "      <td>0.0155</td>\n",
       "    </tr>\n",
       "    <tr>\n",
       "      <th>1997-05</th>\n",
       "      <td>0.0195</td>\n",
       "    </tr>\n",
       "  </tbody>\n",
       "</table>\n",
       "</div>"
      ],
      "text/plain": [
       "         ORGCPA\n",
       "1997-01  0.0155\n",
       "1997-02  0.0155\n",
       "1997-03  0.0155\n",
       "1997-04  0.0155\n",
       "1997-05  0.0195"
      ]
     },
     "execution_count": 171,
     "metadata": {},
     "output_type": "execute_result"
    }
   ],
   "source": [
    "# Calculate the ORGCAP for each fiscal year\n",
    "ORGCPA = {}\n",
    "for i in range(len(data_dt)):\n",
    "    data = data_dt[1][i]  # type:ignore\n",
    "    data = data.interpolate(method='nearest')\n",
    "    data['销售费用'] = data['A股佣金_Coma'] \n",
    "    data['管理费用'] = data['B股佣金_Comb'] \n",
    "    data['财务费用'] = data['A股印花税_Stamptaxa'] \n",
    "    data['研发费用'] = data['B股印花税_Stamptaxb'] \n",
    "\n",
    "    sales_expenses_t = data['销售费用'].iloc[i]\n",
    "    general_expenses_t = data['管理费用'].iloc[i]\n",
    "    financial_expenses_t = data['财务费用'].iloc[i]\n",
    "    rd_expenses_t = data['研发费用'].iloc[i]\n",
    "    orgcap_t = sales_expenses_t + general_expenses_t + financial_expenses_t + rd_expenses_t\n",
    "    ORGCPA[data_dt[0][i]] = orgcap_t  # type:ignore\n",
    "\n",
    "ORGCPA=pd.DataFrame(ORGCPA.values(),index=ORGCPA.keys(), columns=['ORGCPA'])# type: ignore\n",
    "ORGCPA.head()"
   ]
  },
  {
   "attachments": {},
   "cell_type": "markdown",
   "metadata": {},
   "source": [
    "20. 外部融资(XFIN)\n",
    "根据Bradshaw，Richardson 和Sloan(2006)，等于净外部融资除以前一财政年\n",
    "度的总资产，这里净外部融资$\\Delta𝑋𝐹𝐼𝑁 = \\Delta𝐸𝑄𝑈𝐼𝑇𝑌 + \\Delta𝐷𝐸𝐵𝑇$，$\\Delta𝐸𝑄𝑈𝐼𝑇𝑌$为股权融\n",
    "资产生的净现金流，$\\Delta𝐷𝐸𝐵𝑇$为债权融资产生的净现金流。"
   ]
  },
  {
   "cell_type": "code",
   "execution_count": 182,
   "metadata": {},
   "outputs": [
    {
     "name": "stderr",
     "output_type": "stream",
     "text": [
      "/tmp/ipykernel_1006/2623499554.py:12: RuntimeWarning: divide by zero encountered in scalar divide\n",
      "  XFIN_t = (equity_financing_t + debt_financing_t) / data['总资产'].iloc[i-1]\n",
      "/tmp/ipykernel_1006/2623499554.py:12: RuntimeWarning: divide by zero encountered in scalar divide\n",
      "  XFIN_t = (equity_financing_t + debt_financing_t) / data['总资产'].iloc[i-1]\n",
      "/tmp/ipykernel_1006/2623499554.py:12: RuntimeWarning: divide by zero encountered in scalar divide\n",
      "  XFIN_t = (equity_financing_t + debt_financing_t) / data['总资产'].iloc[i-1]\n",
      "/tmp/ipykernel_1006/2623499554.py:12: RuntimeWarning: divide by zero encountered in scalar divide\n",
      "  XFIN_t = (equity_financing_t + debt_financing_t) / data['总资产'].iloc[i-1]\n",
      "/tmp/ipykernel_1006/2623499554.py:12: RuntimeWarning: divide by zero encountered in scalar divide\n",
      "  XFIN_t = (equity_financing_t + debt_financing_t) / data['总资产'].iloc[i-1]\n",
      "/tmp/ipykernel_1006/2623499554.py:12: RuntimeWarning: divide by zero encountered in scalar divide\n",
      "  XFIN_t = (equity_financing_t + debt_financing_t) / data['总资产'].iloc[i-1]\n",
      "/tmp/ipykernel_1006/2623499554.py:12: RuntimeWarning: divide by zero encountered in scalar divide\n",
      "  XFIN_t = (equity_financing_t + debt_financing_t) / data['总资产'].iloc[i-1]\n",
      "/tmp/ipykernel_1006/2623499554.py:12: RuntimeWarning: divide by zero encountered in scalar divide\n",
      "  XFIN_t = (equity_financing_t + debt_financing_t) / data['总资产'].iloc[i-1]\n",
      "/tmp/ipykernel_1006/2623499554.py:12: RuntimeWarning: divide by zero encountered in scalar divide\n",
      "  XFIN_t = (equity_financing_t + debt_financing_t) / data['总资产'].iloc[i-1]\n",
      "/tmp/ipykernel_1006/2623499554.py:12: RuntimeWarning: divide by zero encountered in scalar divide\n",
      "  XFIN_t = (equity_financing_t + debt_financing_t) / data['总资产'].iloc[i-1]\n",
      "/tmp/ipykernel_1006/2623499554.py:12: RuntimeWarning: divide by zero encountered in scalar divide\n",
      "  XFIN_t = (equity_financing_t + debt_financing_t) / data['总资产'].iloc[i-1]\n"
     ]
    },
    {
     "data": {
      "text/html": [
       "<div>\n",
       "<style scoped>\n",
       "    .dataframe tbody tr th:only-of-type {\n",
       "        vertical-align: middle;\n",
       "    }\n",
       "\n",
       "    .dataframe tbody tr th {\n",
       "        vertical-align: top;\n",
       "    }\n",
       "\n",
       "    .dataframe thead th {\n",
       "        text-align: right;\n",
       "    }\n",
       "</style>\n",
       "<table border=\"1\" class=\"dataframe\">\n",
       "  <thead>\n",
       "    <tr style=\"text-align: right;\">\n",
       "      <th></th>\n",
       "      <th>XFIN</th>\n",
       "    </tr>\n",
       "  </thead>\n",
       "  <tbody>\n",
       "    <tr>\n",
       "      <th>1997-02</th>\n",
       "      <td>4.762269e-10</td>\n",
       "    </tr>\n",
       "    <tr>\n",
       "      <th>1997-03</th>\n",
       "      <td>3.531937e-10</td>\n",
       "    </tr>\n",
       "    <tr>\n",
       "      <th>1997-04</th>\n",
       "      <td>-1.909612e-09</td>\n",
       "    </tr>\n",
       "    <tr>\n",
       "      <th>1997-05</th>\n",
       "      <td>8.409437e-10</td>\n",
       "    </tr>\n",
       "    <tr>\n",
       "      <th>1997-06</th>\n",
       "      <td>inf</td>\n",
       "    </tr>\n",
       "  </tbody>\n",
       "</table>\n",
       "</div>"
      ],
      "text/plain": [
       "                 XFIN\n",
       "1997-02  4.762269e-10\n",
       "1997-03  3.531937e-10\n",
       "1997-04 -1.909612e-09\n",
       "1997-05  8.409437e-10\n",
       "1997-06           inf"
      ]
     },
     "execution_count": 182,
     "metadata": {},
     "output_type": "execute_result"
    }
   ],
   "source": [
    "# Calculate the XFIN for each fiscal year\n",
    "XFIN = {}\n",
    "for i in range(1, len(data_dt)):\n",
    "    data = data_dt[1][i]  # type:ignore\n",
    "    data = data.interpolate(method='nearest')\n",
    "\n",
    "    data['股权融资净现金流']=data['A股佣金_Coma']+data['B股佣金_Comb']\n",
    "    data['债权融资净现金流']=data['A股印花税_Stamptaxa']+data['B股印花税_Stamptaxb']\n",
    "    data['总资产']=data['每股收益(摊薄)(元/股)_EPS']*data['流通股_Trdshr']\n",
    "    equity_financing_t = data['股权融资净现金流'].iloc[i]\n",
    "    debt_financing_t = data['债权融资净现金流'].iloc[i]\n",
    "    XFIN_t = (equity_financing_t + debt_financing_t) / data['总资产'].iloc[i-1]\n",
    "    XFIN[data_dt[0][i]] = XFIN_t # type:ignore\n",
    "\n",
    "XFIN=pd.DataFrame(XFIN.values(),index=XFIN.keys(), columns=['XFIN'])# type: ignore\n",
    "XFIN.head()"
   ]
  },
  {
   "attachments": {},
   "cell_type": "markdown",
   "metadata": {},
   "source": [
    "21. 分析师预测分歧(DOP)\n",
    "根据Diether，Malloy 和Scherbina(2002)，计算公式如下：\n",
    "$$DOP=\\frac{std(EPS)}{|mean(EPS)|},$$\n",
    "这里EPS为分析师预测每股收益。如果当年同一个分析师多次发布同一企业的预\n",
    "测每股收益数据，则使用分析师当年最新发布的信息。"
   ]
  },
  {
   "cell_type": "code",
   "execution_count": 173,
   "metadata": {},
   "outputs": [
    {
     "data": {
      "text/html": [
       "<div>\n",
       "<style scoped>\n",
       "    .dataframe tbody tr th:only-of-type {\n",
       "        vertical-align: middle;\n",
       "    }\n",
       "\n",
       "    .dataframe tbody tr th {\n",
       "        vertical-align: top;\n",
       "    }\n",
       "\n",
       "    .dataframe thead th {\n",
       "        text-align: right;\n",
       "    }\n",
       "</style>\n",
       "<table border=\"1\" class=\"dataframe\">\n",
       "  <thead>\n",
       "    <tr style=\"text-align: right;\">\n",
       "      <th></th>\n",
       "      <th>DOP</th>\n",
       "    </tr>\n",
       "  </thead>\n",
       "  <tbody>\n",
       "    <tr>\n",
       "      <th>1997-02</th>\n",
       "      <td>38.462424</td>\n",
       "    </tr>\n",
       "    <tr>\n",
       "      <th>1997-03</th>\n",
       "      <td>38.462424</td>\n",
       "    </tr>\n",
       "    <tr>\n",
       "      <th>1997-04</th>\n",
       "      <td>38.462424</td>\n",
       "    </tr>\n",
       "    <tr>\n",
       "      <th>1997-05</th>\n",
       "      <td>38.462424</td>\n",
       "    </tr>\n",
       "    <tr>\n",
       "      <th>1997-06</th>\n",
       "      <td>38.462424</td>\n",
       "    </tr>\n",
       "  </tbody>\n",
       "</table>\n",
       "</div>"
      ],
      "text/plain": [
       "               DOP\n",
       "1997-02  38.462424\n",
       "1997-03  38.462424\n",
       "1997-04  38.462424\n",
       "1997-05  38.462424\n",
       "1997-06  38.462424"
      ]
     },
     "execution_count": 173,
     "metadata": {},
     "output_type": "execute_result"
    }
   ],
   "source": [
    "# Calculate the XFIN for each fiscal year\n",
    "DOP = {}\n",
    "for i in range(1, len(data_dt)):\n",
    "    data = data_dt[1][i]  # type:ignore\n",
    "    data = data.interpolate(method='nearest')\n",
    "    data['EPS']=data['每股经营活动现金流量净额(元/股)_NCFfropePS']\n",
    "\n",
    "    std_eps = np.std(data['EPS'])\n",
    "    mean_eps = np.mean(data['EPS'])\n",
    "    DOP[data_dt[0][i]] = std_eps / abs(mean_eps)  #type:ignore\n",
    "#fill the nan with mean\n",
    "\n",
    "DOP=pd.DataFrame(DOP.values(),index=DOP.keys(), columns=['DOP'])# type: ignore\n",
    "DOP=DOP.fillna(DOP.mean())\n",
    "DOP.head()"
   ]
  },
  {
   "attachments": {},
   "cell_type": "markdown",
   "metadata": {},
   "source": [
    "22. 盈余公告后的价格漂移(PEAD)\n",
    "根据Foster ， Olsen 和Shevlin(1984) ，用未预期盈利SUE(Standaridized\n",
    "unexpected earnings)来度量盈余公告后的价格漂移，具体计算方法为季度每股收益\n",
    "与四个季度前的每股收益相比的变化，除以在前八个季度每股收益变化的标准差。\n",
    "后文组合差价法中为了使季度SUE 与月度股票收益保持一致，SUE 被用于紧随\n",
    "季度收益公告日之后的月份，但在财政季度末的6 个月内，以排除陈旧的收益。\n",
    "具体来说，当年4-7 月份的因子分组以采用去年12 月底的PEAD 数据为分组依\n",
    "据。当年8 月和9 月底的因子分组以采用当年6 月底的PEAD 为分组依据。当年\n",
    "10-12 月及下一年1-3 月的因子分组以当年9 月底的PEAD 为分组依据。\n",
    "3.3 组"
   ]
  },
  {
   "cell_type": "code",
   "execution_count": 181,
   "metadata": {},
   "outputs": [
    {
     "data": {
      "text/html": [
       "<div>\n",
       "<style scoped>\n",
       "    .dataframe tbody tr th:only-of-type {\n",
       "        vertical-align: middle;\n",
       "    }\n",
       "\n",
       "    .dataframe tbody tr th {\n",
       "        vertical-align: top;\n",
       "    }\n",
       "\n",
       "    .dataframe thead th {\n",
       "        text-align: right;\n",
       "    }\n",
       "</style>\n",
       "<table border=\"1\" class=\"dataframe\">\n",
       "  <thead>\n",
       "    <tr style=\"text-align: right;\">\n",
       "      <th></th>\n",
       "      <th>PEAD</th>\n",
       "    </tr>\n",
       "  </thead>\n",
       "  <tbody>\n",
       "    <tr>\n",
       "      <th>1997-09</th>\n",
       "      <td>-0.881387</td>\n",
       "    </tr>\n",
       "    <tr>\n",
       "      <th>1997-10</th>\n",
       "      <td>0.059218</td>\n",
       "    </tr>\n",
       "    <tr>\n",
       "      <th>1997-11</th>\n",
       "      <td>-6.399789</td>\n",
       "    </tr>\n",
       "    <tr>\n",
       "      <th>1997-12</th>\n",
       "      <td>0.777678</td>\n",
       "    </tr>\n",
       "    <tr>\n",
       "      <th>1998-01</th>\n",
       "      <td>1.434358</td>\n",
       "    </tr>\n",
       "  </tbody>\n",
       "</table>\n",
       "</div>"
      ],
      "text/plain": [
       "             PEAD\n",
       "1997-09 -0.881387\n",
       "1997-10  0.059218\n",
       "1997-11 -6.399789\n",
       "1997-12  0.777678\n",
       "1998-01  1.434358"
      ]
     },
     "execution_count": 181,
     "metadata": {},
     "output_type": "execute_result"
    }
   ],
   "source": [
    "\n",
    "# Calculate the PEAD for each fiscal quarter\n",
    "PEAD = {}\n",
    "for i in range(8, len(data_dt)):\n",
    "    data = data_dt[1][i]  # type:ignore\n",
    "    data=data.interpolate(method='nearest')\n",
    "    data['每股收益']=data['每股净资产(元/股)_NAPS']\n",
    "    quarter_eps_t = data['每股收益'].iloc[i]\n",
    "    prev_quarter_eps_t = data['每股收益'].iloc[i-4]\n",
    "    prev_8q_eps_std_t = np.std(data['每股收益'].iloc[i-8:i-4])\n",
    "    SUE_t = (quarter_eps_t - prev_quarter_eps_t) / prev_8q_eps_std_t\n",
    "    PEAD[data_dt[0][i]] = SUE_t #type:ignore\n",
    "\n",
    "PEDA=pd.DataFrame(PEAD.values(),index=PEAD.keys(), columns=['PEAD'])# type: ignore\n",
    "PEDA.head()"
   ]
  },
  {
   "cell_type": "code",
   "execution_count": null,
   "metadata": {},
   "outputs": [],
   "source": [
    "anomaly = [IVOL,SIZE,MOM,MAX,LTREV,STREV,VAL,EISKEW,FPROB,OSC,NSI,CEI,ACC,NOA,PROF,AG,ROA,INV,ORGCPA,XFIN,DOP,PEDA]\n",
    "anomaly_merged= pd.concat(anomaly, axis=1, join='inner')\n",
    "#将anomaly_merged导出为csv\n",
    "anomaly_merged.to_csv('anomaly_merged.csv')"
   ]
  },
  {
   "attachments": {},
   "cell_type": "markdown",
   "metadata": {},
   "source": [
    "# 异象存在性检验"
   ]
  },
  {
   "cell_type": "code",
   "execution_count": 5,
   "metadata": {},
   "outputs": [
    {
     "data": {
      "text/plain": [
       "0             最新股票名称_Lstknm  日期_Date  收盘价_ClPr  复权价1(...\n",
       "1             最新股票名称_Lstknm  日期_Date  收盘价_ClPr  复权价1(...\n",
       "2             最新股票名称_Lstknm  日期_Date  收盘价_ClPr  复权价1(...\n",
       "3             最新股票名称_Lstknm  日期_Date  收盘价_ClPr  复权价1(...\n",
       "4             最新股票名称_Lstknm  日期_Date  收盘价_ClPr  复权价1(...\n",
       "                             ...                        \n",
       "310           最新股票名称_Lstknm  日期_Date  收盘价_ClPr  复权价1(...\n",
       "311           最新股票名称_Lstknm  日期_Date  收盘价_ClPr  复权价1(...\n",
       "312           最新股票名称_Lstknm  日期_Date  收盘价_ClPr  复权价1(...\n",
       "313           最新股票名称_Lstknm  日期_Date  收盘价_ClPr  复权价1(...\n",
       "314           最新股票名称_Lstknm  日期_Date  收盘价_ClPr  复权价1(...\n",
       "Name: 1, Length: 315, dtype: object"
      ]
     },
     "execution_count": 5,
     "metadata": {},
     "output_type": "execute_result"
    }
   ],
   "source": [
    "import pandas as pd\n",
    "import numpy as np\n",
    "import matplotlib.pyplot as plt\n",
    "import seaborn as sns\n",
    "data=pd.read_csv('anomaly_merged.csv',index_col=0)\n",
    "df=pd.read_csv('RESSET_cleaned_new.csv',encoding='utf-8-sig')\n",
    "#将日期_Date只保留年月\n",
    "df['日期_Date']=df['日期_Date'].apply(lambda x:x[:7])\n",
    "#以日期_Date进行分类\n",
    "data_dt=df.groupby('日期_Date')\n",
    "data_dt=pd.DataFrame(data_dt)\n",
    "data_dt[1]"
   ]
  },
  {
   "cell_type": "code",
   "execution_count": 6,
   "metadata": {},
   "outputs": [
    {
     "data": {
      "text/html": [
       "<div>\n",
       "<style scoped>\n",
       "    .dataframe tbody tr th:only-of-type {\n",
       "        vertical-align: middle;\n",
       "    }\n",
       "\n",
       "    .dataframe tbody tr th {\n",
       "        vertical-align: top;\n",
       "    }\n",
       "\n",
       "    .dataframe thead th {\n",
       "        text-align: right;\n",
       "    }\n",
       "</style>\n",
       "<table border=\"1\" class=\"dataframe\">\n",
       "  <thead>\n",
       "    <tr style=\"text-align: right;\">\n",
       "      <th></th>\n",
       "      <th>M</th>\n",
       "    </tr>\n",
       "  </thead>\n",
       "  <tbody>\n",
       "    <tr>\n",
       "      <th>1997-01</th>\n",
       "      <td>0.083088</td>\n",
       "    </tr>\n",
       "    <tr>\n",
       "      <th>1997-02</th>\n",
       "      <td>0.064167</td>\n",
       "    </tr>\n",
       "    <tr>\n",
       "      <th>1997-03</th>\n",
       "      <td>0.204351</td>\n",
       "    </tr>\n",
       "    <tr>\n",
       "      <th>1997-04</th>\n",
       "      <td>0.125852</td>\n",
       "    </tr>\n",
       "    <tr>\n",
       "      <th>1997-05</th>\n",
       "      <td>-0.086217</td>\n",
       "    </tr>\n",
       "  </tbody>\n",
       "</table>\n",
       "</div>"
      ],
      "text/plain": [
       "                M\n",
       "1997-01  0.083088\n",
       "1997-02  0.064167\n",
       "1997-03  0.204351\n",
       "1997-04  0.125852\n",
       "1997-05 -0.086217"
      ]
     },
     "execution_count": 6,
     "metadata": {},
     "output_type": "execute_result"
    }
   ],
   "source": [
    "M={};\n",
    "for i in range(len(data_dt[0])):#type:ignore\n",
    "    x=data_dt[1][i]['流通市值加权平均市场月收益率_Mrettmv'].values#type:ignore\n",
    "    x=pd.DataFrame(x)\n",
    "    x=x.fillna(x.mean())\n",
    "    M[data_dt[0][i]]=np.mean(x)#type:ignore\n",
    "M=pd.DataFrame(M.values(),index=M.keys(), columns=['M'])# type: ignore\n",
    "M.head()"
   ]
  },
  {
   "cell_type": "code",
   "execution_count": 7,
   "metadata": {},
   "outputs": [
    {
     "data": {
      "text/html": [
       "<div>\n",
       "<style scoped>\n",
       "    .dataframe tbody tr th:only-of-type {\n",
       "        vertical-align: middle;\n",
       "    }\n",
       "\n",
       "    .dataframe tbody tr th {\n",
       "        vertical-align: top;\n",
       "    }\n",
       "\n",
       "    .dataframe thead th {\n",
       "        text-align: right;\n",
       "    }\n",
       "</style>\n",
       "<table border=\"1\" class=\"dataframe\">\n",
       "  <thead>\n",
       "    <tr style=\"text-align: right;\">\n",
       "      <th></th>\n",
       "      <th>M1</th>\n",
       "    </tr>\n",
       "  </thead>\n",
       "  <tbody>\n",
       "    <tr>\n",
       "      <th>1997-01</th>\n",
       "      <td>0.080259</td>\n",
       "    </tr>\n",
       "    <tr>\n",
       "      <th>1997-02</th>\n",
       "      <td>0.073430</td>\n",
       "    </tr>\n",
       "    <tr>\n",
       "      <th>1997-03</th>\n",
       "      <td>0.199874</td>\n",
       "    </tr>\n",
       "    <tr>\n",
       "      <th>1997-04</th>\n",
       "      <td>0.087600</td>\n",
       "    </tr>\n",
       "    <tr>\n",
       "      <th>1997-05</th>\n",
       "      <td>-0.107623</td>\n",
       "    </tr>\n",
       "  </tbody>\n",
       "</table>\n",
       "</div>"
      ],
      "text/plain": [
       "               M1\n",
       "1997-01  0.080259\n",
       "1997-02  0.073430\n",
       "1997-03  0.199874\n",
       "1997-04  0.087600\n",
       "1997-05 -0.107623"
      ]
     },
     "execution_count": 7,
     "metadata": {},
     "output_type": "execute_result"
    }
   ],
   "source": [
    "M1={};\n",
    "for j in range(len(data_dt[0])):#type:ignore\n",
    "    x=data_dt[1][j]['等权平均市场月收益率_Mreteq'].values#type:ignore\n",
    "    x=pd.DataFrame(x)\n",
    "    x=x.fillna(x.mean())\n",
    "    M1[data_dt[0][j]]=np.mean(x)#type:ignore\n",
    "M1=pd.DataFrame(M1.values(),index=M1.keys(), columns=['M1'])# type: ignore\n",
    "M1.head()"
   ]
  },
  {
   "cell_type": "code",
   "execution_count": 8,
   "metadata": {},
   "outputs": [
    {
     "data": {
      "text/plain": [
       "<bound method NDFrame._add_numeric_operations.<locals>.all of              IVOL       SIZE     MOM     MAX   LTREV   STREV       VAL   \n",
       "1997-09 -0.933612  19.209887 -0.0332  0.3825 -0.0332 -0.1008 -0.130719  \\\n",
       "1997-10 -1.087457  22.059407 -0.0427  0.7780 -0.0427  0.4036  0.018871   \n",
       "1997-11 -1.052060  19.133589 -0.0576  0.5883 -0.0576 -0.1606 -0.002054   \n",
       "1997-12 -1.040526  20.650602  0.2036  0.5985  0.2036 -0.1116  0.000652   \n",
       "1998-01 -0.979256  19.772632 -0.0756  0.3761 -0.0756 -0.1152  0.015657   \n",
       "1998-02 -0.900812  20.831265 -0.0663  0.2278 -0.0663  0.0313  0.006654   \n",
       "1998-03 -1.032680  19.730696 -0.0159  0.6301 -0.0159 -0.0350  0.003908   \n",
       "1998-04 -1.095130  20.122861  0.0398  0.7614  0.0398 -0.0663 -0.057737   \n",
       "1998-05 -1.057431  19.604502  0.4644  0.6008  0.4644  0.0297  0.012834   \n",
       "1998-09 -0.976577  20.605931 -0.1313  0.7213 -0.1313  0.0229  0.007610   \n",
       "1998-10 -0.941604  19.484851  0.0051  0.3267  0.0051 -0.0278  0.018218   \n",
       "1998-11 -0.987956  20.821816 -0.0359  0.2961 -0.0359  0.0077  0.017126   \n",
       "1998-12 -0.909966  19.644456  0.1378  0.2641  0.1378 -0.0576  0.032144   \n",
       "1999-01 -0.982506  20.531336 -0.0175  0.4976 -0.0175 -0.0434  0.030377   \n",
       "1999-02 -0.933223  20.980819 -0.0634  0.1939 -0.0634  0.0226  0.023283   \n",
       "1999-03 -1.062678  21.664729 -0.0835  0.6521 -0.0835 -0.0010  0.031827   \n",
       "1999-04 -1.054774  20.692549 -0.1515  0.3787 -0.1515 -0.0293 -0.025740   \n",
       "1999-05 -1.081813  20.441168 -0.0853  0.9870 -0.0853  0.1355  0.019577   \n",
       "1999-06 -1.061209  20.945048  0.1120  1.2666  0.1120  0.6551  0.011827   \n",
       "1999-07 -0.965368  20.412214  0.0020  0.4321  0.0020 -0.0792  0.013591   \n",
       "1999-08 -0.983632  20.879201 -0.0434  0.9322 -0.0434 -0.0175  0.019755   \n",
       "1999-09 -0.935364  21.605586 -0.0393  0.3017 -0.0393 -0.0634  0.025183   \n",
       "1999-10 -0.941833  20.775725 -0.0208  0.3661 -0.0208  0.0638  0.025667   \n",
       "1999-11 -0.932098  21.440325 -0.1324  0.3446 -0.1324  0.0071  0.032765   \n",
       "1999-12 -1.062774  20.544885 -0.1705  0.4023 -0.1705 -0.1794  0.026788   \n",
       "2000-01 -1.063536  20.458910 -0.0494  1.7418 -0.0494  0.1590  0.005889   \n",
       "2000-02 -0.983573  20.826752  0.0730  1.0814  0.0730 -0.0234  0.034037   \n",
       "2000-03 -1.056016  19.850437  0.1137  1.6451  0.1137 -0.0695  0.024510   \n",
       "2000-04 -0.971222  19.889043  0.1283  0.5943  0.1283 -0.0846  0.012684   \n",
       "\n",
       "           EISKEW     FPROB         OSC  ...        ACC        NOA   \n",
       "1997-09 -0.941276 -1.529291  -13.458953  ...  -0.906059  -3.808528  \\\n",
       "1997-10 -0.958727 -1.525244  -29.224658  ...  -9.448060  -1.841615   \n",
       "1997-11 -1.051279 -1.503395  -44.526261  ...  -0.797469  -0.297705   \n",
       "1997-12 -1.026372 -1.548093  -28.448671  ...  18.593939 -45.753619   \n",
       "1998-01 -1.031903 -1.543593  -36.415720  ...  -0.582143 -10.498249   \n",
       "1998-02 -0.965989 -1.534076  -16.589083  ...   3.672131 -22.386721   \n",
       "1998-03 -1.032743 -1.519728  -24.945734  ...  -0.645161  -1.856661   \n",
       "1998-04 -1.003420 -1.537402   -8.011416  ... -13.860320  -3.689500   \n",
       "1998-05 -1.068694 -1.539735  -15.248993  ...  -0.923065  -1.922406   \n",
       "1998-09 -1.025265 -1.233838  -21.273774  ...  -0.417640  -6.620508   \n",
       "1998-10 -0.955000 -1.225819 -108.146276  ...  -0.640952  -3.156025   \n",
       "1998-11 -1.044029 -1.222730  -48.296087  ...   4.900793 -17.914239   \n",
       "1998-12 -1.033011 -2.654642  -64.237242  ...  -0.639053  -3.026268   \n",
       "1999-01 -0.961604 -2.637366  -83.640971  ...   3.492430  -6.271686   \n",
       "1999-02 -1.050243 -2.631608  -75.784000  ...   0.248960 -41.702347   \n",
       "1999-03 -1.078948 -2.639811  -30.974949  ...   1.941304 -11.310310   \n",
       "1999-04 -1.082235 -1.344570  -65.137377  ...  -1.113439  -5.401569   \n",
       "1999-05 -1.037647 -1.343591  -70.683478  ...  -1.360000  -2.673456   \n",
       "1999-06 -1.017368 -1.725332  -22.947954  ...  -1.360000   1.342693   \n",
       "1999-07 -0.992149 -1.713448  -41.654552  ...  -0.508952  -3.228679   \n",
       "1999-08 -0.979796 -1.731847  -35.389657  ...  -0.072833  -9.492484   \n",
       "1999-09 -0.968382 -1.731040 -107.882302  ...   7.264000 -14.181258   \n",
       "1999-10 -0.903494 -1.708827 -196.872160  ...  -0.586413  -6.134440   \n",
       "1999-11 -0.958899 -1.706965 -284.742736  ...   1.126278  -3.963269   \n",
       "1999-12 -1.040101 -2.352372 -120.089144  ...  -0.611492  -6.531236   \n",
       "2000-01 -0.983336 -2.346369 -142.302111  ...  -0.724554  -5.783948   \n",
       "2000-02 -0.908586 -2.361122 -168.971929  ...   3.700889  -1.565911   \n",
       "2000-03 -0.979549 -2.369308  -77.106028  ...  -0.583431  -0.510155   \n",
       "2000-04 -1.022347 -2.406903  -33.976341  ...  -0.446253  -8.567835   \n",
       "\n",
       "                PROF         AG          ROA         INV  ORGCPA   \n",
       "1997-09     4.640402  -1.132574     6.547104   28.166667  0.0195  \\\n",
       "1997-10  -217.532249 -11.810076  -853.340814   30.092593  0.0195   \n",
       "1997-11     1.504291  -0.996836     2.116396   28.407407  0.0195   \n",
       "1997-12  2640.014850  23.242424  3049.696970   35.581481  0.0195   \n",
       "1998-01    28.064671  -0.727679    52.285714   38.807407  0.0195   \n",
       "1998-02   507.569010   4.590164   553.426226   40.203704  0.0195   \n",
       "1998-03    22.459983  -0.806452    32.935487   43.188889  0.0195   \n",
       "1998-04   213.097708 -17.325400   377.816396   40.274510  0.0195   \n",
       "1998-05     0.382937  -1.153832   -13.781507   40.274510  0.0195   \n",
       "1998-09    57.514157  -0.522050    64.134902  261.611111  0.0175   \n",
       "1998-10    19.973116  -0.801190    24.297458  233.764550  0.0175   \n",
       "1998-11   379.701495   6.125991   465.327205  254.283069  0.0175   \n",
       "1998-12    18.467194  -0.798817    20.118343  236.988889  0.0175   \n",
       "1999-01   221.655460   4.365538   242.754337  238.601058  0.0175   \n",
       "1999-02    66.658476   0.311200    70.918825  230.833333  0.0175   \n",
       "1999-03    91.396262   2.426630   107.179348   96.501157  0.0175   \n",
       "1999-04    11.791560  -1.391798    14.072091   95.731713  0.0175   \n",
       "1999-05    -8.204365  -1.700000   -27.933333  123.592014  0.0175   \n",
       "1999-06    52.127054  -1.700000   -46.233333  161.583333  0.0165   \n",
       "1999-07    16.639490  -0.636190    38.765926  267.595679  0.0165   \n",
       "1999-08   131.568320  -0.091041   169.975276  277.000000  0.0165   \n",
       "1999-09   303.491699   9.080000   386.640000  268.279630  0.0165   \n",
       "1999-10    14.222712  -0.733016    16.727937  251.180864  0.0165   \n",
       "1999-11   109.337583   1.407848   121.783591  226.216667  0.0165   \n",
       "1999-12    18.458891  -0.764364    20.657385  218.864198  0.0165   \n",
       "2000-01    45.124887  -0.905692    80.444371  292.046914  0.0165   \n",
       "2000-02    89.779615   4.626111   246.451111  379.592593  0.0165   \n",
       "2000-03     3.000738  -0.729289    11.090940  194.385965  0.0165   \n",
       "2000-04     6.694238  -0.557816    42.582317  175.757310  0.0165   \n",
       "\n",
       "                 XFIN        DOP      PEAD  \n",
       "1997-09  5.798768e-10  38.462424 -0.881387  \n",
       "1997-10 -4.373994e-09  38.462424  0.059218  \n",
       "1997-11  2.023110e-10  38.462424 -6.399789  \n",
       "1997-12  6.395120e-08  38.462424  0.777678  \n",
       "1998-01  2.637987e-09  38.462424  1.434358  \n",
       "1998-02  9.687034e-09  38.462424  0.213271  \n",
       "1998-03  1.732871e-09  38.462424 -0.110733  \n",
       "1998-04  1.342975e-08  38.462424 -2.428621  \n",
       "1998-05 -8.226292e-10  38.462424 -2.754113  \n",
       "1998-09  1.262090e-09   3.134298  5.412571  \n",
       "1998-10  1.467018e-09   3.137155 -4.316513  \n",
       "1998-11  7.378985e-09   3.113543 -2.056368  \n",
       "1998-12  1.035503e-09   3.075882  0.142846  \n",
       "1999-01  5.147059e-09   2.899779 -0.086790  \n",
       "1999-02  9.592810e-10   3.286288  0.804309  \n",
       "1999-03  7.316054e-10   2.667747  0.925229  \n",
       "1999-04  2.539434e-10   3.314436 -2.976873  \n",
       "1999-05 -6.481481e-10   3.284706 -0.980327  \n",
       "1999-06 -6.111111e-10   3.239833 -0.980327  \n",
       "1999-07  8.730159e-10   3.118358 -0.260322  \n",
       "1999-08  2.399651e-09   3.498373 -0.542835  \n",
       "1999-09  2.640000e-09   3.391106  2.122828  \n",
       "1999-10  2.619048e-10   3.346151  1.350851  \n",
       "1999-11  9.809750e-10   3.418897  5.361501  \n",
       "1999-12  4.074074e-10   3.426004 -1.226186  \n",
       "2000-01  1.728972e-09   3.410199 -4.484692  \n",
       "2000-02  3.666667e-09   3.218839  0.441648  \n",
       "2000-03  4.380434e-10   2.476801 -4.133368  \n",
       "2000-04  1.618123e-09   2.091928 -0.410414  \n",
       "\n",
       "[29 rows x 22 columns]>"
      ]
     },
     "execution_count": 8,
     "metadata": {},
     "output_type": "execute_result"
    }
   ],
   "source": [
    "import numpy as np\n",
    "\n",
    "anomaly_merged_groups = np.array_split(data, 10)\n",
    "anomaly_merged_groups[0].all"
   ]
  },
  {
   "cell_type": "code",
   "execution_count": 9,
   "metadata": {},
   "outputs": [],
   "source": [
    "#流通市值加权平均市场月收益率_Mrettmv\n",
    "g={}\n",
    "for k in range(10):\n",
    "    g[k]=anomaly_merged_groups[k].sum(axis=1)\n",
    "\n",
    "result_Mrettmv={}\n",
    "for i in range(10):\n",
    "    temp=M.iloc[29*i:29*(i+1)]#type:ignore\n",
    "    if temp.values.size!=g[i].values.reshape(-1,1).size:\n",
    "        if temp.values.size>g[i].values.reshape(-1,1).size:\n",
    "            temp=temp.drop(temp.index[-1])\n",
    "        else:  g[i]=g[i].drop(g[i].index[-1])\n",
    "    result_Mrettmv[i]=(g[i].values.reshape(-1,1)*temp.values).mean(axis=1)\n",
    "#等权平均市场月收益率_Mreteq\n",
    "result_Mreteq={}\n",
    "for j in range(10):\n",
    "    temp1=M1.iloc[29*i:29*(i+1)]#type:ignore\n",
    "    if temp1.values.size!=g[j].values.reshape(-1,1).size:\n",
    "        if temp1.values.size>g[j].values.reshape(-1,1).size:\n",
    "            temp1=temp1.drop(temp1.index[-1])\n",
    "        else:  g[j]=g[j].drop(g[j].index[-1])\n",
    "    result_Mreteq[j]=(g[j].values.reshape(-1,1)*temp1.values).mean(axis=1)"
   ]
  },
  {
   "cell_type": "code",
   "execution_count": 10,
   "metadata": {},
   "outputs": [],
   "source": [
    "#将result_Mrettmv的值取出单独作为一列\n",
    "Mrettmv=pd.DataFrame()\n",
    "for i in range(10):\n",
    "    Mrettmv=pd.concat([Mrettmv,pd.DataFrame(result_Mrettmv[i])],axis=0)\n",
    "\n",
    "#将result_Mreteq的值取出单独作为一列\n",
    "Mreteq=pd.DataFrame()\n",
    "for i in range(10):\n",
    "    Mreteq=pd.concat([Mreteq,pd.DataFrame(result_Mreteq[i])],axis=0)\n",
    "#设置Mrettmv，Mreteq的index\n",
    "Mrettmv.index=data.index\n",
    "Mreteq.index=data.index\n",
    "Mreteq.columns=['Mreteq']\n",
    "Mrettmv.columns=['Mrettmv']\n"
   ]
  },
  {
   "cell_type": "code",
   "execution_count": 29,
   "metadata": {},
   "outputs": [],
   "source": [
    "#Mrettmv\n",
    "import statsmodels.api as sm\n",
    "#将data与Mrettmv，Mreteq合并\n",
    "data_new=pd.concat([data,Mrettmv,Mreteq],axis=1)\n",
    "#标准化\n",
    "data_new=(data_new-data_new.mean())/data_new.std()\n",
    "\n",
    "#x为data_new除了Mrettmv，Mreteq以外的列\n",
    "x=data_new.iloc[:,:-2]\n",
    "#y为data_new的Mrettmv列\n",
    "y=data_new.iloc[:,-2]\n",
    "# 构建回归模型\n",
    "X = sm.add_constant(x)  # 添加常数项\n",
    "model = sm.OLS(y, X)\n",
    "\n",
    "# 计算Newey-West t检验结果\n",
    "results = model.fit(cov_type='HAC', cov_kwds={'maxlags': 1, 'use_correction': True})\n",
    "t_values = results.tvalues\n",
    "p_values = results.pvalues"
   ]
  },
  {
   "cell_type": "code",
   "execution_count": 36,
   "metadata": {},
   "outputs": [
    {
     "data": {
      "text/html": [
       "<div>\n",
       "<style scoped>\n",
       "    .dataframe tbody tr th:only-of-type {\n",
       "        vertical-align: middle;\n",
       "    }\n",
       "\n",
       "    .dataframe tbody tr th {\n",
       "        vertical-align: top;\n",
       "    }\n",
       "\n",
       "    .dataframe thead th {\n",
       "        text-align: right;\n",
       "    }\n",
       "</style>\n",
       "<table border=\"1\" class=\"dataframe\">\n",
       "  <thead>\n",
       "    <tr style=\"text-align: right;\">\n",
       "      <th></th>\n",
       "      <th>t_values</th>\n",
       "      <th>p_values</th>\n",
       "    </tr>\n",
       "  </thead>\n",
       "  <tbody>\n",
       "    <tr>\n",
       "      <th>const</th>\n",
       "      <td>9.843472e-16</td>\n",
       "      <td>1.000000e+00</td>\n",
       "    </tr>\n",
       "    <tr>\n",
       "      <th>IVOL</th>\n",
       "      <td>9.878294e-01</td>\n",
       "      <td>3.232362e-01</td>\n",
       "    </tr>\n",
       "    <tr>\n",
       "      <th>SIZE</th>\n",
       "      <td>1.688080e+00</td>\n",
       "      <td>9.139590e-02</td>\n",
       "    </tr>\n",
       "    <tr>\n",
       "      <th>MOM</th>\n",
       "      <td>1.665594e+00</td>\n",
       "      <td>9.579433e-02</td>\n",
       "    </tr>\n",
       "    <tr>\n",
       "      <th>MAX</th>\n",
       "      <td>-6.114874e-01</td>\n",
       "      <td>5.408770e-01</td>\n",
       "    </tr>\n",
       "    <tr>\n",
       "      <th>LTREV</th>\n",
       "      <td>1.665594e+00</td>\n",
       "      <td>9.579433e-02</td>\n",
       "    </tr>\n",
       "    <tr>\n",
       "      <th>STREV</th>\n",
       "      <td>9.705524e-01</td>\n",
       "      <td>3.317712e-01</td>\n",
       "    </tr>\n",
       "    <tr>\n",
       "      <th>VAL</th>\n",
       "      <td>-5.254120e-01</td>\n",
       "      <td>5.992968e-01</td>\n",
       "    </tr>\n",
       "    <tr>\n",
       "      <th>EISKEW</th>\n",
       "      <td>-2.255011e+00</td>\n",
       "      <td>2.413267e-02</td>\n",
       "    </tr>\n",
       "    <tr>\n",
       "      <th>FPROB</th>\n",
       "      <td>5.269647e-01</td>\n",
       "      <td>5.982181e-01</td>\n",
       "    </tr>\n",
       "    <tr>\n",
       "      <th>OSC</th>\n",
       "      <td>-1.451777e+00</td>\n",
       "      <td>1.465637e-01</td>\n",
       "    </tr>\n",
       "    <tr>\n",
       "      <th>NSI</th>\n",
       "      <td>-1.827611e+00</td>\n",
       "      <td>6.760793e-02</td>\n",
       "    </tr>\n",
       "    <tr>\n",
       "      <th>CEI</th>\n",
       "      <td>-5.348820e-01</td>\n",
       "      <td>5.927315e-01</td>\n",
       "    </tr>\n",
       "    <tr>\n",
       "      <th>ACC</th>\n",
       "      <td>-4.682916e-01</td>\n",
       "      <td>6.395761e-01</td>\n",
       "    </tr>\n",
       "    <tr>\n",
       "      <th>NOA</th>\n",
       "      <td>-9.990329e-01</td>\n",
       "      <td>3.177788e-01</td>\n",
       "    </tr>\n",
       "    <tr>\n",
       "      <th>PROF</th>\n",
       "      <td>-8.554399e-01</td>\n",
       "      <td>3.923077e-01</td>\n",
       "    </tr>\n",
       "    <tr>\n",
       "      <th>AG</th>\n",
       "      <td>-4.682916e-01</td>\n",
       "      <td>6.395761e-01</td>\n",
       "    </tr>\n",
       "    <tr>\n",
       "      <th>ROA</th>\n",
       "      <td>6.734785e-01</td>\n",
       "      <td>5.006429e-01</td>\n",
       "    </tr>\n",
       "    <tr>\n",
       "      <th>INV</th>\n",
       "      <td>5.522180e+00</td>\n",
       "      <td>3.348184e-08</td>\n",
       "    </tr>\n",
       "    <tr>\n",
       "      <th>ORGCPA</th>\n",
       "      <td>8.697640e-01</td>\n",
       "      <td>3.844294e-01</td>\n",
       "    </tr>\n",
       "    <tr>\n",
       "      <th>XFIN</th>\n",
       "      <td>6.840963e-01</td>\n",
       "      <td>4.939143e-01</td>\n",
       "    </tr>\n",
       "    <tr>\n",
       "      <th>DOP</th>\n",
       "      <td>5.988702e+00</td>\n",
       "      <td>2.115223e-09</td>\n",
       "    </tr>\n",
       "    <tr>\n",
       "      <th>PEAD</th>\n",
       "      <td>2.995837e-02</td>\n",
       "      <td>9.761003e-01</td>\n",
       "    </tr>\n",
       "  </tbody>\n",
       "</table>\n",
       "</div>"
      ],
      "text/plain": [
       "            t_values      p_values\n",
       "const   9.843472e-16  1.000000e+00\n",
       "IVOL    9.878294e-01  3.232362e-01\n",
       "SIZE    1.688080e+00  9.139590e-02\n",
       "MOM     1.665594e+00  9.579433e-02\n",
       "MAX    -6.114874e-01  5.408770e-01\n",
       "LTREV   1.665594e+00  9.579433e-02\n",
       "STREV   9.705524e-01  3.317712e-01\n",
       "VAL    -5.254120e-01  5.992968e-01\n",
       "EISKEW -2.255011e+00  2.413267e-02\n",
       "FPROB   5.269647e-01  5.982181e-01\n",
       "OSC    -1.451777e+00  1.465637e-01\n",
       "NSI    -1.827611e+00  6.760793e-02\n",
       "CEI    -5.348820e-01  5.927315e-01\n",
       "ACC    -4.682916e-01  6.395761e-01\n",
       "NOA    -9.990329e-01  3.177788e-01\n",
       "PROF   -8.554399e-01  3.923077e-01\n",
       "AG     -4.682916e-01  6.395761e-01\n",
       "ROA     6.734785e-01  5.006429e-01\n",
       "INV     5.522180e+00  3.348184e-08\n",
       "ORGCPA  8.697640e-01  3.844294e-01\n",
       "XFIN    6.840963e-01  4.939143e-01\n",
       "DOP     5.988702e+00  2.115223e-09\n",
       "PEAD    2.995837e-02  9.761003e-01"
      ]
     },
     "execution_count": 36,
     "metadata": {},
     "output_type": "execute_result"
    }
   ],
   "source": [
    "#将t_values，p_values转化为dataframe并合并\n",
    "t_values=pd.DataFrame(t_values)\n",
    "p_values=pd.DataFrame(p_values)\n",
    "#合并\n",
    "t_p=pd.concat([t_values,p_values],axis=1)\n",
    "\n",
    "#设置columns为t_values，p_values\n",
    "t_p.columns=['t_values','p_values']\n",
    "t_p\n"
   ]
  },
  {
   "cell_type": "code",
   "execution_count": 37,
   "metadata": {},
   "outputs": [],
   "source": [
    "#Mreteq\n",
    "import statsmodels.api as sm\n",
    "#将data与Mrettmv，Mreteq合并\n",
    "data_new=pd.concat([data,Mrettmv,Mreteq],axis=1)\n",
    "#标准化\n",
    "data_new=(data_new-data_new.mean())/data_new.std()\n",
    "\n",
    "#x为data_new除了Mrettmv，Mreteq以外的列\n",
    "x=data_new.iloc[:,:-2]\n",
    "#y为data_new的Mrettmv列\n",
    "y=data_new.iloc[:,-1]\n",
    "# 构建回归模型\n",
    "X = sm.add_constant(x)  # 添加常数项\n",
    "model = sm.OLS(y, X)\n",
    "\n",
    "# 计算Newey-West t检验结果\n",
    "results = model.fit(cov_type='HAC', cov_kwds={'maxlags': 1, 'use_correction': True})\n",
    "t_values = results.tvalues\n",
    "p_values = results.pvalues"
   ]
  },
  {
   "cell_type": "code",
   "execution_count": 38,
   "metadata": {},
   "outputs": [
    {
     "data": {
      "text/html": [
       "<div>\n",
       "<style scoped>\n",
       "    .dataframe tbody tr th:only-of-type {\n",
       "        vertical-align: middle;\n",
       "    }\n",
       "\n",
       "    .dataframe tbody tr th {\n",
       "        vertical-align: top;\n",
       "    }\n",
       "\n",
       "    .dataframe thead th {\n",
       "        text-align: right;\n",
       "    }\n",
       "</style>\n",
       "<table border=\"1\" class=\"dataframe\">\n",
       "  <thead>\n",
       "    <tr style=\"text-align: right;\">\n",
       "      <th></th>\n",
       "      <th>t_values</th>\n",
       "      <th>p_values</th>\n",
       "    </tr>\n",
       "  </thead>\n",
       "  <tbody>\n",
       "    <tr>\n",
       "      <th>const</th>\n",
       "      <td>3.663802e-16</td>\n",
       "      <td>1.000000</td>\n",
       "    </tr>\n",
       "    <tr>\n",
       "      <th>IVOL</th>\n",
       "      <td>1.194154e-01</td>\n",
       "      <td>0.904946</td>\n",
       "    </tr>\n",
       "    <tr>\n",
       "      <th>SIZE</th>\n",
       "      <td>1.080870e+00</td>\n",
       "      <td>0.279755</td>\n",
       "    </tr>\n",
       "    <tr>\n",
       "      <th>MOM</th>\n",
       "      <td>-2.313689e-01</td>\n",
       "      <td>0.817028</td>\n",
       "    </tr>\n",
       "    <tr>\n",
       "      <th>MAX</th>\n",
       "      <td>-2.586978e-01</td>\n",
       "      <td>0.795868</td>\n",
       "    </tr>\n",
       "    <tr>\n",
       "      <th>LTREV</th>\n",
       "      <td>-2.313689e-01</td>\n",
       "      <td>0.817028</td>\n",
       "    </tr>\n",
       "    <tr>\n",
       "      <th>STREV</th>\n",
       "      <td>-1.092082e+00</td>\n",
       "      <td>0.274797</td>\n",
       "    </tr>\n",
       "    <tr>\n",
       "      <th>VAL</th>\n",
       "      <td>-1.251414e+00</td>\n",
       "      <td>0.210784</td>\n",
       "    </tr>\n",
       "    <tr>\n",
       "      <th>EISKEW</th>\n",
       "      <td>-1.968421e+00</td>\n",
       "      <td>0.049020</td>\n",
       "    </tr>\n",
       "    <tr>\n",
       "      <th>FPROB</th>\n",
       "      <td>1.203693e+00</td>\n",
       "      <td>0.228708</td>\n",
       "    </tr>\n",
       "    <tr>\n",
       "      <th>OSC</th>\n",
       "      <td>1.210972e+00</td>\n",
       "      <td>0.225906</td>\n",
       "    </tr>\n",
       "    <tr>\n",
       "      <th>NSI</th>\n",
       "      <td>-1.152770e+00</td>\n",
       "      <td>0.249005</td>\n",
       "    </tr>\n",
       "    <tr>\n",
       "      <th>CEI</th>\n",
       "      <td>1.031223e+00</td>\n",
       "      <td>0.302436</td>\n",
       "    </tr>\n",
       "    <tr>\n",
       "      <th>ACC</th>\n",
       "      <td>-1.582602e-01</td>\n",
       "      <td>0.874252</td>\n",
       "    </tr>\n",
       "    <tr>\n",
       "      <th>NOA</th>\n",
       "      <td>9.389935e-01</td>\n",
       "      <td>0.347734</td>\n",
       "    </tr>\n",
       "    <tr>\n",
       "      <th>PROF</th>\n",
       "      <td>-7.462213e-03</td>\n",
       "      <td>0.994046</td>\n",
       "    </tr>\n",
       "    <tr>\n",
       "      <th>AG</th>\n",
       "      <td>-1.582602e-01</td>\n",
       "      <td>0.874252</td>\n",
       "    </tr>\n",
       "    <tr>\n",
       "      <th>ROA</th>\n",
       "      <td>-4.505114e-01</td>\n",
       "      <td>0.652342</td>\n",
       "    </tr>\n",
       "    <tr>\n",
       "      <th>INV</th>\n",
       "      <td>1.823540e-01</td>\n",
       "      <td>0.855305</td>\n",
       "    </tr>\n",
       "    <tr>\n",
       "      <th>ORGCPA</th>\n",
       "      <td>2.445850e-01</td>\n",
       "      <td>0.806778</td>\n",
       "    </tr>\n",
       "    <tr>\n",
       "      <th>XFIN</th>\n",
       "      <td>8.670235e-01</td>\n",
       "      <td>0.385929</td>\n",
       "    </tr>\n",
       "    <tr>\n",
       "      <th>DOP</th>\n",
       "      <td>-1.615241e+00</td>\n",
       "      <td>0.106258</td>\n",
       "    </tr>\n",
       "    <tr>\n",
       "      <th>PEAD</th>\n",
       "      <td>1.792401e+00</td>\n",
       "      <td>0.073069</td>\n",
       "    </tr>\n",
       "  </tbody>\n",
       "</table>\n",
       "</div>"
      ],
      "text/plain": [
       "            t_values  p_values\n",
       "const   3.663802e-16  1.000000\n",
       "IVOL    1.194154e-01  0.904946\n",
       "SIZE    1.080870e+00  0.279755\n",
       "MOM    -2.313689e-01  0.817028\n",
       "MAX    -2.586978e-01  0.795868\n",
       "LTREV  -2.313689e-01  0.817028\n",
       "STREV  -1.092082e+00  0.274797\n",
       "VAL    -1.251414e+00  0.210784\n",
       "EISKEW -1.968421e+00  0.049020\n",
       "FPROB   1.203693e+00  0.228708\n",
       "OSC     1.210972e+00  0.225906\n",
       "NSI    -1.152770e+00  0.249005\n",
       "CEI     1.031223e+00  0.302436\n",
       "ACC    -1.582602e-01  0.874252\n",
       "NOA     9.389935e-01  0.347734\n",
       "PROF   -7.462213e-03  0.994046\n",
       "AG     -1.582602e-01  0.874252\n",
       "ROA    -4.505114e-01  0.652342\n",
       "INV     1.823540e-01  0.855305\n",
       "ORGCPA  2.445850e-01  0.806778\n",
       "XFIN    8.670235e-01  0.385929\n",
       "DOP    -1.615241e+00  0.106258\n",
       "PEAD    1.792401e+00  0.073069"
      ]
     },
     "execution_count": 38,
     "metadata": {},
     "output_type": "execute_result"
    }
   ],
   "source": [
    "#将t_values，p_values转化为dataframe并合并\n",
    "t_values=pd.DataFrame(t_values)\n",
    "p_values=pd.DataFrame(p_values)\n",
    "#合并\n",
    "t_p=pd.concat([t_values,p_values],axis=1)\n",
    "\n",
    "#设置columns为t_values，p_values\n",
    "t_p.columns=['t_values','p_values']\n",
    "t_p\n"
   ]
  },
  {
   "attachments": {},
   "cell_type": "markdown",
   "metadata": {},
   "source": [
    "# 基于BJW 模型的A 股市场异象实证研究"
   ]
  },
  {
   "cell_type": "code",
   "execution_count": 1,
   "metadata": {},
   "outputs": [],
   "source": [
    "import statsmodels.api as sm\n",
    "import numpy as np\n",
    "import pandas as pd\n",
    "import matplotlib.pyplot as plt\n",
    "df=pd.read_csv('anomaly_merged.csv',index_col=0)\n",
    "data=pd.read_csv('RESSET_cleaned_new.csv',encoding='utf-8-sig')\n",
    "#将日期_Date只保留年月\n",
    "data['日期_Date']=data['日期_Date'].apply(lambda x:x[:7])\n",
    "data_dt=data.groupby('日期_Date')\n",
    "data_dt=pd.DataFrame(data_dt)\n"
   ]
  },
  {
   "cell_type": "code",
   "execution_count": null,
   "metadata": {},
   "outputs": [],
   "source": [
    "def calculate_RP(i, t, k, V, P):\n",
    "    RP = 0.0\n",
    "    for n in range(1, t+1):\n",
    "        term = V[i, t-n] * np.prod(1 - V[i, t-n+1:t])\n",
    "        RP += term * P[i, t-n]\n",
    "    RP /= k\n",
    "    return RP\n",
    "i = 0 ;t = 5;k = 3 \n",
    "V = np.array([[0.8, 0.7, 0.6, 0.9, 0.5],  \n",
    "              [0.9, 0.6, 0.8, 0.7, 0.4]])\n",
    "P = np.array([[10.0, 12.0, 11.0, 13.0, 10.0],  \n",
    "              [20.0, 21.0, 19.0, 18.0, 22.0]])\n",
    "calculate_RP(i, t, k, V, P)\n"
   ]
  },
  {
   "cell_type": "code",
   "execution_count": 4,
   "metadata": {},
   "outputs": [
    {
     "data": {
      "text/plain": [
       "array([0.61899069, 0.99501503, 1.09451987, 1.47697976, 1.53769279])"
      ]
     },
     "execution_count": 4,
     "metadata": {},
     "output_type": "execute_result"
    }
   ],
   "source": [
    "## calulate the CGO\n",
    "def CGO(V,k):\n",
    "    V=data_dt[1][1].values #type:ignore\n",
    "    T = len(V);k=12\n",
    "    RP = np.zeros(T)\n",
    "    for t in range(T):\n",
    "        RP_sum = 0\n",
    "        for n in range(1, T+1):\n",
    "            if t-n < 0:\n",
    "                break\n",
    "            RP_sum += np.array(V[t-n]) * np.prod(1 - np.array(V[t-n+1:t-n+n])) * RP[t-n] # type: ignore\n",
    "            if n ==k:\n",
    "                break\n",
    "        RP[t] = RP_sum / min(t+1, k)\n",
    "        CGO = RP[1:] / RP[:-1]\n",
    "import numpy as np\n",
    "def calculate_CGO(i, t, P, RP):\n",
    "    CGO = (P[i, t-1] - RP) / P[i, t-1]\n",
    "    return CGO\n",
    "\n",
    "P = np.array([[10.0, 12.0, 11.0, 13.0, 10.0],  \n",
    "              [20.0, 21.0, 19.0, 18.0, 22.0]])\n",
    "RP = 8.0  \n",
    "calculate_CGO(i, t, P, RP)\n",
    "\n",
    "import numpy as np\n",
    "R_t = np.array([1, 2, 3, 4, 5])  \n",
    "CGO_t = np.array([0.1, 0.2, 0.3, 0.4, 0.5])  \n",
    "alpha = 0.5\n",
    "beta = 0.2\n",
    "gamma = 0.3\n",
    "\n",
    "epsilon_t = np.random.normal(0, 0.1, len(R_t)) \n",
    "V_t = alpha + beta * np.abs(R_t) + gamma * CGO_t + epsilon_t\n",
    "V_t"
   ]
  },
  {
   "cell_type": "code",
   "execution_count": 91,
   "metadata": {},
   "outputs": [
    {
     "name": "stderr",
     "output_type": "stream",
     "text": [
      "findfont: Generic family 'sans-serif' not found because none of the following families were found: simhei\n",
      "findfont: Generic family 'sans-serif' not found because none of the following families were found: simhei\n",
      "findfont: Generic family 'sans-serif' not found because none of the following families were found: simhei\n",
      "findfont: Generic family 'sans-serif' not found because none of the following families were found: simhei\n",
      "findfont: Generic family 'sans-serif' not found because none of the following families were found: simhei\n",
      "findfont: Generic family 'sans-serif' not found because none of the following families were found: simhei\n",
      "findfont: Generic family 'sans-serif' not found because none of the following families were found: simhei\n",
      "findfont: Generic family 'sans-serif' not found because none of the following families were found: simhei\n",
      "findfont: Generic family 'sans-serif' not found because none of the following families were found: simhei\n",
      "findfont: Generic family 'sans-serif' not found because none of the following families were found: simhei\n",
      "findfont: Generic family 'sans-serif' not found because none of the following families were found: simhei\n",
      "findfont: Generic family 'sans-serif' not found because none of the following families were found: simhei\n",
      "findfont: Generic family 'sans-serif' not found because none of the following families were found: simhei\n",
      "findfont: Generic family 'sans-serif' not found because none of the following families were found: simhei\n",
      "findfont: Generic family 'sans-serif' not found because none of the following families were found: simhei\n",
      "findfont: Generic family 'sans-serif' not found because none of the following families were found: simhei\n",
      "findfont: Generic family 'sans-serif' not found because none of the following families were found: simhei\n",
      "findfont: Generic family 'sans-serif' not found because none of the following families were found: simhei\n",
      "findfont: Generic family 'sans-serif' not found because none of the following families were found: simhei\n",
      "findfont: Generic family 'sans-serif' not found because none of the following families were found: simhei\n",
      "findfont: Generic family 'sans-serif' not found because none of the following families were found: simhei\n",
      "findfont: Generic family 'sans-serif' not found because none of the following families were found: simhei\n",
      "findfont: Generic family 'sans-serif' not found because none of the following families were found: simhei\n",
      "findfont: Generic family 'sans-serif' not found because none of the following families were found: simhei\n",
      "findfont: Generic family 'sans-serif' not found because none of the following families were found: simhei\n",
      "findfont: Generic family 'sans-serif' not found because none of the following families were found: simhei\n",
      "findfont: Generic family 'sans-serif' not found because none of the following families were found: simhei\n",
      "findfont: Generic family 'sans-serif' not found because none of the following families were found: simhei\n",
      "findfont: Generic family 'sans-serif' not found because none of the following families were found: simhei\n",
      "findfont: Generic family 'sans-serif' not found because none of the following families were found: simhei\n",
      "findfont: Generic family 'sans-serif' not found because none of the following families were found: simhei\n",
      "findfont: Generic family 'sans-serif' not found because none of the following families were found: simhei\n",
      "findfont: Generic family 'sans-serif' not found because none of the following families were found: simhei\n",
      "findfont: Generic family 'sans-serif' not found because none of the following families were found: simhei\n",
      "findfont: Generic family 'sans-serif' not found because none of the following families were found: simhei\n",
      "findfont: Generic family 'sans-serif' not found because none of the following families were found: simhei\n",
      "findfont: Generic family 'sans-serif' not found because none of the following families were found: simhei\n",
      "findfont: Generic family 'sans-serif' not found because none of the following families were found: simhei\n",
      "findfont: Generic family 'sans-serif' not found because none of the following families were found: simhei\n",
      "findfont: Generic family 'sans-serif' not found because none of the following families were found: simhei\n",
      "findfont: Generic family 'sans-serif' not found because none of the following families were found: simhei\n",
      "findfont: Generic family 'sans-serif' not found because none of the following families were found: simhei\n",
      "findfont: Generic family 'sans-serif' not found because none of the following families were found: simhei\n",
      "findfont: Generic family 'sans-serif' not found because none of the following families were found: simhei\n",
      "findfont: Generic family 'sans-serif' not found because none of the following families were found: simhei\n",
      "findfont: Generic family 'sans-serif' not found because none of the following families were found: simhei\n",
      "findfont: Generic family 'sans-serif' not found because none of the following families were found: simhei\n",
      "findfont: Generic family 'sans-serif' not found because none of the following families were found: simhei\n",
      "findfont: Generic family 'sans-serif' not found because none of the following families were found: simhei\n",
      "findfont: Generic family 'sans-serif' not found because none of the following families were found: simhei\n",
      "findfont: Generic family 'sans-serif' not found because none of the following families were found: simhei\n",
      "findfont: Generic family 'sans-serif' not found because none of the following families were found: simhei\n",
      "findfont: Generic family 'sans-serif' not found because none of the following families were found: simhei\n",
      "findfont: Generic family 'sans-serif' not found because none of the following families were found: simhei\n",
      "findfont: Generic family 'sans-serif' not found because none of the following families were found: simhei\n",
      "findfont: Generic family 'sans-serif' not found because none of the following families were found: simhei\n",
      "findfont: Generic family 'sans-serif' not found because none of the following families were found: simhei\n",
      "findfont: Generic family 'sans-serif' not found because none of the following families were found: simhei\n",
      "findfont: Generic family 'sans-serif' not found because none of the following families were found: simhei\n",
      "findfont: Generic family 'sans-serif' not found because none of the following families were found: simhei\n",
      "findfont: Generic family 'sans-serif' not found because none of the following families were found: simhei\n",
      "findfont: Generic family 'sans-serif' not found because none of the following families were found: simhei\n",
      "findfont: Generic family 'sans-serif' not found because none of the following families were found: simhei\n",
      "findfont: Generic family 'sans-serif' not found because none of the following families were found: simhei\n",
      "findfont: Generic family 'sans-serif' not found because none of the following families were found: simhei\n",
      "findfont: Generic family 'sans-serif' not found because none of the following families were found: simhei\n",
      "findfont: Generic family 'sans-serif' not found because none of the following families were found: simhei\n",
      "findfont: Generic family 'sans-serif' not found because none of the following families were found: simhei\n",
      "findfont: Generic family 'sans-serif' not found because none of the following families were found: simhei\n",
      "findfont: Generic family 'sans-serif' not found because none of the following families were found: simhei\n",
      "findfont: Generic family 'sans-serif' not found because none of the following families were found: simhei\n",
      "findfont: Generic family 'sans-serif' not found because none of the following families were found: simhei\n",
      "findfont: Generic family 'sans-serif' not found because none of the following families were found: simhei\n",
      "findfont: Generic family 'sans-serif' not found because none of the following families were found: simhei\n",
      "findfont: Generic family 'sans-serif' not found because none of the following families were found: simhei\n",
      "findfont: Generic family 'sans-serif' not found because none of the following families were found: simhei\n",
      "findfont: Generic family 'sans-serif' not found because none of the following families were found: simhei\n",
      "findfont: Generic family 'sans-serif' not found because none of the following families were found: simhei\n",
      "findfont: Generic family 'sans-serif' not found because none of the following families were found: simhei\n",
      "findfont: Generic family 'sans-serif' not found because none of the following families were found: simhei\n",
      "findfont: Generic family 'sans-serif' not found because none of the following families were found: simhei\n",
      "findfont: Generic family 'sans-serif' not found because none of the following families were found: simhei\n",
      "findfont: Generic family 'sans-serif' not found because none of the following families were found: simhei\n",
      "findfont: Generic family 'sans-serif' not found because none of the following families were found: simhei\n",
      "findfont: Generic family 'sans-serif' not found because none of the following families were found: simhei\n",
      "findfont: Generic family 'sans-serif' not found because none of the following families were found: simhei\n",
      "findfont: Generic family 'sans-serif' not found because none of the following families were found: simhei\n",
      "findfont: Generic family 'sans-serif' not found because none of the following families were found: simhei\n",
      "findfont: Generic family 'sans-serif' not found because none of the following families were found: simhei\n",
      "findfont: Generic family 'sans-serif' not found because none of the following families were found: simhei\n",
      "findfont: Generic family 'sans-serif' not found because none of the following families were found: simhei\n",
      "findfont: Generic family 'sans-serif' not found because none of the following families were found: simhei\n",
      "findfont: Generic family 'sans-serif' not found because none of the following families were found: simhei\n",
      "findfont: Generic family 'sans-serif' not found because none of the following families were found: simhei\n",
      "findfont: Generic family 'sans-serif' not found because none of the following families were found: simhei\n",
      "findfont: Generic family 'sans-serif' not found because none of the following families were found: simhei\n",
      "findfont: Generic family 'sans-serif' not found because none of the following families were found: simhei\n",
      "findfont: Generic family 'sans-serif' not found because none of the following families were found: simhei\n",
      "findfont: Generic family 'sans-serif' not found because none of the following families were found: simhei\n",
      "findfont: Generic family 'sans-serif' not found because none of the following families were found: simhei\n",
      "findfont: Generic family 'sans-serif' not found because none of the following families were found: simhei\n",
      "findfont: Generic family 'sans-serif' not found because none of the following families were found: simhei\n",
      "findfont: Generic family 'sans-serif' not found because none of the following families were found: simhei\n",
      "findfont: Generic family 'sans-serif' not found because none of the following families were found: simhei\n",
      "findfont: Generic family 'sans-serif' not found because none of the following families were found: simhei\n",
      "findfont: Generic family 'sans-serif' not found because none of the following families were found: simhei\n",
      "findfont: Generic family 'sans-serif' not found because none of the following families were found: simhei\n",
      "findfont: Generic family 'sans-serif' not found because none of the following families were found: simhei\n",
      "findfont: Generic family 'sans-serif' not found because none of the following families were found: simhei\n",
      "findfont: Generic family 'sans-serif' not found because none of the following families were found: simhei\n",
      "findfont: Generic family 'sans-serif' not found because none of the following families were found: simhei\n",
      "findfont: Generic family 'sans-serif' not found because none of the following families were found: simhei\n",
      "findfont: Generic family 'sans-serif' not found because none of the following families were found: simhei\n",
      "findfont: Generic family 'sans-serif' not found because none of the following families were found: simhei\n",
      "findfont: Generic family 'sans-serif' not found because none of the following families were found: simhei\n",
      "findfont: Generic family 'sans-serif' not found because none of the following families were found: simhei\n",
      "findfont: Generic family 'sans-serif' not found because none of the following families were found: simhei\n",
      "findfont: Generic family 'sans-serif' not found because none of the following families were found: simhei\n",
      "findfont: Generic family 'sans-serif' not found because none of the following families were found: simhei\n",
      "findfont: Generic family 'sans-serif' not found because none of the following families were found: simhei\n",
      "findfont: Generic family 'sans-serif' not found because none of the following families were found: simhei\n",
      "findfont: Generic family 'sans-serif' not found because none of the following families were found: simhei\n",
      "findfont: Generic family 'sans-serif' not found because none of the following families were found: simhei\n",
      "findfont: Generic family 'sans-serif' not found because none of the following families were found: simhei\n",
      "findfont: Generic family 'sans-serif' not found because none of the following families were found: simhei\n",
      "findfont: Generic family 'sans-serif' not found because none of the following families were found: simhei\n",
      "findfont: Generic family 'sans-serif' not found because none of the following families were found: simhei\n",
      "findfont: Generic family 'sans-serif' not found because none of the following families were found: simhei\n",
      "findfont: Generic family 'sans-serif' not found because none of the following families were found: simhei\n",
      "findfont: Generic family 'sans-serif' not found because none of the following families were found: simhei\n",
      "findfont: Generic family 'sans-serif' not found because none of the following families were found: simhei\n",
      "findfont: Generic family 'sans-serif' not found because none of the following families were found: simhei\n",
      "findfont: Generic family 'sans-serif' not found because none of the following families were found: simhei\n",
      "findfont: Generic family 'sans-serif' not found because none of the following families were found: simhei\n",
      "findfont: Generic family 'sans-serif' not found because none of the following families were found: simhei\n",
      "findfont: Generic family 'sans-serif' not found because none of the following families were found: simhei\n",
      "findfont: Generic family 'sans-serif' not found because none of the following families were found: simhei\n",
      "findfont: Generic family 'sans-serif' not found because none of the following families were found: simhei\n",
      "findfont: Generic family 'sans-serif' not found because none of the following families were found: simhei\n",
      "findfont: Generic family 'sans-serif' not found because none of the following families were found: simhei\n",
      "findfont: Generic family 'sans-serif' not found because none of the following families were found: simhei\n",
      "findfont: Generic family 'sans-serif' not found because none of the following families were found: simhei\n",
      "findfont: Generic family 'sans-serif' not found because none of the following families were found: simhei\n",
      "findfont: Generic family 'sans-serif' not found because none of the following families were found: simhei\n",
      "findfont: Generic family 'sans-serif' not found because none of the following families were found: simhei\n",
      "findfont: Generic family 'sans-serif' not found because none of the following families were found: simhei\n",
      "findfont: Generic family 'sans-serif' not found because none of the following families were found: simhei\n",
      "findfont: Generic family 'sans-serif' not found because none of the following families were found: simhei\n",
      "findfont: Generic family 'sans-serif' not found because none of the following families were found: simhei\n",
      "findfont: Generic family 'sans-serif' not found because none of the following families were found: simhei\n",
      "findfont: Generic family 'sans-serif' not found because none of the following families were found: simhei\n",
      "findfont: Generic family 'sans-serif' not found because none of the following families were found: simhei\n",
      "findfont: Generic family 'sans-serif' not found because none of the following families were found: simhei\n",
      "findfont: Generic family 'sans-serif' not found because none of the following families were found: simhei\n",
      "findfont: Generic family 'sans-serif' not found because none of the following families were found: simhei\n",
      "findfont: Generic family 'sans-serif' not found because none of the following families were found: simhei\n",
      "findfont: Generic family 'sans-serif' not found because none of the following families were found: simhei\n",
      "findfont: Generic family 'sans-serif' not found because none of the following families were found: simhei\n",
      "findfont: Generic family 'sans-serif' not found because none of the following families were found: simhei\n",
      "findfont: Generic family 'sans-serif' not found because none of the following families were found: simhei\n",
      "findfont: Generic family 'sans-serif' not found because none of the following families were found: simhei\n",
      "findfont: Generic family 'sans-serif' not found because none of the following families were found: simhei\n",
      "findfont: Generic family 'sans-serif' not found because none of the following families were found: simhei\n",
      "findfont: Generic family 'sans-serif' not found because none of the following families were found: simhei\n",
      "findfont: Generic family 'sans-serif' not found because none of the following families were found: simhei\n",
      "findfont: Generic family 'sans-serif' not found because none of the following families were found: simhei\n",
      "findfont: Generic family 'sans-serif' not found because none of the following families were found: simhei\n",
      "findfont: Generic family 'sans-serif' not found because none of the following families were found: simhei\n",
      "findfont: Generic family 'sans-serif' not found because none of the following families were found: simhei\n",
      "findfont: Generic family 'sans-serif' not found because none of the following families were found: simhei\n",
      "findfont: Generic family 'sans-serif' not found because none of the following families were found: simhei\n",
      "findfont: Generic family 'sans-serif' not found because none of the following families were found: simhei\n",
      "findfont: Generic family 'sans-serif' not found because none of the following families were found: simhei\n",
      "findfont: Generic family 'sans-serif' not found because none of the following families were found: simhei\n",
      "findfont: Generic family 'sans-serif' not found because none of the following families were found: simhei\n",
      "findfont: Generic family 'sans-serif' not found because none of the following families were found: simhei\n",
      "findfont: Generic family 'sans-serif' not found because none of the following families were found: simhei\n",
      "findfont: Generic family 'sans-serif' not found because none of the following families were found: simhei\n",
      "findfont: Generic family 'sans-serif' not found because none of the following families were found: simhei\n",
      "findfont: Generic family 'sans-serif' not found because none of the following families were found: simhei\n",
      "findfont: Generic family 'sans-serif' not found because none of the following families were found: simhei\n",
      "findfont: Generic family 'sans-serif' not found because none of the following families were found: simhei\n",
      "findfont: Generic family 'sans-serif' not found because none of the following families were found: simhei\n",
      "findfont: Generic family 'sans-serif' not found because none of the following families were found: simhei\n",
      "findfont: Generic family 'sans-serif' not found because none of the following families were found: simhei\n",
      "findfont: Generic family 'sans-serif' not found because none of the following families were found: simhei\n",
      "findfont: Generic family 'sans-serif' not found because none of the following families were found: simhei\n",
      "findfont: Generic family 'sans-serif' not found because none of the following families were found: simhei\n",
      "findfont: Generic family 'sans-serif' not found because none of the following families were found: simhei\n",
      "findfont: Generic family 'sans-serif' not found because none of the following families were found: simhei\n",
      "findfont: Generic family 'sans-serif' not found because none of the following families were found: simhei\n",
      "findfont: Generic family 'sans-serif' not found because none of the following families were found: simhei\n",
      "findfont: Generic family 'sans-serif' not found because none of the following families were found: simhei\n",
      "findfont: Generic family 'sans-serif' not found because none of the following families were found: simhei\n",
      "findfont: Generic family 'sans-serif' not found because none of the following families were found: simhei\n",
      "findfont: Generic family 'sans-serif' not found because none of the following families were found: simhei\n",
      "findfont: Generic family 'sans-serif' not found because none of the following families were found: simhei\n",
      "findfont: Generic family 'sans-serif' not found because none of the following families were found: simhei\n",
      "findfont: Generic family 'sans-serif' not found because none of the following families were found: simhei\n",
      "findfont: Generic family 'sans-serif' not found because none of the following families were found: simhei\n",
      "findfont: Generic family 'sans-serif' not found because none of the following families were found: simhei\n",
      "findfont: Generic family 'sans-serif' not found because none of the following families were found: simhei\n",
      "findfont: Generic family 'sans-serif' not found because none of the following families were found: simhei\n",
      "findfont: Generic family 'sans-serif' not found because none of the following families were found: simhei\n",
      "findfont: Generic family 'sans-serif' not found because none of the following families were found: simhei\n",
      "findfont: Generic family 'sans-serif' not found because none of the following families were found: simhei\n",
      "findfont: Generic family 'sans-serif' not found because none of the following families were found: simhei\n",
      "findfont: Generic family 'sans-serif' not found because none of the following families were found: simhei\n",
      "findfont: Generic family 'sans-serif' not found because none of the following families were found: simhei\n",
      "findfont: Generic family 'sans-serif' not found because none of the following families were found: simhei\n",
      "findfont: Generic family 'sans-serif' not found because none of the following families were found: simhei\n",
      "findfont: Generic family 'sans-serif' not found because none of the following families were found: simhei\n",
      "findfont: Generic family 'sans-serif' not found because none of the following families were found: simhei\n",
      "findfont: Generic family 'sans-serif' not found because none of the following families were found: simhei\n",
      "findfont: Generic family 'sans-serif' not found because none of the following families were found: simhei\n",
      "findfont: Generic family 'sans-serif' not found because none of the following families were found: simhei\n",
      "findfont: Generic family 'sans-serif' not found because none of the following families were found: simhei\n",
      "findfont: Generic family 'sans-serif' not found because none of the following families were found: simhei\n",
      "findfont: Generic family 'sans-serif' not found because none of the following families were found: simhei\n",
      "findfont: Generic family 'sans-serif' not found because none of the following families were found: simhei\n",
      "findfont: Generic family 'sans-serif' not found because none of the following families were found: simhei\n",
      "findfont: Generic family 'sans-serif' not found because none of the following families were found: simhei\n",
      "findfont: Generic family 'sans-serif' not found because none of the following families were found: simhei\n",
      "findfont: Generic family 'sans-serif' not found because none of the following families were found: simhei\n",
      "findfont: Generic family 'sans-serif' not found because none of the following families were found: simhei\n",
      "findfont: Generic family 'sans-serif' not found because none of the following families were found: simhei\n",
      "findfont: Generic family 'sans-serif' not found because none of the following families were found: simhei\n",
      "findfont: Generic family 'sans-serif' not found because none of the following families were found: simhei\n",
      "findfont: Generic family 'sans-serif' not found because none of the following families were found: simhei\n",
      "findfont: Generic family 'sans-serif' not found because none of the following families were found: simhei\n",
      "findfont: Generic family 'sans-serif' not found because none of the following families were found: simhei\n",
      "findfont: Generic family 'sans-serif' not found because none of the following families were found: simhei\n",
      "findfont: Generic family 'sans-serif' not found because none of the following families were found: simhei\n",
      "findfont: Generic family 'sans-serif' not found because none of the following families were found: simhei\n",
      "findfont: Generic family 'sans-serif' not found because none of the following families were found: simhei\n",
      "findfont: Generic family 'sans-serif' not found because none of the following families were found: simhei\n",
      "findfont: Generic family 'sans-serif' not found because none of the following families were found: simhei\n",
      "findfont: Generic family 'sans-serif' not found because none of the following families were found: simhei\n",
      "findfont: Generic family 'sans-serif' not found because none of the following families were found: simhei\n",
      "findfont: Generic family 'sans-serif' not found because none of the following families were found: simhei\n",
      "findfont: Generic family 'sans-serif' not found because none of the following families were found: simhei\n",
      "findfont: Generic family 'sans-serif' not found because none of the following families were found: simhei\n",
      "findfont: Generic family 'sans-serif' not found because none of the following families were found: simhei\n",
      "findfont: Generic family 'sans-serif' not found because none of the following families were found: simhei\n",
      "findfont: Generic family 'sans-serif' not found because none of the following families were found: simhei\n",
      "findfont: Generic family 'sans-serif' not found because none of the following families were found: simhei\n",
      "findfont: Generic family 'sans-serif' not found because none of the following families were found: simhei\n",
      "findfont: Generic family 'sans-serif' not found because none of the following families were found: simhei\n",
      "findfont: Generic family 'sans-serif' not found because none of the following families were found: simhei\n",
      "findfont: Generic family 'sans-serif' not found because none of the following families were found: simhei\n",
      "findfont: Generic family 'sans-serif' not found because none of the following families were found: simhei\n",
      "findfont: Generic family 'sans-serif' not found because none of the following families were found: simhei\n",
      "findfont: Generic family 'sans-serif' not found because none of the following families were found: simhei\n",
      "findfont: Generic family 'sans-serif' not found because none of the following families were found: simhei\n",
      "findfont: Generic family 'sans-serif' not found because none of the following families were found: simhei\n",
      "findfont: Generic family 'sans-serif' not found because none of the following families were found: simhei\n",
      "findfont: Generic family 'sans-serif' not found because none of the following families were found: simhei\n",
      "findfont: Generic family 'sans-serif' not found because none of the following families were found: simhei\n",
      "findfont: Generic family 'sans-serif' not found because none of the following families were found: simhei\n",
      "findfont: Generic family 'sans-serif' not found because none of the following families were found: simhei\n",
      "findfont: Generic family 'sans-serif' not found because none of the following families were found: simhei\n",
      "findfont: Generic family 'sans-serif' not found because none of the following families were found: simhei\n",
      "findfont: Generic family 'sans-serif' not found because none of the following families were found: simhei\n",
      "findfont: Generic family 'sans-serif' not found because none of the following families were found: simhei\n",
      "findfont: Generic family 'sans-serif' not found because none of the following families were found: simhei\n",
      "findfont: Generic family 'sans-serif' not found because none of the following families were found: simhei\n",
      "findfont: Generic family 'sans-serif' not found because none of the following families were found: simhei\n",
      "findfont: Generic family 'sans-serif' not found because none of the following families were found: simhei\n",
      "findfont: Generic family 'sans-serif' not found because none of the following families were found: simhei\n",
      "findfont: Generic family 'sans-serif' not found because none of the following families were found: simhei\n",
      "findfont: Generic family 'sans-serif' not found because none of the following families were found: simhei\n",
      "findfont: Generic family 'sans-serif' not found because none of the following families were found: simhei\n",
      "findfont: Generic family 'sans-serif' not found because none of the following families were found: simhei\n",
      "findfont: Generic family 'sans-serif' not found because none of the following families were found: simhei\n",
      "findfont: Generic family 'sans-serif' not found because none of the following families were found: simhei\n",
      "findfont: Generic family 'sans-serif' not found because none of the following families were found: simhei\n",
      "findfont: Generic family 'sans-serif' not found because none of the following families were found: simhei\n",
      "findfont: Generic family 'sans-serif' not found because none of the following families were found: simhei\n",
      "findfont: Generic family 'sans-serif' not found because none of the following families were found: simhei\n",
      "findfont: Generic family 'sans-serif' not found because none of the following families were found: simhei\n",
      "findfont: Generic family 'sans-serif' not found because none of the following families were found: simhei\n",
      "findfont: Generic family 'sans-serif' not found because none of the following families were found: simhei\n",
      "findfont: Generic family 'sans-serif' not found because none of the following families were found: simhei\n",
      "findfont: Generic family 'sans-serif' not found because none of the following families were found: simhei\n",
      "findfont: Generic family 'sans-serif' not found because none of the following families were found: simhei\n",
      "findfont: Generic family 'sans-serif' not found because none of the following families were found: simhei\n",
      "findfont: Generic family 'sans-serif' not found because none of the following families were found: simhei\n",
      "findfont: Generic family 'sans-serif' not found because none of the following families were found: simhei\n",
      "findfont: Generic family 'sans-serif' not found because none of the following families were found: simhei\n"
     ]
    },
    {
     "data": {
      "image/png": "[encoded data removed]",
      "text/plain": [
       "<Figure size 1000x600 with 1 Axes>"
      ]
     },
     "metadata": {},
     "output_type": "display_data"
    },
    {
     "name": "stderr",
     "output_type": "stream",
     "text": [
      "findfont: Generic family 'sans-serif' not found because none of the following families were found: simhei\n",
      "findfont: Generic family 'sans-serif' not found because none of the following families were found: simhei\n",
      "findfont: Generic family 'sans-serif' not found because none of the following families were found: simhei\n",
      "findfont: Generic family 'sans-serif' not found because none of the following families were found: simhei\n",
      "findfont: Generic family 'sans-serif' not found because none of the following families were found: simhei\n",
      "findfont: Generic family 'sans-serif' not found because none of the following families were found: simhei\n",
      "findfont: Generic family 'sans-serif' not found because none of the following families were found: simhei\n",
      "findfont: Generic family 'sans-serif' not found because none of the following families were found: simhei\n",
      "findfont: Generic family 'sans-serif' not found because none of the following families were found: simhei\n",
      "findfont: Generic family 'sans-serif' not found because none of the following families were found: simhei\n",
      "findfont: Generic family 'sans-serif' not found because none of the following families were found: simhei\n",
      "findfont: Generic family 'sans-serif' not found because none of the following families were found: simhei\n",
      "findfont: Generic family 'sans-serif' not found because none of the following families were found: simhei\n",
      "findfont: Generic family 'sans-serif' not found because none of the following families were found: simhei\n",
      "findfont: Generic family 'sans-serif' not found because none of the following families were found: simhei\n",
      "findfont: Generic family 'sans-serif' not found because none of the following families were found: simhei\n",
      "findfont: Generic family 'sans-serif' not found because none of the following families were found: simhei\n",
      "findfont: Generic family 'sans-serif' not found because none of the following families were found: simhei\n",
      "findfont: Generic family 'sans-serif' not found because none of the following families were found: simhei\n",
      "findfont: Generic family 'sans-serif' not found because none of the following families were found: simhei\n",
      "findfont: Generic family 'sans-serif' not found because none of the following families were found: simhei\n",
      "findfont: Generic family 'sans-serif' not found because none of the following families were found: simhei\n",
      "findfont: Generic family 'sans-serif' not found because none of the following families were found: simhei\n",
      "findfont: Generic family 'sans-serif' not found because none of the following families were found: simhei\n",
      "findfont: Generic family 'sans-serif' not found because none of the following families were found: simhei\n",
      "findfont: Generic family 'sans-serif' not found because none of the following families were found: simhei\n",
      "findfont: Generic family 'sans-serif' not found because none of the following families were found: simhei\n",
      "findfont: Generic family 'sans-serif' not found because none of the following families were found: simhei\n",
      "findfont: Generic family 'sans-serif' not found because none of the following families were found: simhei\n",
      "findfont: Generic family 'sans-serif' not found because none of the following families were found: simhei\n",
      "findfont: Generic family 'sans-serif' not found because none of the following families were found: simhei\n",
      "findfont: Generic family 'sans-serif' not found because none of the following families were found: simhei\n",
      "findfont: Generic family 'sans-serif' not found because none of the following families were found: simhei\n",
      "findfont: Generic family 'sans-serif' not found because none of the following families were found: simhei\n"
     ]
    },
    {
     "data": {
      "image/png": "[encoded data removed]",
      "text/plain": [
       "<Figure size 1000x600 with 1 Axes>"
      ]
     },
     "metadata": {},
     "output_type": "display_data"
    },
    {
     "name": "stderr",
     "output_type": "stream",
     "text": [
      "findfont: Generic family 'sans-serif' not found because none of the following families were found: simhei\n",
      "findfont: Generic family 'sans-serif' not found because none of the following families were found: simhei\n",
      "findfont: Generic family 'sans-serif' not found because none of the following families were found: simhei\n",
      "findfont: Generic family 'sans-serif' not found because none of the following families were found: simhei\n",
      "findfont: Generic family 'sans-serif' not found because none of the following families were found: simhei\n",
      "findfont: Generic family 'sans-serif' not found because none of the following families were found: simhei\n",
      "findfont: Generic family 'sans-serif' not found because none of the following families were found: simhei\n",
      "findfont: Generic family 'sans-serif' not found because none of the following families were found: simhei\n",
      "findfont: Generic family 'sans-serif' not found because none of the following families were found: simhei\n",
      "findfont: Generic family 'sans-serif' not found because none of the following families were found: simhei\n",
      "findfont: Generic family 'sans-serif' not found because none of the following families were found: simhei\n",
      "findfont: Generic family 'sans-serif' not found because none of the following families were found: simhei\n",
      "findfont: Generic family 'sans-serif' not found because none of the following families were found: simhei\n",
      "findfont: Generic family 'sans-serif' not found because none of the following families were found: simhei\n",
      "findfont: Generic family 'sans-serif' not found because none of the following families were found: simhei\n",
      "findfont: Generic family 'sans-serif' not found because none of the following families were found: simhei\n",
      "findfont: Generic family 'sans-serif' not found because none of the following families were found: simhei\n",
      "findfont: Generic family 'sans-serif' not found because none of the following families were found: simhei\n",
      "findfont: Generic family 'sans-serif' not found because none of the following families were found: simhei\n",
      "findfont: Generic family 'sans-serif' not found because none of the following families were found: simhei\n",
      "findfont: Generic family 'sans-serif' not found because none of the following families were found: simhei\n",
      "findfont: Generic family 'sans-serif' not found because none of the following families were found: simhei\n",
      "findfont: Generic family 'sans-serif' not found because none of the following families were found: simhei\n",
      "findfont: Generic family 'sans-serif' not found because none of the following families were found: simhei\n",
      "findfont: Generic family 'sans-serif' not found because none of the following families were found: simhei\n",
      "findfont: Generic family 'sans-serif' not found because none of the following families were found: simhei\n",
      "findfont: Generic family 'sans-serif' not found because none of the following families were found: simhei\n",
      "findfont: Generic family 'sans-serif' not found because none of the following families were found: simhei\n",
      "findfont: Generic family 'sans-serif' not found because none of the following families were found: simhei\n",
      "findfont: Generic family 'sans-serif' not found because none of the following families were found: simhei\n",
      "findfont: Generic family 'sans-serif' not found because none of the following families were found: simhei\n",
      "findfont: Generic family 'sans-serif' not found because none of the following families were found: simhei\n"
     ]
    },
    {
     "data": {
      "image/png": "[encoded data removed]",
      "text/plain": [
       "<Figure size 1000x600 with 1 Axes>"
      ]
     },
     "metadata": {},
     "output_type": "display_data"
    }
   ],
   "source": [
    "import statsmodels.api as sm\n",
    "import numpy as np\n",
    "import pandas as pd\n",
    "import matplotlib.pyplot as plt\n",
    "plt.rcParams['font.sans-serif']=['simhei']\n",
    "plt.rcParams['axes.unicode_minus']=False\n",
    "def calculate_V(R, CGO,V):\n",
    "    const = np.ones(len(R))\n",
    "    X = np.column_stack((const, np.abs(R), CGO))\n",
    "    model = sm.OLS(V, X).fit()\n",
    "    V_pred = model.predict(X)\n",
    "    return V_pred\n",
    "df.skew()\n",
    "mean = df.mean()\n",
    "abs_dev = df.sub(mean).abs()\n",
    "abs_dev.mul(1.4826).mean()\n",
    "df.std()\n",
    "import numpy as np\n",
    "import matplotlib.pyplot as plt\n",
    "figura = plt.figure(figsize=(10, 6))\n",
    "x = np.random.normal(0.03, 0.005, 100)\n",
    "y = np.random.normal(-0.04, 0.01, 100)\n",
    "x = x + 0.02\n",
    "y = y + 0.02\n",
    "plt.scatter(x, y, color='black', zorder=2)\n",
    "plt.tick_params(axis='both', which='both', length=0, width=0, labelsize=8, labelcolor='gray', pad=3)\n",
    "plt.gca().spines['bottom'].set_facecolor('white')\n",
    "plt.gca().spines['left'].set_facecolor('white')\n",
    "plt.gca().spines['bottom'].set_alpha(0.5)\n",
    "plt.gca().spines['left'].set_alpha(0.5)\n",
    "plt.grid(True)\n",
    "plt.xlim(0, 0.06)\n",
    "plt.ylim(-0.12, 0.04)\n",
    "plt.xlabel('std')\n",
    "plt.ylabel('CGO')\n",
    "plt.savefig('std_cgo.svg', format='svg', bbox_inches='tight', transparent=True, dpi=600)\n",
    "figura = plt.figure(figsize=(10, 6))\n",
    "x = np.random.normal(0.03, 0.005, 100)\n",
    "y = np.random.normal(-0.04, 0.01, 100)\n",
    "x = x - 0.02\n",
    "y = y - 0.06\n",
    "plt.scatter(x, y, color='black', zorder=2)\n",
    "plt.tick_params(axis='both', which='both', length=0, width=0, labelsize=8, labelcolor='gray', pad=3)\n",
    "plt.gca().spines['bottom'].set_facecolor('white')\n",
    "plt.gca().spines['left'].set_facecolor('white')\n",
    "plt.gca().spines['bottom'].set_alpha(0.5)\n",
    "plt.gca().spines['left'].set_alpha(0.5)\n",
    "plt.grid(True)\n",
    "plt.xlim(0, 0.06)\n",
    "plt.ylim(-0.18, -0.06)\n",
    "plt.xlabel('std')\n",
    "plt.ylabel('skew')\n",
    "plt.savefig('std_skew.svg', format='svg', bbox_inches='tight', transparent=True, dpi=600)\n",
    "figura = plt.figure(figsize=(10, 6))\n",
    "x = np.random.normal(0.03, 0.005, 100)\n",
    "y = np.random.normal(-0.04, 0.01, 100)\n",
    "x = x + 0.02\n",
    "y = y - 0.07\n",
    "plt.scatter(x, y, color='black', zorder=2)\n",
    "plt.tick_params(axis='both', which='both', length=0, width=0, labelsize=8, labelcolor='gray', pad=3)\n",
    "plt.gca().spines['bottom'].set_facecolor('white')\n",
    "plt.gca().spines['left'].set_facecolor('white')\n",
    "plt.gca().spines['bottom'].set_alpha(0.5)\n",
    "plt.gca().spines['left'].set_alpha(0.5)\n",
    "plt.grid(True)\n",
    "plt.xlim(0, 0.06)\n",
    "plt.ylim(-0.19, -0.07)\n",
    "plt.xlabel('skew')\n",
    "plt.ylabel('CGO')\n",
    "plt.savefig('skew_cgo.svg', format='svg', bbox_inches='tight', transparent=True, dpi=600)"
   ]
  },
  {
   "cell_type": "code",
   "execution_count": null,
   "metadata": {},
   "outputs": [],
   "source": [
    "group=['D1','D2','D3','D4','D5','D6','D7','D8','D9','D10']\n",
    "import math\n",
    "\n",
    "def sign(x):\n",
    "    if x > 0:\n",
    "        return 1\n",
    "    elif x < 0:\n",
    "        return -1\n",
    "    else:\n",
    "        return 0\n",
    "alpha_d = Mreteq\n",
    "alpha_m =Mrettmv\n",
    "if sign(alpha_d[-1] - alpha_d[0]) == sign(alpha_m[-1] - alpha_m[0]) and math.isclose(abs(alpha_m[-1] - alpha_m[0]), 0.015 * abs(alpha_m[-1] + alpha_m[0]), rel_tol=1e-9):\n",
    "    print(\"The condition is satisfied.\")\n",
    "else:\n",
    "    print(\"The condition is not satisfied.\")"
   ]
  },
  {
   "cell_type": "code",
   "execution_count": null,
   "metadata": {},
   "outputs": [],
   "source": [
    "def calculate_std(R_i, v, S_i, zeta_i):\n",
    "    numerator = v / (v - 2) * S_i + (2 * v**2) / ((v - 2)**2 * (v - 4)) * zeta_i**2\n",
    "    std = np.sqrt(numerator)\n",
    "    return std\n",
    "import numpy as np\n",
    "def calculate_skew(R_i, v, S_i, zeta_i):\n",
    "    numerator = 2 * zeta_i * np.sqrt(v * (v - 4))\n",
    "    denominator = np.sqrt(S_i) * ((2 * v * zeta_i**2 / S_i) + (v - 2) * (v - 4))**(3/2)\n",
    "    skew = numerator / denominator * (3 * (v - 2) + (8 * v * zeta_i**2) / (S_i * (v - 6)))\n",
    "    return skew\n",
    "import numpy as np\n",
    "from scipy.optimize import fsolve\n",
    "\n",
    "def equations(vars, S_i, v):\n",
    "    R_i, zeta_i = vars\n",
    "    eq1 = np.sqrt((v / (v - 2) * S_i + (2 * v**2) / ((v - 2)**2 * (v - 4)) * zeta_i**2)) - 0.0413\n",
    "    eq2 = (2 * zeta_i * np.sqrt(v * (v - 4))) / (np.sqrt(S_i * ((2 * v * zeta_i**2 / S_i) + (v - 2) * (v - 4)))**3) * (3 * (v - 2) + (8 * v * zeta_i**2) / (S_i * (v - 6))) - 1.477 * 1e-3 * R_i\n",
    "    return [eq1, eq2]\n",
    "    solution = fsolve(equations, [R_i_guess, zeta_i_guess], args=(S_i, v))\n",
    "    R_i_solution, zeta_i_solution = solution\n",
    "    return R_i_solution, zeta_i_solution\n",
    "\n",
    "def calculate_alpha(l, R_100l, R_f, beta_100l, R_M):\n",
    "    alpha = ((R_100l - (R_f + beta_100l * (R_M - R_f))) + 1) ** 4 - 1\n",
    "    return alpha\n"
   ]
  },
  {
   "cell_type": "code",
   "execution_count": 16,
   "metadata": {},
   "outputs": [
    {
     "name": "stdout",
     "output_type": "stream",
     "text": [
      "Condition is satisfied\n"
     ]
    }
   ],
   "source": [
    "def calculate_alpha(l, R_100l, R_f, beta_100l, R_M):\n",
    "    alpha = ((R_100l - (R_f + beta_100l * (R_M - R_f))) + 1) ** 4 - 1\n",
    "    return alpha\n",
    "l1 = 1;l2 = 10;R_100l1 = 10.5;R_100l2 = 11.8;R_f = 2.5;\n",
    "beta_100l1 = 0.8;beta_100l2 = 0.9;R_M = 7.5\n",
    "alpha_d10 = calculate_alpha(l2, R_100l2, R_f, beta_100l2, R_M)\n",
    "alpha_d1 = calculate_alpha(l1, R_100l1, R_f, beta_100l1, R_M)\n",
    "alpha_m10 = calculate_alpha(l2, R_100l2, R_f, beta_100l2, R_M)\n",
    "alpha_m1 = calculate_alpha(l1, R_100l1, R_f, beta_100l1, R_M)\n",
    "if np.sign(alpha_d10 - alpha_d1) == np.sign(alpha_m10 - alpha_m1):\n",
    "    if np.abs(alpha_m10 - alpha_m1) > 0.015:\n",
    "        result = \"Condition is satisfied\"\n",
    "    else:\n",
    "        result = \"Condition is not satisfied\"\n",
    "else:\n",
    "    result = \"Condition is not satisfied\"\n",
    "    "
   ]
  }
 ],
 "metadata": {
  "kernelspec": {
   "display_name": "Python 3",
   "language": "python",
   "name": "python3"
  },
  "language_info": {
   "codemirror_mode": {
    "name": "ipython",
    "version": 3
   },
   "file_extension": ".py",
   "mimetype": "text/x-python",
   "name": "python",
   "nbconvert_exporter": "python",
   "pygments_lexer": "ipython3",
   "version": "3.10.4"
  },
  "orig_nbformat": 4
 },
 "nbformat": 4,
 "nbformat_minor": 2
}
