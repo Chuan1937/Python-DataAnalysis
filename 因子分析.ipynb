{
 "cells": [
  {
   "cell_type": "markdown",
   "metadata": {
    "collapsed": true,
    "pycharm": {
     "name": "#%% md\n"
    }
   },
   "source": [
    "因子分析步骤：\n",
    "    对所给的数据样本进行标准化处理\n",
    "    计算样本的相关矩阵R\n",
    "    求相关矩阵R的特征值、特征向量\n",
    "    根据系统要求的累积贡献度确定主因子的个数\n",
    "    计算因子载荷矩阵A\n",
    "    最终确定因子模型"
   ]
  },
  {
   "cell_type": "markdown",
   "source": [
    "# 1.导入库"
   ],
   "metadata": {
    "collapsed": false,
    "pycharm": {
     "name": "#%% md\n"
    }
   }
  },
  {
   "cell_type": "code",
   "execution_count": 19,
   "outputs": [],
   "source": [
    "# 数据处理\n",
    "import pandas as pd\n",
    "import numpy as np\n",
    "\n",
    "# 绘图\n",
    "import seaborn as sns\n",
    "import matplotlib.pyplot as plt\n",
    "# 因子分析\n",
    "from factor_analyzer import FactorAnalyzer\n",
    "\n",
    "#中文编码处理\n",
    "import matplotlib as mpl\n",
    "mpl.rcParams['font.sans-serif'] = ['SimHei']  # 指定默认字体\n",
    "mpl.rcParams['axes.unicode_minus'] = False  # 解决保存图像是负号'-'显示为方块的问题"
   ],
   "metadata": {
    "collapsed": false,
    "pycharm": {
     "name": "#%%\n"
    }
   }
  },
  {
   "cell_type": "markdown",
   "source": [
    "# 2.读取数据"
   ],
   "metadata": {
    "collapsed": false,
    "pycharm": {
     "name": "#%% md\n"
    }
   }
  },
  {
   "cell_type": "code",
   "execution_count": 4,
   "outputs": [
    {
     "data": {
      "text/plain": "            食品烟酒           衣着            居住         生活用品         交通通信  \\\n0    8373.880833  1803.508600  15710.522460  2145.811114  3789.483449   \n1    8516.007564  1711.820707   7035.340948  1669.405706  3778.719068   \n2    4992.478562  1249.668278   4394.498980  1171.228058  2356.860743   \n3    4362.360730  1235.844821   3460.383332   863.855173  1980.874277   \n4    5686.075653  1568.254345   4148.550641  1119.202266  3099.196787   \n5    6110.089520  1378.240348   4473.827668  1091.821781  2660.015578   \n6    5021.599196  1293.872413   3448.206328   906.674739  2385.998621   \n7    5287.171580  1300.570824   3450.712601   895.372975  2122.166709   \n8   11224.717270  1694.020412  15247.340380  2091.216507  4557.451535   \n9    7258.372863  1450.490162   7505.910054  1522.957133  3588.833100   \n10   8922.140318  1703.236686   9009.122497  1789.315968  4301.194611   \n11   6280.417231  1210.357932   4375.921476  1108.377215  2172.114424   \n12   8385.061772  1182.434058   7304.813097  1274.823875  2972.028550   \n13   5780.605781   987.206101   4454.918120   966.527550  2146.429244   \n14   5757.293417  1437.990868   4437.007534  1571.040752  3004.119686   \n15   4417.904045  1221.791360   3807.639832  1077.554941  1917.247700   \n16   5897.662953  1173.002080   4659.569343  1088.850842  2559.532869   \n17   6251.691016  1236.912532   4436.169448  1289.000955  2745.469388   \n18   9629.295787  1044.526049   7732.974996  1560.616037  3808.667089   \n19   5591.504785   594.972022   3579.018754   929.108804  2107.941871   \n20   7514.030776   660.640388   4168.003314   889.970067  2118.854327   \n21   7284.582538  1459.102746   4062.117199  1517.405591  2630.916794   \n22   7026.409187  1190.421664   3855.748483  1234.784032  2465.147016   \n23   4606.897685   944.593485   2998.215449   901.125388  2217.959543   \n24   5092.113151   868.318856   3469.779784   958.547547  2709.421604   \n25   4786.584412  1137.167751   2970.480074   838.637593  1987.518113   \n26   4819.536998  1156.587008   3857.579570  1179.286012  2194.024919   \n27   4768.810249  1140.583082   3557.272880  1045.521727  2020.382321   \n28   5224.460392  1301.387535   3618.475668  1073.368348  3121.005342   \n29   4816.340569  1263.859216   3348.805117  1037.227228  2921.992021   \n30   5225.911434  1138.881097   3304.662859  1030.976198  2318.879752   \n\n           教育文化         医疗保健         其他用品  \n0   2766.022264  3513.317521   800.728111  \n1   2253.668286  2645.975583   850.469276  \n2   1799.066709  1692.018775   381.221646  \n3   1608.441949  1854.012413   366.909392  \n4   1835.876303  1891.525440   445.807892  \n5   1950.817597  2303.197015   704.119707  \n6   1742.011020  2031.187504   488.129556  \n7   1602.863889  2023.207724   374.350426  \n8   3662.911098  3033.384339  1025.252728  \n9   2298.213127  2018.615599   581.755342  \n10  2889.378163  1955.895127   724.437792  \n11  1855.250671  1548.039636   326.785302  \n12  1895.899252  1583.242997   527.489685  \n13  1878.974038  1437.283907   303.336288  \n14  2373.746354  1914.048616   444.806980  \n15  1685.354840  1621.897544   393.235738  \n16  1755.949729  1764.930797   346.448075  \n17  2587.316758  2034.714576   416.348223  \n18  2442.863256  1677.881014   595.119987  \n19  1766.185888  1540.715718   247.336724  \n20  1880.546553  1407.302284   332.272407  \n21  2120.930741  2101.501108   501.579806  \n22  1650.532106  1907.994515   452.354381  \n23  1636.683547  1269.629303   298.668925  \n24  1835.838177  1547.432815   310.965717  \n25   550.937507   589.900149   363.571757  \n26  1756.622731  2078.396199   375.586350  \n27  1728.553293  1544.687221   369.137524  \n28  1521.316673  1975.730557   448.483673  \n29  1760.589810  1906.280013   450.727297  \n30  1488.398688  1611.661532   392.690342  ",
      "text/html": "<div>\n<style scoped>\n    .dataframe tbody tr th:only-of-type {\n        vertical-align: middle;\n    }\n\n    .dataframe tbody tr th {\n        vertical-align: top;\n    }\n\n    .dataframe thead th {\n        text-align: right;\n    }\n</style>\n<table border=\"1\" class=\"dataframe\">\n  <thead>\n    <tr style=\"text-align: right;\">\n      <th></th>\n      <th>食品烟酒</th>\n      <th>衣着</th>\n      <th>居住</th>\n      <th>生活用品</th>\n      <th>交通通信</th>\n      <th>教育文化</th>\n      <th>医疗保健</th>\n      <th>其他用品</th>\n    </tr>\n  </thead>\n  <tbody>\n    <tr>\n      <th>0</th>\n      <td>8373.880833</td>\n      <td>1803.508600</td>\n      <td>15710.522460</td>\n      <td>2145.811114</td>\n      <td>3789.483449</td>\n      <td>2766.022264</td>\n      <td>3513.317521</td>\n      <td>800.728111</td>\n    </tr>\n    <tr>\n      <th>1</th>\n      <td>8516.007564</td>\n      <td>1711.820707</td>\n      <td>7035.340948</td>\n      <td>1669.405706</td>\n      <td>3778.719068</td>\n      <td>2253.668286</td>\n      <td>2645.975583</td>\n      <td>850.469276</td>\n    </tr>\n    <tr>\n      <th>2</th>\n      <td>4992.478562</td>\n      <td>1249.668278</td>\n      <td>4394.498980</td>\n      <td>1171.228058</td>\n      <td>2356.860743</td>\n      <td>1799.066709</td>\n      <td>1692.018775</td>\n      <td>381.221646</td>\n    </tr>\n    <tr>\n      <th>3</th>\n      <td>4362.360730</td>\n      <td>1235.844821</td>\n      <td>3460.383332</td>\n      <td>863.855173</td>\n      <td>1980.874277</td>\n      <td>1608.441949</td>\n      <td>1854.012413</td>\n      <td>366.909392</td>\n    </tr>\n    <tr>\n      <th>4</th>\n      <td>5686.075653</td>\n      <td>1568.254345</td>\n      <td>4148.550641</td>\n      <td>1119.202266</td>\n      <td>3099.196787</td>\n      <td>1835.876303</td>\n      <td>1891.525440</td>\n      <td>445.807892</td>\n    </tr>\n    <tr>\n      <th>5</th>\n      <td>6110.089520</td>\n      <td>1378.240348</td>\n      <td>4473.827668</td>\n      <td>1091.821781</td>\n      <td>2660.015578</td>\n      <td>1950.817597</td>\n      <td>2303.197015</td>\n      <td>704.119707</td>\n    </tr>\n    <tr>\n      <th>6</th>\n      <td>5021.599196</td>\n      <td>1293.872413</td>\n      <td>3448.206328</td>\n      <td>906.674739</td>\n      <td>2385.998621</td>\n      <td>1742.011020</td>\n      <td>2031.187504</td>\n      <td>488.129556</td>\n    </tr>\n    <tr>\n      <th>7</th>\n      <td>5287.171580</td>\n      <td>1300.570824</td>\n      <td>3450.712601</td>\n      <td>895.372975</td>\n      <td>2122.166709</td>\n      <td>1602.863889</td>\n      <td>2023.207724</td>\n      <td>374.350426</td>\n    </tr>\n    <tr>\n      <th>8</th>\n      <td>11224.717270</td>\n      <td>1694.020412</td>\n      <td>15247.340380</td>\n      <td>2091.216507</td>\n      <td>4557.451535</td>\n      <td>3662.911098</td>\n      <td>3033.384339</td>\n      <td>1025.252728</td>\n    </tr>\n    <tr>\n      <th>9</th>\n      <td>7258.372863</td>\n      <td>1450.490162</td>\n      <td>7505.910054</td>\n      <td>1522.957133</td>\n      <td>3588.833100</td>\n      <td>2298.213127</td>\n      <td>2018.615599</td>\n      <td>581.755342</td>\n    </tr>\n    <tr>\n      <th>10</th>\n      <td>8922.140318</td>\n      <td>1703.236686</td>\n      <td>9009.122497</td>\n      <td>1789.315968</td>\n      <td>4301.194611</td>\n      <td>2889.378163</td>\n      <td>1955.895127</td>\n      <td>724.437792</td>\n    </tr>\n    <tr>\n      <th>11</th>\n      <td>6280.417231</td>\n      <td>1210.357932</td>\n      <td>4375.921476</td>\n      <td>1108.377215</td>\n      <td>2172.114424</td>\n      <td>1855.250671</td>\n      <td>1548.039636</td>\n      <td>326.785302</td>\n    </tr>\n    <tr>\n      <th>12</th>\n      <td>8385.061772</td>\n      <td>1182.434058</td>\n      <td>7304.813097</td>\n      <td>1274.823875</td>\n      <td>2972.028550</td>\n      <td>1895.899252</td>\n      <td>1583.242997</td>\n      <td>527.489685</td>\n    </tr>\n    <tr>\n      <th>13</th>\n      <td>5780.605781</td>\n      <td>987.206101</td>\n      <td>4454.918120</td>\n      <td>966.527550</td>\n      <td>2146.429244</td>\n      <td>1878.974038</td>\n      <td>1437.283907</td>\n      <td>303.336288</td>\n    </tr>\n    <tr>\n      <th>14</th>\n      <td>5757.293417</td>\n      <td>1437.990868</td>\n      <td>4437.007534</td>\n      <td>1571.040752</td>\n      <td>3004.119686</td>\n      <td>2373.746354</td>\n      <td>1914.048616</td>\n      <td>444.806980</td>\n    </tr>\n    <tr>\n      <th>15</th>\n      <td>4417.904045</td>\n      <td>1221.791360</td>\n      <td>3807.639832</td>\n      <td>1077.554941</td>\n      <td>1917.247700</td>\n      <td>1685.354840</td>\n      <td>1621.897544</td>\n      <td>393.235738</td>\n    </tr>\n    <tr>\n      <th>16</th>\n      <td>5897.662953</td>\n      <td>1173.002080</td>\n      <td>4659.569343</td>\n      <td>1088.850842</td>\n      <td>2559.532869</td>\n      <td>1755.949729</td>\n      <td>1764.930797</td>\n      <td>346.448075</td>\n    </tr>\n    <tr>\n      <th>17</th>\n      <td>6251.691016</td>\n      <td>1236.912532</td>\n      <td>4436.169448</td>\n      <td>1289.000955</td>\n      <td>2745.469388</td>\n      <td>2587.316758</td>\n      <td>2034.714576</td>\n      <td>416.348223</td>\n    </tr>\n    <tr>\n      <th>18</th>\n      <td>9629.295787</td>\n      <td>1044.526049</td>\n      <td>7732.974996</td>\n      <td>1560.616037</td>\n      <td>3808.667089</td>\n      <td>2442.863256</td>\n      <td>1677.881014</td>\n      <td>595.119987</td>\n    </tr>\n    <tr>\n      <th>19</th>\n      <td>5591.504785</td>\n      <td>594.972022</td>\n      <td>3579.018754</td>\n      <td>929.108804</td>\n      <td>2107.941871</td>\n      <td>1766.185888</td>\n      <td>1540.715718</td>\n      <td>247.336724</td>\n    </tr>\n    <tr>\n      <th>20</th>\n      <td>7514.030776</td>\n      <td>660.640388</td>\n      <td>4168.003314</td>\n      <td>889.970067</td>\n      <td>2118.854327</td>\n      <td>1880.546553</td>\n      <td>1407.302284</td>\n      <td>332.272407</td>\n    </tr>\n    <tr>\n      <th>21</th>\n      <td>7284.582538</td>\n      <td>1459.102746</td>\n      <td>4062.117199</td>\n      <td>1517.405591</td>\n      <td>2630.916794</td>\n      <td>2120.930741</td>\n      <td>2101.501108</td>\n      <td>501.579806</td>\n    </tr>\n    <tr>\n      <th>22</th>\n      <td>7026.409187</td>\n      <td>1190.421664</td>\n      <td>3855.748483</td>\n      <td>1234.784032</td>\n      <td>2465.147016</td>\n      <td>1650.532106</td>\n      <td>1907.994515</td>\n      <td>452.354381</td>\n    </tr>\n    <tr>\n      <th>23</th>\n      <td>4606.897685</td>\n      <td>944.593485</td>\n      <td>2998.215449</td>\n      <td>901.125388</td>\n      <td>2217.959543</td>\n      <td>1636.683547</td>\n      <td>1269.629303</td>\n      <td>298.668925</td>\n    </tr>\n    <tr>\n      <th>24</th>\n      <td>5092.113151</td>\n      <td>868.318856</td>\n      <td>3469.779784</td>\n      <td>958.547547</td>\n      <td>2709.421604</td>\n      <td>1835.838177</td>\n      <td>1547.432815</td>\n      <td>310.965717</td>\n    </tr>\n    <tr>\n      <th>25</th>\n      <td>4786.584412</td>\n      <td>1137.167751</td>\n      <td>2970.480074</td>\n      <td>838.637593</td>\n      <td>1987.518113</td>\n      <td>550.937507</td>\n      <td>589.900149</td>\n      <td>363.571757</td>\n    </tr>\n    <tr>\n      <th>26</th>\n      <td>4819.536998</td>\n      <td>1156.587008</td>\n      <td>3857.579570</td>\n      <td>1179.286012</td>\n      <td>2194.024919</td>\n      <td>1756.622731</td>\n      <td>2078.396199</td>\n      <td>375.586350</td>\n    </tr>\n    <tr>\n      <th>27</th>\n      <td>4768.810249</td>\n      <td>1140.583082</td>\n      <td>3557.272880</td>\n      <td>1045.521727</td>\n      <td>2020.382321</td>\n      <td>1728.553293</td>\n      <td>1544.687221</td>\n      <td>369.137524</td>\n    </tr>\n    <tr>\n      <th>28</th>\n      <td>5224.460392</td>\n      <td>1301.387535</td>\n      <td>3618.475668</td>\n      <td>1073.368348</td>\n      <td>3121.005342</td>\n      <td>1521.316673</td>\n      <td>1975.730557</td>\n      <td>448.483673</td>\n    </tr>\n    <tr>\n      <th>29</th>\n      <td>4816.340569</td>\n      <td>1263.859216</td>\n      <td>3348.805117</td>\n      <td>1037.227228</td>\n      <td>2921.992021</td>\n      <td>1760.589810</td>\n      <td>1906.280013</td>\n      <td>450.727297</td>\n    </tr>\n    <tr>\n      <th>30</th>\n      <td>5225.911434</td>\n      <td>1138.881097</td>\n      <td>3304.662859</td>\n      <td>1030.976198</td>\n      <td>2318.879752</td>\n      <td>1488.398688</td>\n      <td>1611.661532</td>\n      <td>392.690342</td>\n    </tr>\n  </tbody>\n</table>\n</div>"
     },
     "execution_count": 4,
     "metadata": {},
     "output_type": "execute_result"
    }
   ],
   "source": [
    "df = pd.read_csv(\"D:\\M\\python\\主成分_因子分析\\居民消费.csv\",index_col=0).reset_index(drop=True)\n",
    "df"
   ],
   "metadata": {
    "collapsed": false,
    "pycharm": {
     "name": "#%%\n"
    }
   }
  },
  {
   "cell_type": "markdown",
   "source": [
    "# 3.充分性检验\n"
   ],
   "metadata": {
    "collapsed": false,
    "pycharm": {
     "name": "#%% md\n"
    }
   }
  },
  {
   "cell_type": "markdown",
   "source": [
    "## 3.1 Bartlett's球状检验\n",
    " 检验总体变量的相关矩阵是否是单位阵（相关系数矩阵对角线的所有元素均为1,所有非对角线上的元素均为零）；即检验各个变量是否各自独立。\n",
    "        如果不是单位矩阵，说明原变量之间存在相关性，可以进行因子分子；反之，原变量之间不存在相关性，数据不适合进行主成分分析"
   ],
   "metadata": {
    "collapsed": false,
    "pycharm": {
     "name": "#%% md\n"
    }
   }
  },
  {
   "cell_type": "code",
   "execution_count": 5,
   "outputs": [
    {
     "data": {
      "text/plain": "(274.6662110192522, 2.492399236510257e-42)"
     },
     "execution_count": 5,
     "metadata": {},
     "output_type": "execute_result"
    }
   ],
   "source": [
    "from factor_analyzer.factor_analyzer import calculate_bartlett_sphericity\n",
    "chi_square_value, p_value = calculate_bartlett_sphericity(df)\n",
    "chi_square_value, p_value"
   ],
   "metadata": {
    "collapsed": false,
    "pycharm": {
     "name": "#%%\n"
    }
   }
  },
  {
   "cell_type": "markdown",
   "source": [
    "### p值<0.05时，说明各变量间具有相关性，因子分析有效。"
   ],
   "metadata": {
    "collapsed": false,
    "pycharm": {
     "name": "#%% md\n"
    }
   }
  },
  {
   "cell_type": "markdown",
   "source": [
    "## 3.2 KMO检验\n",
    "检查变量间的相关性和偏相关性，取值在0-1之间；KOM统计量越接近1，变量间的相关性越强，偏\n",
    "关性越弱，因子分析的效果越好。\n",
    "通常取值从0.6开始进行因子分析"
   ],
   "metadata": {
    "collapsed": false,
    "pycharm": {
     "name": "#%% md\n"
    }
   }
  },
  {
   "cell_type": "code",
   "execution_count": 6,
   "outputs": [
    {
     "data": {
      "text/plain": "0.8578568010059687"
     },
     "execution_count": 6,
     "metadata": {},
     "output_type": "execute_result"
    }
   ],
   "source": [
    "#KMO检验\n",
    "from factor_analyzer.factor_analyzer import calculate_kmo\n",
    "kmo_all,kmo_model=calculate_kmo(df)\n",
    "kmo_model"
   ],
   "metadata": {
    "collapsed": false,
    "pycharm": {
     "name": "#%%\n"
    }
   }
  },
  {
   "cell_type": "markdown",
   "source": [
    "### 通过结果可以看到KMO大于0.6，也说明变量之间存在相关性，可以进行分析"
   ],
   "metadata": {
    "collapsed": false,
    "pycharm": {
     "name": "#%% md\n"
    }
   }
  },
  {
   "cell_type": "markdown",
   "source": [
    "# 4.选择因子个数\n",
    "方法：计算相关矩阵的特征值，进行降序排列"
   ],
   "metadata": {
    "collapsed": false,
    "pycharm": {
     "name": "#%% md\n"
    }
   }
  },
  {
   "cell_type": "markdown",
   "source": [
    "## 4.1 特征值和特征向量"
   ],
   "metadata": {
    "collapsed": false,
    "pycharm": {
     "name": "#%% md\n"
    }
   }
  },
  {
   "cell_type": "code",
   "execution_count": 7,
   "outputs": [
    {
     "name": "stdout",
     "output_type": "stream",
     "text": [
      "[6.24027878 0.7422117  0.37445227 0.22328694 0.17205645 0.11680581\n",
      " 0.08074068 0.05016738] [ 6.16761972e+00  6.45617898e-01  2.80238034e-01  1.54241615e-01\n",
      "  1.05841630e-01  3.25751365e-02  3.06836805e-03 -2.19576487e-07]\n"
     ]
    }
   ],
   "source": [
    "faa = FactorAnalyzer(25,rotation=None)\n",
    "faa.fit(df)\n",
    "\n",
    "# 得到特征值ev、特征向量v\n",
    "ev,v=faa.get_eigenvalues()\n",
    "print(ev,v)"
   ],
   "metadata": {
    "collapsed": false,
    "pycharm": {
     "name": "#%%\n"
    }
   }
  },
  {
   "cell_type": "markdown",
   "source": [
    "## 4.2 可视化展示\n",
    "将特征值和因子个数的变化绘制成图形"
   ],
   "metadata": {
    "collapsed": false,
    "pycharm": {
     "name": "#%% md\n"
    }
   }
  },
  {
   "cell_type": "code",
   "execution_count": 8,
   "outputs": [
    {
     "data": {
      "text/plain": "<Figure size 640x480 with 1 Axes>",
      "image/png": "[encoded data removed]"
     },
     "metadata": {},
     "output_type": "display_data"
    }
   ],
   "source": [
    " # 同样的数据绘制散点图和折线图\n",
    "plt.scatter(range(1, df.shape[1] + 1), ev)\n",
    "plt.plot(range(1, df.shape[1] + 1), ev)\n",
    "\n",
    "# 显示图的标题和xy轴的名字\n",
    "# 最好使用英文，中文可能乱码\n",
    "plt.title(\"Scree Plot\")\n",
    "plt.xlabel(\"Factors\")\n",
    "plt.ylabel(\"Eigenvalue\")\n",
    "\n",
    "plt.grid()  # 显示网格\n",
    "plt.show()  # 显示图形"
   ],
   "metadata": {
    "collapsed": false,
    "pycharm": {
     "name": "#%%\n"
    }
   }
  },
  {
   "cell_type": "markdown",
   "source": [
    " ### 从上面的图形中，我们明确地看到：选择2或3个因子就可以了"
   ],
   "metadata": {
    "collapsed": false
   }
  },
  {
   "cell_type": "markdown",
   "source": [
    "# 5.因子旋转"
   ],
   "metadata": {
    "collapsed": false,
    "pycharm": {
     "name": "#%% md\n"
    }
   }
  },
  {
   "cell_type": "markdown",
   "source": [
    "## 5.1 建立因子分析模型\n",
    "在这里选择，最大方差化因子旋转"
   ],
   "metadata": {
    "collapsed": false
   }
  },
  {
   "cell_type": "code",
   "source": [
    "# 选择方式： varimax 方差最大化\n",
    "# 选择固定因子为 2 个\n",
    "faa_two = FactorAnalyzer(2,rotation='varimax')\n",
    "faa_two.fit(df)"
   ],
   "metadata": {
    "collapsed": false,
    "pycharm": {
     "name": "#%%\n"
    }
   },
   "execution_count": 9,
   "outputs": [
    {
     "data": {
      "text/plain": "FactorAnalyzer(n_factors=2, rotation='varimax', rotation_kwargs={})",
      "text/html": "<style>#sk-container-id-1 {color: black;background-color: white;}#sk-container-id-1 pre{padding: 0;}#sk-container-id-1 div.sk-toggleable {background-color: white;}#sk-container-id-1 label.sk-toggleable__label {cursor: pointer;display: block;width: 100%;margin-bottom: 0;padding: 0.3em;box-sizing: border-box;text-align: center;}#sk-container-id-1 label.sk-toggleable__label-arrow:before {content: \"▸\";float: left;margin-right: 0.25em;color: #696969;}#sk-container-id-1 label.sk-toggleable__label-arrow:hover:before {color: black;}#sk-container-id-1 div.sk-estimator:hover label.sk-toggleable__label-arrow:before {color: black;}#sk-container-id-1 div.sk-toggleable__content {max-height: 0;max-width: 0;overflow: hidden;text-align: left;background-color: #f0f8ff;}#sk-container-id-1 div.sk-toggleable__content pre {margin: 0.2em;color: black;border-radius: 0.25em;background-color: #f0f8ff;}#sk-container-id-1 input.sk-toggleable__control:checked~div.sk-toggleable__content {max-height: 200px;max-width: 100%;overflow: auto;}#sk-container-id-1 input.sk-toggleable__control:checked~label.sk-toggleable__label-arrow:before {content: \"▾\";}#sk-container-id-1 div.sk-estimator input.sk-toggleable__control:checked~label.sk-toggleable__label {background-color: #d4ebff;}#sk-container-id-1 div.sk-label input.sk-toggleable__control:checked~label.sk-toggleable__label {background-color: #d4ebff;}#sk-container-id-1 input.sk-hidden--visually {border: 0;clip: rect(1px 1px 1px 1px);clip: rect(1px, 1px, 1px, 1px);height: 1px;margin: -1px;overflow: hidden;padding: 0;position: absolute;width: 1px;}#sk-container-id-1 div.sk-estimator {font-family: monospace;background-color: #f0f8ff;border: 1px dotted black;border-radius: 0.25em;box-sizing: border-box;margin-bottom: 0.5em;}#sk-container-id-1 div.sk-estimator:hover {background-color: #d4ebff;}#sk-container-id-1 div.sk-parallel-item::after {content: \"\";width: 100%;border-bottom: 1px solid gray;flex-grow: 1;}#sk-container-id-1 div.sk-label:hover label.sk-toggleable__label {background-color: #d4ebff;}#sk-container-id-1 div.sk-serial::before {content: \"\";position: absolute;border-left: 1px solid gray;box-sizing: border-box;top: 0;bottom: 0;left: 50%;z-index: 0;}#sk-container-id-1 div.sk-serial {display: flex;flex-direction: column;align-items: center;background-color: white;padding-right: 0.2em;padding-left: 0.2em;position: relative;}#sk-container-id-1 div.sk-item {position: relative;z-index: 1;}#sk-container-id-1 div.sk-parallel {display: flex;align-items: stretch;justify-content: center;background-color: white;position: relative;}#sk-container-id-1 div.sk-item::before, #sk-container-id-1 div.sk-parallel-item::before {content: \"\";position: absolute;border-left: 1px solid gray;box-sizing: border-box;top: 0;bottom: 0;left: 50%;z-index: -1;}#sk-container-id-1 div.sk-parallel-item {display: flex;flex-direction: column;z-index: 1;position: relative;background-color: white;}#sk-container-id-1 div.sk-parallel-item:first-child::after {align-self: flex-end;width: 50%;}#sk-container-id-1 div.sk-parallel-item:last-child::after {align-self: flex-start;width: 50%;}#sk-container-id-1 div.sk-parallel-item:only-child::after {width: 0;}#sk-container-id-1 div.sk-dashed-wrapped {border: 1px dashed gray;margin: 0 0.4em 0.5em 0.4em;box-sizing: border-box;padding-bottom: 0.4em;background-color: white;}#sk-container-id-1 div.sk-label label {font-family: monospace;font-weight: bold;display: inline-block;line-height: 1.2em;}#sk-container-id-1 div.sk-label-container {text-align: center;}#sk-container-id-1 div.sk-container {/* jupyter's `normalize.less` sets `[hidden] { display: none; }` but bootstrap.min.css set `[hidden] { display: none !important; }` so we also need the `!important` here to be able to override the default hidden behavior on the sphinx rendered scikit-learn.org. See: https://github.com/scikit-learn/scikit-learn/issues/21755 */display: inline-block !important;position: relative;}#sk-container-id-1 div.sk-text-repr-fallback {display: none;}</style><div id=\"sk-container-id-1\" class=\"sk-top-container\"><div class=\"sk-text-repr-fallback\"><pre>FactorAnalyzer(n_factors=2, rotation=&#x27;varimax&#x27;, rotation_kwargs={})</pre><b>In a Jupyter environment, please rerun this cell to show the HTML representation or trust the notebook. <br />On GitHub, the HTML representation is unable to render, please try loading this page with nbviewer.org.</b></div><div class=\"sk-container\" hidden><div class=\"sk-item\"><div class=\"sk-estimator sk-toggleable\"><input class=\"sk-toggleable__control sk-hidden--visually\" id=\"sk-estimator-id-1\" type=\"checkbox\" checked><label for=\"sk-estimator-id-1\" class=\"sk-toggleable__label sk-toggleable__label-arrow\">FactorAnalyzer</label><div class=\"sk-toggleable__content\"><pre>FactorAnalyzer(n_factors=2, rotation=&#x27;varimax&#x27;, rotation_kwargs={})</pre></div></div></div></div></div>"
     },
     "execution_count": 9,
     "metadata": {},
     "output_type": "execute_result"
    }
   ]
  },
  {
   "cell_type": "markdown",
   "source": [
    "## 5.2 查看因子方差-get_communalities()\n",
    "查看公因子方差"
   ],
   "metadata": {
    "collapsed": false,
    "pycharm": {
     "name": "#%% md\n"
    }
   }
  },
  {
   "cell_type": "code",
   "execution_count": 10,
   "outputs": [
    {
     "data": {
      "text/plain": "array([0.88903401, 0.86693282, 0.83368161, 0.91170989, 0.81912841,\n       0.77173118, 0.6984176 , 0.87219153])"
     },
     "execution_count": 10,
     "metadata": {},
     "output_type": "execute_result"
    }
   ],
   "source": [
    "# 公因子方差\n",
    "faa_two.get_communalities()"
   ],
   "metadata": {
    "collapsed": false,
    "pycharm": {
     "name": "#%%\n"
    }
   }
  },
  {
   "cell_type": "markdown",
   "source": [
    "查看每个变量的公因子方差数据"
   ],
   "metadata": {
    "collapsed": false,
    "pycharm": {
     "name": "#%% md\n"
    }
   }
  },
  {
   "cell_type": "code",
   "execution_count": 11,
   "outputs": [
    {
     "data": {
      "text/plain": "             0\n食品烟酒  0.889034\n衣着    0.866933\n居住    0.833682\n生活用品  0.911710\n交通通信  0.819128\n教育文化  0.771731\n医疗保健  0.698418\n其他用品  0.872192",
      "text/html": "<div>\n<style scoped>\n    .dataframe tbody tr th:only-of-type {\n        vertical-align: middle;\n    }\n\n    .dataframe tbody tr th {\n        vertical-align: top;\n    }\n\n    .dataframe thead th {\n        text-align: right;\n    }\n</style>\n<table border=\"1\" class=\"dataframe\">\n  <thead>\n    <tr style=\"text-align: right;\">\n      <th></th>\n      <th>0</th>\n    </tr>\n  </thead>\n  <tbody>\n    <tr>\n      <th>食品烟酒</th>\n      <td>0.889034</td>\n    </tr>\n    <tr>\n      <th>衣着</th>\n      <td>0.866933</td>\n    </tr>\n    <tr>\n      <th>居住</th>\n      <td>0.833682</td>\n    </tr>\n    <tr>\n      <th>生活用品</th>\n      <td>0.911710</td>\n    </tr>\n    <tr>\n      <th>交通通信</th>\n      <td>0.819128</td>\n    </tr>\n    <tr>\n      <th>教育文化</th>\n      <td>0.771731</td>\n    </tr>\n    <tr>\n      <th>医疗保健</th>\n      <td>0.698418</td>\n    </tr>\n    <tr>\n      <th>其他用品</th>\n      <td>0.872192</td>\n    </tr>\n  </tbody>\n</table>\n</div>"
     },
     "execution_count": 11,
     "metadata": {},
     "output_type": "execute_result"
    }
   ],
   "source": [
    "pd.DataFrame(faa_two.get_communalities(),index=df.columns)"
   ],
   "metadata": {
    "collapsed": false,
    "pycharm": {
     "name": "#%%\n"
    }
   }
  },
  {
   "cell_type": "markdown",
   "source": [
    "## 5.3 查看旋转后的特征值"
   ],
   "metadata": {
    "collapsed": false,
    "pycharm": {
     "name": "#%% md\n"
    }
   }
  },
  {
   "cell_type": "code",
   "execution_count": 12,
   "outputs": [
    {
     "data": {
      "text/plain": "(array([6.24027878, 0.7422117 , 0.37445227, 0.22328694, 0.17205645,\n        0.11680581, 0.08074068, 0.05016738]),\n array([ 6.07639225,  0.58643718,  0.16088909,  0.05524202,  0.01314781,\n        -0.03553787, -0.06557487, -0.12816856]))"
     },
     "execution_count": 12,
     "metadata": {},
     "output_type": "execute_result"
    }
   ],
   "source": [
    "faa_two.get_eigenvalues()"
   ],
   "metadata": {
    "collapsed": false,
    "pycharm": {
     "name": "#%%\n"
    }
   }
  },
  {
   "cell_type": "code",
   "execution_count": 13,
   "outputs": [
    {
     "data": {
      "text/plain": "          0         1         2         3         4         5         6  \\\n0  6.240279  0.742212  0.374452  0.223287  0.172056  0.116806  0.080741   \n1  6.076392  0.586437  0.160889  0.055242  0.013148 -0.035538 -0.065575   \n\n          7  \n0  0.050167  \n1 -0.128169  ",
      "text/html": "<div>\n<style scoped>\n    .dataframe tbody tr th:only-of-type {\n        vertical-align: middle;\n    }\n\n    .dataframe tbody tr th {\n        vertical-align: top;\n    }\n\n    .dataframe thead th {\n        text-align: right;\n    }\n</style>\n<table border=\"1\" class=\"dataframe\">\n  <thead>\n    <tr style=\"text-align: right;\">\n      <th></th>\n      <th>0</th>\n      <th>1</th>\n      <th>2</th>\n      <th>3</th>\n      <th>4</th>\n      <th>5</th>\n      <th>6</th>\n      <th>7</th>\n    </tr>\n  </thead>\n  <tbody>\n    <tr>\n      <th>0</th>\n      <td>6.240279</td>\n      <td>0.742212</td>\n      <td>0.374452</td>\n      <td>0.223287</td>\n      <td>0.172056</td>\n      <td>0.116806</td>\n      <td>0.080741</td>\n      <td>0.050167</td>\n    </tr>\n    <tr>\n      <th>1</th>\n      <td>6.076392</td>\n      <td>0.586437</td>\n      <td>0.160889</td>\n      <td>0.055242</td>\n      <td>0.013148</td>\n      <td>-0.035538</td>\n      <td>-0.065575</td>\n      <td>-0.128169</td>\n    </tr>\n  </tbody>\n</table>\n</div>"
     },
     "execution_count": 13,
     "metadata": {},
     "output_type": "execute_result"
    }
   ],
   "source": [
    "pd.DataFrame(faa_two.get_eigenvalues())"
   ],
   "metadata": {
    "collapsed": false,
    "pycharm": {
     "name": "#%%\n"
    }
   }
  },
  {
   "cell_type": "markdown",
   "source": [
    " ## 5.4 查看成分矩阵\n",
    " 查看它们构成的成分矩阵"
   ],
   "metadata": {
    "collapsed": false,
    "pycharm": {
     "name": "#%% md\n"
    }
   }
  },
  {
   "cell_type": "code",
   "execution_count": 14,
   "outputs": [
    {
     "data": {
      "text/plain": "array([[0.9196057 , 0.20822914],\n       [0.24877304, 0.89724288],\n       [0.77799582, 0.47791643],\n       [0.75213378, 0.58822162],\n       [0.7497348 , 0.50697746],\n       [0.77452924, 0.41453062],\n       [0.46300493, 0.69573273],\n       [0.65683016, 0.66390186]])"
     },
     "execution_count": 14,
     "metadata": {},
     "output_type": "execute_result"
    }
   ],
   "source": [
    "# 变量个数*因子个数\n",
    "faa_two.loadings_"
   ],
   "metadata": {
    "collapsed": false,
    "pycharm": {
     "name": "#%%\n"
    }
   }
  },
  {
   "cell_type": "markdown",
   "source": [
    "如果转成DataFrame格式，index就是我们的变量，columns就是指定的因子factor。转DataFrame格式后的数据："
   ],
   "metadata": {
    "collapsed": false,
    "pycharm": {
     "name": "#%% md\n"
    }
   }
  },
  {
   "cell_type": "code",
   "execution_count": 15,
   "outputs": [
    {
     "data": {
      "text/plain": "             0         1\n食品烟酒  0.919606  0.208229\n衣着    0.248773  0.897243\n居住    0.777996  0.477916\n生活用品  0.752134  0.588222\n交通通信  0.749735  0.506977\n教育文化  0.774529  0.414531\n医疗保健  0.463005  0.695733\n其他用品  0.656830  0.663902",
      "text/html": "<div>\n<style scoped>\n    .dataframe tbody tr th:only-of-type {\n        vertical-align: middle;\n    }\n\n    .dataframe tbody tr th {\n        vertical-align: top;\n    }\n\n    .dataframe thead th {\n        text-align: right;\n    }\n</style>\n<table border=\"1\" class=\"dataframe\">\n  <thead>\n    <tr style=\"text-align: right;\">\n      <th></th>\n      <th>0</th>\n      <th>1</th>\n    </tr>\n  </thead>\n  <tbody>\n    <tr>\n      <th>食品烟酒</th>\n      <td>0.919606</td>\n      <td>0.208229</td>\n    </tr>\n    <tr>\n      <th>衣着</th>\n      <td>0.248773</td>\n      <td>0.897243</td>\n    </tr>\n    <tr>\n      <th>居住</th>\n      <td>0.777996</td>\n      <td>0.477916</td>\n    </tr>\n    <tr>\n      <th>生活用品</th>\n      <td>0.752134</td>\n      <td>0.588222</td>\n    </tr>\n    <tr>\n      <th>交通通信</th>\n      <td>0.749735</td>\n      <td>0.506977</td>\n    </tr>\n    <tr>\n      <th>教育文化</th>\n      <td>0.774529</td>\n      <td>0.414531</td>\n    </tr>\n    <tr>\n      <th>医疗保健</th>\n      <td>0.463005</td>\n      <td>0.695733</td>\n    </tr>\n    <tr>\n      <th>其他用品</th>\n      <td>0.656830</td>\n      <td>0.663902</td>\n    </tr>\n  </tbody>\n</table>\n</div>"
     },
     "execution_count": 15,
     "metadata": {},
     "output_type": "execute_result"
    }
   ],
   "source": [
    "pd.DataFrame(faa_two.loadings_,index=df.columns)"
   ],
   "metadata": {
    "collapsed": false,
    "pycharm": {
     "name": "#%%\n"
    }
   }
  },
  {
   "cell_type": "markdown",
   "source": [
    "## 5.5 查看因子贡献率\n",
    "通过理论部分的解释，我们发现每个因子都对变量有一定的贡献，存在某个贡献度的值，在这里查看3个和贡献度相关的指标：\n",
    "总方差贡献：variance (numpy array) – The factor variances\n",
    "方差贡献率：proportional_variance (numpy array) – The proportional factor variances\n",
    "累积方差贡献率：cumulative_variances (numpy array) – The cumulative factor variances"
   ],
   "metadata": {
    "collapsed": false,
    "pycharm": {
     "name": "#%% md\n"
    }
   }
  },
  {
   "cell_type": "code",
   "execution_count": 16,
   "outputs": [
    {
     "data": {
      "text/plain": "(array([3.88634262, 2.77648443]),\n array([0.48579283, 0.34706055]),\n array([0.48579283, 0.83285338]))"
     },
     "execution_count": 16,
     "metadata": {},
     "output_type": "execute_result"
    }
   ],
   "source": [
    "faa_two.get_factor_variance()"
   ],
   "metadata": {
    "collapsed": false,
    "pycharm": {
     "name": "#%%\n"
    }
   }
  },
  {
   "cell_type": "markdown",
   "source": [
    " # 6.隐藏变量可视化\n",
    "为了更直观地观察每个隐藏变量和哪些特征的关系比较大，进行可视化展示，为了方便取上面相关系数的绝对值："
   ],
   "metadata": {
    "collapsed": false,
    "pycharm": {
     "name": "#%% md\n"
    }
   }
  },
  {
   "cell_type": "code",
   "execution_count": 17,
   "outputs": [
    {
     "name": "stdout",
     "output_type": "stream",
     "text": [
      "             0         1\n",
      "食品烟酒  0.919606  0.208229\n",
      "衣着    0.248773  0.897243\n",
      "居住    0.777996  0.477916\n",
      "生活用品  0.752134  0.588222\n",
      "交通通信  0.749735  0.506977\n",
      "教育文化  0.774529  0.414531\n",
      "医疗保健  0.463005  0.695733\n",
      "其他用品  0.656830  0.663902\n"
     ]
    }
   ],
   "source": [
    "df1 = pd.DataFrame(np.abs(faa_two.loadings_),index=df.columns)\n",
    "print(df1)"
   ],
   "metadata": {
    "collapsed": false,
    "pycharm": {
     "name": "#%%\n"
    }
   }
  },
  {
   "cell_type": "markdown",
   "source": [
    "热力图绘制系数矩阵"
   ],
   "metadata": {
    "collapsed": false,
    "pycharm": {
     "name": "#%% md\n"
    }
   }
  },
  {
   "cell_type": "code",
   "execution_count": 20,
   "outputs": [
    {
     "data": {
      "text/plain": "<Figure size 1400x1400 with 2 Axes>",
      "image/png": "[encoded data removed]"
     },
     "metadata": {},
     "output_type": "display_data"
    }
   ],
   "source": [
    "# 绘图\n",
    "\n",
    "plt.figure(figsize = (14,14))\n",
    "ax = sns.heatmap(df1, annot=True, cmap=\"BuPu\")\n",
    "\n",
    "# 设置y轴字体大小\n",
    "ax.yaxis.set_tick_params(labelsize=15)\n",
    "plt.title(\"Factor Analysis\", fontsize=\"xx-large\")\n",
    "\n",
    "# 设置y轴标签\n",
    "plt.ylabel(\"Sepal Width\", fontsize=\"xx-large\")\n",
    "# 显示图片\n",
    "plt.show()\n",
    "\n",
    "# 保存图片\n",
    "# plt.savefig(\"factorAnalysis\", dpi=500)"
   ],
   "metadata": {
    "collapsed": false,
    "pycharm": {
     "name": "#%%\n"
    }
   }
  },
  {
   "cell_type": "markdown",
   "source": [
    "# 7.转成新变量\n",
    "上面我们已经知道了2个因子比较合适，可以将原始数据转成2个新的特征，具体转换方式为"
   ],
   "metadata": {
    "collapsed": false,
    "pycharm": {
     "name": "#%% md\n"
    }
   }
  },
  {
   "cell_type": "code",
   "execution_count": 21,
   "outputs": [
    {
     "data": {
      "text/plain": "array([[ 1.40654509,  2.07424457],\n       [ 0.7699732 ,  1.46264895],\n       [-0.64094201,  0.19856785],\n       [-1.21907618,  0.23180561],\n       [-0.72928975,  0.78994677],\n       [-0.43569521,  0.90418181],\n       [-0.93716465,  0.43974781],\n       [-0.91257723,  0.10415935],\n       [ 2.76624641,  1.34810217],\n       [ 0.60271826,  0.53155701],\n       [ 1.2973717 ,  1.0485455 ],\n       [-0.19484721, -0.46659452],\n       [ 0.99804522, -0.75434968],\n       [-0.1492984 , -0.95927593],\n       [-0.10738477,  0.74598787],\n       [-1.03338872,  0.33984604],\n       [-0.18912754, -0.43473191],\n       [ 0.14315307, -0.02247447],\n       [ 2.15826576, -1.23529437],\n       [ 0.3082692 , -2.00936759],\n       [ 0.88649906, -2.30056983],\n       [ 0.23196803,  0.41805437],\n       [ 0.21738979, -0.45622898],\n       [-0.64044041, -0.78510483],\n       [-0.12349301, -1.0842902 ],\n       [-1.18114713, -0.44451271],\n       [-0.59603616,  0.06341618],\n       [-0.78426672, -0.06307448],\n       [-0.58231412,  0.23506584],\n       [-0.73437563,  0.32434544],\n       [-0.59557992, -0.24435361]])"
     },
     "execution_count": 21,
     "metadata": {},
     "output_type": "execute_result"
    }
   ],
   "source": [
    "faa_two.transform(df)"
   ],
   "metadata": {
    "collapsed": false,
    "pycharm": {
     "name": "#%%\n"
    }
   }
  },
  {
   "cell_type": "markdown",
   "source": [
    "转成DataFrame格式后数据展示效果更好："
   ],
   "metadata": {
    "collapsed": false,
    "pycharm": {
     "name": "#%% md\n"
    }
   }
  },
  {
   "cell_type": "code",
   "execution_count": 22,
   "outputs": [
    {
     "name": "stdout",
     "output_type": "stream",
     "text": [
      "           0         1\n",
      "0   1.406545  2.074245\n",
      "1   0.769973  1.462649\n",
      "2  -0.640942  0.198568\n",
      "3  -1.219076  0.231806\n",
      "4  -0.729290  0.789947\n",
      "5  -0.435695  0.904182\n",
      "6  -0.937165  0.439748\n",
      "7  -0.912577  0.104159\n",
      "8   2.766246  1.348102\n",
      "9   0.602718  0.531557\n",
      "10  1.297372  1.048545\n",
      "11 -0.194847 -0.466595\n",
      "12  0.998045 -0.754350\n",
      "13 -0.149298 -0.959276\n",
      "14 -0.107385  0.745988\n",
      "15 -1.033389  0.339846\n",
      "16 -0.189128 -0.434732\n",
      "17  0.143153 -0.022474\n",
      "18  2.158266 -1.235294\n",
      "19  0.308269 -2.009368\n",
      "20  0.886499 -2.300570\n",
      "21  0.231968  0.418054\n",
      "22  0.217390 -0.456229\n",
      "23 -0.640440 -0.785105\n",
      "24 -0.123493 -1.084290\n",
      "25 -1.181147 -0.444513\n",
      "26 -0.596036  0.063416\n",
      "27 -0.784267 -0.063074\n",
      "28 -0.582314  0.235066\n",
      "29 -0.734376  0.324345\n",
      "30 -0.595580 -0.244354\n"
     ]
    }
   ],
   "source": [
    "df2 = pd.DataFrame(faa_two.transform(df))\n",
    "print(df2)"
   ],
   "metadata": {
    "collapsed": false,
    "pycharm": {
     "name": "#%%\n"
    }
   }
  }
 ],
 "metadata": {
  "kernelspec": {
   "display_name": "Python 3",
   "language": "python",
   "name": "python3"
  },
  "language_info": {
   "codemirror_mode": {
    "name": "ipython",
    "version": 2
   },
   "file_extension": ".py",
   "mimetype": "text/x-python",
   "name": "python",
   "nbconvert_exporter": "python",
   "pygments_lexer": "ipython2",
   "version": "2.7.6"
  }
 },
 "nbformat": 4,
 "nbformat_minor": 0
}