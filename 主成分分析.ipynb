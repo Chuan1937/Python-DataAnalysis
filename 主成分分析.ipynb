{
 "cells": [
  {
   "cell_type": "markdown",
   "metadata": {
    "collapsed": true,
    "pycharm": {
     "is_executing": true,
     "name": "#%% md\n"
    }
   },
   "source": [
    "1.主成分分析的步骤：\n",
    "        1.根据研究问题选取初始分析变量；\n",
    "        2.根据初始变量特性判断由协方差阵求主成分还是由相关阵求主成分（数据标准化的话需要用系数相关矩阵，数据未标准化则用协方差阵）；\n",
    "        3.求协差阵或相关阵的特征根与相应标准特征向量；\n",
    "        4.判断是否存在明显的多重共线性，若存在，则回到第一步；\n",
    "        5.主成分分析的适合性检验\n",
    "        6.得到主成分的表达式并确定主成分个数，选取主成分；\n",
    "        7.结合主成分对研究问题进行分析并深入研究。\n"
   ]
  },
  {
   "cell_type": "markdown",
   "source": [
    "2.部分说明\n",
    "    一组数据是否可以用主成分分析，必须做适合性检验。可以用球形检验和KMO统计量检验。\n",
    " （1）球形检验（Bartlett)\n",
    "        球形检验的假设：\n",
    "                H0：相关系数矩阵为单位阵（即变量不相关）\n",
    "                H1：相关系数矩阵不是单位阵（即变量间有相关关系）\n"
   ],
   "metadata": {
    "collapsed": false,
    "pycharm": {
     "name": "#%% md\n"
    }
   }
  },
  {
   "cell_type": "markdown",
   "source": [
    "（2）KMO（Kaiser-Meyer-Olkin)统计量\n",
    "        KMO统计量比较样本相关系数与样本偏相关系数，它用于检验样本是否适于作主成分分析。\n",
    "        KMO的值在0,1之间，该值越大，则样本数据越适合作主成分分析和因子分析。一般要求该值大于0.5，方可作主成分分析或者相关分析。\n",
    "        Kaiser在1974年给出了经验原则：\n",
    "                0.9以上       适合性很好\n",
    "                0.8~0.9        适合性良好\n",
    "                0.7~0.8        适合性中等\n",
    "                0.6~0.7        适合性一般\n",
    "                0.5~0.6        适合性不好\n",
    "                0.5以下       不能接受的"
   ],
   "metadata": {
    "collapsed": false,
    "pycharm": {
     "name": "#%% md\n"
    }
   }
  },
  {
   "cell_type": "markdown",
   "source": [
    "# 1.导入库"
   ],
   "metadata": {
    "collapsed": false
   }
  },
  {
   "cell_type": "code",
   "execution_count": 2,
   "outputs": [],
   "source": [
    "# 数据处理\n",
    "import pandas as pd\n",
    "import numpy as np\n",
    "\n",
    "# 绘图\n",
    "import seaborn as sns\n",
    "import matplotlib.pyplot as plt"
   ],
   "metadata": {
    "collapsed": false,
    "pycharm": {
     "name": "#%%\n"
    }
   }
  },
  {
   "cell_type": "markdown",
   "source": [
    "# 2. 数据导入"
   ],
   "metadata": {
    "collapsed": false
   }
  },
  {
   "cell_type": "code",
   "execution_count": 2,
   "outputs": [
    {
     "data": {
      "text/plain": "         x1      x2       x3      x4      x5      x6      x7      x8\n0    8070.4  2643.0  12128.0  2511.0  5077.9  4054.7  2629.8  1140.6\n1    8679.6  2114.0   6187.3  1663.8  3991.9  2643.6  2172.2   892.2\n2    4991.6  1614.4   4483.2  1351.1  2664.1  1991.3  1549.9   460.4\n3    3862.8  1603.0   3633.8   951.6  2401.0  2439.0  1651.6   450.1\n4    6445.8  2543.3   4006.1  1565.1  3045.2  2598.9  1840.2   699.9\n5    6901.6  2321.3   4632.8  1558.2  3447.0  3018.5  2313.6   802.8\n6    4975.7  1819.0   3612.0  1107.1  2691.0  2367.5  2059.2   534.9\n7    5019.3  1804.4   3352.4  1018.9  2462.9  2011.5  2007.5   468.3\n8   10014.8  1834.8  13216.0  1868.2  4447.5  4533.5  2839.9  1102.1\n9    7389.2  1809.5   6140.6  1616.2  3952.4  3163.9  1624.5   736.6\n10   8467.3  1903.9   7385.4  1420.7  5100.9  3452.3  1691.9   645.3\n11   6381.7  1491.0   3931.2  1118.4  2748.4  2233.3  1269.3   432.9\n12   8299.6  1443.5   6530.5  1393.4  3205.7  2461.5  1178.5   492.8\n13   5667.5  1472.2   3915.9  1028.6  2310.6  1963.9   887.4   449.6\n14   5929.4  1977.7   4473.1  1576.5  3002.5  2399.3  1610.0   526.9\n15   5067.7  1746.6   3753.4  1430.2  1993.8  2078.8  1524.5   492.8\n16   6294.3  1557.4   4176.7  1163.8  2391.9  2228.4  1792.0   435.6\n17   6407.7  1666.4   3918.7  1384.1  2837.1  3406.1  1362.6   437.4\n18   9421.6  1583.4   6410.4  1721.9  4198.1  3103.4  1304.5   870.1\n19   5937.2   886.3   3784.3  1032.8  2259.8  2003.0  1065.9   299.3\n20   7419.7   859.6   3527.7   954.0  2582.3  1931.3  1399.8   341.0\n21   6883.9  1939.2   3801.1  1466.0  2573.9  2232.4  1700.0   434.4\n22   7118.4  1767.5   3756.5  1311.1  2697.6  2008.4  1423.4   577.1\n23   6010.3  1525.4   3793.1  1270.2  2684.4  2493.5  1050.1   374.6\n24   5528.2  1195.5   3814.4  1135.1  2791.2  2217.0  1526.7   414.3\n25   8727.8  1812.5   3614.5   983.0  2198.4   922.5   585.3   596.5\n26   5422.0  1542.2   3681.5  1367.7  2455.7  2474.0  2016.7   409.0\n27   5777.3  1776.9   3752.6  1329.1  2517.9  2322.1  1583.4   479.9\n28   5975.7  1963.5   3809.4  1322.1  3064.3  2352.9  1750.4   614.9\n29   4889.2  1726.7   3770.5  1245.1  3896.5  2415.7  1874.0   546.6\n30   6179.4  1966.1   3543.9  1543.8  3074.1  2404.9  1934.8   581.5",
      "text/html": "<div>\n<style scoped>\n    .dataframe tbody tr th:only-of-type {\n        vertical-align: middle;\n    }\n\n    .dataframe tbody tr th {\n        vertical-align: top;\n    }\n\n    .dataframe thead th {\n        text-align: right;\n    }\n</style>\n<table border=\"1\" class=\"dataframe\">\n  <thead>\n    <tr style=\"text-align: right;\">\n      <th></th>\n      <th>x1</th>\n      <th>x2</th>\n      <th>x3</th>\n      <th>x4</th>\n      <th>x5</th>\n      <th>x6</th>\n      <th>x7</th>\n      <th>x8</th>\n    </tr>\n  </thead>\n  <tbody>\n    <tr>\n      <th>0</th>\n      <td>8070.4</td>\n      <td>2643.0</td>\n      <td>12128.0</td>\n      <td>2511.0</td>\n      <td>5077.9</td>\n      <td>4054.7</td>\n      <td>2629.8</td>\n      <td>1140.6</td>\n    </tr>\n    <tr>\n      <th>1</th>\n      <td>8679.6</td>\n      <td>2114.0</td>\n      <td>6187.3</td>\n      <td>1663.8</td>\n      <td>3991.9</td>\n      <td>2643.6</td>\n      <td>2172.2</td>\n      <td>892.2</td>\n    </tr>\n    <tr>\n      <th>2</th>\n      <td>4991.6</td>\n      <td>1614.4</td>\n      <td>4483.2</td>\n      <td>1351.1</td>\n      <td>2664.1</td>\n      <td>1991.3</td>\n      <td>1549.9</td>\n      <td>460.4</td>\n    </tr>\n    <tr>\n      <th>3</th>\n      <td>3862.8</td>\n      <td>1603.0</td>\n      <td>3633.8</td>\n      <td>951.6</td>\n      <td>2401.0</td>\n      <td>2439.0</td>\n      <td>1651.6</td>\n      <td>450.1</td>\n    </tr>\n    <tr>\n      <th>4</th>\n      <td>6445.8</td>\n      <td>2543.3</td>\n      <td>4006.1</td>\n      <td>1565.1</td>\n      <td>3045.2</td>\n      <td>2598.9</td>\n      <td>1840.2</td>\n      <td>699.9</td>\n    </tr>\n    <tr>\n      <th>5</th>\n      <td>6901.6</td>\n      <td>2321.3</td>\n      <td>4632.8</td>\n      <td>1558.2</td>\n      <td>3447.0</td>\n      <td>3018.5</td>\n      <td>2313.6</td>\n      <td>802.8</td>\n    </tr>\n    <tr>\n      <th>6</th>\n      <td>4975.7</td>\n      <td>1819.0</td>\n      <td>3612.0</td>\n      <td>1107.1</td>\n      <td>2691.0</td>\n      <td>2367.5</td>\n      <td>2059.2</td>\n      <td>534.9</td>\n    </tr>\n    <tr>\n      <th>7</th>\n      <td>5019.3</td>\n      <td>1804.4</td>\n      <td>3352.4</td>\n      <td>1018.9</td>\n      <td>2462.9</td>\n      <td>2011.5</td>\n      <td>2007.5</td>\n      <td>468.3</td>\n    </tr>\n    <tr>\n      <th>8</th>\n      <td>10014.8</td>\n      <td>1834.8</td>\n      <td>13216.0</td>\n      <td>1868.2</td>\n      <td>4447.5</td>\n      <td>4533.5</td>\n      <td>2839.9</td>\n      <td>1102.1</td>\n    </tr>\n    <tr>\n      <th>9</th>\n      <td>7389.2</td>\n      <td>1809.5</td>\n      <td>6140.6</td>\n      <td>1616.2</td>\n      <td>3952.4</td>\n      <td>3163.9</td>\n      <td>1624.5</td>\n      <td>736.6</td>\n    </tr>\n    <tr>\n      <th>10</th>\n      <td>8467.3</td>\n      <td>1903.9</td>\n      <td>7385.4</td>\n      <td>1420.7</td>\n      <td>5100.9</td>\n      <td>3452.3</td>\n      <td>1691.9</td>\n      <td>645.3</td>\n    </tr>\n    <tr>\n      <th>11</th>\n      <td>6381.7</td>\n      <td>1491.0</td>\n      <td>3931.2</td>\n      <td>1118.4</td>\n      <td>2748.4</td>\n      <td>2233.3</td>\n      <td>1269.3</td>\n      <td>432.9</td>\n    </tr>\n    <tr>\n      <th>12</th>\n      <td>8299.6</td>\n      <td>1443.5</td>\n      <td>6530.5</td>\n      <td>1393.4</td>\n      <td>3205.7</td>\n      <td>2461.5</td>\n      <td>1178.5</td>\n      <td>492.8</td>\n    </tr>\n    <tr>\n      <th>13</th>\n      <td>5667.5</td>\n      <td>1472.2</td>\n      <td>3915.9</td>\n      <td>1028.6</td>\n      <td>2310.6</td>\n      <td>1963.9</td>\n      <td>887.4</td>\n      <td>449.6</td>\n    </tr>\n    <tr>\n      <th>14</th>\n      <td>5929.4</td>\n      <td>1977.7</td>\n      <td>4473.1</td>\n      <td>1576.5</td>\n      <td>3002.5</td>\n      <td>2399.3</td>\n      <td>1610.0</td>\n      <td>526.9</td>\n    </tr>\n    <tr>\n      <th>15</th>\n      <td>5067.7</td>\n      <td>1746.6</td>\n      <td>3753.4</td>\n      <td>1430.2</td>\n      <td>1993.8</td>\n      <td>2078.8</td>\n      <td>1524.5</td>\n      <td>492.8</td>\n    </tr>\n    <tr>\n      <th>16</th>\n      <td>6294.3</td>\n      <td>1557.4</td>\n      <td>4176.7</td>\n      <td>1163.8</td>\n      <td>2391.9</td>\n      <td>2228.4</td>\n      <td>1792.0</td>\n      <td>435.6</td>\n    </tr>\n    <tr>\n      <th>17</th>\n      <td>6407.7</td>\n      <td>1666.4</td>\n      <td>3918.7</td>\n      <td>1384.1</td>\n      <td>2837.1</td>\n      <td>3406.1</td>\n      <td>1362.6</td>\n      <td>437.4</td>\n    </tr>\n    <tr>\n      <th>18</th>\n      <td>9421.6</td>\n      <td>1583.4</td>\n      <td>6410.4</td>\n      <td>1721.9</td>\n      <td>4198.1</td>\n      <td>3103.4</td>\n      <td>1304.5</td>\n      <td>870.1</td>\n    </tr>\n    <tr>\n      <th>19</th>\n      <td>5937.2</td>\n      <td>886.3</td>\n      <td>3784.3</td>\n      <td>1032.8</td>\n      <td>2259.8</td>\n      <td>2003.0</td>\n      <td>1065.9</td>\n      <td>299.3</td>\n    </tr>\n    <tr>\n      <th>20</th>\n      <td>7419.7</td>\n      <td>859.6</td>\n      <td>3527.7</td>\n      <td>954.0</td>\n      <td>2582.3</td>\n      <td>1931.3</td>\n      <td>1399.8</td>\n      <td>341.0</td>\n    </tr>\n    <tr>\n      <th>21</th>\n      <td>6883.9</td>\n      <td>1939.2</td>\n      <td>3801.1</td>\n      <td>1466.0</td>\n      <td>2573.9</td>\n      <td>2232.4</td>\n      <td>1700.0</td>\n      <td>434.4</td>\n    </tr>\n    <tr>\n      <th>22</th>\n      <td>7118.4</td>\n      <td>1767.5</td>\n      <td>3756.5</td>\n      <td>1311.1</td>\n      <td>2697.6</td>\n      <td>2008.4</td>\n      <td>1423.4</td>\n      <td>577.1</td>\n    </tr>\n    <tr>\n      <th>23</th>\n      <td>6010.3</td>\n      <td>1525.4</td>\n      <td>3793.1</td>\n      <td>1270.2</td>\n      <td>2684.4</td>\n      <td>2493.5</td>\n      <td>1050.1</td>\n      <td>374.6</td>\n    </tr>\n    <tr>\n      <th>24</th>\n      <td>5528.2</td>\n      <td>1195.5</td>\n      <td>3814.4</td>\n      <td>1135.1</td>\n      <td>2791.2</td>\n      <td>2217.0</td>\n      <td>1526.7</td>\n      <td>414.3</td>\n    </tr>\n    <tr>\n      <th>25</th>\n      <td>8727.8</td>\n      <td>1812.5</td>\n      <td>3614.5</td>\n      <td>983.0</td>\n      <td>2198.4</td>\n      <td>922.5</td>\n      <td>585.3</td>\n      <td>596.5</td>\n    </tr>\n    <tr>\n      <th>26</th>\n      <td>5422.0</td>\n      <td>1542.2</td>\n      <td>3681.5</td>\n      <td>1367.7</td>\n      <td>2455.7</td>\n      <td>2474.0</td>\n      <td>2016.7</td>\n      <td>409.0</td>\n    </tr>\n    <tr>\n      <th>27</th>\n      <td>5777.3</td>\n      <td>1776.9</td>\n      <td>3752.6</td>\n      <td>1329.1</td>\n      <td>2517.9</td>\n      <td>2322.1</td>\n      <td>1583.4</td>\n      <td>479.9</td>\n    </tr>\n    <tr>\n      <th>28</th>\n      <td>5975.7</td>\n      <td>1963.5</td>\n      <td>3809.4</td>\n      <td>1322.1</td>\n      <td>3064.3</td>\n      <td>2352.9</td>\n      <td>1750.4</td>\n      <td>614.9</td>\n    </tr>\n    <tr>\n      <th>29</th>\n      <td>4889.2</td>\n      <td>1726.7</td>\n      <td>3770.5</td>\n      <td>1245.1</td>\n      <td>3896.5</td>\n      <td>2415.7</td>\n      <td>1874.0</td>\n      <td>546.6</td>\n    </tr>\n    <tr>\n      <th>30</th>\n      <td>6179.4</td>\n      <td>1966.1</td>\n      <td>3543.9</td>\n      <td>1543.8</td>\n      <td>3074.1</td>\n      <td>2404.9</td>\n      <td>1934.8</td>\n      <td>581.5</td>\n    </tr>\n  </tbody>\n</table>\n</div>"
     },
     "execution_count": 2,
     "metadata": {},
     "output_type": "execute_result"
    }
   ],
   "source": [
    "df = pd.read_csv(r\"D:\\M\\python\\主成分分析\\aa.csv\", index_col=0).reset_index(drop=True)\n",
    "df"
   ],
   "metadata": {
    "collapsed": false,
    "pycharm": {
     "name": "#%%\n"
    }
   }
  },
  {
   "cell_type": "markdown",
   "source": [
    "# 3.进行球状检验\n",
    "    检验总体变量的相关矩阵是否是单位阵（相关系数矩阵对角线的所有元素均为1,所有非对角线上的元素均为零）；即检验各个变量是否各自独立。"
   ],
   "metadata": {
    "collapsed": false,
    "pycharm": {
     "name": "#%% md\n"
    }
   }
  },
  {
   "cell_type": "code",
   "execution_count": 9,
   "outputs": [
    {
     "name": "stdout",
     "output_type": "stream",
     "text": [
      "216.20347426244766 5.657066657831436e-31\n"
     ]
    }
   ],
   "source": [
    "# Bartlett's球状检验\n",
    "from factor_analyzer.factor_analyzer import calculate_bartlett_sphericity\n",
    "chi_square_value, p_value = calculate_bartlett_sphericity(df)\n",
    "print(chi_square_value, p_value)"
   ],
   "metadata": {
    "collapsed": false,
    "pycharm": {
     "name": "#%%\n"
    }
   }
  },
  {
   "cell_type": "markdown",
   "source": [
    "## p值<0.05时，说明各变量间具有相关性，因子分析有效。"
   ],
   "metadata": {
    "collapsed": false
   }
  },
  {
   "cell_type": "markdown",
   "source": [
    " # 4.KMO检验\n",
    " 检查变量间的相关性和偏相关性，取值在0-1之间；KOM统计量越接近1，变量间的相关性越强，偏相关性越弱，因子分析的效果越好。"
   ],
   "metadata": {
    "collapsed": false,
    "pycharm": {
     "name": "#%% md\n"
    }
   }
  },
  {
   "cell_type": "code",
   "execution_count": 10,
   "outputs": [
    {
     "name": "stdout",
     "output_type": "stream",
     "text": [
      "[0.76092511 0.69250268 0.84453486 0.90484994 0.91772132 0.8494689\n",
      " 0.82558917 0.81666874]\n"
     ]
    }
   ],
   "source": [
    "# 通常取值从0.6开始进行因子分析\n",
    "from factor_analyzer.factor_analyzer import calculate_kmo\n",
    "kmo_all, kmo_model = calculate_kmo(df)\n",
    "print(kmo_all)"
   ],
   "metadata": {
    "collapsed": false,
    "pycharm": {
     "name": "#%%\n"
    }
   }
  },
  {
   "cell_type": "markdown",
   "source": [],
   "metadata": {
    "collapsed": false
   }
  },
  {
   "cell_type": "markdown",
   "source": [
    "## Kaiser在1974年给出了经验原则：\n",
    "                0.9以上       适合性很好\n",
    "                0.8~0.9        适合性良好\n",
    "                0.7~0.8        适合性中等\n",
    "                0.6~0.7        适合性一般\n",
    "                0.5~0.6        适合性不好\n",
    "                0.5以下       不能接受的"
   ],
   "metadata": {
    "collapsed": false
   }
  },
  {
   "cell_type": "code",
   "execution_count": 17,
   "outputs": [
    {
     "data": {
      "text/plain": "[<matplotlib.lines.Line2D at 0x23767866b50>]"
     },
     "execution_count": 17,
     "metadata": {},
     "output_type": "execute_result"
    },
    {
     "data": {
      "text/plain": "<Figure size 640x480 with 1 Axes>",
      "image/png": "[encoded data removed]"
     },
     "metadata": {},
     "output_type": "display_data"
    }
   ],
   "source": [
    "plt.bar(df.columns,kmo_all)\n",
    "plt.plot(df.columns,kmo_all,color='r')"
   ],
   "metadata": {
    "collapsed": false,
    "pycharm": {
     "name": "#%%\n"
    }
   }
  },
  {
   "cell_type": "markdown",
   "source": [
    "# 5.求相关矩阵\n",
    "## （1）数据标准化做法\n",
    "### 1.进行标准化 ,用到了 preprocessing 库"
   ],
   "metadata": {
    "collapsed": false,
    "pycharm": {
     "name": "#%% md\n"
    }
   }
  },
  {
   "cell_type": "code",
   "execution_count": 3,
   "outputs": [
    {
     "data": {
      "text/plain": "array([[ 1.02281473e+00,  2.39957305e+00,  3.16115070e+00,\n         3.61550657e+00,  2.50214644e+00,  2.28963248e+00,\n         2.07693756e+00,  2.80609239e+00],\n       [ 1.44249462e+00,  9.95337984e-01,  5.78706906e-01,\n         9.35606023e-01,  1.15755360e+00,  1.92901318e-01,\n         1.10470911e+00,  1.57963146e+00],\n       [-1.09818075e+00, -3.30854531e-01, -1.62071532e-01,\n        -5.35404603e-02, -4.86415424e-01, -7.76340931e-01,\n        -2.17445100e-01, -5.52356563e-01],\n       [-1.87581480e+00, -3.61115930e-01, -5.31308787e-01,\n        -1.31725655e+00, -8.12163467e-01, -1.11110584e-01,\n        -1.37072588e-03, -6.03212229e-01],\n       [-9.63775717e-02,  2.13491854e+00, -3.69468629e-01,\n         6.23393814e-01, -1.45698172e-02,  1.26482296e-01,\n         3.99333571e-01,  6.30161113e-01],\n       [ 2.17624553e-01,  1.54561762e+00, -9.70398706e-02,\n         6.01567428e-01,  4.82904769e-01,  7.49959297e-01,\n         1.40513110e+00,  1.13822403e+00],\n       [-1.10913431e+00,  2.12257936e-01, -5.40785326e-01,\n        -8.25372062e-01, -4.53110132e-01, -2.17351303e-01,\n         8.64626471e-01, -1.84517035e-01],\n       [-1.07909813e+00,  1.73502110e-01, -6.53634385e-01,\n        -1.10437021e+00, -7.35524151e-01, -7.46326070e-01,\n         7.54783353e-01, -5.13350761e-01],\n       [ 2.36231831e+00,  2.54199172e-01,  3.63410824e+00,\n         1.58217315e+00,  1.72163877e+00,  3.00107383e+00,\n         2.52332130e+00,  2.61600082e+00],\n       [ 5.53533802e-01,  1.87040104e-01,  5.58406247e-01,\n         7.85035596e-01,  1.10864806e+00,  9.66006856e-01,\n        -5.89480665e-02,  8.11365283e-01],\n       [ 1.29624045e+00,  4.37625719e-01,  1.09952531e+00,\n         1.66621341e-01,  2.53062308e+00,  1.39453585e+00,\n         8.42516663e-02,  3.60576708e-01],\n       [-1.40536273e-01, -6.58420897e-01, -4.02027930e-01,\n        -7.89627402e-01, -3.82042334e-01, -4.16756960e-01,\n        -8.13614908e-01, -6.88136254e-01],\n       [ 1.18071137e+00, -7.84510057e-01,  7.27897188e-01,\n         8.02647724e-02,  1.84147632e-01, -7.76781903e-02,\n        -1.00653087e+00, -3.92383399e-01],\n       [-6.32551011e-01, -7.08325659e-01, -4.08678896e-01,\n        -1.07368674e+00, -9.24089058e-01, -8.17054157e-01,\n        -1.62500924e+00, -6.05680951e-01],\n       [-4.52127236e-01,  6.33528456e-01, -1.66462039e-01,\n         6.59454798e-01, -6.74373255e-02, -1.70100186e-01,\n        -8.97551307e-02, -2.24016582e-01],\n       [-1.04575521e+00,  2.00715105e-02, -4.79318234e-01,\n         1.96672162e-01, -1.31632387e+00, -6.46326065e-01,\n        -2.71410578e-01, -3.92383399e-01],\n       [-2.00746422e-01, -4.82161524e-01, -2.95308192e-01,\n        -6.46016112e-01, -8.23430313e-01, -4.24037792e-01,\n         2.96926640e-01, -6.74805157e-01],\n       [-1.22624787e-01, -1.92820082e-01, -4.07461725e-01,\n         5.08466007e-02, -2.72221538e-01,  1.32588800e+00,\n        -6.15387384e-01, -6.65917759e-01],\n       [ 1.95366087e+00, -4.13144299e-01,  6.75689284e-01,\n         1.11939052e+00,  1.41285291e+00,  8.76110863e-01,\n        -7.38828104e-01,  1.47051397e+00],\n       [-4.46753790e-01, -2.26360227e+00, -4.65885892e-01,\n        -1.06040111e+00, -9.86985297e-01, -7.58956086e-01,\n        -1.24576366e+00, -1.34777868e+00],\n       [ 5.74545353e-01, -2.33447765e+00, -5.77430841e-01,\n        -1.30966476e+00, -5.87693227e-01, -8.65493981e-01,\n        -5.36351330e-01, -1.14188730e+00],\n       [ 2.05430964e-01,  5.31329874e-01, -4.58582871e-01,\n         3.09916306e-01, -5.98093392e-01, -4.18094255e-01,\n         1.01461130e-01, -6.80730089e-01],\n       [ 3.66978788e-01,  7.55507410e-02, -4.77970652e-01,\n        -1.80070231e-01, -4.44938573e-01, -7.50932311e-01,\n        -4.86210177e-01,  2.38430731e-02],\n       [-3.96394959e-01, -5.67105800e-01, -4.62060500e-01,\n        -3.09446922e-01, -4.61281690e-01, -3.01298966e-02,\n        -1.27933273e+00, -9.75989200e-01],\n       [-7.28515240e-01, -1.44282820e+00, -4.52801313e-01,\n        -7.36801223e-01, -3.29051014e-01, -4.40976872e-01,\n        -2.66736403e-01, -7.79972700e-01],\n       [ 1.47569976e+00,  1.95003630e-01, -5.39698566e-01,\n        -1.21793068e+00, -1.06300556e+00, -2.36445394e+00,\n        -2.26685849e+00,  1.19629474e-01],\n       [-8.01676771e-01, -5.22510055e-01, -5.10573424e-01,\n        -1.03060539e-03, -7.44438579e-01, -5.91046380e-02,\n         7.74329904e-01, -8.06141150e-01],\n       [-5.56909428e-01,  1.00503122e-01, -4.79665997e-01,\n        -1.23131834e-01, -6.67427829e-01, -2.84810445e-01,\n        -1.46270159e-01, -4.56076418e-01],\n       [-4.20231013e-01,  5.95834434e-01, -4.54974831e-01,\n        -1.45274544e-01,  9.07817831e-03, -2.39045212e-01,\n         2.08542236e-01,  2.10478431e-01],\n       [-1.16872445e+00, -3.27532114e-02, -4.71884802e-01,\n        -3.88844353e-01,  1.03943744e+00, -1.45731686e-01,\n         4.71145900e-01, -1.26748948e-01],\n       [-2.79901411e-01,  6.02736156e-01, -5.70388642e-01,\n         5.56016711e-01,  2.12117048e-02, -1.61779235e-01,\n         6.00323107e-01,  4.55678237e-02]])"
     },
     "execution_count": 3,
     "metadata": {},
     "output_type": "execute_result"
    }
   ],
   "source": [
    "from sklearn import preprocessing\n",
    "df = preprocessing.scale(df)\n",
    "df"
   ],
   "metadata": {
    "collapsed": false,
    "pycharm": {
     "name": "#%%\n"
    }
   }
  },
  {
   "cell_type": "markdown",
   "source": [
    " ### 2.求相关系数矩阵"
   ],
   "metadata": {
    "collapsed": false,
    "pycharm": {
     "name": "#%% md\n"
    }
   }
  },
  {
   "cell_type": "code",
   "execution_count": 4,
   "outputs": [
    {
     "data": {
      "text/plain": "array([[1.   , 0.19 , 0.676, 0.511, 0.622, 0.452, 0.111, 0.659],\n       [0.19 , 1.   , 0.358, 0.676, 0.468, 0.406, 0.57 , 0.682],\n       [0.676, 0.358, 1.   , 0.767, 0.789, 0.816, 0.559, 0.822],\n       [0.511, 0.676, 0.767, 1.   , 0.739, 0.755, 0.608, 0.826],\n       [0.622, 0.468, 0.789, 0.739, 1.   , 0.799, 0.532, 0.799],\n       [0.452, 0.406, 0.816, 0.755, 0.799, 1.   , 0.661, 0.71 ],\n       [0.111, 0.57 , 0.559, 0.608, 0.532, 0.661, 1.   , 0.633],\n       [0.659, 0.682, 0.822, 0.826, 0.799, 0.71 , 0.633, 1.   ]])"
     },
     "execution_count": 4,
     "metadata": {},
     "output_type": "execute_result"
    }
   ],
   "source": [
    "covX = np.around(np.corrcoef(df.T),decimals=3)\n",
    "covX"
   ],
   "metadata": {
    "collapsed": false,
    "pycharm": {
     "name": "#%%\n"
    }
   }
  },
  {
   "cell_type": "markdown",
   "source": [
    "### 3.求解特征值与特征向量"
   ],
   "metadata": {
    "collapsed": false,
    "pycharm": {
     "name": "#%% md\n"
    }
   }
  },
  {
   "cell_type": "code",
   "execution_count": 5,
   "outputs": [
    {
     "data": {
      "text/plain": "(array([5.39826106, 1.11068641, 0.65068806, 0.28655148, 0.23164097,\n        0.06850326, 0.131855  , 0.12181376]),\n array([[-0.27749368,  0.62604991, -0.34126671, -0.35502706,  0.05108308,\n          0.13741295, -0.51562062,  0.0345711 ],\n        [-0.28090255, -0.52066712, -0.60835682,  0.12612986,  0.11053686,\n          0.33586363, -0.08901653, -0.36200279],\n        [-0.38591666,  0.24352771,  0.22380993, -0.1519889 , -0.34703124,\n          0.4884528 ,  0.5379232 , -0.2649394 ],\n        [-0.38945652, -0.10027267, -0.14150117,  0.35005389, -0.58316579,\n         -0.07393724, -0.09787692,  0.58359212],\n        [-0.38226741,  0.15976394,  0.09295626,  0.37057117,  0.70979665,\n          0.14206587,  0.21371933,  0.33572802],\n        [-0.37373669,  0.01338498,  0.47383533,  0.36974959, -0.04478623,\n         -0.21596766, -0.44639495, -0.50098978],\n        [-0.3068914 , -0.49179908,  0.38942315, -0.60498635,  0.12512195,\n          0.10743829, -0.2139662 ,  0.27076269],\n        [-0.40434285,  0.0060745 , -0.24189744, -0.2690027 ,  0.05644918,\n         -0.73884553,  0.36951892, -0.14131407]]))"
     },
     "execution_count": 5,
     "metadata": {},
     "output_type": "execute_result"
    }
   ],
   "source": [
    "#求解系数相关矩阵的特征值和特征向量\n",
    "featValue, featVec=  np.linalg.eig(covX.T)\n",
    "featValue, featVec"
   ],
   "metadata": {
    "collapsed": false,
    "pycharm": {
     "name": "#%%\n"
    }
   }
  },
  {
   "cell_type": "markdown",
   "source": [
    "## （2）数据不标准化做法\n",
    "### 1.求均值"
   ],
   "metadata": {
    "collapsed": false,
    "pycharm": {
     "name": "#%% md\n"
    }
   }
  },
  {
   "cell_type": "code",
   "execution_count": 21,
   "outputs": [
    {
     "data": {
      "text/plain": "array([-5.81971747e-16,  7.87900211e-16,  3.58136460e-18,  7.41342471e-16,\n        5.45038924e-16,  4.32449775e-16, -4.79902856e-16,  5.14821161e-17])"
     },
     "execution_count": 21,
     "metadata": {},
     "output_type": "execute_result"
    }
   ],
   "source": [
    "def meanX(dataX):\n",
    "    return np.mean(dataX,axis=0)#axis=0表示依照列来求均值。假设输入list,则axis=1\n",
    "average = meanX(df)\n",
    "average"
   ],
   "metadata": {
    "collapsed": false,
    "pycharm": {
     "name": "#%%\n"
    }
   }
  },
  {
   "cell_type": "markdown",
   "source": [
    "### 2.查看列数和行数"
   ],
   "metadata": {
    "collapsed": false
   }
  },
  {
   "cell_type": "code",
   "execution_count": 22,
   "outputs": [
    {
     "data": {
      "text/plain": "(31, 8)"
     },
     "execution_count": 22,
     "metadata": {},
     "output_type": "execute_result"
    }
   ],
   "source": [
    "m, n = np.shape(df)\n",
    "m,n"
   ],
   "metadata": {
    "collapsed": false,
    "pycharm": {
     "name": "#%%\n"
    }
   }
  },
  {
   "cell_type": "markdown",
   "source": [
    "### 3.写出同数据集一样的均值矩阵"
   ],
   "metadata": {
    "collapsed": false,
    "pycharm": {
     "name": "#%% md\n"
    }
   }
  },
  {
   "cell_type": "code",
   "execution_count": 23,
   "outputs": [
    {
     "data": {
      "text/plain": "array([[-5.81971747e-16,  7.87900211e-16,  3.58136460e-18,\n         7.41342471e-16,  5.45038924e-16,  4.32449775e-16,\n        -4.79902856e-16,  5.14821161e-17],\n       [-5.81971747e-16,  7.87900211e-16,  3.58136460e-18,\n         7.41342471e-16,  5.45038924e-16,  4.32449775e-16,\n        -4.79902856e-16,  5.14821161e-17],\n       [-5.81971747e-16,  7.87900211e-16,  3.58136460e-18,\n         7.41342471e-16,  5.45038924e-16,  4.32449775e-16,\n        -4.79902856e-16,  5.14821161e-17],\n       [-5.81971747e-16,  7.87900211e-16,  3.58136460e-18,\n         7.41342471e-16,  5.45038924e-16,  4.32449775e-16,\n        -4.79902856e-16,  5.14821161e-17],\n       [-5.81971747e-16,  7.87900211e-16,  3.58136460e-18,\n         7.41342471e-16,  5.45038924e-16,  4.32449775e-16,\n        -4.79902856e-16,  5.14821161e-17],\n       [-5.81971747e-16,  7.87900211e-16,  3.58136460e-18,\n         7.41342471e-16,  5.45038924e-16,  4.32449775e-16,\n        -4.79902856e-16,  5.14821161e-17],\n       [-5.81971747e-16,  7.87900211e-16,  3.58136460e-18,\n         7.41342471e-16,  5.45038924e-16,  4.32449775e-16,\n        -4.79902856e-16,  5.14821161e-17],\n       [-5.81971747e-16,  7.87900211e-16,  3.58136460e-18,\n         7.41342471e-16,  5.45038924e-16,  4.32449775e-16,\n        -4.79902856e-16,  5.14821161e-17],\n       [-5.81971747e-16,  7.87900211e-16,  3.58136460e-18,\n         7.41342471e-16,  5.45038924e-16,  4.32449775e-16,\n        -4.79902856e-16,  5.14821161e-17],\n       [-5.81971747e-16,  7.87900211e-16,  3.58136460e-18,\n         7.41342471e-16,  5.45038924e-16,  4.32449775e-16,\n        -4.79902856e-16,  5.14821161e-17],\n       [-5.81971747e-16,  7.87900211e-16,  3.58136460e-18,\n         7.41342471e-16,  5.45038924e-16,  4.32449775e-16,\n        -4.79902856e-16,  5.14821161e-17],\n       [-5.81971747e-16,  7.87900211e-16,  3.58136460e-18,\n         7.41342471e-16,  5.45038924e-16,  4.32449775e-16,\n        -4.79902856e-16,  5.14821161e-17],\n       [-5.81971747e-16,  7.87900211e-16,  3.58136460e-18,\n         7.41342471e-16,  5.45038924e-16,  4.32449775e-16,\n        -4.79902856e-16,  5.14821161e-17],\n       [-5.81971747e-16,  7.87900211e-16,  3.58136460e-18,\n         7.41342471e-16,  5.45038924e-16,  4.32449775e-16,\n        -4.79902856e-16,  5.14821161e-17],\n       [-5.81971747e-16,  7.87900211e-16,  3.58136460e-18,\n         7.41342471e-16,  5.45038924e-16,  4.32449775e-16,\n        -4.79902856e-16,  5.14821161e-17],\n       [-5.81971747e-16,  7.87900211e-16,  3.58136460e-18,\n         7.41342471e-16,  5.45038924e-16,  4.32449775e-16,\n        -4.79902856e-16,  5.14821161e-17],\n       [-5.81971747e-16,  7.87900211e-16,  3.58136460e-18,\n         7.41342471e-16,  5.45038924e-16,  4.32449775e-16,\n        -4.79902856e-16,  5.14821161e-17],\n       [-5.81971747e-16,  7.87900211e-16,  3.58136460e-18,\n         7.41342471e-16,  5.45038924e-16,  4.32449775e-16,\n        -4.79902856e-16,  5.14821161e-17],\n       [-5.81971747e-16,  7.87900211e-16,  3.58136460e-18,\n         7.41342471e-16,  5.45038924e-16,  4.32449775e-16,\n        -4.79902856e-16,  5.14821161e-17],\n       [-5.81971747e-16,  7.87900211e-16,  3.58136460e-18,\n         7.41342471e-16,  5.45038924e-16,  4.32449775e-16,\n        -4.79902856e-16,  5.14821161e-17],\n       [-5.81971747e-16,  7.87900211e-16,  3.58136460e-18,\n         7.41342471e-16,  5.45038924e-16,  4.32449775e-16,\n        -4.79902856e-16,  5.14821161e-17],\n       [-5.81971747e-16,  7.87900211e-16,  3.58136460e-18,\n         7.41342471e-16,  5.45038924e-16,  4.32449775e-16,\n        -4.79902856e-16,  5.14821161e-17],\n       [-5.81971747e-16,  7.87900211e-16,  3.58136460e-18,\n         7.41342471e-16,  5.45038924e-16,  4.32449775e-16,\n        -4.79902856e-16,  5.14821161e-17],\n       [-5.81971747e-16,  7.87900211e-16,  3.58136460e-18,\n         7.41342471e-16,  5.45038924e-16,  4.32449775e-16,\n        -4.79902856e-16,  5.14821161e-17],\n       [-5.81971747e-16,  7.87900211e-16,  3.58136460e-18,\n         7.41342471e-16,  5.45038924e-16,  4.32449775e-16,\n        -4.79902856e-16,  5.14821161e-17],\n       [-5.81971747e-16,  7.87900211e-16,  3.58136460e-18,\n         7.41342471e-16,  5.45038924e-16,  4.32449775e-16,\n        -4.79902856e-16,  5.14821161e-17],\n       [-5.81971747e-16,  7.87900211e-16,  3.58136460e-18,\n         7.41342471e-16,  5.45038924e-16,  4.32449775e-16,\n        -4.79902856e-16,  5.14821161e-17],\n       [-5.81971747e-16,  7.87900211e-16,  3.58136460e-18,\n         7.41342471e-16,  5.45038924e-16,  4.32449775e-16,\n        -4.79902856e-16,  5.14821161e-17],\n       [-5.81971747e-16,  7.87900211e-16,  3.58136460e-18,\n         7.41342471e-16,  5.45038924e-16,  4.32449775e-16,\n        -4.79902856e-16,  5.14821161e-17],\n       [-5.81971747e-16,  7.87900211e-16,  3.58136460e-18,\n         7.41342471e-16,  5.45038924e-16,  4.32449775e-16,\n        -4.79902856e-16,  5.14821161e-17],\n       [-5.81971747e-16,  7.87900211e-16,  3.58136460e-18,\n         7.41342471e-16,  5.45038924e-16,  4.32449775e-16,\n        -4.79902856e-16,  5.14821161e-17]])"
     },
     "execution_count": 23,
     "metadata": {},
     "output_type": "execute_result"
    }
   ],
   "source": [
    "data_adjust = []\n",
    "avgs = np.tile(average, (m, 1))\n",
    "avgs"
   ],
   "metadata": {
    "collapsed": false,
    "pycharm": {
     "name": "#%%\n"
    }
   }
  },
  {
   "cell_type": "markdown",
   "source": [
    "### 4.对数据集进行去中心化"
   ],
   "metadata": {
    "collapsed": false,
    "pycharm": {
     "name": "#%% md\n"
    }
   }
  },
  {
   "cell_type": "code",
   "execution_count": 24,
   "outputs": [
    {
     "data": {
      "text/plain": "array([[ 1.02281473e+00,  2.39957305e+00,  3.16115070e+00,\n         3.61550657e+00,  2.50214644e+00,  2.28963248e+00,\n         2.07693756e+00,  2.80609239e+00],\n       [ 1.44249462e+00,  9.95337984e-01,  5.78706906e-01,\n         9.35606023e-01,  1.15755360e+00,  1.92901318e-01,\n         1.10470911e+00,  1.57963146e+00],\n       [-1.09818075e+00, -3.30854531e-01, -1.62071532e-01,\n        -5.35404603e-02, -4.86415424e-01, -7.76340931e-01,\n        -2.17445100e-01, -5.52356563e-01],\n       [-1.87581480e+00, -3.61115930e-01, -5.31308787e-01,\n        -1.31725655e+00, -8.12163467e-01, -1.11110584e-01,\n        -1.37072588e-03, -6.03212229e-01],\n       [-9.63775717e-02,  2.13491854e+00, -3.69468629e-01,\n         6.23393814e-01, -1.45698172e-02,  1.26482296e-01,\n         3.99333571e-01,  6.30161113e-01],\n       [ 2.17624553e-01,  1.54561762e+00, -9.70398706e-02,\n         6.01567428e-01,  4.82904769e-01,  7.49959297e-01,\n         1.40513110e+00,  1.13822403e+00],\n       [-1.10913431e+00,  2.12257936e-01, -5.40785326e-01,\n        -8.25372062e-01, -4.53110132e-01, -2.17351303e-01,\n         8.64626471e-01, -1.84517035e-01],\n       [-1.07909813e+00,  1.73502110e-01, -6.53634385e-01,\n        -1.10437021e+00, -7.35524151e-01, -7.46326070e-01,\n         7.54783353e-01, -5.13350761e-01],\n       [ 2.36231831e+00,  2.54199172e-01,  3.63410824e+00,\n         1.58217315e+00,  1.72163877e+00,  3.00107383e+00,\n         2.52332130e+00,  2.61600082e+00],\n       [ 5.53533802e-01,  1.87040104e-01,  5.58406247e-01,\n         7.85035596e-01,  1.10864806e+00,  9.66006856e-01,\n        -5.89480665e-02,  8.11365283e-01],\n       [ 1.29624045e+00,  4.37625719e-01,  1.09952531e+00,\n         1.66621341e-01,  2.53062308e+00,  1.39453585e+00,\n         8.42516663e-02,  3.60576708e-01],\n       [-1.40536273e-01, -6.58420897e-01, -4.02027930e-01,\n        -7.89627402e-01, -3.82042334e-01, -4.16756960e-01,\n        -8.13614908e-01, -6.88136254e-01],\n       [ 1.18071137e+00, -7.84510057e-01,  7.27897188e-01,\n         8.02647724e-02,  1.84147632e-01, -7.76781903e-02,\n        -1.00653087e+00, -3.92383399e-01],\n       [-6.32551011e-01, -7.08325659e-01, -4.08678896e-01,\n        -1.07368674e+00, -9.24089058e-01, -8.17054157e-01,\n        -1.62500924e+00, -6.05680951e-01],\n       [-4.52127236e-01,  6.33528456e-01, -1.66462039e-01,\n         6.59454798e-01, -6.74373255e-02, -1.70100186e-01,\n        -8.97551307e-02, -2.24016582e-01],\n       [-1.04575521e+00,  2.00715105e-02, -4.79318234e-01,\n         1.96672162e-01, -1.31632387e+00, -6.46326065e-01,\n        -2.71410578e-01, -3.92383399e-01],\n       [-2.00746422e-01, -4.82161524e-01, -2.95308192e-01,\n        -6.46016112e-01, -8.23430313e-01, -4.24037792e-01,\n         2.96926640e-01, -6.74805157e-01],\n       [-1.22624787e-01, -1.92820082e-01, -4.07461725e-01,\n         5.08466007e-02, -2.72221538e-01,  1.32588800e+00,\n        -6.15387384e-01, -6.65917759e-01],\n       [ 1.95366087e+00, -4.13144299e-01,  6.75689284e-01,\n         1.11939052e+00,  1.41285291e+00,  8.76110863e-01,\n        -7.38828104e-01,  1.47051397e+00],\n       [-4.46753790e-01, -2.26360227e+00, -4.65885892e-01,\n        -1.06040111e+00, -9.86985297e-01, -7.58956086e-01,\n        -1.24576366e+00, -1.34777868e+00],\n       [ 5.74545353e-01, -2.33447765e+00, -5.77430841e-01,\n        -1.30966476e+00, -5.87693227e-01, -8.65493981e-01,\n        -5.36351330e-01, -1.14188730e+00],\n       [ 2.05430964e-01,  5.31329874e-01, -4.58582871e-01,\n         3.09916306e-01, -5.98093392e-01, -4.18094255e-01,\n         1.01461130e-01, -6.80730089e-01],\n       [ 3.66978788e-01,  7.55507410e-02, -4.77970652e-01,\n        -1.80070231e-01, -4.44938573e-01, -7.50932311e-01,\n        -4.86210177e-01,  2.38430731e-02],\n       [-3.96394959e-01, -5.67105800e-01, -4.62060500e-01,\n        -3.09446922e-01, -4.61281690e-01, -3.01298966e-02,\n        -1.27933273e+00, -9.75989200e-01],\n       [-7.28515240e-01, -1.44282820e+00, -4.52801313e-01,\n        -7.36801223e-01, -3.29051014e-01, -4.40976872e-01,\n        -2.66736403e-01, -7.79972700e-01],\n       [ 1.47569976e+00,  1.95003630e-01, -5.39698566e-01,\n        -1.21793068e+00, -1.06300556e+00, -2.36445394e+00,\n        -2.26685849e+00,  1.19629474e-01],\n       [-8.01676771e-01, -5.22510055e-01, -5.10573424e-01,\n        -1.03060539e-03, -7.44438579e-01, -5.91046380e-02,\n         7.74329904e-01, -8.06141150e-01],\n       [-5.56909428e-01,  1.00503122e-01, -4.79665997e-01,\n        -1.23131834e-01, -6.67427829e-01, -2.84810445e-01,\n        -1.46270159e-01, -4.56076418e-01],\n       [-4.20231013e-01,  5.95834434e-01, -4.54974831e-01,\n        -1.45274544e-01,  9.07817831e-03, -2.39045212e-01,\n         2.08542236e-01,  2.10478431e-01],\n       [-1.16872445e+00, -3.27532114e-02, -4.71884802e-01,\n        -3.88844353e-01,  1.03943744e+00, -1.45731686e-01,\n         4.71145900e-01, -1.26748948e-01],\n       [-2.79901411e-01,  6.02736156e-01, -5.70388642e-01,\n         5.56016711e-01,  2.12117048e-02, -1.61779235e-01,\n         6.00323107e-01,  4.55678237e-02]])"
     },
     "execution_count": 24,
     "metadata": {},
     "output_type": "execute_result"
    }
   ],
   "source": [
    "data_adjust = df - avgs\n",
    "data_adjust"
   ],
   "metadata": {
    "collapsed": false,
    "pycharm": {
     "name": "#%%\n"
    }
   }
  },
  {
   "cell_type": "markdown",
   "source": [
    "### 5.计算协方差阵"
   ],
   "metadata": {
    "collapsed": false,
    "pycharm": {
     "name": "#%% md\n"
    }
   }
  },
  {
   "cell_type": "code",
   "execution_count": 25,
   "outputs": [
    {
     "data": {
      "text/plain": "array([[1.03333333, 0.19609715, 0.69879999, 0.52817181, 0.64289957,\n        0.46758142, 0.11475425, 0.68135687],\n       [0.19609715, 1.03333333, 0.37037575, 0.69846153, 0.48341749,\n        0.41965408, 0.58885095, 0.70449309],\n       [0.69879999, 0.37037575, 1.03333333, 0.79290742, 0.81546813,\n        0.84298239, 0.57731994, 0.8489081 ],\n       [0.52817181, 0.69846153, 0.79290742, 1.03333333, 0.763136  ,\n        0.77988379, 0.62800873, 0.85357286],\n       [0.64289957, 0.48341749, 0.81546813, 0.763136  , 1.03333333,\n        0.82580813, 0.54944998, 0.82585037],\n       [0.46758142, 0.41965408, 0.84298239, 0.77988379, 0.82580813,\n        1.03333333, 0.68329982, 0.73405308],\n       [0.11475425, 0.58885095, 0.57731994, 0.62800873, 0.54944998,\n        0.68329982, 1.03333333, 0.65401815],\n       [0.68135687, 0.70449309, 0.8489081 , 0.85357286, 0.82585037,\n        0.73405308, 0.65401815, 1.03333333]])"
     },
     "execution_count": 25,
     "metadata": {},
     "output_type": "execute_result"
    }
   ],
   "source": [
    "covX = np.cov(data_adjust.T)   #计算协方差矩阵\n",
    "covX"
   ],
   "metadata": {
    "collapsed": false,
    "pycharm": {
     "name": "#%%\n"
    }
   }
  },
  {
   "cell_type": "markdown",
   "source": [
    "### 6.计算协方差阵的特征值和特征向量"
   ],
   "metadata": {
    "collapsed": false,
    "pycharm": {
     "name": "#%% md\n"
    }
   }
  },
  {
   "cell_type": "code",
   "execution_count": 26,
   "outputs": [
    {
     "data": {
      "text/plain": "(array([5.57826839, 1.14787543, 0.67197455, 0.29572876, 0.23977111,\n        0.0713498 , 0.13607757, 0.12562106]),\n array([[-0.27760081,  0.62596292, -0.34055671, -0.356679  ,  0.05078338,\n          0.14132794, -0.51308836,  0.04579551],\n        [-0.280872  , -0.52070675, -0.60844759,  0.12610086,  0.11167685,\n          0.33528311, -0.09585438, -0.36026513],\n        [-0.3859206 ,  0.24329543,  0.22314388, -0.14964195, -0.34760052,\n          0.48352914,  0.53530556, -0.28019301],\n        [-0.38941131, -0.10025649, -0.1421576 ,  0.34930889, -0.5845645 ,\n         -0.07306636, -0.08590938,  0.58450596],\n        [-0.38225388,  0.15993368,  0.09334377,  0.37077541,  0.70841374,\n          0.14305914,  0.22145255,  0.33280408],\n        [-0.37378432,  0.01324989,  0.4737431 ,  0.36917278, -0.04308639,\n         -0.21500496, -0.45987551, -0.48971379],\n        [-0.30682288, -0.49193383,  0.39011563, -0.60539622,  0.1235183 ,\n          0.11044168, -0.20504013,  0.27508263],\n        [-0.40435109,  0.00613602, -0.24181584, -0.26870378,  0.05868835,\n         -0.74133805,  0.36201055, -0.14733587]]))"
     },
     "execution_count": 26,
     "metadata": {},
     "output_type": "execute_result"
    }
   ],
   "source": [
    "featValue, featVec=  np.linalg.eig(covX)  #求解协方差矩阵的特征值和特征向量\n",
    "featValue, featVec"
   ],
   "metadata": {
    "collapsed": false,
    "pycharm": {
     "name": "#%%\n"
    }
   }
  },
  {
   "cell_type": "markdown",
   "source": [
    "# 7.对特征值进行排序并输出  降序"
   ],
   "metadata": {
    "collapsed": false,
    "pycharm": {
     "name": "#%% md\n"
    }
   }
  },
  {
   "cell_type": "code",
   "execution_count": 6,
   "outputs": [
    {
     "data": {
      "text/plain": "[5.39826105614674,\n 1.1106864064533546,\n 0.6506880630363168,\n 0.2865514813889915,\n 0.23164096989006522,\n 0.13185500023952823,\n 0.12181376168401657,\n 0.06850326116099208]"
     },
     "execution_count": 6,
     "metadata": {},
     "output_type": "execute_result"
    }
   ],
   "source": [
    "featValue = sorted(featValue)[::-1]\n",
    "featValue"
   ],
   "metadata": {
    "collapsed": false,
    "pycharm": {
     "name": "#%%\n"
    }
   }
  },
  {
   "cell_type": "markdown",
   "source": [
    "# 8.绘制散点与折线图"
   ],
   "metadata": {
    "collapsed": false,
    "pycharm": {
     "name": "#%% md\n"
    }
   }
  },
  {
   "cell_type": "code",
   "execution_count": 7,
   "outputs": [
    {
     "data": {
      "text/plain": "<Figure size 640x480 with 1 Axes>",
      "image/png": "[encoded data removed]"
     },
     "metadata": {},
     "output_type": "display_data"
    }
   ],
   "source": [
    "# 同样的数据绘制散点图和折线图\n",
    "plt.scatter(range(1, df.shape[1] + 1), featValue)\n",
    "plt.plot(range(1, df.shape[1] + 1), featValue)\n",
    "\n",
    "# 显示图的标题和xy轴的名字\n",
    "# 最好使用英文，中文可能乱码\n",
    "plt.title(\"Scree Plot\")\n",
    "plt.xlabel(\"Factors\")\n",
    "plt.ylabel(\"Eigenvalue\")\n",
    "\n",
    "plt.grid()  # 显示网格\n",
    "plt.show()  # 显示图形"
   ],
   "metadata": {
    "collapsed": false,
    "pycharm": {
     "name": "#%%\n"
    }
   }
  },
  {
   "cell_type": "markdown",
   "source": [
    "# 9.求特征值的贡献度"
   ],
   "metadata": {
    "collapsed": false,
    "pycharm": {
     "name": "#%% md\n"
    }
   }
  },
  {
   "cell_type": "code",
   "execution_count": 8,
   "outputs": [
    {
     "data": {
      "text/plain": "array([0.67478263, 0.1388358 , 0.08133601, 0.03581894, 0.02895512,\n       0.01648188, 0.01522672, 0.00856291])"
     },
     "execution_count": 8,
     "metadata": {},
     "output_type": "execute_result"
    }
   ],
   "source": [
    "gx = featValue/np.sum(featValue)\n",
    "gx"
   ],
   "metadata": {
    "collapsed": false,
    "pycharm": {
     "name": "#%%\n"
    }
   }
  },
  {
   "cell_type": "markdown",
   "source": [
    "# 10.求特征值的累计贡献度"
   ],
   "metadata": {
    "collapsed": false,
    "pycharm": {
     "name": "#%% md\n"
    }
   }
  },
  {
   "cell_type": "code",
   "execution_count": 9,
   "outputs": [
    {
     "data": {
      "text/plain": "array([0.67478263, 0.81361843, 0.89495444, 0.93077338, 0.9597285 ,\n       0.97621037, 0.99143709, 1.        ])"
     },
     "execution_count": 9,
     "metadata": {},
     "output_type": "execute_result"
    }
   ],
   "source": [
    "lg = np.cumsum(gx)\n",
    "lg"
   ],
   "metadata": {
    "collapsed": false,
    "pycharm": {
     "name": "#%%\n"
    }
   }
  },
  {
   "cell_type": "markdown",
   "source": [
    "# 11.选出主成分"
   ],
   "metadata": {
    "collapsed": false,
    "pycharm": {
     "name": "#%% md\n"
    }
   }
  },
  {
   "cell_type": "code",
   "execution_count": 10,
   "outputs": [
    {
     "name": "stdout",
     "output_type": "stream",
     "text": [
      "[0, 1]\n"
     ]
    }
   ],
   "source": [
    "#选出主成分\n",
    "k=[i for i in range(len(lg)) if lg[i]<0.85]\n",
    "k = list(k)\n",
    "print(k)"
   ],
   "metadata": {
    "collapsed": false,
    "pycharm": {
     "name": "#%%\n"
    }
   }
  },
  {
   "cell_type": "markdown",
   "source": [
    "# 12.选出主成分对应的特征向量矩阵"
   ],
   "metadata": {
    "collapsed": false
   }
  },
  {
   "cell_type": "code",
   "execution_count": 32,
   "outputs": [
    {
     "data": {
      "text/plain": "matrix([[-0.27760081,  0.62596292],\n        [-0.280872  , -0.52070675],\n        [-0.3859206 ,  0.24329543],\n        [-0.38941131, -0.10025649],\n        [-0.38225388,  0.15993368],\n        [-0.37378432,  0.01324989],\n        [-0.30682288, -0.49193383],\n        [-0.40435109,  0.00613602]])"
     },
     "execution_count": 32,
     "metadata": {},
     "output_type": "execute_result"
    }
   ],
   "source": [
    "selectVec = np.matrix(featVec.T[k]).T\n",
    "selectVe=selectVec*(-1)\n",
    "selectVec"
   ],
   "metadata": {
    "collapsed": false,
    "pycharm": {
     "name": "#%%\n"
    }
   }
  },
  {
   "cell_type": "markdown",
   "source": [
    "# 13.求主成分得分\n"
   ],
   "metadata": {
    "collapsed": false,
    "pycharm": {
     "name": "#%% md\n"
    }
   }
  },
  {
   "cell_type": "code",
   "execution_count": 33,
   "outputs": [
    {
     "data": {
      "text/plain": "matrix([[-7.16996179e+00, -7.76597008e-01],\n        [-2.75992931e+00,  8.56017020e-02],\n        [ 1.24736101e+00, -5.33707034e-01],\n        [ 1.93646679e+00, -1.11774799e+00],\n        [-1.09209413e+00, -1.51761792e+00],\n        [-2.04762468e+00, -1.34958676e+00],\n        [ 8.42156785e-01, -1.35544144e+00],\n        [ 1.46924294e+00, -1.31610233e+00],\n        [-6.35762520e+00,  1.16175588e+00],\n        [-1.82225103e+00,  5.30338114e-01],\n        [-2.63221397e+00,  1.21830397e+00],\n        [ 1.51628437e+00,  5.65626280e-01],\n        [ 6.54503843e-03,  1.83778930e+00],\n        [ 2.35250531e+00,  6.18152534e-01],\n        [-3.75083048e-02, -6.89771794e-01],\n        [ 1.37974948e+00, -8.89368847e-01],\n        [ 1.21169696e+00, -1.69196454e-01],\n        [ 2.92187233e-01,  1.92087137e-01],\n        [-2.35842249e+00,  2.10026100e+00],\n        [ 2.94069828e+00,  1.32864086e+00],\n        [ 2.40348020e+00,  1.71742153e+00],\n        [ 4.79052128e-01, -4.46001237e-01],\n        [ 7.21792062e-01,  2.50359566e-01],\n        [ 1.54290415e+00,  5.14958790e-01],\n        [ 1.75698546e+00,  3.26932965e-01],\n        [ 2.15541581e+00,  1.72753215e+00],\n        [ 9.61785542e-01, -8.59571777e-01],\n        [ 9.50310500e-01, -5.46654233e-01],\n        [ 1.18247444e-01, -7.72445517e-01],\n        [ 2.31004728e-01, -8.58586803e-01],\n        [-2.38241297e-01, -9.77364649e-01]])"
     },
     "execution_count": 33,
     "metadata": {},
     "output_type": "execute_result"
    }
   ],
   "source": [
    "finalData = np.dot(data_adjust,selectVec)\n",
    "finalData"
   ],
   "metadata": {
    "collapsed": false,
    "pycharm": {
     "name": "#%%\n"
    }
   }
  },
  {
   "cell_type": "markdown",
   "source": [
    "# 14.绘制热力图"
   ],
   "metadata": {
    "collapsed": false,
    "pycharm": {
     "name": "#%% md\n"
    }
   }
  },
  {
   "cell_type": "code",
   "execution_count": 34,
   "outputs": [
    {
     "data": {
      "text/plain": "<Figure size 1400x1400 with 2 Axes>",
      "image/png": "[encoded data removed]"
     },
     "metadata": {},
     "output_type": "display_data"
    }
   ],
   "source": [
    "# 绘图\n",
    "\n",
    "plt.figure(figsize = (14,14))\n",
    "ax = sns.heatmap(selectVec, annot=True, cmap=\"BuPu\")\n",
    "\n",
    "# 设置y轴字体大小\n",
    "ax.yaxis.set_tick_params(labelsize=15)\n",
    "plt.title(\"Factor Analysis\", fontsize=\"xx-large\")\n",
    "\n",
    "# 设置y轴标签\n",
    "plt.ylabel(\"Sepal Width\", fontsize=\"xx-large\")\n",
    "# 显示图片\n",
    "plt.show()\n",
    "\n",
    "# 保存图片\n",
    "# plt.savefig(\"factorAnalysis\", dpi=500)"
   ],
   "metadata": {
    "collapsed": false,
    "pycharm": {
     "name": "#%%\n"
    }
   }
  }
 ],
 "metadata": {
  "kernelspec": {
   "display_name": "Python 3",
   "language": "python",
   "name": "python3"
  },
  "language_info": {
   "codemirror_mode": {
    "name": "ipython",
    "version": 2
   },
   "file_extension": ".py",
   "mimetype": "text/x-python",
   "name": "python",
   "nbconvert_exporter": "python",
   "pygments_lexer": "ipython2",
   "version": "2.7.6"
  }
 },
 "nbformat": 4,
 "nbformat_minor": 0
}