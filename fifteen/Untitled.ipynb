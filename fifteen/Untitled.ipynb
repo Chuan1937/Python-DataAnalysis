{
 "cells": [
  {
   "cell_type": "code",
   "execution_count": 1,
   "id": "be22a356-16fe-46d6-bb6a-adafeb1575a7",
   "metadata": {},
   "outputs": [],
   "source": [
    "import pandas as pd"
   ]
  },
  {
   "cell_type": "code",
   "execution_count": 4,
   "id": "82910034-ce8c-400e-8ae7-5006e0d3f3fb",
   "metadata": {},
   "outputs": [],
   "source": [
    "data=pd.read_excel('副本指标数据.xlsx')\n",
    "df=data.describe()"
   ]
  },
  {
   "cell_type": "code",
   "execution_count": 7,
   "id": "5d20ddd9-eb9a-4e31-9044-2d385e7a7580",
   "metadata": {},
   "outputs": [],
   "source": [
    "df.to_excel('des.xlsx')"
   ]
  },
  {
   "cell_type": "code",
   "execution_count": null,
   "id": "7d3e00ce-54e2-44ae-9af7-b1715dd667c2",
   "metadata": {},
   "outputs": [],
   "source": []
  }
 ],
 "metadata": {
  "kernelspec": {
   "display_name": "Python 3 (ipykernel)",
   "language": "python",
   "name": "python3"
  },
  "language_info": {
   "codemirror_mode": {
    "name": "ipython",
    "version": 3
   },
   "file_extension": ".py",
   "mimetype": "text/x-python",
   "name": "python",
   "nbconvert_exporter": "python",
   "pygments_lexer": "ipython3",
   "version": "3.9.15"
  }
 },
 "nbformat": 4,
 "nbformat_minor": 5
}
