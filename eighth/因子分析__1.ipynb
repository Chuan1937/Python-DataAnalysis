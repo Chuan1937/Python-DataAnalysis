{
 "cells": [
  {
   "attachments": {},
   "cell_type": "markdown",
   "metadata": {
    "pycharm": {
     "name": "#%% md\n"
    }
   },
   "source": [
    "因子分析步骤：\n",
    "    对所给的数据样本进行标准化处理\n",
    "    计算样本的相关矩阵R\n",
    "    求相关矩阵R的特征值、特征向量\n",
    "    根据系统要求的累积贡献度确定主因子的个数\n",
    "    计算因子载荷矩阵A\n",
    "    最终确定因子模型"
   ]
  },
  {
   "attachments": {},
   "cell_type": "markdown",
   "metadata": {
    "pycharm": {
     "name": "#%% md\n"
    }
   },
   "source": [
    "# 1.导入库"
   ]
  },
  {
   "cell_type": "code",
   "execution_count": 2,
   "metadata": {
    "collapsed": false,
    "jupyter": {
     "outputs_hidden": false
    },
    "pycharm": {
     "name": "#%%\n"
    }
   },
   "outputs": [],
   "source": [
    "# 数据处理\n",
    "import pandas as pd\n",
    "import numpy as np\n",
    "\n",
    "# 绘图\n",
    "import seaborn as sns\n",
    "import matplotlib.pyplot as plt\n",
    "# 因子分析\n",
    "from factor_analyzer import FactorAnalyzer\n",
    "\n",
    "#中文编码处理\n",
    "import matplotlib as mpl\n",
    "mpl.rcParams['font.sans-serif'] = ['SimHei']  # 指定默认字体\n",
    "mpl.rcParams['axes.unicode_minus'] = False  # 解决保存图像是负号'-'显示为方块的问题"
   ]
  },
  {
   "attachments": {},
   "cell_type": "markdown",
   "metadata": {
    "pycharm": {
     "name": "#%% md\n"
    }
   },
   "source": [
    "# 2.读取数据"
   ]
  },
  {
   "cell_type": "code",
   "execution_count": 3,
   "metadata": {
    "collapsed": false,
    "jupyter": {
     "outputs_hidden": false
    },
    "pycharm": {
     "name": "#%%\n"
    }
   },
   "outputs": [
    {
     "data": {
      "text/html": [
       "<div>\n",
       "<style scoped>\n",
       "    .dataframe tbody tr th:only-of-type {\n",
       "        vertical-align: middle;\n",
       "    }\n",
       "\n",
       "    .dataframe tbody tr th {\n",
       "        vertical-align: top;\n",
       "    }\n",
       "\n",
       "    .dataframe thead th {\n",
       "        text-align: right;\n",
       "    }\n",
       "</style>\n",
       "<table border=\"1\" class=\"dataframe\">\n",
       "  <thead>\n",
       "    <tr style=\"text-align: right;\">\n",
       "      <th></th>\n",
       "      <th>X1</th>\n",
       "      <th>X3</th>\n",
       "      <th>X4</th>\n",
       "      <th>X2</th>\n",
       "      <th>X5</th>\n",
       "      <th>X6</th>\n",
       "      <th>X7</th>\n",
       "      <th>X8</th>\n",
       "      <th>X9</th>\n",
       "    </tr>\n",
       "  </thead>\n",
       "  <tbody>\n",
       "    <tr>\n",
       "      <th>0</th>\n",
       "      <td>12310409370892</td>\n",
       "      <td>8816</td>\n",
       "      <td>140011</td>\n",
       "      <td>3.590000</td>\n",
       "      <td>127.9</td>\n",
       "      <td>0.198000</td>\n",
       "      <td>0.012500</td>\n",
       "      <td>3.1</td>\n",
       "      <td>0.028</td>\n",
       "    </tr>\n",
       "    <tr>\n",
       "      <th>1</th>\n",
       "      <td>13894817549374</td>\n",
       "      <td>9905</td>\n",
       "      <td>140541</td>\n",
       "      <td>3.620071</td>\n",
       "      <td>125.6</td>\n",
       "      <td>0.200000</td>\n",
       "      <td>0.008700</td>\n",
       "      <td>3.2</td>\n",
       "      <td>0.045</td>\n",
       "    </tr>\n",
       "    <tr>\n",
       "      <th>2</th>\n",
       "      <td>14279937500606</td>\n",
       "      <td>10143</td>\n",
       "      <td>141008</td>\n",
       "      <td>3.460197</td>\n",
       "      <td>120.6</td>\n",
       "      <td>0.210000</td>\n",
       "      <td>0.013530</td>\n",
       "      <td>3.3</td>\n",
       "      <td>0.047</td>\n",
       "    </tr>\n",
       "    <tr>\n",
       "      <th>3</th>\n",
       "      <td>14687673892882</td>\n",
       "      <td>10408</td>\n",
       "      <td>141212</td>\n",
       "      <td>3.470000</td>\n",
       "      <td>136.7</td>\n",
       "      <td>0.210000</td>\n",
       "      <td>0.007578</td>\n",
       "      <td>2.9</td>\n",
       "      <td>0.052</td>\n",
       "    </tr>\n",
       "    <tr>\n",
       "      <th>4</th>\n",
       "      <td>17734062645371</td>\n",
       "      <td>12556</td>\n",
       "      <td>141260</td>\n",
       "      <td>3.490000</td>\n",
       "      <td>352.1</td>\n",
       "      <td>0.223000</td>\n",
       "      <td>0.015324</td>\n",
       "      <td>2.8</td>\n",
       "      <td>0.134</td>\n",
       "    </tr>\n",
       "    <tr>\n",
       "      <th>5</th>\n",
       "      <td>18382660000000</td>\n",
       "      <td>12813</td>\n",
       "      <td>141255</td>\n",
       "      <td>3.400000</td>\n",
       "      <td>688.7</td>\n",
       "      <td>0.355658</td>\n",
       "      <td>0.009781</td>\n",
       "      <td>2.7</td>\n",
       "      <td>0.255</td>\n",
       "    </tr>\n",
       "  </tbody>\n",
       "</table>\n",
       "</div>"
      ],
      "text/plain": [
       "               X1     X3      X4        X2     X5        X6        X7   X8  \\\n",
       "0  12310409370892   8816  140011  3.590000  127.9  0.198000  0.012500  3.1   \n",
       "1  13894817549374   9905  140541  3.620071  125.6  0.200000  0.008700  3.2   \n",
       "2  14279937500606  10143  141008  3.460197  120.6  0.210000  0.013530  3.3   \n",
       "3  14687673892882  10408  141212  3.470000  136.7  0.210000  0.007578  2.9   \n",
       "4  17734062645371  12556  141260  3.490000  352.1  0.223000  0.015324  2.8   \n",
       "5  18382660000000  12813  141255  3.400000  688.7  0.355658  0.009781  2.7   \n",
       "\n",
       "      X9  \n",
       "0  0.028  \n",
       "1  0.045  \n",
       "2  0.047  \n",
       "3  0.052  \n",
       "4  0.134  \n",
       "5  0.255  "
      ]
     },
     "execution_count": 3,
     "metadata": {},
     "output_type": "execute_result"
    }
   ],
   "source": [
    "df_china=pd.read_excel('D:\\M\\MATLAB Driver/forward\\eighth\\模型数据.xlsx',sheet_name='中国')\n",
    "df_usa=pd.read_excel('D:\\M\\MATLAB Driver/forward\\eighth\\模型数据.xlsx',sheet_name='美国')\n",
    "df_ger=pd.read_excel('D:\\M\\MATLAB Driver/forward\\eighth\\模型数据.xlsx',sheet_name='德国')\n",
    "df_china\n"
   ]
  },
  {
   "cell_type": "code",
   "execution_count": 6,
   "metadata": {},
   "outputs": [],
   "source": [
    "df=df_china"
   ]
  },
  {
   "cell_type": "code",
   "execution_count": 7,
   "metadata": {},
   "outputs": [
    {
     "data": {
      "text/html": [
       "<div>\n",
       "<style scoped>\n",
       "    .dataframe tbody tr th:only-of-type {\n",
       "        vertical-align: middle;\n",
       "    }\n",
       "\n",
       "    .dataframe tbody tr th {\n",
       "        vertical-align: top;\n",
       "    }\n",
       "\n",
       "    .dataframe thead th {\n",
       "        text-align: right;\n",
       "    }\n",
       "</style>\n",
       "<table border=\"1\" class=\"dataframe\">\n",
       "  <thead>\n",
       "    <tr style=\"text-align: right;\">\n",
       "      <th></th>\n",
       "      <th>X1</th>\n",
       "      <th>X3</th>\n",
       "      <th>X4</th>\n",
       "      <th>X2</th>\n",
       "      <th>X5</th>\n",
       "      <th>X6</th>\n",
       "      <th>X7</th>\n",
       "      <th>X8</th>\n",
       "      <th>X9</th>\n",
       "    </tr>\n",
       "  </thead>\n",
       "  <tbody>\n",
       "    <tr>\n",
       "      <th>0</th>\n",
       "      <td>0.002000</td>\n",
       "      <td>0.002000</td>\n",
       "      <td>0.002000</td>\n",
       "      <td>0.863631</td>\n",
       "      <td>0.014824</td>\n",
       "      <td>0.002000</td>\n",
       "      <td>0.636140</td>\n",
       "      <td>0.667333</td>\n",
       "      <td>0.002000</td>\n",
       "    </tr>\n",
       "    <tr>\n",
       "      <th>1</th>\n",
       "      <td>0.262404</td>\n",
       "      <td>0.273909</td>\n",
       "      <td>0.425491</td>\n",
       "      <td>1.000000</td>\n",
       "      <td>0.010784</td>\n",
       "      <td>0.014660</td>\n",
       "      <td>0.146513</td>\n",
       "      <td>0.833667</td>\n",
       "      <td>0.076740</td>\n",
       "    </tr>\n",
       "    <tr>\n",
       "      <th>2</th>\n",
       "      <td>0.325700</td>\n",
       "      <td>0.333335</td>\n",
       "      <td>0.798642</td>\n",
       "      <td>0.274987</td>\n",
       "      <td>0.002000</td>\n",
       "      <td>0.077962</td>\n",
       "      <td>0.768824</td>\n",
       "      <td>1.000000</td>\n",
       "      <td>0.085533</td>\n",
       "    </tr>\n",
       "    <tr>\n",
       "      <th>3</th>\n",
       "      <td>0.392713</td>\n",
       "      <td>0.399502</td>\n",
       "      <td>0.961646</td>\n",
       "      <td>0.319443</td>\n",
       "      <td>0.030283</td>\n",
       "      <td>0.077962</td>\n",
       "      <td>0.002000</td>\n",
       "      <td>0.334667</td>\n",
       "      <td>0.107515</td>\n",
       "    </tr>\n",
       "    <tr>\n",
       "      <th>4</th>\n",
       "      <td>0.893400</td>\n",
       "      <td>0.935830</td>\n",
       "      <td>1.000000</td>\n",
       "      <td>0.410141</td>\n",
       "      <td>0.408684</td>\n",
       "      <td>0.160254</td>\n",
       "      <td>1.000000</td>\n",
       "      <td>0.168333</td>\n",
       "      <td>0.468026</td>\n",
       "    </tr>\n",
       "    <tr>\n",
       "      <th>5</th>\n",
       "      <td>1.000000</td>\n",
       "      <td>1.000000</td>\n",
       "      <td>0.996005</td>\n",
       "      <td>0.002000</td>\n",
       "      <td>1.000000</td>\n",
       "      <td>1.000000</td>\n",
       "      <td>0.285835</td>\n",
       "      <td>0.002000</td>\n",
       "      <td>1.000000</td>\n",
       "    </tr>\n",
       "  </tbody>\n",
       "</table>\n",
       "</div>"
      ],
      "text/plain": [
       "         X1        X3        X4        X2        X5        X6        X7  \\\n",
       "0  0.002000  0.002000  0.002000  0.863631  0.014824  0.002000  0.636140   \n",
       "1  0.262404  0.273909  0.425491  1.000000  0.010784  0.014660  0.146513   \n",
       "2  0.325700  0.333335  0.798642  0.274987  0.002000  0.077962  0.768824   \n",
       "3  0.392713  0.399502  0.961646  0.319443  0.030283  0.077962  0.002000   \n",
       "4  0.893400  0.935830  1.000000  0.410141  0.408684  0.160254  1.000000   \n",
       "5  1.000000  1.000000  0.996005  0.002000  1.000000  1.000000  0.285835   \n",
       "\n",
       "         X8        X9  \n",
       "0  0.667333  0.002000  \n",
       "1  0.833667  0.076740  \n",
       "2  1.000000  0.085533  \n",
       "3  0.334667  0.107515  \n",
       "4  0.168333  0.468026  \n",
       "5  0.002000  1.000000  "
      ]
     },
     "execution_count": 7,
     "metadata": {},
     "output_type": "execute_result"
    }
   ],
   "source": [
    "#标准化在0.002-1之间\n",
    "[m,n]=df.shape\n",
    "ymin=0.002\n",
    "ymax=1\n",
    "for j in range(0,n):\n",
    "    d_max=max(df.iloc[:,j])\n",
    "    d_min=min(df.iloc[:,j])\n",
    "    df.iloc[:,j]=(ymax-ymin)*(df.iloc[:,j]-d_min)/(d_max-d_min)+ymin\n",
    "df"
   ]
  },
  {
   "attachments": {},
   "cell_type": "markdown",
   "metadata": {
    "pycharm": {
     "name": "#%% md\n"
    }
   },
   "source": [
    "# 3.充分性检验\n"
   ]
  },
  {
   "attachments": {},
   "cell_type": "markdown",
   "metadata": {
    "pycharm": {
     "name": "#%% md\n"
    }
   },
   "source": [
    "## 3.1 Bartlett's球状检验\n",
    " 检验总体变量的相关矩阵是否是单位阵（相关系数矩阵对角线的所有元素均为1,所有非对角线上的元素均为零）；即检验各个变量是否各自独立。\n",
    "        如果不是单位矩阵，说明原变量之间存在相关性，可以进行因子分子；反之，原变量之间不存在相关性，数据不适合进行主成分分析"
   ]
  },
  {
   "cell_type": "code",
   "execution_count": 72,
   "metadata": {},
   "outputs": [
    {
     "data": {
      "text/html": [
       "<div>\n",
       "<style scoped>\n",
       "    .dataframe tbody tr th:only-of-type {\n",
       "        vertical-align: middle;\n",
       "    }\n",
       "\n",
       "    .dataframe tbody tr th {\n",
       "        vertical-align: top;\n",
       "    }\n",
       "\n",
       "    .dataframe thead th {\n",
       "        text-align: right;\n",
       "    }\n",
       "</style>\n",
       "<table border=\"1\" class=\"dataframe\">\n",
       "  <thead>\n",
       "    <tr style=\"text-align: right;\">\n",
       "      <th></th>\n",
       "      <th>X1</th>\n",
       "      <th>X3</th>\n",
       "      <th>X4</th>\n",
       "      <th>X2</th>\n",
       "      <th>X5</th>\n",
       "      <th>X6</th>\n",
       "      <th>X7</th>\n",
       "      <th>X8</th>\n",
       "      <th>X9</th>\n",
       "    </tr>\n",
       "  </thead>\n",
       "  <tbody>\n",
       "    <tr>\n",
       "      <th>0</th>\n",
       "      <td>0.002000</td>\n",
       "      <td>0.002000</td>\n",
       "      <td>0.002000</td>\n",
       "      <td>0.546364</td>\n",
       "      <td>0.002000</td>\n",
       "      <td>0.002000</td>\n",
       "      <td>0.002000</td>\n",
       "      <td>0.667333</td>\n",
       "      <td>0.002000</td>\n",
       "    </tr>\n",
       "    <tr>\n",
       "      <th>1</th>\n",
       "      <td>0.183635</td>\n",
       "      <td>0.152810</td>\n",
       "      <td>0.447054</td>\n",
       "      <td>0.228818</td>\n",
       "      <td>0.041265</td>\n",
       "      <td>0.005080</td>\n",
       "      <td>0.874928</td>\n",
       "      <td>1.000000</td>\n",
       "      <td>0.029218</td>\n",
       "    </tr>\n",
       "    <tr>\n",
       "      <th>2</th>\n",
       "      <td>0.541179</td>\n",
       "      <td>0.520125</td>\n",
       "      <td>0.656095</td>\n",
       "      <td>0.002000</td>\n",
       "      <td>0.479154</td>\n",
       "      <td>0.005080</td>\n",
       "      <td>1.000000</td>\n",
       "      <td>0.833667</td>\n",
       "      <td>0.051900</td>\n",
       "    </tr>\n",
       "    <tr>\n",
       "      <th>3</th>\n",
       "      <td>1.000000</td>\n",
       "      <td>1.000000</td>\n",
       "      <td>0.824676</td>\n",
       "      <td>0.150684</td>\n",
       "      <td>0.852665</td>\n",
       "      <td>0.013720</td>\n",
       "      <td>0.946778</td>\n",
       "      <td>0.334667</td>\n",
       "      <td>0.092727</td>\n",
       "    </tr>\n",
       "    <tr>\n",
       "      <th>4</th>\n",
       "      <td>0.860511</td>\n",
       "      <td>0.832693</td>\n",
       "      <td>1.000000</td>\n",
       "      <td>0.859600</td>\n",
       "      <td>0.952100</td>\n",
       "      <td>1.000000</td>\n",
       "      <td>0.721276</td>\n",
       "      <td>0.002000</td>\n",
       "      <td>0.541827</td>\n",
       "    </tr>\n",
       "    <tr>\n",
       "      <th>5</th>\n",
       "      <td>0.862845</td>\n",
       "      <td>0.829628</td>\n",
       "      <td>1.000000</td>\n",
       "      <td>1.000000</td>\n",
       "      <td>1.000000</td>\n",
       "      <td>0.017401</td>\n",
       "      <td>0.666433</td>\n",
       "      <td>0.168333</td>\n",
       "      <td>1.000000</td>\n",
       "    </tr>\n",
       "  </tbody>\n",
       "</table>\n",
       "</div>"
      ],
      "text/plain": [
       "         X1        X3        X4        X2        X5        X6        X7  \\\n",
       "0  0.002000  0.002000  0.002000  0.546364  0.002000  0.002000  0.002000   \n",
       "1  0.183635  0.152810  0.447054  0.228818  0.041265  0.005080  0.874928   \n",
       "2  0.541179  0.520125  0.656095  0.002000  0.479154  0.005080  1.000000   \n",
       "3  1.000000  1.000000  0.824676  0.150684  0.852665  0.013720  0.946778   \n",
       "4  0.860511  0.832693  1.000000  0.859600  0.952100  1.000000  0.721276   \n",
       "5  0.862845  0.829628  1.000000  1.000000  1.000000  0.017401  0.666433   \n",
       "\n",
       "         X8        X9  \n",
       "0  0.667333  0.002000  \n",
       "1  1.000000  0.029218  \n",
       "2  0.833667  0.051900  \n",
       "3  0.334667  0.092727  \n",
       "4  0.002000  0.541827  \n",
       "5  0.168333  1.000000  "
      ]
     },
     "execution_count": 72,
     "metadata": {},
     "output_type": "execute_result"
    }
   ],
   "source": [
    "df=pd.DataFrame(df,columns=df.columns)\n",
    "df"
   ]
  },
  {
   "cell_type": "code",
   "execution_count": 74,
   "metadata": {
    "collapsed": false,
    "jupyter": {
     "outputs_hidden": false
    },
    "pycharm": {
     "name": "#%%\n"
    }
   },
   "outputs": [
    {
     "data": {
      "text/plain": [
       "(173.7841572797891, 5.860550939557331e-20)"
      ]
     },
     "execution_count": 74,
     "metadata": {},
     "output_type": "execute_result"
    }
   ],
   "source": [
    "\n",
    "from factor_analyzer.factor_analyzer import calculate_bartlett_sphericity\n",
    "chi_square_value, p_value = calculate_bartlett_sphericity(df)\n",
    "chi_square_value, p_value"
   ]
  },
  {
   "attachments": {},
   "cell_type": "markdown",
   "metadata": {
    "pycharm": {
     "name": "#%% md\n"
    }
   },
   "source": [
    "### p值<0.05时，说明各变量间具有相关性，因子分析有效。"
   ]
  },
  {
   "attachments": {},
   "cell_type": "markdown",
   "metadata": {
    "pycharm": {
     "name": "#%% md\n"
    }
   },
   "source": [
    "## 3.2 KMO检验\n",
    "检查变量间的相关性和偏相关性，取值在0-1之间；KOM统计量越接近1，变量间的相关性越强，偏\n",
    "关性越弱，因子分析的效果越好。\n",
    "通常取值从0.6开始进行因子分析"
   ]
  },
  {
   "cell_type": "code",
   "execution_count": 75,
   "metadata": {
    "collapsed": false,
    "jupyter": {
     "outputs_hidden": false
    },
    "pycharm": {
     "name": "#%%\n"
    }
   },
   "outputs": [
    {
     "data": {
      "text/plain": [
       "nan"
      ]
     },
     "execution_count": 75,
     "metadata": {},
     "output_type": "execute_result"
    }
   ],
   "source": [
    "#KMO检验\n",
    "from factor_analyzer.factor_analyzer import calculate_kmo\n",
    "kmo_all,kmo_model=calculate_kmo(df)\n",
    "kmo_model"
   ]
  },
  {
   "attachments": {},
   "cell_type": "markdown",
   "metadata": {
    "pycharm": {
     "name": "#%% md\n"
    }
   },
   "source": [
    "### 通过结果可以看到KMO大于0.6，也说明变量之间存在相关性，可以进行分析"
   ]
  },
  {
   "attachments": {},
   "cell_type": "markdown",
   "metadata": {
    "pycharm": {
     "name": "#%% md\n"
    }
   },
   "source": [
    "# 4.选择因子个数\n",
    "方法：计算相关矩阵的特征值，进行降序排列"
   ]
  },
  {
   "attachments": {},
   "cell_type": "markdown",
   "metadata": {
    "pycharm": {
     "name": "#%% md\n"
    }
   },
   "source": [
    "## 4.1 特征值和特征向量"
   ]
  },
  {
   "cell_type": "code",
   "execution_count": 76,
   "metadata": {
    "collapsed": false,
    "jupyter": {
     "outputs_hidden": false
    },
    "pycharm": {
     "name": "#%%\n"
    }
   },
   "outputs": [
    {
     "data": {
      "text/html": [
       "<div>\n",
       "<style scoped>\n",
       "    .dataframe tbody tr th:only-of-type {\n",
       "        vertical-align: middle;\n",
       "    }\n",
       "\n",
       "    .dataframe tbody tr th {\n",
       "        vertical-align: top;\n",
       "    }\n",
       "\n",
       "    .dataframe thead th {\n",
       "        text-align: right;\n",
       "    }\n",
       "</style>\n",
       "<table border=\"1\" class=\"dataframe\">\n",
       "  <thead>\n",
       "    <tr style=\"text-align: right;\">\n",
       "      <th></th>\n",
       "      <th>特征值</th>\n",
       "      <th>百分比</th>\n",
       "      <th>累计百分比</th>\n",
       "    </tr>\n",
       "  </thead>\n",
       "  <tbody>\n",
       "    <tr>\n",
       "      <th>0</th>\n",
       "      <td>5.746742e+00</td>\n",
       "      <td>6.385269e-01</td>\n",
       "      <td>0.638527</td>\n",
       "    </tr>\n",
       "    <tr>\n",
       "      <th>1</th>\n",
       "      <td>2.060400e+00</td>\n",
       "      <td>2.289334e-01</td>\n",
       "      <td>0.867460</td>\n",
       "    </tr>\n",
       "    <tr>\n",
       "      <th>2</th>\n",
       "      <td>7.479891e-01</td>\n",
       "      <td>8.310990e-02</td>\n",
       "      <td>0.950570</td>\n",
       "    </tr>\n",
       "    <tr>\n",
       "      <th>3</th>\n",
       "      <td>4.276469e-01</td>\n",
       "      <td>4.751633e-02</td>\n",
       "      <td>0.998087</td>\n",
       "    </tr>\n",
       "    <tr>\n",
       "      <th>4</th>\n",
       "      <td>1.722116e-02</td>\n",
       "      <td>1.913463e-03</td>\n",
       "      <td>1.000000</td>\n",
       "    </tr>\n",
       "    <tr>\n",
       "      <th>5</th>\n",
       "      <td>7.804636e-16</td>\n",
       "      <td>8.671818e-17</td>\n",
       "      <td>1.000000</td>\n",
       "    </tr>\n",
       "    <tr>\n",
       "      <th>6</th>\n",
       "      <td>2.723130e-16</td>\n",
       "      <td>3.025700e-17</td>\n",
       "      <td>1.000000</td>\n",
       "    </tr>\n",
       "    <tr>\n",
       "      <th>7</th>\n",
       "      <td>-4.474321e-17</td>\n",
       "      <td>-4.971467e-18</td>\n",
       "      <td>1.000000</td>\n",
       "    </tr>\n",
       "    <tr>\n",
       "      <th>8</th>\n",
       "      <td>-3.194837e-16</td>\n",
       "      <td>-3.549819e-17</td>\n",
       "      <td>1.000000</td>\n",
       "    </tr>\n",
       "  </tbody>\n",
       "</table>\n",
       "</div>"
      ],
      "text/plain": [
       "            特征值           百分比     累计百分比\n",
       "0  5.746742e+00  6.385269e-01  0.638527\n",
       "1  2.060400e+00  2.289334e-01  0.867460\n",
       "2  7.479891e-01  8.310990e-02  0.950570\n",
       "3  4.276469e-01  4.751633e-02  0.998087\n",
       "4  1.722116e-02  1.913463e-03  1.000000\n",
       "5  7.804636e-16  8.671818e-17  1.000000\n",
       "6  2.723130e-16  3.025700e-17  1.000000\n",
       "7 -4.474321e-17 -4.971467e-18  1.000000\n",
       "8 -3.194837e-16 -3.549819e-17  1.000000"
      ]
     },
     "execution_count": 76,
     "metadata": {},
     "output_type": "execute_result"
    }
   ],
   "source": [
    "faa = FactorAnalyzer(25,rotation=None)\n",
    "faa.fit(df)\n",
    "\n",
    "# 得到特征值ev、特征向量v\n",
    "ev,v=faa.get_eigenvalues()\n",
    "#将特征值ev转换为DataFrame百分比形式\n",
    "ev1=pd.DataFrame(ev)\n",
    "ev1.columns=['特征值']\n",
    "ev1['百分比']=ev1['特征值']/ev1['特征值'].sum()\n",
    "ev1['累计百分比']=ev1['百分比'].cumsum()\n",
    "ev1\n"
   ]
  },
  {
   "attachments": {},
   "cell_type": "markdown",
   "metadata": {
    "pycharm": {
     "name": "#%% md\n"
    }
   },
   "source": [
    "## 4.2 可视化展示\n",
    "将特征值和因子个数的变化绘制成图形"
   ]
  },
  {
   "cell_type": "code",
   "execution_count": 77,
   "metadata": {
    "collapsed": false,
    "jupyter": {
     "outputs_hidden": false
    },
    "pycharm": {
     "name": "#%%\n"
    }
   },
   "outputs": [
    {
     "data": {
      "image/png": "[encoded data removed]",
      "text/plain": [
       "<Figure size 640x480 with 1 Axes>"
      ]
     },
     "metadata": {},
     "output_type": "display_data"
    }
   ],
   "source": [
    " # 同样的数据绘制散点图和折线图\n",
    "plt.scatter(range(1, df.shape[1] + 1), ev)\n",
    "plt.plot(range(1, df.shape[1] + 1), ev)\n",
    "\n",
    "# 显示图的标题和xy轴的名字\n",
    "# 最好使用英文，中文可能乱码\n",
    "plt.title(\"Scree Plot\")\n",
    "plt.xlabel(\"Factors\")\n",
    "plt.ylabel(\"Eigenvalue\")\n",
    "\n",
    "plt.grid()  # 显示网格\n",
    "#导出图片\n",
    "plt.savefig('D:\\M\\MATLAB Driver/forward\\eighth\\因子分析_德国_特征值.png',dpi=300,bbox_inches='tight')"
   ]
  },
  {
   "attachments": {},
   "cell_type": "markdown",
   "metadata": {},
   "source": [
    " ### 从上面的图形中，我们明确地看到：选择2或3个因子就可以了"
   ]
  },
  {
   "attachments": {},
   "cell_type": "markdown",
   "metadata": {
    "pycharm": {
     "name": "#%% md\n"
    }
   },
   "source": [
    "# 5.因子旋转"
   ]
  },
  {
   "attachments": {},
   "cell_type": "markdown",
   "metadata": {},
   "source": [
    "## 5.1 建立因子分析模型\n",
    "在这里选择，最大方差化因子旋转"
   ]
  },
  {
   "cell_type": "code",
   "execution_count": 78,
   "metadata": {
    "collapsed": false,
    "jupyter": {
     "outputs_hidden": false
    },
    "pycharm": {
     "name": "#%%\n"
    }
   },
   "outputs": [
    {
     "data": {
      "text/html": [
       "<style>#sk-container-id-4 {color: black;background-color: white;}#sk-container-id-4 pre{padding: 0;}#sk-container-id-4 div.sk-toggleable {background-color: white;}#sk-container-id-4 label.sk-toggleable__label {cursor: pointer;display: block;width: 100%;margin-bottom: 0;padding: 0.3em;box-sizing: border-box;text-align: center;}#sk-container-id-4 label.sk-toggleable__label-arrow:before {content: \"▸\";float: left;margin-right: 0.25em;color: #696969;}#sk-container-id-4 label.sk-toggleable__label-arrow:hover:before {color: black;}#sk-container-id-4 div.sk-estimator:hover label.sk-toggleable__label-arrow:before {color: black;}#sk-container-id-4 div.sk-toggleable__content {max-height: 0;max-width: 0;overflow: hidden;text-align: left;background-color: #f0f8ff;}#sk-container-id-4 div.sk-toggleable__content pre {margin: 0.2em;color: black;border-radius: 0.25em;background-color: #f0f8ff;}#sk-container-id-4 input.sk-toggleable__control:checked~div.sk-toggleable__content {max-height: 200px;max-width: 100%;overflow: auto;}#sk-container-id-4 input.sk-toggleable__control:checked~label.sk-toggleable__label-arrow:before {content: \"▾\";}#sk-container-id-4 div.sk-estimator input.sk-toggleable__control:checked~label.sk-toggleable__label {background-color: #d4ebff;}#sk-container-id-4 div.sk-label input.sk-toggleable__control:checked~label.sk-toggleable__label {background-color: #d4ebff;}#sk-container-id-4 input.sk-hidden--visually {border: 0;clip: rect(1px 1px 1px 1px);clip: rect(1px, 1px, 1px, 1px);height: 1px;margin: -1px;overflow: hidden;padding: 0;position: absolute;width: 1px;}#sk-container-id-4 div.sk-estimator {font-family: monospace;background-color: #f0f8ff;border: 1px dotted black;border-radius: 0.25em;box-sizing: border-box;margin-bottom: 0.5em;}#sk-container-id-4 div.sk-estimator:hover {background-color: #d4ebff;}#sk-container-id-4 div.sk-parallel-item::after {content: \"\";width: 100%;border-bottom: 1px solid gray;flex-grow: 1;}#sk-container-id-4 div.sk-label:hover label.sk-toggleable__label {background-color: #d4ebff;}#sk-container-id-4 div.sk-serial::before {content: \"\";position: absolute;border-left: 1px solid gray;box-sizing: border-box;top: 0;bottom: 0;left: 50%;z-index: 0;}#sk-container-id-4 div.sk-serial {display: flex;flex-direction: column;align-items: center;background-color: white;padding-right: 0.2em;padding-left: 0.2em;position: relative;}#sk-container-id-4 div.sk-item {position: relative;z-index: 1;}#sk-container-id-4 div.sk-parallel {display: flex;align-items: stretch;justify-content: center;background-color: white;position: relative;}#sk-container-id-4 div.sk-item::before, #sk-container-id-4 div.sk-parallel-item::before {content: \"\";position: absolute;border-left: 1px solid gray;box-sizing: border-box;top: 0;bottom: 0;left: 50%;z-index: -1;}#sk-container-id-4 div.sk-parallel-item {display: flex;flex-direction: column;z-index: 1;position: relative;background-color: white;}#sk-container-id-4 div.sk-parallel-item:first-child::after {align-self: flex-end;width: 50%;}#sk-container-id-4 div.sk-parallel-item:last-child::after {align-self: flex-start;width: 50%;}#sk-container-id-4 div.sk-parallel-item:only-child::after {width: 0;}#sk-container-id-4 div.sk-dashed-wrapped {border: 1px dashed gray;margin: 0 0.4em 0.5em 0.4em;box-sizing: border-box;padding-bottom: 0.4em;background-color: white;}#sk-container-id-4 div.sk-label label {font-family: monospace;font-weight: bold;display: inline-block;line-height: 1.2em;}#sk-container-id-4 div.sk-label-container {text-align: center;}#sk-container-id-4 div.sk-container {/* jupyter's `normalize.less` sets `[hidden] { display: none; }` but bootstrap.min.css set `[hidden] { display: none !important; }` so we also need the `!important` here to be able to override the default hidden behavior on the sphinx rendered scikit-learn.org. See: https://github.com/scikit-learn/scikit-learn/issues/21755 */display: inline-block !important;position: relative;}#sk-container-id-4 div.sk-text-repr-fallback {display: none;}</style><div id=\"sk-container-id-4\" class=\"sk-top-container\"><div class=\"sk-text-repr-fallback\"><pre>FactorAnalyzer(n_factors=2, rotation=&#x27;varimax&#x27;, rotation_kwargs={})</pre><b>In a Jupyter environment, please rerun this cell to show the HTML representation or trust the notebook. <br />On GitHub, the HTML representation is unable to render, please try loading this page with nbviewer.org.</b></div><div class=\"sk-container\" hidden><div class=\"sk-item\"><div class=\"sk-estimator sk-toggleable\"><input class=\"sk-toggleable__control sk-hidden--visually\" id=\"sk-estimator-id-4\" type=\"checkbox\" checked><label for=\"sk-estimator-id-4\" class=\"sk-toggleable__label sk-toggleable__label-arrow\">FactorAnalyzer</label><div class=\"sk-toggleable__content\"><pre>FactorAnalyzer(n_factors=2, rotation=&#x27;varimax&#x27;, rotation_kwargs={})</pre></div></div></div></div></div>"
      ],
      "text/plain": [
       "FactorAnalyzer(n_factors=2, rotation='varimax', rotation_kwargs={})"
      ]
     },
     "execution_count": 78,
     "metadata": {},
     "output_type": "execute_result"
    }
   ],
   "source": [
    "# 选择方式： varimax 方差最大化\n",
    "# 选择固定因子为 2 个\n",
    "faa_two = FactorAnalyzer(2,rotation='varimax')\n",
    "faa_two.fit(df)"
   ]
  },
  {
   "attachments": {},
   "cell_type": "markdown",
   "metadata": {
    "pycharm": {
     "name": "#%% md\n"
    }
   },
   "source": [
    "## 5.2 查看因子方差-get_communalities()\n",
    "查看公因子方差"
   ]
  },
  {
   "cell_type": "code",
   "execution_count": 79,
   "metadata": {
    "collapsed": false,
    "jupyter": {
     "outputs_hidden": false
    },
    "pycharm": {
     "name": "#%%\n"
    }
   },
   "outputs": [
    {
     "data": {
      "text/plain": [
       "array([0.97418286, 0.95166661, 0.96061345, 1.01533145, 0.99048887,\n",
       "       0.28757789, 0.75453369, 0.91536663, 0.71258505])"
      ]
     },
     "execution_count": 79,
     "metadata": {},
     "output_type": "execute_result"
    }
   ],
   "source": [
    "# 公因子方差\n",
    "faa_two.get_communalities()"
   ]
  },
  {
   "attachments": {},
   "cell_type": "markdown",
   "metadata": {
    "pycharm": {
     "name": "#%% md\n"
    }
   },
   "source": [
    "查看每个变量的公因子方差数据"
   ]
  },
  {
   "cell_type": "code",
   "execution_count": 80,
   "metadata": {
    "collapsed": false,
    "jupyter": {
     "outputs_hidden": false
    },
    "pycharm": {
     "name": "#%%\n"
    }
   },
   "outputs": [
    {
     "data": {
      "text/html": [
       "<div>\n",
       "<style scoped>\n",
       "    .dataframe tbody tr th:only-of-type {\n",
       "        vertical-align: middle;\n",
       "    }\n",
       "\n",
       "    .dataframe tbody tr th {\n",
       "        vertical-align: top;\n",
       "    }\n",
       "\n",
       "    .dataframe thead th {\n",
       "        text-align: right;\n",
       "    }\n",
       "</style>\n",
       "<table border=\"1\" class=\"dataframe\">\n",
       "  <thead>\n",
       "    <tr style=\"text-align: right;\">\n",
       "      <th></th>\n",
       "      <th>0</th>\n",
       "    </tr>\n",
       "  </thead>\n",
       "  <tbody>\n",
       "    <tr>\n",
       "      <th>X1</th>\n",
       "      <td>0.974183</td>\n",
       "    </tr>\n",
       "    <tr>\n",
       "      <th>X3</th>\n",
       "      <td>0.951667</td>\n",
       "    </tr>\n",
       "    <tr>\n",
       "      <th>X4</th>\n",
       "      <td>0.960613</td>\n",
       "    </tr>\n",
       "    <tr>\n",
       "      <th>X2</th>\n",
       "      <td>1.015331</td>\n",
       "    </tr>\n",
       "    <tr>\n",
       "      <th>X5</th>\n",
       "      <td>0.990489</td>\n",
       "    </tr>\n",
       "    <tr>\n",
       "      <th>X6</th>\n",
       "      <td>0.287578</td>\n",
       "    </tr>\n",
       "    <tr>\n",
       "      <th>X7</th>\n",
       "      <td>0.754534</td>\n",
       "    </tr>\n",
       "    <tr>\n",
       "      <th>X8</th>\n",
       "      <td>0.915367</td>\n",
       "    </tr>\n",
       "    <tr>\n",
       "      <th>X9</th>\n",
       "      <td>0.712585</td>\n",
       "    </tr>\n",
       "  </tbody>\n",
       "</table>\n",
       "</div>"
      ],
      "text/plain": [
       "           0\n",
       "X1  0.974183\n",
       "X3  0.951667\n",
       "X4  0.960613\n",
       "X2  1.015331\n",
       "X5  0.990489\n",
       "X6  0.287578\n",
       "X7  0.754534\n",
       "X8  0.915367\n",
       "X9  0.712585"
      ]
     },
     "execution_count": 80,
     "metadata": {},
     "output_type": "execute_result"
    }
   ],
   "source": [
    "gyz=pd.DataFrame(faa_two.get_communalities(),index=df.columns)\n",
    "#百分比形式\n",
    "gyz"
   ]
  },
  {
   "attachments": {},
   "cell_type": "markdown",
   "metadata": {
    "pycharm": {
     "name": "#%% md\n"
    }
   },
   "source": [
    "## 5.3 查看旋转后的特征值"
   ]
  },
  {
   "cell_type": "code",
   "execution_count": 81,
   "metadata": {
    "collapsed": false,
    "jupyter": {
     "outputs_hidden": false
    },
    "pycharm": {
     "name": "#%%\n"
    }
   },
   "outputs": [
    {
     "data": {
      "text/plain": [
       "(array([ 5.74674244e+00,  2.06040039e+00,  7.47989065e-01,  4.27646944e-01,\n",
       "         1.72211628e-02,  7.80463617e-16,  2.72313033e-16, -4.47432063e-17,\n",
       "        -3.19483750e-16]),\n",
       " array([ 5.64736372,  1.9236936 ,  0.3165333 ,  0.15943448, -0.00617602,\n",
       "        -0.03743969, -0.06905706, -0.13226077, -0.23974506]))"
      ]
     },
     "execution_count": 81,
     "metadata": {},
     "output_type": "execute_result"
    }
   ],
   "source": [
    "faa_two.get_eigenvalues()"
   ]
  },
  {
   "cell_type": "code",
   "execution_count": 82,
   "metadata": {
    "collapsed": false,
    "jupyter": {
     "outputs_hidden": false
    },
    "pycharm": {
     "name": "#%%\n"
    }
   },
   "outputs": [
    {
     "data": {
      "text/html": [
       "<div>\n",
       "<style scoped>\n",
       "    .dataframe tbody tr th:only-of-type {\n",
       "        vertical-align: middle;\n",
       "    }\n",
       "\n",
       "    .dataframe tbody tr th {\n",
       "        vertical-align: top;\n",
       "    }\n",
       "\n",
       "    .dataframe thead th {\n",
       "        text-align: right;\n",
       "    }\n",
       "</style>\n",
       "<table border=\"1\" class=\"dataframe\">\n",
       "  <thead>\n",
       "    <tr style=\"text-align: right;\">\n",
       "      <th></th>\n",
       "      <th>特征值0</th>\n",
       "      <th>特征值1</th>\n",
       "      <th>特征值0百分比</th>\n",
       "      <th>特征值1百分比</th>\n",
       "      <th>特征值0累计百分比</th>\n",
       "      <th>特征值1累计百分比</th>\n",
       "    </tr>\n",
       "  </thead>\n",
       "  <tbody>\n",
       "    <tr>\n",
       "      <th>0</th>\n",
       "      <td>5.746742e+00</td>\n",
       "      <td>5.647364</td>\n",
       "      <td>6.385269e-01</td>\n",
       "      <td>0.746774</td>\n",
       "      <td>0.638527</td>\n",
       "      <td>0.746774</td>\n",
       "    </tr>\n",
       "    <tr>\n",
       "      <th>1</th>\n",
       "      <td>2.060400e+00</td>\n",
       "      <td>1.923694</td>\n",
       "      <td>2.289334e-01</td>\n",
       "      <td>0.254378</td>\n",
       "      <td>0.867460</td>\n",
       "      <td>1.001152</td>\n",
       "    </tr>\n",
       "    <tr>\n",
       "      <th>2</th>\n",
       "      <td>7.479891e-01</td>\n",
       "      <td>0.316533</td>\n",
       "      <td>8.310990e-02</td>\n",
       "      <td>0.041856</td>\n",
       "      <td>0.950570</td>\n",
       "      <td>1.043008</td>\n",
       "    </tr>\n",
       "    <tr>\n",
       "      <th>3</th>\n",
       "      <td>4.276469e-01</td>\n",
       "      <td>0.159434</td>\n",
       "      <td>4.751633e-02</td>\n",
       "      <td>0.021083</td>\n",
       "      <td>0.998087</td>\n",
       "      <td>1.064091</td>\n",
       "    </tr>\n",
       "    <tr>\n",
       "      <th>4</th>\n",
       "      <td>1.722116e-02</td>\n",
       "      <td>-0.006176</td>\n",
       "      <td>1.913463e-03</td>\n",
       "      <td>-0.000817</td>\n",
       "      <td>1.000000</td>\n",
       "      <td>1.063274</td>\n",
       "    </tr>\n",
       "    <tr>\n",
       "      <th>5</th>\n",
       "      <td>7.804636e-16</td>\n",
       "      <td>-0.037440</td>\n",
       "      <td>8.671818e-17</td>\n",
       "      <td>-0.004951</td>\n",
       "      <td>1.000000</td>\n",
       "      <td>1.058324</td>\n",
       "    </tr>\n",
       "    <tr>\n",
       "      <th>6</th>\n",
       "      <td>2.723130e-16</td>\n",
       "      <td>-0.069057</td>\n",
       "      <td>3.025700e-17</td>\n",
       "      <td>-0.009132</td>\n",
       "      <td>1.000000</td>\n",
       "      <td>1.049192</td>\n",
       "    </tr>\n",
       "    <tr>\n",
       "      <th>7</th>\n",
       "      <td>-4.474321e-17</td>\n",
       "      <td>-0.132261</td>\n",
       "      <td>-4.971467e-18</td>\n",
       "      <td>-0.017489</td>\n",
       "      <td>1.000000</td>\n",
       "      <td>1.031702</td>\n",
       "    </tr>\n",
       "    <tr>\n",
       "      <th>8</th>\n",
       "      <td>-3.194837e-16</td>\n",
       "      <td>-0.239745</td>\n",
       "      <td>-3.549819e-17</td>\n",
       "      <td>-0.031702</td>\n",
       "      <td>1.000000</td>\n",
       "      <td>1.000000</td>\n",
       "    </tr>\n",
       "  </tbody>\n",
       "</table>\n",
       "</div>"
      ],
      "text/plain": [
       "           特征值0      特征值1       特征值0百分比   特征值1百分比  特征值0累计百分比  特征值1累计百分比\n",
       "0  5.746742e+00  5.647364  6.385269e-01  0.746774   0.638527   0.746774\n",
       "1  2.060400e+00  1.923694  2.289334e-01  0.254378   0.867460   1.001152\n",
       "2  7.479891e-01  0.316533  8.310990e-02  0.041856   0.950570   1.043008\n",
       "3  4.276469e-01  0.159434  4.751633e-02  0.021083   0.998087   1.064091\n",
       "4  1.722116e-02 -0.006176  1.913463e-03 -0.000817   1.000000   1.063274\n",
       "5  7.804636e-16 -0.037440  8.671818e-17 -0.004951   1.000000   1.058324\n",
       "6  2.723130e-16 -0.069057  3.025700e-17 -0.009132   1.000000   1.049192\n",
       "7 -4.474321e-17 -0.132261 -4.971467e-18 -0.017489   1.000000   1.031702\n",
       "8 -3.194837e-16 -0.239745 -3.549819e-17 -0.031702   1.000000   1.000000"
      ]
     },
     "execution_count": 82,
     "metadata": {},
     "output_type": "execute_result"
    }
   ],
   "source": [
    "vt=pd.DataFrame(faa_two.get_eigenvalues())\n",
    "#将vt转置\n",
    "vt=vt.T\n",
    "#两列各自百分比形式\n",
    "vt.columns=['特征值0','特征值1']\n",
    "vt['特征值0百分比']=vt['特征值0']/vt['特征值0'].sum()\n",
    "vt['特征值1百分比']=vt['特征值1']/vt['特征值1'].sum()\n",
    "#两列各自累计百分比形式\n",
    "vt['特征值0累计百分比']=vt['特征值0百分比'].cumsum()\n",
    "vt['特征值1累计百分比']=vt['特征值1百分比'].cumsum()\n",
    "vt\n",
    "\n"
   ]
  },
  {
   "attachments": {},
   "cell_type": "markdown",
   "metadata": {
    "pycharm": {
     "name": "#%% md\n"
    }
   },
   "source": [
    " ## 5.4 查看成分矩阵\n",
    " 查看它们构成的成分矩阵"
   ]
  },
  {
   "cell_type": "code",
   "execution_count": 83,
   "metadata": {
    "collapsed": false,
    "jupyter": {
     "outputs_hidden": false
    },
    "pycharm": {
     "name": "#%%\n"
    }
   },
   "outputs": [
    {
     "data": {
      "text/plain": [
       "array([[ 0.91379018,  0.37305544],\n",
       "       [ 0.90459798,  0.36519735],\n",
       "       [ 0.88579013,  0.41951077],\n",
       "       [-0.12787164,  0.99949002],\n",
       "       [ 0.80818001,  0.58080457],\n",
       "       [ 0.22274732,  0.487813  ],\n",
       "       [ 0.79197343, -0.35680775],\n",
       "       [-0.44114135, -0.84897641],\n",
       "       [ 0.32771598,  0.77793784]])"
      ]
     },
     "execution_count": 83,
     "metadata": {},
     "output_type": "execute_result"
    }
   ],
   "source": [
    "# 变量个数*因子个数\n",
    "faa_two.loadings_"
   ]
  },
  {
   "attachments": {},
   "cell_type": "markdown",
   "metadata": {
    "pycharm": {
     "name": "#%% md\n"
    }
   },
   "source": [
    "如果转成DataFrame格式，index就是我们的变量，columns就是指定的因子factor。转DataFrame格式后的数据："
   ]
  },
  {
   "cell_type": "code",
   "execution_count": 84,
   "metadata": {
    "collapsed": false,
    "jupyter": {
     "outputs_hidden": false
    },
    "pycharm": {
     "name": "#%%\n"
    }
   },
   "outputs": [
    {
     "data": {
      "text/html": [
       "<div>\n",
       "<style scoped>\n",
       "    .dataframe tbody tr th:only-of-type {\n",
       "        vertical-align: middle;\n",
       "    }\n",
       "\n",
       "    .dataframe tbody tr th {\n",
       "        vertical-align: top;\n",
       "    }\n",
       "\n",
       "    .dataframe thead th {\n",
       "        text-align: right;\n",
       "    }\n",
       "</style>\n",
       "<table border=\"1\" class=\"dataframe\">\n",
       "  <thead>\n",
       "    <tr style=\"text-align: right;\">\n",
       "      <th></th>\n",
       "      <th>0</th>\n",
       "      <th>1</th>\n",
       "    </tr>\n",
       "  </thead>\n",
       "  <tbody>\n",
       "    <tr>\n",
       "      <th>X1</th>\n",
       "      <td>0.913790</td>\n",
       "      <td>0.373055</td>\n",
       "    </tr>\n",
       "    <tr>\n",
       "      <th>X3</th>\n",
       "      <td>0.904598</td>\n",
       "      <td>0.365197</td>\n",
       "    </tr>\n",
       "    <tr>\n",
       "      <th>X4</th>\n",
       "      <td>0.885790</td>\n",
       "      <td>0.419511</td>\n",
       "    </tr>\n",
       "    <tr>\n",
       "      <th>X2</th>\n",
       "      <td>-0.127872</td>\n",
       "      <td>0.999490</td>\n",
       "    </tr>\n",
       "    <tr>\n",
       "      <th>X5</th>\n",
       "      <td>0.808180</td>\n",
       "      <td>0.580805</td>\n",
       "    </tr>\n",
       "    <tr>\n",
       "      <th>X6</th>\n",
       "      <td>0.222747</td>\n",
       "      <td>0.487813</td>\n",
       "    </tr>\n",
       "    <tr>\n",
       "      <th>X7</th>\n",
       "      <td>0.791973</td>\n",
       "      <td>-0.356808</td>\n",
       "    </tr>\n",
       "    <tr>\n",
       "      <th>X8</th>\n",
       "      <td>-0.441141</td>\n",
       "      <td>-0.848976</td>\n",
       "    </tr>\n",
       "    <tr>\n",
       "      <th>X9</th>\n",
       "      <td>0.327716</td>\n",
       "      <td>0.777938</td>\n",
       "    </tr>\n",
       "  </tbody>\n",
       "</table>\n",
       "</div>"
      ],
      "text/plain": [
       "           0         1\n",
       "X1  0.913790  0.373055\n",
       "X3  0.904598  0.365197\n",
       "X4  0.885790  0.419511\n",
       "X2 -0.127872  0.999490\n",
       "X5  0.808180  0.580805\n",
       "X6  0.222747  0.487813\n",
       "X7  0.791973 -0.356808\n",
       "X8 -0.441141 -0.848976\n",
       "X9  0.327716  0.777938"
      ]
     },
     "execution_count": 84,
     "metadata": {},
     "output_type": "execute_result"
    }
   ],
   "source": [
    "tt=pd.DataFrame(faa_two.loadings_,index=df.columns)\n",
    "tt"
   ]
  },
  {
   "cell_type": "code",
   "execution_count": 85,
   "metadata": {},
   "outputs": [
    {
     "data": {
      "text/html": [
       "<div>\n",
       "<style scoped>\n",
       "    .dataframe tbody tr th:only-of-type {\n",
       "        vertical-align: middle;\n",
       "    }\n",
       "\n",
       "    .dataframe tbody tr th {\n",
       "        vertical-align: top;\n",
       "    }\n",
       "\n",
       "    .dataframe thead th {\n",
       "        text-align: right;\n",
       "    }\n",
       "</style>\n",
       "<table border=\"1\" class=\"dataframe\">\n",
       "  <thead>\n",
       "    <tr style=\"text-align: right;\">\n",
       "      <th></th>\n",
       "      <th>0</th>\n",
       "      <th>1</th>\n",
       "    </tr>\n",
       "  </thead>\n",
       "  <tbody>\n",
       "    <tr>\n",
       "      <th>X1</th>\n",
       "      <td>0.897434</td>\n",
       "      <td>0.178964</td>\n",
       "    </tr>\n",
       "    <tr>\n",
       "      <th>X3</th>\n",
       "      <td>0.889383</td>\n",
       "      <td>0.172738</td>\n",
       "    </tr>\n",
       "    <tr>\n",
       "      <th>X4</th>\n",
       "      <td>0.856159</td>\n",
       "      <td>0.235874</td>\n",
       "    </tr>\n",
       "    <tr>\n",
       "      <th>X2</th>\n",
       "      <td>-0.375865</td>\n",
       "      <td>1.108543</td>\n",
       "    </tr>\n",
       "    <tr>\n",
       "      <th>X5</th>\n",
       "      <td>0.734013</td>\n",
       "      <td>0.428679</td>\n",
       "    </tr>\n",
       "    <tr>\n",
       "      <th>X6</th>\n",
       "      <td>0.124312</td>\n",
       "      <td>0.471405</td>\n",
       "    </tr>\n",
       "    <tr>\n",
       "      <th>X7</th>\n",
       "      <td>0.939656</td>\n",
       "      <td>-0.577986</td>\n",
       "    </tr>\n",
       "    <tr>\n",
       "      <th>X8</th>\n",
       "      <td>-0.274065</td>\n",
       "      <td>-0.807361</td>\n",
       "    </tr>\n",
       "    <tr>\n",
       "      <th>X9</th>\n",
       "      <td>0.168556</td>\n",
       "      <td>0.758488</td>\n",
       "    </tr>\n",
       "  </tbody>\n",
       "</table>\n",
       "</div>"
      ],
      "text/plain": [
       "           0         1\n",
       "X1  0.897434  0.178964\n",
       "X3  0.889383  0.172738\n",
       "X4  0.856159  0.235874\n",
       "X2 -0.375865  1.108543\n",
       "X5  0.734013  0.428679\n",
       "X6  0.124312  0.471405\n",
       "X7  0.939656 -0.577986\n",
       "X8 -0.274065 -0.807361\n",
       "X9  0.168556  0.758488"
      ]
     },
     "execution_count": 85,
     "metadata": {},
     "output_type": "execute_result"
    }
   ],
   "source": [
    "faa_two = FactorAnalyzer(2,rotation='promax')\n",
    "faa_two.fit(df)\n",
    "faa_two.loadings_\n",
    "#转换成DataFrame\n",
    "tt=pd.DataFrame(faa_two.loadings_,index=df.columns)\n",
    "tt"
   ]
  },
  {
   "attachments": {},
   "cell_type": "markdown",
   "metadata": {
    "pycharm": {
     "name": "#%% md\n"
    }
   },
   "source": [
    "## 5.5 查看因子贡献率\n",
    "通过理论部分的解释，我们发现每个因子都对变量有一定的贡献，存在某个贡献度的值，在这里查看3个和贡献度相关的指标：\n",
    "总方差贡献：variance (numpy array) – The factor variances\n",
    "方差贡献率：proportional_variance (numpy array) – The proportional factor variances\n",
    "累积方差贡献率：cumulative_variances (numpy array) – The cumulative factor variances"
   ]
  },
  {
   "cell_type": "code",
   "execution_count": null,
   "metadata": {
    "collapsed": false,
    "jupyter": {
     "outputs_hidden": false
    },
    "pycharm": {
     "name": "#%%\n"
    }
   },
   "outputs": [
    {
     "data": {
      "text/plain": [
       "(array([5.65729554, 1.43002424]),\n",
       " array([0.62858839, 0.15889158]),\n",
       " array([0.62858839, 0.78747998]))"
      ]
     },
     "execution_count": 48,
     "metadata": {},
     "output_type": "execute_result"
    }
   ],
   "source": [
    "faa_two.get_factor_variance()"
   ]
  },
  {
   "attachments": {},
   "cell_type": "markdown",
   "metadata": {
    "pycharm": {
     "name": "#%% md\n"
    }
   },
   "source": [
    " # 6.隐藏变量可视化\n",
    "为了更直观地观察每个隐藏变量和哪些特征的关系比较大，进行可视化展示，为了方便取上面相关系数的绝对值："
   ]
  },
  {
   "cell_type": "code",
   "execution_count": null,
   "metadata": {
    "collapsed": false,
    "jupyter": {
     "outputs_hidden": false
    },
    "pycharm": {
     "name": "#%%\n"
    }
   },
   "outputs": [
    {
     "name": "stdout",
     "output_type": "stream",
     "text": [
      "           0         1\n",
      "X1  0.860533  0.459688\n",
      "X3  0.843403  0.470862\n",
      "X4  0.522227  0.835286\n",
      "X2  0.648394  0.484748\n",
      "X5  1.004102  0.002767\n",
      "X6  0.941931  0.038052\n",
      "X7  0.022695  0.131000\n",
      "X8  0.786781  0.195066\n",
      "X9  0.998659  0.087458\n"
     ]
    }
   ],
   "source": [
    "df1 = pd.DataFrame(np.abs(faa_two.loadings_),index=df.columns)\n",
    "print(df1)"
   ]
  },
  {
   "attachments": {},
   "cell_type": "markdown",
   "metadata": {
    "pycharm": {
     "name": "#%% md\n"
    }
   },
   "source": [
    "热力图绘制系数矩阵"
   ]
  },
  {
   "cell_type": "code",
   "execution_count": null,
   "metadata": {
    "collapsed": false,
    "jupyter": {
     "outputs_hidden": false
    },
    "pycharm": {
     "name": "#%%\n"
    }
   },
   "outputs": [
    {
     "data": {
      "image/png": "[encoded data removed]",
      "text/plain": [
       "<Figure size 1400x1400 with 2 Axes>"
      ]
     },
     "metadata": {},
     "output_type": "display_data"
    }
   ],
   "source": [
    "# 绘图\n",
    "\n",
    "plt.figure(figsize = (14,14))\n",
    "ax = sns.heatmap(df1, annot=True, cmap=\"BuPu\")\n",
    "\n",
    "# 设置y轴字体大小\n",
    "ax.yaxis.set_tick_params(labelsize=15)\n",
    "plt.title(\"Factor Analysis\", fontsize=\"xx-large\")\n",
    "\n",
    "# 设置y轴标签\n",
    "plt.ylabel(\"Sepal Width\", fontsize=\"xx-large\")\n",
    "# 显示图片\n",
    "plt.show()\n",
    "\n",
    "# 保存图片\n",
    "# plt.savefig(\"factorAnalysis\", dpi=500)"
   ]
  },
  {
   "attachments": {},
   "cell_type": "markdown",
   "metadata": {
    "pycharm": {
     "name": "#%% md\n"
    }
   },
   "source": [
    "# 7.转成新变量\n",
    "上面我们已经知道了2个因子比较合适，可以将原始数据转成2个新的特征，具体转换方式为"
   ]
  },
  {
   "cell_type": "code",
   "execution_count": null,
   "metadata": {
    "collapsed": false,
    "jupyter": {
     "outputs_hidden": false
    },
    "pycharm": {
     "name": "#%%\n"
    }
   },
   "outputs": [
    {
     "data": {
      "text/plain": [
       "array([[-0.73170602, -1.65091182],\n",
       "       [-0.57027856, -0.5044919 ],\n",
       "       [-0.65601858,  0.61922155],\n",
       "       [-0.53840528,  0.84926237],\n",
       "       [ 0.40556193,  1.05874873],\n",
       "       [ 2.05946073, -0.39750209]])"
      ]
     },
     "execution_count": 54,
     "metadata": {},
     "output_type": "execute_result"
    }
   ],
   "source": [
    "faa_two.transform(df)"
   ]
  },
  {
   "attachments": {},
   "cell_type": "markdown",
   "metadata": {
    "pycharm": {
     "name": "#%% md\n"
    }
   },
   "source": [
    "转成DataFrame格式后数据展示效果更好："
   ]
  },
  {
   "cell_type": "code",
   "execution_count": null,
   "metadata": {
    "collapsed": false,
    "jupyter": {
     "outputs_hidden": false
    },
    "pycharm": {
     "name": "#%%\n"
    }
   },
   "outputs": [
    {
     "name": "stdout",
     "output_type": "stream",
     "text": [
      "          0         1\n",
      "0 -0.731706 -1.650912\n",
      "1 -0.570279 -0.504492\n",
      "2 -0.656019  0.619222\n",
      "3 -0.538405  0.849262\n",
      "4  0.405562  1.058749\n",
      "5  2.059461 -0.397502\n"
     ]
    }
   ],
   "source": [
    "df2 = pd.DataFrame(faa_two.transform(df))\n",
    "print(df2)"
   ]
  },
  {
   "cell_type": "code",
   "execution_count": null,
   "metadata": {},
   "outputs": [],
   "source": []
  }
 ],
 "metadata": {
  "kernelspec": {
   "display_name": "Python 3 (ipykernel)",
   "language": "python",
   "name": "python3"
  },
  "language_info": {
   "codemirror_mode": {
    "name": "ipython",
    "version": 3
   },
   "file_extension": ".py",
   "mimetype": "text/x-python",
   "name": "python",
   "nbconvert_exporter": "python",
   "pygments_lexer": "ipython3",
   "version": "3.9.15"
  }
 },
 "nbformat": 4,
 "nbformat_minor": 4
}
